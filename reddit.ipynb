{
  "nbformat": 4,
  "nbformat_minor": 0,
  "metadata": {
    "colab": {
      "provenance": [],
      "authorship_tag": "ABX9TyNH4Lox3eAfrEa1pzWI48Fu",
      "include_colab_link": true
    },
    "kernelspec": {
      "name": "python3",
      "display_name": "Python 3"
    },
    "language_info": {
      "name": "python"
    }
  },
  "cells": [
    {
      "cell_type": "markdown",
      "metadata": {
        "id": "view-in-github",
        "colab_type": "text"
      },
      "source": [
        "<a href=\"https://colab.research.google.com/github/bluebird702/study/blob/main/reddit.ipynb\" target=\"_parent\"><img src=\"https://colab.research.google.com/assets/colab-badge.svg\" alt=\"Open In Colab\"/></a>"
      ]
    },
    {
      "cell_type": "code",
      "execution_count": 13,
      "metadata": {
        "id": "-Hp9m-nD_msc"
      },
      "outputs": [],
      "source": [
        "# google python sdk 설치\n",
        "!pip install -q -U langchain langchain-google-genai langchain-community cache-pandas"
      ]
    },
    {
      "cell_type": "code",
      "source": [
        "from google.colab import userdata\n",
        "\n",
        "GOOGLE_API_KEY=userdata.get('GOOGLE_API_KEY')\n",
        "REDDIT_CLIENT_ID=userdata.get('REDDIT_CLIENT_ID')\n",
        "REDDIT_CLIENT_SECRET=userdata.get('REDDIT_CLIENT_SECRET')"
      ],
      "metadata": {
        "id": "SsQTB9ZnGRA2"
      },
      "execution_count": 2,
      "outputs": []
    },
    {
      "cell_type": "code",
      "source": [
        "import requests\n",
        "import pandas as pd\n",
        "import os\n",
        "from langchain_google_genai import ChatGoogleGenerativeAI\n",
        "from langchain.schema import HumanMessage\n",
        "from langchain_community.document_loaders import RedditPostsLoader\n",
        "\n",
        "def get_sentiment(llm, text):\n",
        "  prompt = HumanMessage(content=f\"Analyze the sentiment of the following text: '{text}'. Return 'positive', 'negative', or 'neutral' based on the sentiment analysis.\")\n",
        "  response = llm([prompt])\n",
        "  sentiment = response.content.strip().lower()\n",
        "\n",
        "  if 'positive' in sentiment:\n",
        "      return 'positive'\n",
        "  elif 'negative' in sentiment:\n",
        "      return 'negative'\n",
        "  else:\n",
        "      return 'neutral'\n",
        "\n",
        "def get_keyword(llm, text):\n",
        "  prompt = HumanMessage(content=f\"Extract just 5 keywords that matter from the given text: '{text}'. Return list them separated by commas.\")\n",
        "  response = llm([prompt])\n",
        "  return response.content.strip().lower()\n",
        "\n",
        "def process_post(llm, post):\n",
        "  text = post.page_content\n",
        "  sentiment = get_sentiment(llm, text)\n",
        "  if sentiment == 'negative':\n",
        "      keyword = get_keyword(llm, text)\n",
        "  else:\n",
        "      keyword = 'N/A'\n",
        "  post_with_sentiment = {\n",
        "      'title': post.metadata[\"post_title\"],\n",
        "      'score': post.metadata[\"post_score\"],\n",
        "      'sentiment': sentiment,\n",
        "      'keyword' : keyword,\n",
        "      'url': post.metadata[\"post_url\"],\n",
        "  }\n",
        "  return post_with_sentiment\n",
        "\n",
        "def process_posts(llm, posts):\n",
        "  return [process_post(llm, post) for post in posts]\n",
        "\n",
        "# 객체 생성\n",
        "llm = ChatGoogleGenerativeAI(\n",
        "    model=\"gemini-pro\",\n",
        "    google_api_key=GOOGLE_API_KEY\n",
        ")\n",
        "\n",
        "# document loader\n",
        "loader = RedditPostsLoader(\n",
        "    client_id=REDDIT_CLIENT_ID,\n",
        "    client_secret=REDDIT_CLIENT_SECRET,\n",
        "    user_agent=\"extractor by u/Master_Ocelot8179\",\n",
        "    categories=[\"new\", \"hot\"],  # List of categories to load posts from\n",
        "    mode=\"subreddit\",\n",
        "    search_queries=[\n",
        "        \"wallstreetbets\",\n",
        "    ],  # List of subreddits to load posts from\n",
        "    number_posts=20,  # Default value is 10\n",
        ")\n",
        "documents = loader.load()\n",
        "display(documents[:1])\n",
        "display(process_posts(llm, documents[:5]))"
      ],
      "metadata": {
        "colab": {
          "base_uri": "https://localhost:8080/",
          "height": 783
        },
        "id": "9JSARAoSGbdq",
        "outputId": "94c85775-8e78-4eb5-c2ae-8914e63b3a3f"
      },
      "execution_count": 4,
      "outputs": [
        {
          "output_type": "stream",
          "name": "stderr",
          "text": [
            "WARNING:praw:It appears that you are using PRAW in an asynchronous environment.\n",
            "It is strongly recommended to use Async PRAW: https://asyncpraw.readthedocs.io.\n",
            "See https://praw.readthedocs.io/en/latest/getting_started/multiple_instances.html#discord-bots-and-asynchronous-environments for more info.\n",
            "\n",
            "WARNING:praw:It appears that you are using PRAW in an asynchronous environment.\n",
            "It is strongly recommended to use Async PRAW: https://asyncpraw.readthedocs.io.\n",
            "See https://praw.readthedocs.io/en/latest/getting_started/multiple_instances.html#discord-bots-and-asynchronous-environments for more info.\n",
            "\n"
          ]
        },
        {
          "output_type": "display_data",
          "data": {
            "text/plain": [
              "[Document(page_content='Looks primed for a reversal- esp given recent trial advances. Anyone have any thoughts?', metadata={'post_subreddit': 'r/wallstreetbets', 'post_category': 'new', 'post_title': 'GUTS', 'post_score': 2, 'post_id': '1dbtaj8', 'post_url': 'https://www.reddit.com/r/wallstreetbets/comments/1dbtaj8/guts/', 'post_author': Redditor(name='wallstreettoday2021')})]"
            ]
          },
          "metadata": {}
        },
        {
          "output_type": "display_data",
          "data": {
            "text/plain": [
              "[{'title': 'GUTS',\n",
              "  'score': 2,\n",
              "  'sentiment': 'positive',\n",
              "  'keyword': 'N/A',\n",
              "  'url': 'https://www.reddit.com/r/wallstreetbets/comments/1dbtaj8/guts/'},\n",
              " {'title': 'CMCSA Annual Meeting Question: Missed My Share Purchase Deadline – Now It’s Free for All!',\n",
              "  'score': 8,\n",
              "  'sentiment': 'neutral',\n",
              "  'keyword': 'N/A',\n",
              "  'url': 'https://www.reddit.com/r/wallstreetbets/comments/1dbswl4/cmcsa_annual_meeting_question_missed_my_share/'},\n",
              " {'title': 'The best way to invest in humanoid robots?',\n",
              "  'score': 0,\n",
              "  'sentiment': 'positive',\n",
              "  'keyword': 'N/A',\n",
              "  'url': 'https://www.reddit.com/r/wallstreetbets/comments/1dbstcb/the_best_way_to_invest_in_humanoid_robots/'},\n",
              " {'title': 'NVDA call options through the split',\n",
              "  'score': 1,\n",
              "  'sentiment': 'negative',\n",
              "  'keyword': 'nvda, call options, split, off hours effect, stock going down',\n",
              "  'url': 'https://i.redd.it/yg09e030hj5d1.jpeg'},\n",
              " {'title': 'Which broker offers compound options / split-fee options ',\n",
              "  'score': 0,\n",
              "  'sentiment': 'neutral',\n",
              "  'keyword': 'N/A',\n",
              "  'url': 'https://www.reddit.com/r/wallstreetbets/comments/1dbr3hv/which_broker_offers_compound_options_splitfee/'}]"
            ]
          },
          "metadata": {}
        }
      ]
    }
  ]
}