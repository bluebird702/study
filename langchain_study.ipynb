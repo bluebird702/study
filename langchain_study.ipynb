{
  "nbformat": 4,
  "nbformat_minor": 0,
  "metadata": {
    "colab": {
      "provenance": [],
      "toc_visible": true,
      "authorship_tag": "ABX9TyOqVoO7kCk+Ahsg9hY9rXIA",
      "include_colab_link": true
    },
    "kernelspec": {
      "name": "python3",
      "display_name": "Python 3"
    },
    "language_info": {
      "name": "python"
    },
    "widgets": {
      "application/vnd.jupyter.widget-state+json": {
        "3b51d33259d54522b828af680bd67229": {
          "model_module": "@jupyter-widgets/controls",
          "model_name": "HBoxModel",
          "model_module_version": "1.5.0",
          "state": {
            "_dom_classes": [],
            "_model_module": "@jupyter-widgets/controls",
            "_model_module_version": "1.5.0",
            "_model_name": "HBoxModel",
            "_view_count": null,
            "_view_module": "@jupyter-widgets/controls",
            "_view_module_version": "1.5.0",
            "_view_name": "HBoxView",
            "box_style": "",
            "children": [
              "IPY_MODEL_13ed2561e479447a8fd42dd012dc68c9",
              "IPY_MODEL_ff9e0dcd7c144bdc9938fb55a625b670",
              "IPY_MODEL_857af0b9ab1247ef898c94b457e622a5"
            ],
            "layout": "IPY_MODEL_bf91647366734eb89b8d5c5fbbb7bf8c"
          }
        },
        "13ed2561e479447a8fd42dd012dc68c9": {
          "model_module": "@jupyter-widgets/controls",
          "model_name": "HTMLModel",
          "model_module_version": "1.5.0",
          "state": {
            "_dom_classes": [],
            "_model_module": "@jupyter-widgets/controls",
            "_model_module_version": "1.5.0",
            "_model_name": "HTMLModel",
            "_view_count": null,
            "_view_module": "@jupyter-widgets/controls",
            "_view_module_version": "1.5.0",
            "_view_name": "HTMLView",
            "description": "",
            "description_tooltip": null,
            "layout": "IPY_MODEL_a05fca624a95482ca4f7bd3b1af79164",
            "placeholder": "​",
            "style": "IPY_MODEL_461974e9deae491bb35c5ce22b4a617f",
            "value": "modules.json: 100%"
          }
        },
        "ff9e0dcd7c144bdc9938fb55a625b670": {
          "model_module": "@jupyter-widgets/controls",
          "model_name": "FloatProgressModel",
          "model_module_version": "1.5.0",
          "state": {
            "_dom_classes": [],
            "_model_module": "@jupyter-widgets/controls",
            "_model_module_version": "1.5.0",
            "_model_name": "FloatProgressModel",
            "_view_count": null,
            "_view_module": "@jupyter-widgets/controls",
            "_view_module_version": "1.5.0",
            "_view_name": "ProgressView",
            "bar_style": "success",
            "description": "",
            "description_tooltip": null,
            "layout": "IPY_MODEL_b7dc592511474e17927d453d676ec182",
            "max": 229,
            "min": 0,
            "orientation": "horizontal",
            "style": "IPY_MODEL_1b726852051c4163987eb36bf715498d",
            "value": 229
          }
        },
        "857af0b9ab1247ef898c94b457e622a5": {
          "model_module": "@jupyter-widgets/controls",
          "model_name": "HTMLModel",
          "model_module_version": "1.5.0",
          "state": {
            "_dom_classes": [],
            "_model_module": "@jupyter-widgets/controls",
            "_model_module_version": "1.5.0",
            "_model_name": "HTMLModel",
            "_view_count": null,
            "_view_module": "@jupyter-widgets/controls",
            "_view_module_version": "1.5.0",
            "_view_name": "HTMLView",
            "description": "",
            "description_tooltip": null,
            "layout": "IPY_MODEL_7cb4226ab6d64c84b2edce8ad20cc200",
            "placeholder": "​",
            "style": "IPY_MODEL_186c45ed6dce4e9c8269e5f2ccb7e243",
            "value": " 229/229 [00:00&lt;00:00, 5.00kB/s]"
          }
        },
        "bf91647366734eb89b8d5c5fbbb7bf8c": {
          "model_module": "@jupyter-widgets/base",
          "model_name": "LayoutModel",
          "model_module_version": "1.2.0",
          "state": {
            "_model_module": "@jupyter-widgets/base",
            "_model_module_version": "1.2.0",
            "_model_name": "LayoutModel",
            "_view_count": null,
            "_view_module": "@jupyter-widgets/base",
            "_view_module_version": "1.2.0",
            "_view_name": "LayoutView",
            "align_content": null,
            "align_items": null,
            "align_self": null,
            "border": null,
            "bottom": null,
            "display": null,
            "flex": null,
            "flex_flow": null,
            "grid_area": null,
            "grid_auto_columns": null,
            "grid_auto_flow": null,
            "grid_auto_rows": null,
            "grid_column": null,
            "grid_gap": null,
            "grid_row": null,
            "grid_template_areas": null,
            "grid_template_columns": null,
            "grid_template_rows": null,
            "height": null,
            "justify_content": null,
            "justify_items": null,
            "left": null,
            "margin": null,
            "max_height": null,
            "max_width": null,
            "min_height": null,
            "min_width": null,
            "object_fit": null,
            "object_position": null,
            "order": null,
            "overflow": null,
            "overflow_x": null,
            "overflow_y": null,
            "padding": null,
            "right": null,
            "top": null,
            "visibility": null,
            "width": null
          }
        },
        "a05fca624a95482ca4f7bd3b1af79164": {
          "model_module": "@jupyter-widgets/base",
          "model_name": "LayoutModel",
          "model_module_version": "1.2.0",
          "state": {
            "_model_module": "@jupyter-widgets/base",
            "_model_module_version": "1.2.0",
            "_model_name": "LayoutModel",
            "_view_count": null,
            "_view_module": "@jupyter-widgets/base",
            "_view_module_version": "1.2.0",
            "_view_name": "LayoutView",
            "align_content": null,
            "align_items": null,
            "align_self": null,
            "border": null,
            "bottom": null,
            "display": null,
            "flex": null,
            "flex_flow": null,
            "grid_area": null,
            "grid_auto_columns": null,
            "grid_auto_flow": null,
            "grid_auto_rows": null,
            "grid_column": null,
            "grid_gap": null,
            "grid_row": null,
            "grid_template_areas": null,
            "grid_template_columns": null,
            "grid_template_rows": null,
            "height": null,
            "justify_content": null,
            "justify_items": null,
            "left": null,
            "margin": null,
            "max_height": null,
            "max_width": null,
            "min_height": null,
            "min_width": null,
            "object_fit": null,
            "object_position": null,
            "order": null,
            "overflow": null,
            "overflow_x": null,
            "overflow_y": null,
            "padding": null,
            "right": null,
            "top": null,
            "visibility": null,
            "width": null
          }
        },
        "461974e9deae491bb35c5ce22b4a617f": {
          "model_module": "@jupyter-widgets/controls",
          "model_name": "DescriptionStyleModel",
          "model_module_version": "1.5.0",
          "state": {
            "_model_module": "@jupyter-widgets/controls",
            "_model_module_version": "1.5.0",
            "_model_name": "DescriptionStyleModel",
            "_view_count": null,
            "_view_module": "@jupyter-widgets/base",
            "_view_module_version": "1.2.0",
            "_view_name": "StyleView",
            "description_width": ""
          }
        },
        "b7dc592511474e17927d453d676ec182": {
          "model_module": "@jupyter-widgets/base",
          "model_name": "LayoutModel",
          "model_module_version": "1.2.0",
          "state": {
            "_model_module": "@jupyter-widgets/base",
            "_model_module_version": "1.2.0",
            "_model_name": "LayoutModel",
            "_view_count": null,
            "_view_module": "@jupyter-widgets/base",
            "_view_module_version": "1.2.0",
            "_view_name": "LayoutView",
            "align_content": null,
            "align_items": null,
            "align_self": null,
            "border": null,
            "bottom": null,
            "display": null,
            "flex": null,
            "flex_flow": null,
            "grid_area": null,
            "grid_auto_columns": null,
            "grid_auto_flow": null,
            "grid_auto_rows": null,
            "grid_column": null,
            "grid_gap": null,
            "grid_row": null,
            "grid_template_areas": null,
            "grid_template_columns": null,
            "grid_template_rows": null,
            "height": null,
            "justify_content": null,
            "justify_items": null,
            "left": null,
            "margin": null,
            "max_height": null,
            "max_width": null,
            "min_height": null,
            "min_width": null,
            "object_fit": null,
            "object_position": null,
            "order": null,
            "overflow": null,
            "overflow_x": null,
            "overflow_y": null,
            "padding": null,
            "right": null,
            "top": null,
            "visibility": null,
            "width": null
          }
        },
        "1b726852051c4163987eb36bf715498d": {
          "model_module": "@jupyter-widgets/controls",
          "model_name": "ProgressStyleModel",
          "model_module_version": "1.5.0",
          "state": {
            "_model_module": "@jupyter-widgets/controls",
            "_model_module_version": "1.5.0",
            "_model_name": "ProgressStyleModel",
            "_view_count": null,
            "_view_module": "@jupyter-widgets/base",
            "_view_module_version": "1.2.0",
            "_view_name": "StyleView",
            "bar_color": null,
            "description_width": ""
          }
        },
        "7cb4226ab6d64c84b2edce8ad20cc200": {
          "model_module": "@jupyter-widgets/base",
          "model_name": "LayoutModel",
          "model_module_version": "1.2.0",
          "state": {
            "_model_module": "@jupyter-widgets/base",
            "_model_module_version": "1.2.0",
            "_model_name": "LayoutModel",
            "_view_count": null,
            "_view_module": "@jupyter-widgets/base",
            "_view_module_version": "1.2.0",
            "_view_name": "LayoutView",
            "align_content": null,
            "align_items": null,
            "align_self": null,
            "border": null,
            "bottom": null,
            "display": null,
            "flex": null,
            "flex_flow": null,
            "grid_area": null,
            "grid_auto_columns": null,
            "grid_auto_flow": null,
            "grid_auto_rows": null,
            "grid_column": null,
            "grid_gap": null,
            "grid_row": null,
            "grid_template_areas": null,
            "grid_template_columns": null,
            "grid_template_rows": null,
            "height": null,
            "justify_content": null,
            "justify_items": null,
            "left": null,
            "margin": null,
            "max_height": null,
            "max_width": null,
            "min_height": null,
            "min_width": null,
            "object_fit": null,
            "object_position": null,
            "order": null,
            "overflow": null,
            "overflow_x": null,
            "overflow_y": null,
            "padding": null,
            "right": null,
            "top": null,
            "visibility": null,
            "width": null
          }
        },
        "186c45ed6dce4e9c8269e5f2ccb7e243": {
          "model_module": "@jupyter-widgets/controls",
          "model_name": "DescriptionStyleModel",
          "model_module_version": "1.5.0",
          "state": {
            "_model_module": "@jupyter-widgets/controls",
            "_model_module_version": "1.5.0",
            "_model_name": "DescriptionStyleModel",
            "_view_count": null,
            "_view_module": "@jupyter-widgets/base",
            "_view_module_version": "1.2.0",
            "_view_name": "StyleView",
            "description_width": ""
          }
        },
        "576a18fe548045948c7b1cb09990cc63": {
          "model_module": "@jupyter-widgets/controls",
          "model_name": "HBoxModel",
          "model_module_version": "1.5.0",
          "state": {
            "_dom_classes": [],
            "_model_module": "@jupyter-widgets/controls",
            "_model_module_version": "1.5.0",
            "_model_name": "HBoxModel",
            "_view_count": null,
            "_view_module": "@jupyter-widgets/controls",
            "_view_module_version": "1.5.0",
            "_view_name": "HBoxView",
            "box_style": "",
            "children": [
              "IPY_MODEL_5e515cb1fef648e3be7ad65972d7f70d",
              "IPY_MODEL_7f37812ffed74cf68f9fe8d946e7bf15",
              "IPY_MODEL_a64b28493f0341f88a409d55b30a0548"
            ],
            "layout": "IPY_MODEL_61e4b7140da640d09a2fc8c3a17fd58c"
          }
        },
        "5e515cb1fef648e3be7ad65972d7f70d": {
          "model_module": "@jupyter-widgets/controls",
          "model_name": "HTMLModel",
          "model_module_version": "1.5.0",
          "state": {
            "_dom_classes": [],
            "_model_module": "@jupyter-widgets/controls",
            "_model_module_version": "1.5.0",
            "_model_name": "HTMLModel",
            "_view_count": null,
            "_view_module": "@jupyter-widgets/controls",
            "_view_module_version": "1.5.0",
            "_view_name": "HTMLView",
            "description": "",
            "description_tooltip": null,
            "layout": "IPY_MODEL_aa8ff1959d1e4346b6457be36ca4251e",
            "placeholder": "​",
            "style": "IPY_MODEL_e8370cdad4e549c9b2acf37e2e36c1ae",
            "value": "config_sentence_transformers.json: 100%"
          }
        },
        "7f37812ffed74cf68f9fe8d946e7bf15": {
          "model_module": "@jupyter-widgets/controls",
          "model_name": "FloatProgressModel",
          "model_module_version": "1.5.0",
          "state": {
            "_dom_classes": [],
            "_model_module": "@jupyter-widgets/controls",
            "_model_module_version": "1.5.0",
            "_model_name": "FloatProgressModel",
            "_view_count": null,
            "_view_module": "@jupyter-widgets/controls",
            "_view_module_version": "1.5.0",
            "_view_name": "ProgressView",
            "bar_style": "success",
            "description": "",
            "description_tooltip": null,
            "layout": "IPY_MODEL_6c25e57e58334b768ae1c4795811ec2f",
            "max": 123,
            "min": 0,
            "orientation": "horizontal",
            "style": "IPY_MODEL_376ba21765cd4a649b91bd929d4ef8ab",
            "value": 123
          }
        },
        "a64b28493f0341f88a409d55b30a0548": {
          "model_module": "@jupyter-widgets/controls",
          "model_name": "HTMLModel",
          "model_module_version": "1.5.0",
          "state": {
            "_dom_classes": [],
            "_model_module": "@jupyter-widgets/controls",
            "_model_module_version": "1.5.0",
            "_model_name": "HTMLModel",
            "_view_count": null,
            "_view_module": "@jupyter-widgets/controls",
            "_view_module_version": "1.5.0",
            "_view_name": "HTMLView",
            "description": "",
            "description_tooltip": null,
            "layout": "IPY_MODEL_2623fddd9aa4461883eabda75e091e77",
            "placeholder": "​",
            "style": "IPY_MODEL_40f02d6d22524795ac76164d738cda2a",
            "value": " 123/123 [00:00&lt;00:00, 2.79kB/s]"
          }
        },
        "61e4b7140da640d09a2fc8c3a17fd58c": {
          "model_module": "@jupyter-widgets/base",
          "model_name": "LayoutModel",
          "model_module_version": "1.2.0",
          "state": {
            "_model_module": "@jupyter-widgets/base",
            "_model_module_version": "1.2.0",
            "_model_name": "LayoutModel",
            "_view_count": null,
            "_view_module": "@jupyter-widgets/base",
            "_view_module_version": "1.2.0",
            "_view_name": "LayoutView",
            "align_content": null,
            "align_items": null,
            "align_self": null,
            "border": null,
            "bottom": null,
            "display": null,
            "flex": null,
            "flex_flow": null,
            "grid_area": null,
            "grid_auto_columns": null,
            "grid_auto_flow": null,
            "grid_auto_rows": null,
            "grid_column": null,
            "grid_gap": null,
            "grid_row": null,
            "grid_template_areas": null,
            "grid_template_columns": null,
            "grid_template_rows": null,
            "height": null,
            "justify_content": null,
            "justify_items": null,
            "left": null,
            "margin": null,
            "max_height": null,
            "max_width": null,
            "min_height": null,
            "min_width": null,
            "object_fit": null,
            "object_position": null,
            "order": null,
            "overflow": null,
            "overflow_x": null,
            "overflow_y": null,
            "padding": null,
            "right": null,
            "top": null,
            "visibility": null,
            "width": null
          }
        },
        "aa8ff1959d1e4346b6457be36ca4251e": {
          "model_module": "@jupyter-widgets/base",
          "model_name": "LayoutModel",
          "model_module_version": "1.2.0",
          "state": {
            "_model_module": "@jupyter-widgets/base",
            "_model_module_version": "1.2.0",
            "_model_name": "LayoutModel",
            "_view_count": null,
            "_view_module": "@jupyter-widgets/base",
            "_view_module_version": "1.2.0",
            "_view_name": "LayoutView",
            "align_content": null,
            "align_items": null,
            "align_self": null,
            "border": null,
            "bottom": null,
            "display": null,
            "flex": null,
            "flex_flow": null,
            "grid_area": null,
            "grid_auto_columns": null,
            "grid_auto_flow": null,
            "grid_auto_rows": null,
            "grid_column": null,
            "grid_gap": null,
            "grid_row": null,
            "grid_template_areas": null,
            "grid_template_columns": null,
            "grid_template_rows": null,
            "height": null,
            "justify_content": null,
            "justify_items": null,
            "left": null,
            "margin": null,
            "max_height": null,
            "max_width": null,
            "min_height": null,
            "min_width": null,
            "object_fit": null,
            "object_position": null,
            "order": null,
            "overflow": null,
            "overflow_x": null,
            "overflow_y": null,
            "padding": null,
            "right": null,
            "top": null,
            "visibility": null,
            "width": null
          }
        },
        "e8370cdad4e549c9b2acf37e2e36c1ae": {
          "model_module": "@jupyter-widgets/controls",
          "model_name": "DescriptionStyleModel",
          "model_module_version": "1.5.0",
          "state": {
            "_model_module": "@jupyter-widgets/controls",
            "_model_module_version": "1.5.0",
            "_model_name": "DescriptionStyleModel",
            "_view_count": null,
            "_view_module": "@jupyter-widgets/base",
            "_view_module_version": "1.2.0",
            "_view_name": "StyleView",
            "description_width": ""
          }
        },
        "6c25e57e58334b768ae1c4795811ec2f": {
          "model_module": "@jupyter-widgets/base",
          "model_name": "LayoutModel",
          "model_module_version": "1.2.0",
          "state": {
            "_model_module": "@jupyter-widgets/base",
            "_model_module_version": "1.2.0",
            "_model_name": "LayoutModel",
            "_view_count": null,
            "_view_module": "@jupyter-widgets/base",
            "_view_module_version": "1.2.0",
            "_view_name": "LayoutView",
            "align_content": null,
            "align_items": null,
            "align_self": null,
            "border": null,
            "bottom": null,
            "display": null,
            "flex": null,
            "flex_flow": null,
            "grid_area": null,
            "grid_auto_columns": null,
            "grid_auto_flow": null,
            "grid_auto_rows": null,
            "grid_column": null,
            "grid_gap": null,
            "grid_row": null,
            "grid_template_areas": null,
            "grid_template_columns": null,
            "grid_template_rows": null,
            "height": null,
            "justify_content": null,
            "justify_items": null,
            "left": null,
            "margin": null,
            "max_height": null,
            "max_width": null,
            "min_height": null,
            "min_width": null,
            "object_fit": null,
            "object_position": null,
            "order": null,
            "overflow": null,
            "overflow_x": null,
            "overflow_y": null,
            "padding": null,
            "right": null,
            "top": null,
            "visibility": null,
            "width": null
          }
        },
        "376ba21765cd4a649b91bd929d4ef8ab": {
          "model_module": "@jupyter-widgets/controls",
          "model_name": "ProgressStyleModel",
          "model_module_version": "1.5.0",
          "state": {
            "_model_module": "@jupyter-widgets/controls",
            "_model_module_version": "1.5.0",
            "_model_name": "ProgressStyleModel",
            "_view_count": null,
            "_view_module": "@jupyter-widgets/base",
            "_view_module_version": "1.2.0",
            "_view_name": "StyleView",
            "bar_color": null,
            "description_width": ""
          }
        },
        "2623fddd9aa4461883eabda75e091e77": {
          "model_module": "@jupyter-widgets/base",
          "model_name": "LayoutModel",
          "model_module_version": "1.2.0",
          "state": {
            "_model_module": "@jupyter-widgets/base",
            "_model_module_version": "1.2.0",
            "_model_name": "LayoutModel",
            "_view_count": null,
            "_view_module": "@jupyter-widgets/base",
            "_view_module_version": "1.2.0",
            "_view_name": "LayoutView",
            "align_content": null,
            "align_items": null,
            "align_self": null,
            "border": null,
            "bottom": null,
            "display": null,
            "flex": null,
            "flex_flow": null,
            "grid_area": null,
            "grid_auto_columns": null,
            "grid_auto_flow": null,
            "grid_auto_rows": null,
            "grid_column": null,
            "grid_gap": null,
            "grid_row": null,
            "grid_template_areas": null,
            "grid_template_columns": null,
            "grid_template_rows": null,
            "height": null,
            "justify_content": null,
            "justify_items": null,
            "left": null,
            "margin": null,
            "max_height": null,
            "max_width": null,
            "min_height": null,
            "min_width": null,
            "object_fit": null,
            "object_position": null,
            "order": null,
            "overflow": null,
            "overflow_x": null,
            "overflow_y": null,
            "padding": null,
            "right": null,
            "top": null,
            "visibility": null,
            "width": null
          }
        },
        "40f02d6d22524795ac76164d738cda2a": {
          "model_module": "@jupyter-widgets/controls",
          "model_name": "DescriptionStyleModel",
          "model_module_version": "1.5.0",
          "state": {
            "_model_module": "@jupyter-widgets/controls",
            "_model_module_version": "1.5.0",
            "_model_name": "DescriptionStyleModel",
            "_view_count": null,
            "_view_module": "@jupyter-widgets/base",
            "_view_module_version": "1.2.0",
            "_view_name": "StyleView",
            "description_width": ""
          }
        },
        "918ac200304343bcba1d1058f09e1a31": {
          "model_module": "@jupyter-widgets/controls",
          "model_name": "HBoxModel",
          "model_module_version": "1.5.0",
          "state": {
            "_dom_classes": [],
            "_model_module": "@jupyter-widgets/controls",
            "_model_module_version": "1.5.0",
            "_model_name": "HBoxModel",
            "_view_count": null,
            "_view_module": "@jupyter-widgets/controls",
            "_view_module_version": "1.5.0",
            "_view_name": "HBoxView",
            "box_style": "",
            "children": [
              "IPY_MODEL_3dea36155d4844ba9cae2f6fc01c722f",
              "IPY_MODEL_e3b79a6559014ce595c1d34a7b3b7450",
              "IPY_MODEL_a7cdf81f8db0431ba8901afa622b1dab"
            ],
            "layout": "IPY_MODEL_9ed697380ea44a94b31289d799ce56a8"
          }
        },
        "3dea36155d4844ba9cae2f6fc01c722f": {
          "model_module": "@jupyter-widgets/controls",
          "model_name": "HTMLModel",
          "model_module_version": "1.5.0",
          "state": {
            "_dom_classes": [],
            "_model_module": "@jupyter-widgets/controls",
            "_model_module_version": "1.5.0",
            "_model_name": "HTMLModel",
            "_view_count": null,
            "_view_module": "@jupyter-widgets/controls",
            "_view_module_version": "1.5.0",
            "_view_name": "HTMLView",
            "description": "",
            "description_tooltip": null,
            "layout": "IPY_MODEL_467aa253f23f4773a0018ada0739d907",
            "placeholder": "​",
            "style": "IPY_MODEL_a38551bd88ca44b9a4c396ede838d528",
            "value": "README.md: 100%"
          }
        },
        "e3b79a6559014ce595c1d34a7b3b7450": {
          "model_module": "@jupyter-widgets/controls",
          "model_name": "FloatProgressModel",
          "model_module_version": "1.5.0",
          "state": {
            "_dom_classes": [],
            "_model_module": "@jupyter-widgets/controls",
            "_model_module_version": "1.5.0",
            "_model_name": "FloatProgressModel",
            "_view_count": null,
            "_view_module": "@jupyter-widgets/controls",
            "_view_module_version": "1.5.0",
            "_view_name": "ProgressView",
            "bar_style": "success",
            "description": "",
            "description_tooltip": null,
            "layout": "IPY_MODEL_d94e538fce9544ee87cc611fbc6654e0",
            "max": 4485,
            "min": 0,
            "orientation": "horizontal",
            "style": "IPY_MODEL_0db3829811cf4a49b212ca44de092d9d",
            "value": 4485
          }
        },
        "a7cdf81f8db0431ba8901afa622b1dab": {
          "model_module": "@jupyter-widgets/controls",
          "model_name": "HTMLModel",
          "model_module_version": "1.5.0",
          "state": {
            "_dom_classes": [],
            "_model_module": "@jupyter-widgets/controls",
            "_model_module_version": "1.5.0",
            "_model_name": "HTMLModel",
            "_view_count": null,
            "_view_module": "@jupyter-widgets/controls",
            "_view_module_version": "1.5.0",
            "_view_name": "HTMLView",
            "description": "",
            "description_tooltip": null,
            "layout": "IPY_MODEL_0b009c5174a7466db2a0c1d7966dcb62",
            "placeholder": "​",
            "style": "IPY_MODEL_bed5182162c6419da07925f558d53498",
            "value": " 4.49k/4.49k [00:00&lt;00:00, 228kB/s]"
          }
        },
        "9ed697380ea44a94b31289d799ce56a8": {
          "model_module": "@jupyter-widgets/base",
          "model_name": "LayoutModel",
          "model_module_version": "1.2.0",
          "state": {
            "_model_module": "@jupyter-widgets/base",
            "_model_module_version": "1.2.0",
            "_model_name": "LayoutModel",
            "_view_count": null,
            "_view_module": "@jupyter-widgets/base",
            "_view_module_version": "1.2.0",
            "_view_name": "LayoutView",
            "align_content": null,
            "align_items": null,
            "align_self": null,
            "border": null,
            "bottom": null,
            "display": null,
            "flex": null,
            "flex_flow": null,
            "grid_area": null,
            "grid_auto_columns": null,
            "grid_auto_flow": null,
            "grid_auto_rows": null,
            "grid_column": null,
            "grid_gap": null,
            "grid_row": null,
            "grid_template_areas": null,
            "grid_template_columns": null,
            "grid_template_rows": null,
            "height": null,
            "justify_content": null,
            "justify_items": null,
            "left": null,
            "margin": null,
            "max_height": null,
            "max_width": null,
            "min_height": null,
            "min_width": null,
            "object_fit": null,
            "object_position": null,
            "order": null,
            "overflow": null,
            "overflow_x": null,
            "overflow_y": null,
            "padding": null,
            "right": null,
            "top": null,
            "visibility": null,
            "width": null
          }
        },
        "467aa253f23f4773a0018ada0739d907": {
          "model_module": "@jupyter-widgets/base",
          "model_name": "LayoutModel",
          "model_module_version": "1.2.0",
          "state": {
            "_model_module": "@jupyter-widgets/base",
            "_model_module_version": "1.2.0",
            "_model_name": "LayoutModel",
            "_view_count": null,
            "_view_module": "@jupyter-widgets/base",
            "_view_module_version": "1.2.0",
            "_view_name": "LayoutView",
            "align_content": null,
            "align_items": null,
            "align_self": null,
            "border": null,
            "bottom": null,
            "display": null,
            "flex": null,
            "flex_flow": null,
            "grid_area": null,
            "grid_auto_columns": null,
            "grid_auto_flow": null,
            "grid_auto_rows": null,
            "grid_column": null,
            "grid_gap": null,
            "grid_row": null,
            "grid_template_areas": null,
            "grid_template_columns": null,
            "grid_template_rows": null,
            "height": null,
            "justify_content": null,
            "justify_items": null,
            "left": null,
            "margin": null,
            "max_height": null,
            "max_width": null,
            "min_height": null,
            "min_width": null,
            "object_fit": null,
            "object_position": null,
            "order": null,
            "overflow": null,
            "overflow_x": null,
            "overflow_y": null,
            "padding": null,
            "right": null,
            "top": null,
            "visibility": null,
            "width": null
          }
        },
        "a38551bd88ca44b9a4c396ede838d528": {
          "model_module": "@jupyter-widgets/controls",
          "model_name": "DescriptionStyleModel",
          "model_module_version": "1.5.0",
          "state": {
            "_model_module": "@jupyter-widgets/controls",
            "_model_module_version": "1.5.0",
            "_model_name": "DescriptionStyleModel",
            "_view_count": null,
            "_view_module": "@jupyter-widgets/base",
            "_view_module_version": "1.2.0",
            "_view_name": "StyleView",
            "description_width": ""
          }
        },
        "d94e538fce9544ee87cc611fbc6654e0": {
          "model_module": "@jupyter-widgets/base",
          "model_name": "LayoutModel",
          "model_module_version": "1.2.0",
          "state": {
            "_model_module": "@jupyter-widgets/base",
            "_model_module_version": "1.2.0",
            "_model_name": "LayoutModel",
            "_view_count": null,
            "_view_module": "@jupyter-widgets/base",
            "_view_module_version": "1.2.0",
            "_view_name": "LayoutView",
            "align_content": null,
            "align_items": null,
            "align_self": null,
            "border": null,
            "bottom": null,
            "display": null,
            "flex": null,
            "flex_flow": null,
            "grid_area": null,
            "grid_auto_columns": null,
            "grid_auto_flow": null,
            "grid_auto_rows": null,
            "grid_column": null,
            "grid_gap": null,
            "grid_row": null,
            "grid_template_areas": null,
            "grid_template_columns": null,
            "grid_template_rows": null,
            "height": null,
            "justify_content": null,
            "justify_items": null,
            "left": null,
            "margin": null,
            "max_height": null,
            "max_width": null,
            "min_height": null,
            "min_width": null,
            "object_fit": null,
            "object_position": null,
            "order": null,
            "overflow": null,
            "overflow_x": null,
            "overflow_y": null,
            "padding": null,
            "right": null,
            "top": null,
            "visibility": null,
            "width": null
          }
        },
        "0db3829811cf4a49b212ca44de092d9d": {
          "model_module": "@jupyter-widgets/controls",
          "model_name": "ProgressStyleModel",
          "model_module_version": "1.5.0",
          "state": {
            "_model_module": "@jupyter-widgets/controls",
            "_model_module_version": "1.5.0",
            "_model_name": "ProgressStyleModel",
            "_view_count": null,
            "_view_module": "@jupyter-widgets/base",
            "_view_module_version": "1.2.0",
            "_view_name": "StyleView",
            "bar_color": null,
            "description_width": ""
          }
        },
        "0b009c5174a7466db2a0c1d7966dcb62": {
          "model_module": "@jupyter-widgets/base",
          "model_name": "LayoutModel",
          "model_module_version": "1.2.0",
          "state": {
            "_model_module": "@jupyter-widgets/base",
            "_model_module_version": "1.2.0",
            "_model_name": "LayoutModel",
            "_view_count": null,
            "_view_module": "@jupyter-widgets/base",
            "_view_module_version": "1.2.0",
            "_view_name": "LayoutView",
            "align_content": null,
            "align_items": null,
            "align_self": null,
            "border": null,
            "bottom": null,
            "display": null,
            "flex": null,
            "flex_flow": null,
            "grid_area": null,
            "grid_auto_columns": null,
            "grid_auto_flow": null,
            "grid_auto_rows": null,
            "grid_column": null,
            "grid_gap": null,
            "grid_row": null,
            "grid_template_areas": null,
            "grid_template_columns": null,
            "grid_template_rows": null,
            "height": null,
            "justify_content": null,
            "justify_items": null,
            "left": null,
            "margin": null,
            "max_height": null,
            "max_width": null,
            "min_height": null,
            "min_width": null,
            "object_fit": null,
            "object_position": null,
            "order": null,
            "overflow": null,
            "overflow_x": null,
            "overflow_y": null,
            "padding": null,
            "right": null,
            "top": null,
            "visibility": null,
            "width": null
          }
        },
        "bed5182162c6419da07925f558d53498": {
          "model_module": "@jupyter-widgets/controls",
          "model_name": "DescriptionStyleModel",
          "model_module_version": "1.5.0",
          "state": {
            "_model_module": "@jupyter-widgets/controls",
            "_model_module_version": "1.5.0",
            "_model_name": "DescriptionStyleModel",
            "_view_count": null,
            "_view_module": "@jupyter-widgets/base",
            "_view_module_version": "1.2.0",
            "_view_name": "StyleView",
            "description_width": ""
          }
        },
        "bfa67d4e58d14ffd9d05f0803f376992": {
          "model_module": "@jupyter-widgets/controls",
          "model_name": "HBoxModel",
          "model_module_version": "1.5.0",
          "state": {
            "_dom_classes": [],
            "_model_module": "@jupyter-widgets/controls",
            "_model_module_version": "1.5.0",
            "_model_name": "HBoxModel",
            "_view_count": null,
            "_view_module": "@jupyter-widgets/controls",
            "_view_module_version": "1.5.0",
            "_view_name": "HBoxView",
            "box_style": "",
            "children": [
              "IPY_MODEL_2d9770b0a98f4c018ed1c72b32898269",
              "IPY_MODEL_f7fcaee96fbd4ace93d8c10874fc4bcb",
              "IPY_MODEL_95108e4db6954929bc87dcc2064f0fc1"
            ],
            "layout": "IPY_MODEL_ff45a9bc5ee2486c8900d416533687a4"
          }
        },
        "2d9770b0a98f4c018ed1c72b32898269": {
          "model_module": "@jupyter-widgets/controls",
          "model_name": "HTMLModel",
          "model_module_version": "1.5.0",
          "state": {
            "_dom_classes": [],
            "_model_module": "@jupyter-widgets/controls",
            "_model_module_version": "1.5.0",
            "_model_name": "HTMLModel",
            "_view_count": null,
            "_view_module": "@jupyter-widgets/controls",
            "_view_module_version": "1.5.0",
            "_view_name": "HTMLView",
            "description": "",
            "description_tooltip": null,
            "layout": "IPY_MODEL_948620ab0a674536bf02bf6d65bef644",
            "placeholder": "​",
            "style": "IPY_MODEL_51326db6830e43858ec5edcf16695894",
            "value": "sentence_bert_config.json: 100%"
          }
        },
        "f7fcaee96fbd4ace93d8c10874fc4bcb": {
          "model_module": "@jupyter-widgets/controls",
          "model_name": "FloatProgressModel",
          "model_module_version": "1.5.0",
          "state": {
            "_dom_classes": [],
            "_model_module": "@jupyter-widgets/controls",
            "_model_module_version": "1.5.0",
            "_model_name": "FloatProgressModel",
            "_view_count": null,
            "_view_module": "@jupyter-widgets/controls",
            "_view_module_version": "1.5.0",
            "_view_name": "ProgressView",
            "bar_style": "success",
            "description": "",
            "description_tooltip": null,
            "layout": "IPY_MODEL_4cc5081a37194d5492aa4e4433a9ea57",
            "max": 53,
            "min": 0,
            "orientation": "horizontal",
            "style": "IPY_MODEL_e3af0479788142bca2d7236ea8e88fc3",
            "value": 53
          }
        },
        "95108e4db6954929bc87dcc2064f0fc1": {
          "model_module": "@jupyter-widgets/controls",
          "model_name": "HTMLModel",
          "model_module_version": "1.5.0",
          "state": {
            "_dom_classes": [],
            "_model_module": "@jupyter-widgets/controls",
            "_model_module_version": "1.5.0",
            "_model_name": "HTMLModel",
            "_view_count": null,
            "_view_module": "@jupyter-widgets/controls",
            "_view_module_version": "1.5.0",
            "_view_name": "HTMLView",
            "description": "",
            "description_tooltip": null,
            "layout": "IPY_MODEL_7b2d97beb29c484999e92b1404c5b001",
            "placeholder": "​",
            "style": "IPY_MODEL_ea1647fc3a5c4f77bb2cf6f48e9bac76",
            "value": " 53.0/53.0 [00:00&lt;00:00, 3.34kB/s]"
          }
        },
        "ff45a9bc5ee2486c8900d416533687a4": {
          "model_module": "@jupyter-widgets/base",
          "model_name": "LayoutModel",
          "model_module_version": "1.2.0",
          "state": {
            "_model_module": "@jupyter-widgets/base",
            "_model_module_version": "1.2.0",
            "_model_name": "LayoutModel",
            "_view_count": null,
            "_view_module": "@jupyter-widgets/base",
            "_view_module_version": "1.2.0",
            "_view_name": "LayoutView",
            "align_content": null,
            "align_items": null,
            "align_self": null,
            "border": null,
            "bottom": null,
            "display": null,
            "flex": null,
            "flex_flow": null,
            "grid_area": null,
            "grid_auto_columns": null,
            "grid_auto_flow": null,
            "grid_auto_rows": null,
            "grid_column": null,
            "grid_gap": null,
            "grid_row": null,
            "grid_template_areas": null,
            "grid_template_columns": null,
            "grid_template_rows": null,
            "height": null,
            "justify_content": null,
            "justify_items": null,
            "left": null,
            "margin": null,
            "max_height": null,
            "max_width": null,
            "min_height": null,
            "min_width": null,
            "object_fit": null,
            "object_position": null,
            "order": null,
            "overflow": null,
            "overflow_x": null,
            "overflow_y": null,
            "padding": null,
            "right": null,
            "top": null,
            "visibility": null,
            "width": null
          }
        },
        "948620ab0a674536bf02bf6d65bef644": {
          "model_module": "@jupyter-widgets/base",
          "model_name": "LayoutModel",
          "model_module_version": "1.2.0",
          "state": {
            "_model_module": "@jupyter-widgets/base",
            "_model_module_version": "1.2.0",
            "_model_name": "LayoutModel",
            "_view_count": null,
            "_view_module": "@jupyter-widgets/base",
            "_view_module_version": "1.2.0",
            "_view_name": "LayoutView",
            "align_content": null,
            "align_items": null,
            "align_self": null,
            "border": null,
            "bottom": null,
            "display": null,
            "flex": null,
            "flex_flow": null,
            "grid_area": null,
            "grid_auto_columns": null,
            "grid_auto_flow": null,
            "grid_auto_rows": null,
            "grid_column": null,
            "grid_gap": null,
            "grid_row": null,
            "grid_template_areas": null,
            "grid_template_columns": null,
            "grid_template_rows": null,
            "height": null,
            "justify_content": null,
            "justify_items": null,
            "left": null,
            "margin": null,
            "max_height": null,
            "max_width": null,
            "min_height": null,
            "min_width": null,
            "object_fit": null,
            "object_position": null,
            "order": null,
            "overflow": null,
            "overflow_x": null,
            "overflow_y": null,
            "padding": null,
            "right": null,
            "top": null,
            "visibility": null,
            "width": null
          }
        },
        "51326db6830e43858ec5edcf16695894": {
          "model_module": "@jupyter-widgets/controls",
          "model_name": "DescriptionStyleModel",
          "model_module_version": "1.5.0",
          "state": {
            "_model_module": "@jupyter-widgets/controls",
            "_model_module_version": "1.5.0",
            "_model_name": "DescriptionStyleModel",
            "_view_count": null,
            "_view_module": "@jupyter-widgets/base",
            "_view_module_version": "1.2.0",
            "_view_name": "StyleView",
            "description_width": ""
          }
        },
        "4cc5081a37194d5492aa4e4433a9ea57": {
          "model_module": "@jupyter-widgets/base",
          "model_name": "LayoutModel",
          "model_module_version": "1.2.0",
          "state": {
            "_model_module": "@jupyter-widgets/base",
            "_model_module_version": "1.2.0",
            "_model_name": "LayoutModel",
            "_view_count": null,
            "_view_module": "@jupyter-widgets/base",
            "_view_module_version": "1.2.0",
            "_view_name": "LayoutView",
            "align_content": null,
            "align_items": null,
            "align_self": null,
            "border": null,
            "bottom": null,
            "display": null,
            "flex": null,
            "flex_flow": null,
            "grid_area": null,
            "grid_auto_columns": null,
            "grid_auto_flow": null,
            "grid_auto_rows": null,
            "grid_column": null,
            "grid_gap": null,
            "grid_row": null,
            "grid_template_areas": null,
            "grid_template_columns": null,
            "grid_template_rows": null,
            "height": null,
            "justify_content": null,
            "justify_items": null,
            "left": null,
            "margin": null,
            "max_height": null,
            "max_width": null,
            "min_height": null,
            "min_width": null,
            "object_fit": null,
            "object_position": null,
            "order": null,
            "overflow": null,
            "overflow_x": null,
            "overflow_y": null,
            "padding": null,
            "right": null,
            "top": null,
            "visibility": null,
            "width": null
          }
        },
        "e3af0479788142bca2d7236ea8e88fc3": {
          "model_module": "@jupyter-widgets/controls",
          "model_name": "ProgressStyleModel",
          "model_module_version": "1.5.0",
          "state": {
            "_model_module": "@jupyter-widgets/controls",
            "_model_module_version": "1.5.0",
            "_model_name": "ProgressStyleModel",
            "_view_count": null,
            "_view_module": "@jupyter-widgets/base",
            "_view_module_version": "1.2.0",
            "_view_name": "StyleView",
            "bar_color": null,
            "description_width": ""
          }
        },
        "7b2d97beb29c484999e92b1404c5b001": {
          "model_module": "@jupyter-widgets/base",
          "model_name": "LayoutModel",
          "model_module_version": "1.2.0",
          "state": {
            "_model_module": "@jupyter-widgets/base",
            "_model_module_version": "1.2.0",
            "_model_name": "LayoutModel",
            "_view_count": null,
            "_view_module": "@jupyter-widgets/base",
            "_view_module_version": "1.2.0",
            "_view_name": "LayoutView",
            "align_content": null,
            "align_items": null,
            "align_self": null,
            "border": null,
            "bottom": null,
            "display": null,
            "flex": null,
            "flex_flow": null,
            "grid_area": null,
            "grid_auto_columns": null,
            "grid_auto_flow": null,
            "grid_auto_rows": null,
            "grid_column": null,
            "grid_gap": null,
            "grid_row": null,
            "grid_template_areas": null,
            "grid_template_columns": null,
            "grid_template_rows": null,
            "height": null,
            "justify_content": null,
            "justify_items": null,
            "left": null,
            "margin": null,
            "max_height": null,
            "max_width": null,
            "min_height": null,
            "min_width": null,
            "object_fit": null,
            "object_position": null,
            "order": null,
            "overflow": null,
            "overflow_x": null,
            "overflow_y": null,
            "padding": null,
            "right": null,
            "top": null,
            "visibility": null,
            "width": null
          }
        },
        "ea1647fc3a5c4f77bb2cf6f48e9bac76": {
          "model_module": "@jupyter-widgets/controls",
          "model_name": "DescriptionStyleModel",
          "model_module_version": "1.5.0",
          "state": {
            "_model_module": "@jupyter-widgets/controls",
            "_model_module_version": "1.5.0",
            "_model_name": "DescriptionStyleModel",
            "_view_count": null,
            "_view_module": "@jupyter-widgets/base",
            "_view_module_version": "1.2.0",
            "_view_name": "StyleView",
            "description_width": ""
          }
        },
        "eec9af4c85644a73a4a48415f4ce99d1": {
          "model_module": "@jupyter-widgets/controls",
          "model_name": "HBoxModel",
          "model_module_version": "1.5.0",
          "state": {
            "_dom_classes": [],
            "_model_module": "@jupyter-widgets/controls",
            "_model_module_version": "1.5.0",
            "_model_name": "HBoxModel",
            "_view_count": null,
            "_view_module": "@jupyter-widgets/controls",
            "_view_module_version": "1.5.0",
            "_view_name": "HBoxView",
            "box_style": "",
            "children": [
              "IPY_MODEL_bc054a5f51fc46c29daf7e896788000c",
              "IPY_MODEL_b0099acf7f8a416eb1904ff8debff336",
              "IPY_MODEL_1c2e644710ef49f8af238846bc687fd6"
            ],
            "layout": "IPY_MODEL_66a0ed3431294314bdb3b1c83c818e26"
          }
        },
        "bc054a5f51fc46c29daf7e896788000c": {
          "model_module": "@jupyter-widgets/controls",
          "model_name": "HTMLModel",
          "model_module_version": "1.5.0",
          "state": {
            "_dom_classes": [],
            "_model_module": "@jupyter-widgets/controls",
            "_model_module_version": "1.5.0",
            "_model_name": "HTMLModel",
            "_view_count": null,
            "_view_module": "@jupyter-widgets/controls",
            "_view_module_version": "1.5.0",
            "_view_name": "HTMLView",
            "description": "",
            "description_tooltip": null,
            "layout": "IPY_MODEL_efeaba6ceaa44ae3ba0bc7d230c8e27e",
            "placeholder": "​",
            "style": "IPY_MODEL_25cc3130ec7b4ef4bc3baa6d921c48dc",
            "value": "config.json: 100%"
          }
        },
        "b0099acf7f8a416eb1904ff8debff336": {
          "model_module": "@jupyter-widgets/controls",
          "model_name": "FloatProgressModel",
          "model_module_version": "1.5.0",
          "state": {
            "_dom_classes": [],
            "_model_module": "@jupyter-widgets/controls",
            "_model_module_version": "1.5.0",
            "_model_name": "FloatProgressModel",
            "_view_count": null,
            "_view_module": "@jupyter-widgets/controls",
            "_view_module_version": "1.5.0",
            "_view_name": "ProgressView",
            "bar_style": "success",
            "description": "",
            "description_tooltip": null,
            "layout": "IPY_MODEL_73bf83db344146a8b22ea0e9e708ea06",
            "max": 744,
            "min": 0,
            "orientation": "horizontal",
            "style": "IPY_MODEL_614de2f062c14a0dbb53779f6462ddd1",
            "value": 744
          }
        },
        "1c2e644710ef49f8af238846bc687fd6": {
          "model_module": "@jupyter-widgets/controls",
          "model_name": "HTMLModel",
          "model_module_version": "1.5.0",
          "state": {
            "_dom_classes": [],
            "_model_module": "@jupyter-widgets/controls",
            "_model_module_version": "1.5.0",
            "_model_name": "HTMLModel",
            "_view_count": null,
            "_view_module": "@jupyter-widgets/controls",
            "_view_module_version": "1.5.0",
            "_view_name": "HTMLView",
            "description": "",
            "description_tooltip": null,
            "layout": "IPY_MODEL_0c7a1877e9d842d6b3df699107fd6329",
            "placeholder": "​",
            "style": "IPY_MODEL_afc4310fd1db4810b39f83b9bf4b6067",
            "value": " 744/744 [00:00&lt;00:00, 31.6kB/s]"
          }
        },
        "66a0ed3431294314bdb3b1c83c818e26": {
          "model_module": "@jupyter-widgets/base",
          "model_name": "LayoutModel",
          "model_module_version": "1.2.0",
          "state": {
            "_model_module": "@jupyter-widgets/base",
            "_model_module_version": "1.2.0",
            "_model_name": "LayoutModel",
            "_view_count": null,
            "_view_module": "@jupyter-widgets/base",
            "_view_module_version": "1.2.0",
            "_view_name": "LayoutView",
            "align_content": null,
            "align_items": null,
            "align_self": null,
            "border": null,
            "bottom": null,
            "display": null,
            "flex": null,
            "flex_flow": null,
            "grid_area": null,
            "grid_auto_columns": null,
            "grid_auto_flow": null,
            "grid_auto_rows": null,
            "grid_column": null,
            "grid_gap": null,
            "grid_row": null,
            "grid_template_areas": null,
            "grid_template_columns": null,
            "grid_template_rows": null,
            "height": null,
            "justify_content": null,
            "justify_items": null,
            "left": null,
            "margin": null,
            "max_height": null,
            "max_width": null,
            "min_height": null,
            "min_width": null,
            "object_fit": null,
            "object_position": null,
            "order": null,
            "overflow": null,
            "overflow_x": null,
            "overflow_y": null,
            "padding": null,
            "right": null,
            "top": null,
            "visibility": null,
            "width": null
          }
        },
        "efeaba6ceaa44ae3ba0bc7d230c8e27e": {
          "model_module": "@jupyter-widgets/base",
          "model_name": "LayoutModel",
          "model_module_version": "1.2.0",
          "state": {
            "_model_module": "@jupyter-widgets/base",
            "_model_module_version": "1.2.0",
            "_model_name": "LayoutModel",
            "_view_count": null,
            "_view_module": "@jupyter-widgets/base",
            "_view_module_version": "1.2.0",
            "_view_name": "LayoutView",
            "align_content": null,
            "align_items": null,
            "align_self": null,
            "border": null,
            "bottom": null,
            "display": null,
            "flex": null,
            "flex_flow": null,
            "grid_area": null,
            "grid_auto_columns": null,
            "grid_auto_flow": null,
            "grid_auto_rows": null,
            "grid_column": null,
            "grid_gap": null,
            "grid_row": null,
            "grid_template_areas": null,
            "grid_template_columns": null,
            "grid_template_rows": null,
            "height": null,
            "justify_content": null,
            "justify_items": null,
            "left": null,
            "margin": null,
            "max_height": null,
            "max_width": null,
            "min_height": null,
            "min_width": null,
            "object_fit": null,
            "object_position": null,
            "order": null,
            "overflow": null,
            "overflow_x": null,
            "overflow_y": null,
            "padding": null,
            "right": null,
            "top": null,
            "visibility": null,
            "width": null
          }
        },
        "25cc3130ec7b4ef4bc3baa6d921c48dc": {
          "model_module": "@jupyter-widgets/controls",
          "model_name": "DescriptionStyleModel",
          "model_module_version": "1.5.0",
          "state": {
            "_model_module": "@jupyter-widgets/controls",
            "_model_module_version": "1.5.0",
            "_model_name": "DescriptionStyleModel",
            "_view_count": null,
            "_view_module": "@jupyter-widgets/base",
            "_view_module_version": "1.2.0",
            "_view_name": "StyleView",
            "description_width": ""
          }
        },
        "73bf83db344146a8b22ea0e9e708ea06": {
          "model_module": "@jupyter-widgets/base",
          "model_name": "LayoutModel",
          "model_module_version": "1.2.0",
          "state": {
            "_model_module": "@jupyter-widgets/base",
            "_model_module_version": "1.2.0",
            "_model_name": "LayoutModel",
            "_view_count": null,
            "_view_module": "@jupyter-widgets/base",
            "_view_module_version": "1.2.0",
            "_view_name": "LayoutView",
            "align_content": null,
            "align_items": null,
            "align_self": null,
            "border": null,
            "bottom": null,
            "display": null,
            "flex": null,
            "flex_flow": null,
            "grid_area": null,
            "grid_auto_columns": null,
            "grid_auto_flow": null,
            "grid_auto_rows": null,
            "grid_column": null,
            "grid_gap": null,
            "grid_row": null,
            "grid_template_areas": null,
            "grid_template_columns": null,
            "grid_template_rows": null,
            "height": null,
            "justify_content": null,
            "justify_items": null,
            "left": null,
            "margin": null,
            "max_height": null,
            "max_width": null,
            "min_height": null,
            "min_width": null,
            "object_fit": null,
            "object_position": null,
            "order": null,
            "overflow": null,
            "overflow_x": null,
            "overflow_y": null,
            "padding": null,
            "right": null,
            "top": null,
            "visibility": null,
            "width": null
          }
        },
        "614de2f062c14a0dbb53779f6462ddd1": {
          "model_module": "@jupyter-widgets/controls",
          "model_name": "ProgressStyleModel",
          "model_module_version": "1.5.0",
          "state": {
            "_model_module": "@jupyter-widgets/controls",
            "_model_module_version": "1.5.0",
            "_model_name": "ProgressStyleModel",
            "_view_count": null,
            "_view_module": "@jupyter-widgets/base",
            "_view_module_version": "1.2.0",
            "_view_name": "StyleView",
            "bar_color": null,
            "description_width": ""
          }
        },
        "0c7a1877e9d842d6b3df699107fd6329": {
          "model_module": "@jupyter-widgets/base",
          "model_name": "LayoutModel",
          "model_module_version": "1.2.0",
          "state": {
            "_model_module": "@jupyter-widgets/base",
            "_model_module_version": "1.2.0",
            "_model_name": "LayoutModel",
            "_view_count": null,
            "_view_module": "@jupyter-widgets/base",
            "_view_module_version": "1.2.0",
            "_view_name": "LayoutView",
            "align_content": null,
            "align_items": null,
            "align_self": null,
            "border": null,
            "bottom": null,
            "display": null,
            "flex": null,
            "flex_flow": null,
            "grid_area": null,
            "grid_auto_columns": null,
            "grid_auto_flow": null,
            "grid_auto_rows": null,
            "grid_column": null,
            "grid_gap": null,
            "grid_row": null,
            "grid_template_areas": null,
            "grid_template_columns": null,
            "grid_template_rows": null,
            "height": null,
            "justify_content": null,
            "justify_items": null,
            "left": null,
            "margin": null,
            "max_height": null,
            "max_width": null,
            "min_height": null,
            "min_width": null,
            "object_fit": null,
            "object_position": null,
            "order": null,
            "overflow": null,
            "overflow_x": null,
            "overflow_y": null,
            "padding": null,
            "right": null,
            "top": null,
            "visibility": null,
            "width": null
          }
        },
        "afc4310fd1db4810b39f83b9bf4b6067": {
          "model_module": "@jupyter-widgets/controls",
          "model_name": "DescriptionStyleModel",
          "model_module_version": "1.5.0",
          "state": {
            "_model_module": "@jupyter-widgets/controls",
            "_model_module_version": "1.5.0",
            "_model_name": "DescriptionStyleModel",
            "_view_count": null,
            "_view_module": "@jupyter-widgets/base",
            "_view_module_version": "1.2.0",
            "_view_name": "StyleView",
            "description_width": ""
          }
        },
        "6da8e93c29144856923613d0deac6c50": {
          "model_module": "@jupyter-widgets/controls",
          "model_name": "HBoxModel",
          "model_module_version": "1.5.0",
          "state": {
            "_dom_classes": [],
            "_model_module": "@jupyter-widgets/controls",
            "_model_module_version": "1.5.0",
            "_model_name": "HBoxModel",
            "_view_count": null,
            "_view_module": "@jupyter-widgets/controls",
            "_view_module_version": "1.5.0",
            "_view_name": "HBoxView",
            "box_style": "",
            "children": [
              "IPY_MODEL_1711b2d51b9d4d71b7a561856e44b708",
              "IPY_MODEL_06e2e96153374c0e8e20b5e3d9082454",
              "IPY_MODEL_25a51b4646944ce89095a7f9e2b2226f"
            ],
            "layout": "IPY_MODEL_9b0e3977111a49a3910d0cb5f0f51ade"
          }
        },
        "1711b2d51b9d4d71b7a561856e44b708": {
          "model_module": "@jupyter-widgets/controls",
          "model_name": "HTMLModel",
          "model_module_version": "1.5.0",
          "state": {
            "_dom_classes": [],
            "_model_module": "@jupyter-widgets/controls",
            "_model_module_version": "1.5.0",
            "_model_name": "HTMLModel",
            "_view_count": null,
            "_view_module": "@jupyter-widgets/controls",
            "_view_module_version": "1.5.0",
            "_view_name": "HTMLView",
            "description": "",
            "description_tooltip": null,
            "layout": "IPY_MODEL_de604415dd7a49af85d96cab01646071",
            "placeholder": "​",
            "style": "IPY_MODEL_39b6d1dd200540888c2a90d91fba6a85",
            "value": "pytorch_model.bin: 100%"
          }
        },
        "06e2e96153374c0e8e20b5e3d9082454": {
          "model_module": "@jupyter-widgets/controls",
          "model_name": "FloatProgressModel",
          "model_module_version": "1.5.0",
          "state": {
            "_dom_classes": [],
            "_model_module": "@jupyter-widgets/controls",
            "_model_module_version": "1.5.0",
            "_model_name": "FloatProgressModel",
            "_view_count": null,
            "_view_module": "@jupyter-widgets/controls",
            "_view_module_version": "1.5.0",
            "_view_name": "ProgressView",
            "bar_style": "success",
            "description": "",
            "description_tooltip": null,
            "layout": "IPY_MODEL_6be081bee4334941b8cc8fb1c587831a",
            "max": 442558967,
            "min": 0,
            "orientation": "horizontal",
            "style": "IPY_MODEL_bc6188274e96484cb89418730b3475fd",
            "value": 442558967
          }
        },
        "25a51b4646944ce89095a7f9e2b2226f": {
          "model_module": "@jupyter-widgets/controls",
          "model_name": "HTMLModel",
          "model_module_version": "1.5.0",
          "state": {
            "_dom_classes": [],
            "_model_module": "@jupyter-widgets/controls",
            "_model_module_version": "1.5.0",
            "_model_name": "HTMLModel",
            "_view_count": null,
            "_view_module": "@jupyter-widgets/controls",
            "_view_module_version": "1.5.0",
            "_view_name": "HTMLView",
            "description": "",
            "description_tooltip": null,
            "layout": "IPY_MODEL_201cb5e89e0c4b988d9aaaaee5b27934",
            "placeholder": "​",
            "style": "IPY_MODEL_745540cfdfbe428a9cc09061b3ae0b7e",
            "value": " 443M/443M [00:06&lt;00:00, 103MB/s]"
          }
        },
        "9b0e3977111a49a3910d0cb5f0f51ade": {
          "model_module": "@jupyter-widgets/base",
          "model_name": "LayoutModel",
          "model_module_version": "1.2.0",
          "state": {
            "_model_module": "@jupyter-widgets/base",
            "_model_module_version": "1.2.0",
            "_model_name": "LayoutModel",
            "_view_count": null,
            "_view_module": "@jupyter-widgets/base",
            "_view_module_version": "1.2.0",
            "_view_name": "LayoutView",
            "align_content": null,
            "align_items": null,
            "align_self": null,
            "border": null,
            "bottom": null,
            "display": null,
            "flex": null,
            "flex_flow": null,
            "grid_area": null,
            "grid_auto_columns": null,
            "grid_auto_flow": null,
            "grid_auto_rows": null,
            "grid_column": null,
            "grid_gap": null,
            "grid_row": null,
            "grid_template_areas": null,
            "grid_template_columns": null,
            "grid_template_rows": null,
            "height": null,
            "justify_content": null,
            "justify_items": null,
            "left": null,
            "margin": null,
            "max_height": null,
            "max_width": null,
            "min_height": null,
            "min_width": null,
            "object_fit": null,
            "object_position": null,
            "order": null,
            "overflow": null,
            "overflow_x": null,
            "overflow_y": null,
            "padding": null,
            "right": null,
            "top": null,
            "visibility": null,
            "width": null
          }
        },
        "de604415dd7a49af85d96cab01646071": {
          "model_module": "@jupyter-widgets/base",
          "model_name": "LayoutModel",
          "model_module_version": "1.2.0",
          "state": {
            "_model_module": "@jupyter-widgets/base",
            "_model_module_version": "1.2.0",
            "_model_name": "LayoutModel",
            "_view_count": null,
            "_view_module": "@jupyter-widgets/base",
            "_view_module_version": "1.2.0",
            "_view_name": "LayoutView",
            "align_content": null,
            "align_items": null,
            "align_self": null,
            "border": null,
            "bottom": null,
            "display": null,
            "flex": null,
            "flex_flow": null,
            "grid_area": null,
            "grid_auto_columns": null,
            "grid_auto_flow": null,
            "grid_auto_rows": null,
            "grid_column": null,
            "grid_gap": null,
            "grid_row": null,
            "grid_template_areas": null,
            "grid_template_columns": null,
            "grid_template_rows": null,
            "height": null,
            "justify_content": null,
            "justify_items": null,
            "left": null,
            "margin": null,
            "max_height": null,
            "max_width": null,
            "min_height": null,
            "min_width": null,
            "object_fit": null,
            "object_position": null,
            "order": null,
            "overflow": null,
            "overflow_x": null,
            "overflow_y": null,
            "padding": null,
            "right": null,
            "top": null,
            "visibility": null,
            "width": null
          }
        },
        "39b6d1dd200540888c2a90d91fba6a85": {
          "model_module": "@jupyter-widgets/controls",
          "model_name": "DescriptionStyleModel",
          "model_module_version": "1.5.0",
          "state": {
            "_model_module": "@jupyter-widgets/controls",
            "_model_module_version": "1.5.0",
            "_model_name": "DescriptionStyleModel",
            "_view_count": null,
            "_view_module": "@jupyter-widgets/base",
            "_view_module_version": "1.2.0",
            "_view_name": "StyleView",
            "description_width": ""
          }
        },
        "6be081bee4334941b8cc8fb1c587831a": {
          "model_module": "@jupyter-widgets/base",
          "model_name": "LayoutModel",
          "model_module_version": "1.2.0",
          "state": {
            "_model_module": "@jupyter-widgets/base",
            "_model_module_version": "1.2.0",
            "_model_name": "LayoutModel",
            "_view_count": null,
            "_view_module": "@jupyter-widgets/base",
            "_view_module_version": "1.2.0",
            "_view_name": "LayoutView",
            "align_content": null,
            "align_items": null,
            "align_self": null,
            "border": null,
            "bottom": null,
            "display": null,
            "flex": null,
            "flex_flow": null,
            "grid_area": null,
            "grid_auto_columns": null,
            "grid_auto_flow": null,
            "grid_auto_rows": null,
            "grid_column": null,
            "grid_gap": null,
            "grid_row": null,
            "grid_template_areas": null,
            "grid_template_columns": null,
            "grid_template_rows": null,
            "height": null,
            "justify_content": null,
            "justify_items": null,
            "left": null,
            "margin": null,
            "max_height": null,
            "max_width": null,
            "min_height": null,
            "min_width": null,
            "object_fit": null,
            "object_position": null,
            "order": null,
            "overflow": null,
            "overflow_x": null,
            "overflow_y": null,
            "padding": null,
            "right": null,
            "top": null,
            "visibility": null,
            "width": null
          }
        },
        "bc6188274e96484cb89418730b3475fd": {
          "model_module": "@jupyter-widgets/controls",
          "model_name": "ProgressStyleModel",
          "model_module_version": "1.5.0",
          "state": {
            "_model_module": "@jupyter-widgets/controls",
            "_model_module_version": "1.5.0",
            "_model_name": "ProgressStyleModel",
            "_view_count": null,
            "_view_module": "@jupyter-widgets/base",
            "_view_module_version": "1.2.0",
            "_view_name": "StyleView",
            "bar_color": null,
            "description_width": ""
          }
        },
        "201cb5e89e0c4b988d9aaaaee5b27934": {
          "model_module": "@jupyter-widgets/base",
          "model_name": "LayoutModel",
          "model_module_version": "1.2.0",
          "state": {
            "_model_module": "@jupyter-widgets/base",
            "_model_module_version": "1.2.0",
            "_model_name": "LayoutModel",
            "_view_count": null,
            "_view_module": "@jupyter-widgets/base",
            "_view_module_version": "1.2.0",
            "_view_name": "LayoutView",
            "align_content": null,
            "align_items": null,
            "align_self": null,
            "border": null,
            "bottom": null,
            "display": null,
            "flex": null,
            "flex_flow": null,
            "grid_area": null,
            "grid_auto_columns": null,
            "grid_auto_flow": null,
            "grid_auto_rows": null,
            "grid_column": null,
            "grid_gap": null,
            "grid_row": null,
            "grid_template_areas": null,
            "grid_template_columns": null,
            "grid_template_rows": null,
            "height": null,
            "justify_content": null,
            "justify_items": null,
            "left": null,
            "margin": null,
            "max_height": null,
            "max_width": null,
            "min_height": null,
            "min_width": null,
            "object_fit": null,
            "object_position": null,
            "order": null,
            "overflow": null,
            "overflow_x": null,
            "overflow_y": null,
            "padding": null,
            "right": null,
            "top": null,
            "visibility": null,
            "width": null
          }
        },
        "745540cfdfbe428a9cc09061b3ae0b7e": {
          "model_module": "@jupyter-widgets/controls",
          "model_name": "DescriptionStyleModel",
          "model_module_version": "1.5.0",
          "state": {
            "_model_module": "@jupyter-widgets/controls",
            "_model_module_version": "1.5.0",
            "_model_name": "DescriptionStyleModel",
            "_view_count": null,
            "_view_module": "@jupyter-widgets/base",
            "_view_module_version": "1.2.0",
            "_view_name": "StyleView",
            "description_width": ""
          }
        },
        "9b40a2a42c2949d1a11296a3e49260b0": {
          "model_module": "@jupyter-widgets/controls",
          "model_name": "HBoxModel",
          "model_module_version": "1.5.0",
          "state": {
            "_dom_classes": [],
            "_model_module": "@jupyter-widgets/controls",
            "_model_module_version": "1.5.0",
            "_model_name": "HBoxModel",
            "_view_count": null,
            "_view_module": "@jupyter-widgets/controls",
            "_view_module_version": "1.5.0",
            "_view_name": "HBoxView",
            "box_style": "",
            "children": [
              "IPY_MODEL_11f14f0199194e219e129e992fd53546",
              "IPY_MODEL_f7014328a0da4ec3bb1858bb740dcded",
              "IPY_MODEL_67753c7663a44d46bb5f78eb0d12e9a3"
            ],
            "layout": "IPY_MODEL_5466e105fad145e289abb829db6ff26b"
          }
        },
        "11f14f0199194e219e129e992fd53546": {
          "model_module": "@jupyter-widgets/controls",
          "model_name": "HTMLModel",
          "model_module_version": "1.5.0",
          "state": {
            "_dom_classes": [],
            "_model_module": "@jupyter-widgets/controls",
            "_model_module_version": "1.5.0",
            "_model_name": "HTMLModel",
            "_view_count": null,
            "_view_module": "@jupyter-widgets/controls",
            "_view_module_version": "1.5.0",
            "_view_name": "HTMLView",
            "description": "",
            "description_tooltip": null,
            "layout": "IPY_MODEL_7503df5a07d04d5db93a13037bf9cc6a",
            "placeholder": "​",
            "style": "IPY_MODEL_e089d26d3703477799374c4821a34333",
            "value": "tokenizer_config.json: 100%"
          }
        },
        "f7014328a0da4ec3bb1858bb740dcded": {
          "model_module": "@jupyter-widgets/controls",
          "model_name": "FloatProgressModel",
          "model_module_version": "1.5.0",
          "state": {
            "_dom_classes": [],
            "_model_module": "@jupyter-widgets/controls",
            "_model_module_version": "1.5.0",
            "_model_name": "FloatProgressModel",
            "_view_count": null,
            "_view_module": "@jupyter-widgets/controls",
            "_view_module_version": "1.5.0",
            "_view_name": "ProgressView",
            "bar_style": "success",
            "description": "",
            "description_tooltip": null,
            "layout": "IPY_MODEL_ea68ba0fb46141d48cfe8fdc7e601eb0",
            "max": 585,
            "min": 0,
            "orientation": "horizontal",
            "style": "IPY_MODEL_44e0d94da64e44eb8a72cc57ae54d5d0",
            "value": 585
          }
        },
        "67753c7663a44d46bb5f78eb0d12e9a3": {
          "model_module": "@jupyter-widgets/controls",
          "model_name": "HTMLModel",
          "model_module_version": "1.5.0",
          "state": {
            "_dom_classes": [],
            "_model_module": "@jupyter-widgets/controls",
            "_model_module_version": "1.5.0",
            "_model_name": "HTMLModel",
            "_view_count": null,
            "_view_module": "@jupyter-widgets/controls",
            "_view_module_version": "1.5.0",
            "_view_name": "HTMLView",
            "description": "",
            "description_tooltip": null,
            "layout": "IPY_MODEL_ebc2f2713a954319b7ada5be00d16f7c",
            "placeholder": "​",
            "style": "IPY_MODEL_cc27b98f62304ae79c6305e8d11501e4",
            "value": " 585/585 [00:00&lt;00:00, 36.5kB/s]"
          }
        },
        "5466e105fad145e289abb829db6ff26b": {
          "model_module": "@jupyter-widgets/base",
          "model_name": "LayoutModel",
          "model_module_version": "1.2.0",
          "state": {
            "_model_module": "@jupyter-widgets/base",
            "_model_module_version": "1.2.0",
            "_model_name": "LayoutModel",
            "_view_count": null,
            "_view_module": "@jupyter-widgets/base",
            "_view_module_version": "1.2.0",
            "_view_name": "LayoutView",
            "align_content": null,
            "align_items": null,
            "align_self": null,
            "border": null,
            "bottom": null,
            "display": null,
            "flex": null,
            "flex_flow": null,
            "grid_area": null,
            "grid_auto_columns": null,
            "grid_auto_flow": null,
            "grid_auto_rows": null,
            "grid_column": null,
            "grid_gap": null,
            "grid_row": null,
            "grid_template_areas": null,
            "grid_template_columns": null,
            "grid_template_rows": null,
            "height": null,
            "justify_content": null,
            "justify_items": null,
            "left": null,
            "margin": null,
            "max_height": null,
            "max_width": null,
            "min_height": null,
            "min_width": null,
            "object_fit": null,
            "object_position": null,
            "order": null,
            "overflow": null,
            "overflow_x": null,
            "overflow_y": null,
            "padding": null,
            "right": null,
            "top": null,
            "visibility": null,
            "width": null
          }
        },
        "7503df5a07d04d5db93a13037bf9cc6a": {
          "model_module": "@jupyter-widgets/base",
          "model_name": "LayoutModel",
          "model_module_version": "1.2.0",
          "state": {
            "_model_module": "@jupyter-widgets/base",
            "_model_module_version": "1.2.0",
            "_model_name": "LayoutModel",
            "_view_count": null,
            "_view_module": "@jupyter-widgets/base",
            "_view_module_version": "1.2.0",
            "_view_name": "LayoutView",
            "align_content": null,
            "align_items": null,
            "align_self": null,
            "border": null,
            "bottom": null,
            "display": null,
            "flex": null,
            "flex_flow": null,
            "grid_area": null,
            "grid_auto_columns": null,
            "grid_auto_flow": null,
            "grid_auto_rows": null,
            "grid_column": null,
            "grid_gap": null,
            "grid_row": null,
            "grid_template_areas": null,
            "grid_template_columns": null,
            "grid_template_rows": null,
            "height": null,
            "justify_content": null,
            "justify_items": null,
            "left": null,
            "margin": null,
            "max_height": null,
            "max_width": null,
            "min_height": null,
            "min_width": null,
            "object_fit": null,
            "object_position": null,
            "order": null,
            "overflow": null,
            "overflow_x": null,
            "overflow_y": null,
            "padding": null,
            "right": null,
            "top": null,
            "visibility": null,
            "width": null
          }
        },
        "e089d26d3703477799374c4821a34333": {
          "model_module": "@jupyter-widgets/controls",
          "model_name": "DescriptionStyleModel",
          "model_module_version": "1.5.0",
          "state": {
            "_model_module": "@jupyter-widgets/controls",
            "_model_module_version": "1.5.0",
            "_model_name": "DescriptionStyleModel",
            "_view_count": null,
            "_view_module": "@jupyter-widgets/base",
            "_view_module_version": "1.2.0",
            "_view_name": "StyleView",
            "description_width": ""
          }
        },
        "ea68ba0fb46141d48cfe8fdc7e601eb0": {
          "model_module": "@jupyter-widgets/base",
          "model_name": "LayoutModel",
          "model_module_version": "1.2.0",
          "state": {
            "_model_module": "@jupyter-widgets/base",
            "_model_module_version": "1.2.0",
            "_model_name": "LayoutModel",
            "_view_count": null,
            "_view_module": "@jupyter-widgets/base",
            "_view_module_version": "1.2.0",
            "_view_name": "LayoutView",
            "align_content": null,
            "align_items": null,
            "align_self": null,
            "border": null,
            "bottom": null,
            "display": null,
            "flex": null,
            "flex_flow": null,
            "grid_area": null,
            "grid_auto_columns": null,
            "grid_auto_flow": null,
            "grid_auto_rows": null,
            "grid_column": null,
            "grid_gap": null,
            "grid_row": null,
            "grid_template_areas": null,
            "grid_template_columns": null,
            "grid_template_rows": null,
            "height": null,
            "justify_content": null,
            "justify_items": null,
            "left": null,
            "margin": null,
            "max_height": null,
            "max_width": null,
            "min_height": null,
            "min_width": null,
            "object_fit": null,
            "object_position": null,
            "order": null,
            "overflow": null,
            "overflow_x": null,
            "overflow_y": null,
            "padding": null,
            "right": null,
            "top": null,
            "visibility": null,
            "width": null
          }
        },
        "44e0d94da64e44eb8a72cc57ae54d5d0": {
          "model_module": "@jupyter-widgets/controls",
          "model_name": "ProgressStyleModel",
          "model_module_version": "1.5.0",
          "state": {
            "_model_module": "@jupyter-widgets/controls",
            "_model_module_version": "1.5.0",
            "_model_name": "ProgressStyleModel",
            "_view_count": null,
            "_view_module": "@jupyter-widgets/base",
            "_view_module_version": "1.2.0",
            "_view_name": "StyleView",
            "bar_color": null,
            "description_width": ""
          }
        },
        "ebc2f2713a954319b7ada5be00d16f7c": {
          "model_module": "@jupyter-widgets/base",
          "model_name": "LayoutModel",
          "model_module_version": "1.2.0",
          "state": {
            "_model_module": "@jupyter-widgets/base",
            "_model_module_version": "1.2.0",
            "_model_name": "LayoutModel",
            "_view_count": null,
            "_view_module": "@jupyter-widgets/base",
            "_view_module_version": "1.2.0",
            "_view_name": "LayoutView",
            "align_content": null,
            "align_items": null,
            "align_self": null,
            "border": null,
            "bottom": null,
            "display": null,
            "flex": null,
            "flex_flow": null,
            "grid_area": null,
            "grid_auto_columns": null,
            "grid_auto_flow": null,
            "grid_auto_rows": null,
            "grid_column": null,
            "grid_gap": null,
            "grid_row": null,
            "grid_template_areas": null,
            "grid_template_columns": null,
            "grid_template_rows": null,
            "height": null,
            "justify_content": null,
            "justify_items": null,
            "left": null,
            "margin": null,
            "max_height": null,
            "max_width": null,
            "min_height": null,
            "min_width": null,
            "object_fit": null,
            "object_position": null,
            "order": null,
            "overflow": null,
            "overflow_x": null,
            "overflow_y": null,
            "padding": null,
            "right": null,
            "top": null,
            "visibility": null,
            "width": null
          }
        },
        "cc27b98f62304ae79c6305e8d11501e4": {
          "model_module": "@jupyter-widgets/controls",
          "model_name": "DescriptionStyleModel",
          "model_module_version": "1.5.0",
          "state": {
            "_model_module": "@jupyter-widgets/controls",
            "_model_module_version": "1.5.0",
            "_model_name": "DescriptionStyleModel",
            "_view_count": null,
            "_view_module": "@jupyter-widgets/base",
            "_view_module_version": "1.2.0",
            "_view_name": "StyleView",
            "description_width": ""
          }
        },
        "2b31a7b448a64c119ffd06b96a366ad5": {
          "model_module": "@jupyter-widgets/controls",
          "model_name": "HBoxModel",
          "model_module_version": "1.5.0",
          "state": {
            "_dom_classes": [],
            "_model_module": "@jupyter-widgets/controls",
            "_model_module_version": "1.5.0",
            "_model_name": "HBoxModel",
            "_view_count": null,
            "_view_module": "@jupyter-widgets/controls",
            "_view_module_version": "1.5.0",
            "_view_name": "HBoxView",
            "box_style": "",
            "children": [
              "IPY_MODEL_cde4349097c14f8d924fe9effbe81aaa",
              "IPY_MODEL_37770a5b4a3a4ba0a8e3a05b420d7b13",
              "IPY_MODEL_aaa0ffd6b3f5453f8a1b82333e01aa4f"
            ],
            "layout": "IPY_MODEL_1200f381be3943f5b3aa698a3d2152d3"
          }
        },
        "cde4349097c14f8d924fe9effbe81aaa": {
          "model_module": "@jupyter-widgets/controls",
          "model_name": "HTMLModel",
          "model_module_version": "1.5.0",
          "state": {
            "_dom_classes": [],
            "_model_module": "@jupyter-widgets/controls",
            "_model_module_version": "1.5.0",
            "_model_name": "HTMLModel",
            "_view_count": null,
            "_view_module": "@jupyter-widgets/controls",
            "_view_module_version": "1.5.0",
            "_view_name": "HTMLView",
            "description": "",
            "description_tooltip": null,
            "layout": "IPY_MODEL_5f75f713ad20456791210191594e7894",
            "placeholder": "​",
            "style": "IPY_MODEL_dd0218a3ed1343889aff23d08fdecc11",
            "value": "vocab.txt: 100%"
          }
        },
        "37770a5b4a3a4ba0a8e3a05b420d7b13": {
          "model_module": "@jupyter-widgets/controls",
          "model_name": "FloatProgressModel",
          "model_module_version": "1.5.0",
          "state": {
            "_dom_classes": [],
            "_model_module": "@jupyter-widgets/controls",
            "_model_module_version": "1.5.0",
            "_model_name": "FloatProgressModel",
            "_view_count": null,
            "_view_module": "@jupyter-widgets/controls",
            "_view_module_version": "1.5.0",
            "_view_name": "ProgressView",
            "bar_style": "success",
            "description": "",
            "description_tooltip": null,
            "layout": "IPY_MODEL_045350e685ff4c20b5b52e5a1b4143d1",
            "max": 248477,
            "min": 0,
            "orientation": "horizontal",
            "style": "IPY_MODEL_f0b5d74b2c2247dba2c12fa8fc1d06ff",
            "value": 248477
          }
        },
        "aaa0ffd6b3f5453f8a1b82333e01aa4f": {
          "model_module": "@jupyter-widgets/controls",
          "model_name": "HTMLModel",
          "model_module_version": "1.5.0",
          "state": {
            "_dom_classes": [],
            "_model_module": "@jupyter-widgets/controls",
            "_model_module_version": "1.5.0",
            "_model_name": "HTMLModel",
            "_view_count": null,
            "_view_module": "@jupyter-widgets/controls",
            "_view_module_version": "1.5.0",
            "_view_name": "HTMLView",
            "description": "",
            "description_tooltip": null,
            "layout": "IPY_MODEL_429a01524da2475987ed72b392d00a68",
            "placeholder": "​",
            "style": "IPY_MODEL_9555cf9e7b764334a10f22b7066ad745",
            "value": " 248k/248k [00:00&lt;00:00, 4.46MB/s]"
          }
        },
        "1200f381be3943f5b3aa698a3d2152d3": {
          "model_module": "@jupyter-widgets/base",
          "model_name": "LayoutModel",
          "model_module_version": "1.2.0",
          "state": {
            "_model_module": "@jupyter-widgets/base",
            "_model_module_version": "1.2.0",
            "_model_name": "LayoutModel",
            "_view_count": null,
            "_view_module": "@jupyter-widgets/base",
            "_view_module_version": "1.2.0",
            "_view_name": "LayoutView",
            "align_content": null,
            "align_items": null,
            "align_self": null,
            "border": null,
            "bottom": null,
            "display": null,
            "flex": null,
            "flex_flow": null,
            "grid_area": null,
            "grid_auto_columns": null,
            "grid_auto_flow": null,
            "grid_auto_rows": null,
            "grid_column": null,
            "grid_gap": null,
            "grid_row": null,
            "grid_template_areas": null,
            "grid_template_columns": null,
            "grid_template_rows": null,
            "height": null,
            "justify_content": null,
            "justify_items": null,
            "left": null,
            "margin": null,
            "max_height": null,
            "max_width": null,
            "min_height": null,
            "min_width": null,
            "object_fit": null,
            "object_position": null,
            "order": null,
            "overflow": null,
            "overflow_x": null,
            "overflow_y": null,
            "padding": null,
            "right": null,
            "top": null,
            "visibility": null,
            "width": null
          }
        },
        "5f75f713ad20456791210191594e7894": {
          "model_module": "@jupyter-widgets/base",
          "model_name": "LayoutModel",
          "model_module_version": "1.2.0",
          "state": {
            "_model_module": "@jupyter-widgets/base",
            "_model_module_version": "1.2.0",
            "_model_name": "LayoutModel",
            "_view_count": null,
            "_view_module": "@jupyter-widgets/base",
            "_view_module_version": "1.2.0",
            "_view_name": "LayoutView",
            "align_content": null,
            "align_items": null,
            "align_self": null,
            "border": null,
            "bottom": null,
            "display": null,
            "flex": null,
            "flex_flow": null,
            "grid_area": null,
            "grid_auto_columns": null,
            "grid_auto_flow": null,
            "grid_auto_rows": null,
            "grid_column": null,
            "grid_gap": null,
            "grid_row": null,
            "grid_template_areas": null,
            "grid_template_columns": null,
            "grid_template_rows": null,
            "height": null,
            "justify_content": null,
            "justify_items": null,
            "left": null,
            "margin": null,
            "max_height": null,
            "max_width": null,
            "min_height": null,
            "min_width": null,
            "object_fit": null,
            "object_position": null,
            "order": null,
            "overflow": null,
            "overflow_x": null,
            "overflow_y": null,
            "padding": null,
            "right": null,
            "top": null,
            "visibility": null,
            "width": null
          }
        },
        "dd0218a3ed1343889aff23d08fdecc11": {
          "model_module": "@jupyter-widgets/controls",
          "model_name": "DescriptionStyleModel",
          "model_module_version": "1.5.0",
          "state": {
            "_model_module": "@jupyter-widgets/controls",
            "_model_module_version": "1.5.0",
            "_model_name": "DescriptionStyleModel",
            "_view_count": null,
            "_view_module": "@jupyter-widgets/base",
            "_view_module_version": "1.2.0",
            "_view_name": "StyleView",
            "description_width": ""
          }
        },
        "045350e685ff4c20b5b52e5a1b4143d1": {
          "model_module": "@jupyter-widgets/base",
          "model_name": "LayoutModel",
          "model_module_version": "1.2.0",
          "state": {
            "_model_module": "@jupyter-widgets/base",
            "_model_module_version": "1.2.0",
            "_model_name": "LayoutModel",
            "_view_count": null,
            "_view_module": "@jupyter-widgets/base",
            "_view_module_version": "1.2.0",
            "_view_name": "LayoutView",
            "align_content": null,
            "align_items": null,
            "align_self": null,
            "border": null,
            "bottom": null,
            "display": null,
            "flex": null,
            "flex_flow": null,
            "grid_area": null,
            "grid_auto_columns": null,
            "grid_auto_flow": null,
            "grid_auto_rows": null,
            "grid_column": null,
            "grid_gap": null,
            "grid_row": null,
            "grid_template_areas": null,
            "grid_template_columns": null,
            "grid_template_rows": null,
            "height": null,
            "justify_content": null,
            "justify_items": null,
            "left": null,
            "margin": null,
            "max_height": null,
            "max_width": null,
            "min_height": null,
            "min_width": null,
            "object_fit": null,
            "object_position": null,
            "order": null,
            "overflow": null,
            "overflow_x": null,
            "overflow_y": null,
            "padding": null,
            "right": null,
            "top": null,
            "visibility": null,
            "width": null
          }
        },
        "f0b5d74b2c2247dba2c12fa8fc1d06ff": {
          "model_module": "@jupyter-widgets/controls",
          "model_name": "ProgressStyleModel",
          "model_module_version": "1.5.0",
          "state": {
            "_model_module": "@jupyter-widgets/controls",
            "_model_module_version": "1.5.0",
            "_model_name": "ProgressStyleModel",
            "_view_count": null,
            "_view_module": "@jupyter-widgets/base",
            "_view_module_version": "1.2.0",
            "_view_name": "StyleView",
            "bar_color": null,
            "description_width": ""
          }
        },
        "429a01524da2475987ed72b392d00a68": {
          "model_module": "@jupyter-widgets/base",
          "model_name": "LayoutModel",
          "model_module_version": "1.2.0",
          "state": {
            "_model_module": "@jupyter-widgets/base",
            "_model_module_version": "1.2.0",
            "_model_name": "LayoutModel",
            "_view_count": null,
            "_view_module": "@jupyter-widgets/base",
            "_view_module_version": "1.2.0",
            "_view_name": "LayoutView",
            "align_content": null,
            "align_items": null,
            "align_self": null,
            "border": null,
            "bottom": null,
            "display": null,
            "flex": null,
            "flex_flow": null,
            "grid_area": null,
            "grid_auto_columns": null,
            "grid_auto_flow": null,
            "grid_auto_rows": null,
            "grid_column": null,
            "grid_gap": null,
            "grid_row": null,
            "grid_template_areas": null,
            "grid_template_columns": null,
            "grid_template_rows": null,
            "height": null,
            "justify_content": null,
            "justify_items": null,
            "left": null,
            "margin": null,
            "max_height": null,
            "max_width": null,
            "min_height": null,
            "min_width": null,
            "object_fit": null,
            "object_position": null,
            "order": null,
            "overflow": null,
            "overflow_x": null,
            "overflow_y": null,
            "padding": null,
            "right": null,
            "top": null,
            "visibility": null,
            "width": null
          }
        },
        "9555cf9e7b764334a10f22b7066ad745": {
          "model_module": "@jupyter-widgets/controls",
          "model_name": "DescriptionStyleModel",
          "model_module_version": "1.5.0",
          "state": {
            "_model_module": "@jupyter-widgets/controls",
            "_model_module_version": "1.5.0",
            "_model_name": "DescriptionStyleModel",
            "_view_count": null,
            "_view_module": "@jupyter-widgets/base",
            "_view_module_version": "1.2.0",
            "_view_name": "StyleView",
            "description_width": ""
          }
        },
        "697eb3c1c5b84681a2ad712d9eb7b41f": {
          "model_module": "@jupyter-widgets/controls",
          "model_name": "HBoxModel",
          "model_module_version": "1.5.0",
          "state": {
            "_dom_classes": [],
            "_model_module": "@jupyter-widgets/controls",
            "_model_module_version": "1.5.0",
            "_model_name": "HBoxModel",
            "_view_count": null,
            "_view_module": "@jupyter-widgets/controls",
            "_view_module_version": "1.5.0",
            "_view_name": "HBoxView",
            "box_style": "",
            "children": [
              "IPY_MODEL_3bc96b75aa974635975179889ca9fbba",
              "IPY_MODEL_47dce78f418b4c4fb66bdddfc2e56989",
              "IPY_MODEL_7918c4b71bab41d1898cbb62b03d5cf3"
            ],
            "layout": "IPY_MODEL_4f67ed3c2a4543688e19d7f8d8036c74"
          }
        },
        "3bc96b75aa974635975179889ca9fbba": {
          "model_module": "@jupyter-widgets/controls",
          "model_name": "HTMLModel",
          "model_module_version": "1.5.0",
          "state": {
            "_dom_classes": [],
            "_model_module": "@jupyter-widgets/controls",
            "_model_module_version": "1.5.0",
            "_model_name": "HTMLModel",
            "_view_count": null,
            "_view_module": "@jupyter-widgets/controls",
            "_view_module_version": "1.5.0",
            "_view_name": "HTMLView",
            "description": "",
            "description_tooltip": null,
            "layout": "IPY_MODEL_195578e0694a4a139343004b9aa83b2a",
            "placeholder": "​",
            "style": "IPY_MODEL_f8f338e07f8f41a5ac433dea61ae093a",
            "value": "tokenizer.json: 100%"
          }
        },
        "47dce78f418b4c4fb66bdddfc2e56989": {
          "model_module": "@jupyter-widgets/controls",
          "model_name": "FloatProgressModel",
          "model_module_version": "1.5.0",
          "state": {
            "_dom_classes": [],
            "_model_module": "@jupyter-widgets/controls",
            "_model_module_version": "1.5.0",
            "_model_name": "FloatProgressModel",
            "_view_count": null,
            "_view_module": "@jupyter-widgets/controls",
            "_view_module_version": "1.5.0",
            "_view_name": "ProgressView",
            "bar_style": "success",
            "description": "",
            "description_tooltip": null,
            "layout": "IPY_MODEL_fb3fc98c29b741a082865f8b8ddd4884",
            "max": 495027,
            "min": 0,
            "orientation": "horizontal",
            "style": "IPY_MODEL_35a85b6eb87e45c99f008a94dcc2b004",
            "value": 495027
          }
        },
        "7918c4b71bab41d1898cbb62b03d5cf3": {
          "model_module": "@jupyter-widgets/controls",
          "model_name": "HTMLModel",
          "model_module_version": "1.5.0",
          "state": {
            "_dom_classes": [],
            "_model_module": "@jupyter-widgets/controls",
            "_model_module_version": "1.5.0",
            "_model_name": "HTMLModel",
            "_view_count": null,
            "_view_module": "@jupyter-widgets/controls",
            "_view_module_version": "1.5.0",
            "_view_name": "HTMLView",
            "description": "",
            "description_tooltip": null,
            "layout": "IPY_MODEL_c637e70b55d44f24a21f284cf2539628",
            "placeholder": "​",
            "style": "IPY_MODEL_92a3956813a84cd880fc27f3951bd1dc",
            "value": " 495k/495k [00:00&lt;00:00, 6.65MB/s]"
          }
        },
        "4f67ed3c2a4543688e19d7f8d8036c74": {
          "model_module": "@jupyter-widgets/base",
          "model_name": "LayoutModel",
          "model_module_version": "1.2.0",
          "state": {
            "_model_module": "@jupyter-widgets/base",
            "_model_module_version": "1.2.0",
            "_model_name": "LayoutModel",
            "_view_count": null,
            "_view_module": "@jupyter-widgets/base",
            "_view_module_version": "1.2.0",
            "_view_name": "LayoutView",
            "align_content": null,
            "align_items": null,
            "align_self": null,
            "border": null,
            "bottom": null,
            "display": null,
            "flex": null,
            "flex_flow": null,
            "grid_area": null,
            "grid_auto_columns": null,
            "grid_auto_flow": null,
            "grid_auto_rows": null,
            "grid_column": null,
            "grid_gap": null,
            "grid_row": null,
            "grid_template_areas": null,
            "grid_template_columns": null,
            "grid_template_rows": null,
            "height": null,
            "justify_content": null,
            "justify_items": null,
            "left": null,
            "margin": null,
            "max_height": null,
            "max_width": null,
            "min_height": null,
            "min_width": null,
            "object_fit": null,
            "object_position": null,
            "order": null,
            "overflow": null,
            "overflow_x": null,
            "overflow_y": null,
            "padding": null,
            "right": null,
            "top": null,
            "visibility": null,
            "width": null
          }
        },
        "195578e0694a4a139343004b9aa83b2a": {
          "model_module": "@jupyter-widgets/base",
          "model_name": "LayoutModel",
          "model_module_version": "1.2.0",
          "state": {
            "_model_module": "@jupyter-widgets/base",
            "_model_module_version": "1.2.0",
            "_model_name": "LayoutModel",
            "_view_count": null,
            "_view_module": "@jupyter-widgets/base",
            "_view_module_version": "1.2.0",
            "_view_name": "LayoutView",
            "align_content": null,
            "align_items": null,
            "align_self": null,
            "border": null,
            "bottom": null,
            "display": null,
            "flex": null,
            "flex_flow": null,
            "grid_area": null,
            "grid_auto_columns": null,
            "grid_auto_flow": null,
            "grid_auto_rows": null,
            "grid_column": null,
            "grid_gap": null,
            "grid_row": null,
            "grid_template_areas": null,
            "grid_template_columns": null,
            "grid_template_rows": null,
            "height": null,
            "justify_content": null,
            "justify_items": null,
            "left": null,
            "margin": null,
            "max_height": null,
            "max_width": null,
            "min_height": null,
            "min_width": null,
            "object_fit": null,
            "object_position": null,
            "order": null,
            "overflow": null,
            "overflow_x": null,
            "overflow_y": null,
            "padding": null,
            "right": null,
            "top": null,
            "visibility": null,
            "width": null
          }
        },
        "f8f338e07f8f41a5ac433dea61ae093a": {
          "model_module": "@jupyter-widgets/controls",
          "model_name": "DescriptionStyleModel",
          "model_module_version": "1.5.0",
          "state": {
            "_model_module": "@jupyter-widgets/controls",
            "_model_module_version": "1.5.0",
            "_model_name": "DescriptionStyleModel",
            "_view_count": null,
            "_view_module": "@jupyter-widgets/base",
            "_view_module_version": "1.2.0",
            "_view_name": "StyleView",
            "description_width": ""
          }
        },
        "fb3fc98c29b741a082865f8b8ddd4884": {
          "model_module": "@jupyter-widgets/base",
          "model_name": "LayoutModel",
          "model_module_version": "1.2.0",
          "state": {
            "_model_module": "@jupyter-widgets/base",
            "_model_module_version": "1.2.0",
            "_model_name": "LayoutModel",
            "_view_count": null,
            "_view_module": "@jupyter-widgets/base",
            "_view_module_version": "1.2.0",
            "_view_name": "LayoutView",
            "align_content": null,
            "align_items": null,
            "align_self": null,
            "border": null,
            "bottom": null,
            "display": null,
            "flex": null,
            "flex_flow": null,
            "grid_area": null,
            "grid_auto_columns": null,
            "grid_auto_flow": null,
            "grid_auto_rows": null,
            "grid_column": null,
            "grid_gap": null,
            "grid_row": null,
            "grid_template_areas": null,
            "grid_template_columns": null,
            "grid_template_rows": null,
            "height": null,
            "justify_content": null,
            "justify_items": null,
            "left": null,
            "margin": null,
            "max_height": null,
            "max_width": null,
            "min_height": null,
            "min_width": null,
            "object_fit": null,
            "object_position": null,
            "order": null,
            "overflow": null,
            "overflow_x": null,
            "overflow_y": null,
            "padding": null,
            "right": null,
            "top": null,
            "visibility": null,
            "width": null
          }
        },
        "35a85b6eb87e45c99f008a94dcc2b004": {
          "model_module": "@jupyter-widgets/controls",
          "model_name": "ProgressStyleModel",
          "model_module_version": "1.5.0",
          "state": {
            "_model_module": "@jupyter-widgets/controls",
            "_model_module_version": "1.5.0",
            "_model_name": "ProgressStyleModel",
            "_view_count": null,
            "_view_module": "@jupyter-widgets/base",
            "_view_module_version": "1.2.0",
            "_view_name": "StyleView",
            "bar_color": null,
            "description_width": ""
          }
        },
        "c637e70b55d44f24a21f284cf2539628": {
          "model_module": "@jupyter-widgets/base",
          "model_name": "LayoutModel",
          "model_module_version": "1.2.0",
          "state": {
            "_model_module": "@jupyter-widgets/base",
            "_model_module_version": "1.2.0",
            "_model_name": "LayoutModel",
            "_view_count": null,
            "_view_module": "@jupyter-widgets/base",
            "_view_module_version": "1.2.0",
            "_view_name": "LayoutView",
            "align_content": null,
            "align_items": null,
            "align_self": null,
            "border": null,
            "bottom": null,
            "display": null,
            "flex": null,
            "flex_flow": null,
            "grid_area": null,
            "grid_auto_columns": null,
            "grid_auto_flow": null,
            "grid_auto_rows": null,
            "grid_column": null,
            "grid_gap": null,
            "grid_row": null,
            "grid_template_areas": null,
            "grid_template_columns": null,
            "grid_template_rows": null,
            "height": null,
            "justify_content": null,
            "justify_items": null,
            "left": null,
            "margin": null,
            "max_height": null,
            "max_width": null,
            "min_height": null,
            "min_width": null,
            "object_fit": null,
            "object_position": null,
            "order": null,
            "overflow": null,
            "overflow_x": null,
            "overflow_y": null,
            "padding": null,
            "right": null,
            "top": null,
            "visibility": null,
            "width": null
          }
        },
        "92a3956813a84cd880fc27f3951bd1dc": {
          "model_module": "@jupyter-widgets/controls",
          "model_name": "DescriptionStyleModel",
          "model_module_version": "1.5.0",
          "state": {
            "_model_module": "@jupyter-widgets/controls",
            "_model_module_version": "1.5.0",
            "_model_name": "DescriptionStyleModel",
            "_view_count": null,
            "_view_module": "@jupyter-widgets/base",
            "_view_module_version": "1.2.0",
            "_view_name": "StyleView",
            "description_width": ""
          }
        },
        "26ea127987aa4bf18f96761d232435dd": {
          "model_module": "@jupyter-widgets/controls",
          "model_name": "HBoxModel",
          "model_module_version": "1.5.0",
          "state": {
            "_dom_classes": [],
            "_model_module": "@jupyter-widgets/controls",
            "_model_module_version": "1.5.0",
            "_model_name": "HBoxModel",
            "_view_count": null,
            "_view_module": "@jupyter-widgets/controls",
            "_view_module_version": "1.5.0",
            "_view_name": "HBoxView",
            "box_style": "",
            "children": [
              "IPY_MODEL_bf7b581fa0a542ebb029b2577f5cd693",
              "IPY_MODEL_73a3149a68f34bd68ea1d5971ea8c5f3",
              "IPY_MODEL_726f5360dd414a3c97c76ce9be6ebddf"
            ],
            "layout": "IPY_MODEL_9970361b34544fda849227fecc928514"
          }
        },
        "bf7b581fa0a542ebb029b2577f5cd693": {
          "model_module": "@jupyter-widgets/controls",
          "model_name": "HTMLModel",
          "model_module_version": "1.5.0",
          "state": {
            "_dom_classes": [],
            "_model_module": "@jupyter-widgets/controls",
            "_model_module_version": "1.5.0",
            "_model_name": "HTMLModel",
            "_view_count": null,
            "_view_module": "@jupyter-widgets/controls",
            "_view_module_version": "1.5.0",
            "_view_name": "HTMLView",
            "description": "",
            "description_tooltip": null,
            "layout": "IPY_MODEL_11b6b5a371244f079d2576276e0c246e",
            "placeholder": "​",
            "style": "IPY_MODEL_bffb92e896c24b81bfe3b2a43858a7de",
            "value": "special_tokens_map.json: 100%"
          }
        },
        "73a3149a68f34bd68ea1d5971ea8c5f3": {
          "model_module": "@jupyter-widgets/controls",
          "model_name": "FloatProgressModel",
          "model_module_version": "1.5.0",
          "state": {
            "_dom_classes": [],
            "_model_module": "@jupyter-widgets/controls",
            "_model_module_version": "1.5.0",
            "_model_name": "FloatProgressModel",
            "_view_count": null,
            "_view_module": "@jupyter-widgets/controls",
            "_view_module_version": "1.5.0",
            "_view_name": "ProgressView",
            "bar_style": "success",
            "description": "",
            "description_tooltip": null,
            "layout": "IPY_MODEL_9199f105046a472f802c74c30f210a29",
            "max": 156,
            "min": 0,
            "orientation": "horizontal",
            "style": "IPY_MODEL_5d764d9986344f4ba5ec790ea6190753",
            "value": 156
          }
        },
        "726f5360dd414a3c97c76ce9be6ebddf": {
          "model_module": "@jupyter-widgets/controls",
          "model_name": "HTMLModel",
          "model_module_version": "1.5.0",
          "state": {
            "_dom_classes": [],
            "_model_module": "@jupyter-widgets/controls",
            "_model_module_version": "1.5.0",
            "_model_name": "HTMLModel",
            "_view_count": null,
            "_view_module": "@jupyter-widgets/controls",
            "_view_module_version": "1.5.0",
            "_view_name": "HTMLView",
            "description": "",
            "description_tooltip": null,
            "layout": "IPY_MODEL_85d09c7fccd04cb7a23fa50905eb1d07",
            "placeholder": "​",
            "style": "IPY_MODEL_8728d0a09e8f41fb850e3c6917beeb43",
            "value": " 156/156 [00:00&lt;00:00, 6.49kB/s]"
          }
        },
        "9970361b34544fda849227fecc928514": {
          "model_module": "@jupyter-widgets/base",
          "model_name": "LayoutModel",
          "model_module_version": "1.2.0",
          "state": {
            "_model_module": "@jupyter-widgets/base",
            "_model_module_version": "1.2.0",
            "_model_name": "LayoutModel",
            "_view_count": null,
            "_view_module": "@jupyter-widgets/base",
            "_view_module_version": "1.2.0",
            "_view_name": "LayoutView",
            "align_content": null,
            "align_items": null,
            "align_self": null,
            "border": null,
            "bottom": null,
            "display": null,
            "flex": null,
            "flex_flow": null,
            "grid_area": null,
            "grid_auto_columns": null,
            "grid_auto_flow": null,
            "grid_auto_rows": null,
            "grid_column": null,
            "grid_gap": null,
            "grid_row": null,
            "grid_template_areas": null,
            "grid_template_columns": null,
            "grid_template_rows": null,
            "height": null,
            "justify_content": null,
            "justify_items": null,
            "left": null,
            "margin": null,
            "max_height": null,
            "max_width": null,
            "min_height": null,
            "min_width": null,
            "object_fit": null,
            "object_position": null,
            "order": null,
            "overflow": null,
            "overflow_x": null,
            "overflow_y": null,
            "padding": null,
            "right": null,
            "top": null,
            "visibility": null,
            "width": null
          }
        },
        "11b6b5a371244f079d2576276e0c246e": {
          "model_module": "@jupyter-widgets/base",
          "model_name": "LayoutModel",
          "model_module_version": "1.2.0",
          "state": {
            "_model_module": "@jupyter-widgets/base",
            "_model_module_version": "1.2.0",
            "_model_name": "LayoutModel",
            "_view_count": null,
            "_view_module": "@jupyter-widgets/base",
            "_view_module_version": "1.2.0",
            "_view_name": "LayoutView",
            "align_content": null,
            "align_items": null,
            "align_self": null,
            "border": null,
            "bottom": null,
            "display": null,
            "flex": null,
            "flex_flow": null,
            "grid_area": null,
            "grid_auto_columns": null,
            "grid_auto_flow": null,
            "grid_auto_rows": null,
            "grid_column": null,
            "grid_gap": null,
            "grid_row": null,
            "grid_template_areas": null,
            "grid_template_columns": null,
            "grid_template_rows": null,
            "height": null,
            "justify_content": null,
            "justify_items": null,
            "left": null,
            "margin": null,
            "max_height": null,
            "max_width": null,
            "min_height": null,
            "min_width": null,
            "object_fit": null,
            "object_position": null,
            "order": null,
            "overflow": null,
            "overflow_x": null,
            "overflow_y": null,
            "padding": null,
            "right": null,
            "top": null,
            "visibility": null,
            "width": null
          }
        },
        "bffb92e896c24b81bfe3b2a43858a7de": {
          "model_module": "@jupyter-widgets/controls",
          "model_name": "DescriptionStyleModel",
          "model_module_version": "1.5.0",
          "state": {
            "_model_module": "@jupyter-widgets/controls",
            "_model_module_version": "1.5.0",
            "_model_name": "DescriptionStyleModel",
            "_view_count": null,
            "_view_module": "@jupyter-widgets/base",
            "_view_module_version": "1.2.0",
            "_view_name": "StyleView",
            "description_width": ""
          }
        },
        "9199f105046a472f802c74c30f210a29": {
          "model_module": "@jupyter-widgets/base",
          "model_name": "LayoutModel",
          "model_module_version": "1.2.0",
          "state": {
            "_model_module": "@jupyter-widgets/base",
            "_model_module_version": "1.2.0",
            "_model_name": "LayoutModel",
            "_view_count": null,
            "_view_module": "@jupyter-widgets/base",
            "_view_module_version": "1.2.0",
            "_view_name": "LayoutView",
            "align_content": null,
            "align_items": null,
            "align_self": null,
            "border": null,
            "bottom": null,
            "display": null,
            "flex": null,
            "flex_flow": null,
            "grid_area": null,
            "grid_auto_columns": null,
            "grid_auto_flow": null,
            "grid_auto_rows": null,
            "grid_column": null,
            "grid_gap": null,
            "grid_row": null,
            "grid_template_areas": null,
            "grid_template_columns": null,
            "grid_template_rows": null,
            "height": null,
            "justify_content": null,
            "justify_items": null,
            "left": null,
            "margin": null,
            "max_height": null,
            "max_width": null,
            "min_height": null,
            "min_width": null,
            "object_fit": null,
            "object_position": null,
            "order": null,
            "overflow": null,
            "overflow_x": null,
            "overflow_y": null,
            "padding": null,
            "right": null,
            "top": null,
            "visibility": null,
            "width": null
          }
        },
        "5d764d9986344f4ba5ec790ea6190753": {
          "model_module": "@jupyter-widgets/controls",
          "model_name": "ProgressStyleModel",
          "model_module_version": "1.5.0",
          "state": {
            "_model_module": "@jupyter-widgets/controls",
            "_model_module_version": "1.5.0",
            "_model_name": "ProgressStyleModel",
            "_view_count": null,
            "_view_module": "@jupyter-widgets/base",
            "_view_module_version": "1.2.0",
            "_view_name": "StyleView",
            "bar_color": null,
            "description_width": ""
          }
        },
        "85d09c7fccd04cb7a23fa50905eb1d07": {
          "model_module": "@jupyter-widgets/base",
          "model_name": "LayoutModel",
          "model_module_version": "1.2.0",
          "state": {
            "_model_module": "@jupyter-widgets/base",
            "_model_module_version": "1.2.0",
            "_model_name": "LayoutModel",
            "_view_count": null,
            "_view_module": "@jupyter-widgets/base",
            "_view_module_version": "1.2.0",
            "_view_name": "LayoutView",
            "align_content": null,
            "align_items": null,
            "align_self": null,
            "border": null,
            "bottom": null,
            "display": null,
            "flex": null,
            "flex_flow": null,
            "grid_area": null,
            "grid_auto_columns": null,
            "grid_auto_flow": null,
            "grid_auto_rows": null,
            "grid_column": null,
            "grid_gap": null,
            "grid_row": null,
            "grid_template_areas": null,
            "grid_template_columns": null,
            "grid_template_rows": null,
            "height": null,
            "justify_content": null,
            "justify_items": null,
            "left": null,
            "margin": null,
            "max_height": null,
            "max_width": null,
            "min_height": null,
            "min_width": null,
            "object_fit": null,
            "object_position": null,
            "order": null,
            "overflow": null,
            "overflow_x": null,
            "overflow_y": null,
            "padding": null,
            "right": null,
            "top": null,
            "visibility": null,
            "width": null
          }
        },
        "8728d0a09e8f41fb850e3c6917beeb43": {
          "model_module": "@jupyter-widgets/controls",
          "model_name": "DescriptionStyleModel",
          "model_module_version": "1.5.0",
          "state": {
            "_model_module": "@jupyter-widgets/controls",
            "_model_module_version": "1.5.0",
            "_model_name": "DescriptionStyleModel",
            "_view_count": null,
            "_view_module": "@jupyter-widgets/base",
            "_view_module_version": "1.2.0",
            "_view_name": "StyleView",
            "description_width": ""
          }
        },
        "edadb7bef9914ab2badb2a2b472b0372": {
          "model_module": "@jupyter-widgets/controls",
          "model_name": "HBoxModel",
          "model_module_version": "1.5.0",
          "state": {
            "_dom_classes": [],
            "_model_module": "@jupyter-widgets/controls",
            "_model_module_version": "1.5.0",
            "_model_name": "HBoxModel",
            "_view_count": null,
            "_view_module": "@jupyter-widgets/controls",
            "_view_module_version": "1.5.0",
            "_view_name": "HBoxView",
            "box_style": "",
            "children": [
              "IPY_MODEL_8d2e1d8c0546406bb999f0bc5eec4e4a",
              "IPY_MODEL_e1c017accc4e4c5d9b505a4eca957a79",
              "IPY_MODEL_a6051d58ee6341cc8653e0a289925a6d"
            ],
            "layout": "IPY_MODEL_fbcffddd826d4e2ca800e20790d0d89e"
          }
        },
        "8d2e1d8c0546406bb999f0bc5eec4e4a": {
          "model_module": "@jupyter-widgets/controls",
          "model_name": "HTMLModel",
          "model_module_version": "1.5.0",
          "state": {
            "_dom_classes": [],
            "_model_module": "@jupyter-widgets/controls",
            "_model_module_version": "1.5.0",
            "_model_name": "HTMLModel",
            "_view_count": null,
            "_view_module": "@jupyter-widgets/controls",
            "_view_module_version": "1.5.0",
            "_view_name": "HTMLView",
            "description": "",
            "description_tooltip": null,
            "layout": "IPY_MODEL_99564b3fe71d40da88a472a44ccbbe22",
            "placeholder": "​",
            "style": "IPY_MODEL_eb5dde96b9ea49a18835de90d51e086f",
            "value": "1_Pooling/config.json: 100%"
          }
        },
        "e1c017accc4e4c5d9b505a4eca957a79": {
          "model_module": "@jupyter-widgets/controls",
          "model_name": "FloatProgressModel",
          "model_module_version": "1.5.0",
          "state": {
            "_dom_classes": [],
            "_model_module": "@jupyter-widgets/controls",
            "_model_module_version": "1.5.0",
            "_model_name": "FloatProgressModel",
            "_view_count": null,
            "_view_module": "@jupyter-widgets/controls",
            "_view_module_version": "1.5.0",
            "_view_name": "ProgressView",
            "bar_style": "success",
            "description": "",
            "description_tooltip": null,
            "layout": "IPY_MODEL_596838de5cd24d6e96df61ec1269d3bd",
            "max": 190,
            "min": 0,
            "orientation": "horizontal",
            "style": "IPY_MODEL_9cebca20d5714b35984f734b2212b245",
            "value": 190
          }
        },
        "a6051d58ee6341cc8653e0a289925a6d": {
          "model_module": "@jupyter-widgets/controls",
          "model_name": "HTMLModel",
          "model_module_version": "1.5.0",
          "state": {
            "_dom_classes": [],
            "_model_module": "@jupyter-widgets/controls",
            "_model_module_version": "1.5.0",
            "_model_name": "HTMLModel",
            "_view_count": null,
            "_view_module": "@jupyter-widgets/controls",
            "_view_module_version": "1.5.0",
            "_view_name": "HTMLView",
            "description": "",
            "description_tooltip": null,
            "layout": "IPY_MODEL_0294b048cce041b5bcccca87b1262a01",
            "placeholder": "​",
            "style": "IPY_MODEL_2fa477581fe14ec0804683e122fde102",
            "value": " 190/190 [00:00&lt;00:00, 10.7kB/s]"
          }
        },
        "fbcffddd826d4e2ca800e20790d0d89e": {
          "model_module": "@jupyter-widgets/base",
          "model_name": "LayoutModel",
          "model_module_version": "1.2.0",
          "state": {
            "_model_module": "@jupyter-widgets/base",
            "_model_module_version": "1.2.0",
            "_model_name": "LayoutModel",
            "_view_count": null,
            "_view_module": "@jupyter-widgets/base",
            "_view_module_version": "1.2.0",
            "_view_name": "LayoutView",
            "align_content": null,
            "align_items": null,
            "align_self": null,
            "border": null,
            "bottom": null,
            "display": null,
            "flex": null,
            "flex_flow": null,
            "grid_area": null,
            "grid_auto_columns": null,
            "grid_auto_flow": null,
            "grid_auto_rows": null,
            "grid_column": null,
            "grid_gap": null,
            "grid_row": null,
            "grid_template_areas": null,
            "grid_template_columns": null,
            "grid_template_rows": null,
            "height": null,
            "justify_content": null,
            "justify_items": null,
            "left": null,
            "margin": null,
            "max_height": null,
            "max_width": null,
            "min_height": null,
            "min_width": null,
            "object_fit": null,
            "object_position": null,
            "order": null,
            "overflow": null,
            "overflow_x": null,
            "overflow_y": null,
            "padding": null,
            "right": null,
            "top": null,
            "visibility": null,
            "width": null
          }
        },
        "99564b3fe71d40da88a472a44ccbbe22": {
          "model_module": "@jupyter-widgets/base",
          "model_name": "LayoutModel",
          "model_module_version": "1.2.0",
          "state": {
            "_model_module": "@jupyter-widgets/base",
            "_model_module_version": "1.2.0",
            "_model_name": "LayoutModel",
            "_view_count": null,
            "_view_module": "@jupyter-widgets/base",
            "_view_module_version": "1.2.0",
            "_view_name": "LayoutView",
            "align_content": null,
            "align_items": null,
            "align_self": null,
            "border": null,
            "bottom": null,
            "display": null,
            "flex": null,
            "flex_flow": null,
            "grid_area": null,
            "grid_auto_columns": null,
            "grid_auto_flow": null,
            "grid_auto_rows": null,
            "grid_column": null,
            "grid_gap": null,
            "grid_row": null,
            "grid_template_areas": null,
            "grid_template_columns": null,
            "grid_template_rows": null,
            "height": null,
            "justify_content": null,
            "justify_items": null,
            "left": null,
            "margin": null,
            "max_height": null,
            "max_width": null,
            "min_height": null,
            "min_width": null,
            "object_fit": null,
            "object_position": null,
            "order": null,
            "overflow": null,
            "overflow_x": null,
            "overflow_y": null,
            "padding": null,
            "right": null,
            "top": null,
            "visibility": null,
            "width": null
          }
        },
        "eb5dde96b9ea49a18835de90d51e086f": {
          "model_module": "@jupyter-widgets/controls",
          "model_name": "DescriptionStyleModel",
          "model_module_version": "1.5.0",
          "state": {
            "_model_module": "@jupyter-widgets/controls",
            "_model_module_version": "1.5.0",
            "_model_name": "DescriptionStyleModel",
            "_view_count": null,
            "_view_module": "@jupyter-widgets/base",
            "_view_module_version": "1.2.0",
            "_view_name": "StyleView",
            "description_width": ""
          }
        },
        "596838de5cd24d6e96df61ec1269d3bd": {
          "model_module": "@jupyter-widgets/base",
          "model_name": "LayoutModel",
          "model_module_version": "1.2.0",
          "state": {
            "_model_module": "@jupyter-widgets/base",
            "_model_module_version": "1.2.0",
            "_model_name": "LayoutModel",
            "_view_count": null,
            "_view_module": "@jupyter-widgets/base",
            "_view_module_version": "1.2.0",
            "_view_name": "LayoutView",
            "align_content": null,
            "align_items": null,
            "align_self": null,
            "border": null,
            "bottom": null,
            "display": null,
            "flex": null,
            "flex_flow": null,
            "grid_area": null,
            "grid_auto_columns": null,
            "grid_auto_flow": null,
            "grid_auto_rows": null,
            "grid_column": null,
            "grid_gap": null,
            "grid_row": null,
            "grid_template_areas": null,
            "grid_template_columns": null,
            "grid_template_rows": null,
            "height": null,
            "justify_content": null,
            "justify_items": null,
            "left": null,
            "margin": null,
            "max_height": null,
            "max_width": null,
            "min_height": null,
            "min_width": null,
            "object_fit": null,
            "object_position": null,
            "order": null,
            "overflow": null,
            "overflow_x": null,
            "overflow_y": null,
            "padding": null,
            "right": null,
            "top": null,
            "visibility": null,
            "width": null
          }
        },
        "9cebca20d5714b35984f734b2212b245": {
          "model_module": "@jupyter-widgets/controls",
          "model_name": "ProgressStyleModel",
          "model_module_version": "1.5.0",
          "state": {
            "_model_module": "@jupyter-widgets/controls",
            "_model_module_version": "1.5.0",
            "_model_name": "ProgressStyleModel",
            "_view_count": null,
            "_view_module": "@jupyter-widgets/base",
            "_view_module_version": "1.2.0",
            "_view_name": "StyleView",
            "bar_color": null,
            "description_width": ""
          }
        },
        "0294b048cce041b5bcccca87b1262a01": {
          "model_module": "@jupyter-widgets/base",
          "model_name": "LayoutModel",
          "model_module_version": "1.2.0",
          "state": {
            "_model_module": "@jupyter-widgets/base",
            "_model_module_version": "1.2.0",
            "_model_name": "LayoutModel",
            "_view_count": null,
            "_view_module": "@jupyter-widgets/base",
            "_view_module_version": "1.2.0",
            "_view_name": "LayoutView",
            "align_content": null,
            "align_items": null,
            "align_self": null,
            "border": null,
            "bottom": null,
            "display": null,
            "flex": null,
            "flex_flow": null,
            "grid_area": null,
            "grid_auto_columns": null,
            "grid_auto_flow": null,
            "grid_auto_rows": null,
            "grid_column": null,
            "grid_gap": null,
            "grid_row": null,
            "grid_template_areas": null,
            "grid_template_columns": null,
            "grid_template_rows": null,
            "height": null,
            "justify_content": null,
            "justify_items": null,
            "left": null,
            "margin": null,
            "max_height": null,
            "max_width": null,
            "min_height": null,
            "min_width": null,
            "object_fit": null,
            "object_position": null,
            "order": null,
            "overflow": null,
            "overflow_x": null,
            "overflow_y": null,
            "padding": null,
            "right": null,
            "top": null,
            "visibility": null,
            "width": null
          }
        },
        "2fa477581fe14ec0804683e122fde102": {
          "model_module": "@jupyter-widgets/controls",
          "model_name": "DescriptionStyleModel",
          "model_module_version": "1.5.0",
          "state": {
            "_model_module": "@jupyter-widgets/controls",
            "_model_module_version": "1.5.0",
            "_model_name": "DescriptionStyleModel",
            "_view_count": null,
            "_view_module": "@jupyter-widgets/base",
            "_view_module_version": "1.2.0",
            "_view_name": "StyleView",
            "description_width": ""
          }
        }
      }
    }
  },
  "cells": [
    {
      "cell_type": "markdown",
      "metadata": {
        "id": "view-in-github",
        "colab_type": "text"
      },
      "source": [
        "<a href=\"https://colab.research.google.com/github/bluebird702/study/blob/main/langchain_study.ipynb\" target=\"_parent\"><img src=\"https://colab.research.google.com/assets/colab-badge.svg\" alt=\"Open In Colab\"/></a>"
      ]
    },
    {
      "cell_type": "code",
      "execution_count": null,
      "metadata": {
        "id": "zYaGRdqvdguf"
      },
      "outputs": [],
      "source": []
    },
    {
      "cell_type": "markdown",
      "source": [
        "이 문서는 langchain study를 하면서 정리한 노트입니다."
      ],
      "metadata": {
        "id": "xtL86y2zesDg"
      }
    },
    {
      "cell_type": "markdown",
      "source": [
        "# 실습 준비\n",
        "colab에서 예제를 실행할 것이므로 Google AI Studio에 계정을 등록하고 Key를 얻는다. 자세한 내용은 다음 문서를 참고한다.\n",
        "\n",
        "[Gemini Key 발급받아오기](https://colab.research.google.com/github/google/generative-ai-docs/blob/main/site/en/tutorials/python_quickstart.ipynb#scrollTo=gHYFrFPjSGNq)\n",
        "\n",
        "\n",
        "\n"
      ],
      "metadata": {
        "id": "ftQ7pupUexag"
      }
    },
    {
      "cell_type": "markdown",
      "source": [
        "## 환경 테스트\n",
        "다음과 같이 테스트해보자. 공식 문서에 있는 내용을 그대로 테스트해본다.\n",
        "\n",
        "[문서 링크](https://colab.research.google.com/github/google/generative-ai-docs/blob/main/site/en/tutorials/python_quickstart.ipynb#scrollTo=FFPBKLapSCkM)"
      ],
      "metadata": {
        "id": "W8ayGNYqGu3T"
      }
    },
    {
      "cell_type": "code",
      "source": [
        "# google python sdk 설치\n",
        "!pip install -q -U google-generativeai"
      ],
      "metadata": {
        "id": "dAfnE_mYG92a"
      },
      "execution_count": null,
      "outputs": []
    },
    {
      "cell_type": "code",
      "source": [
        "# 왼쪽의 열쇠 버튼에 GOOGLE_API_KEY를 등록한다음에 다음 코드를 돌려서 라이브러리를 초기화\n",
        "from google.colab import userdata\n",
        "import google.generativeai as genai\n",
        "\n",
        "GOOGLE_API_KEY=userdata.get('GOOGLE_API_KEY')\n",
        "\n",
        "genai.configure(api_key=GOOGLE_API_KEY)\n",
        "\n",
        "for m in genai.list_models():\n",
        "  if 'generateContent' in m.supported_generation_methods:\n",
        "    display(m.name) # colab에서는 print 말고 display를 써야 wrapping된 결과를 얻을 수 있다.\n"
      ],
      "metadata": {
        "outputId": "e906fb62-2101-4a7d-f42a-c425d5a861c2",
        "colab": {
          "base_uri": "https://localhost:8080/"
        },
        "id": "RyF5Vos9G92l"
      },
      "execution_count": null,
      "outputs": [
        {
          "output_type": "display_data",
          "data": {
            "text/plain": [
              "'models/gemini-1.0-pro'"
            ],
            "application/vnd.google.colaboratory.intrinsic+json": {
              "type": "string"
            }
          },
          "metadata": {}
        },
        {
          "output_type": "display_data",
          "data": {
            "text/plain": [
              "'models/gemini-1.0-pro-001'"
            ],
            "application/vnd.google.colaboratory.intrinsic+json": {
              "type": "string"
            }
          },
          "metadata": {}
        },
        {
          "output_type": "display_data",
          "data": {
            "text/plain": [
              "'models/gemini-1.0-pro-latest'"
            ],
            "application/vnd.google.colaboratory.intrinsic+json": {
              "type": "string"
            }
          },
          "metadata": {}
        },
        {
          "output_type": "display_data",
          "data": {
            "text/plain": [
              "'models/gemini-1.0-pro-vision-latest'"
            ],
            "application/vnd.google.colaboratory.intrinsic+json": {
              "type": "string"
            }
          },
          "metadata": {}
        },
        {
          "output_type": "display_data",
          "data": {
            "text/plain": [
              "'models/gemini-1.5-flash'"
            ],
            "application/vnd.google.colaboratory.intrinsic+json": {
              "type": "string"
            }
          },
          "metadata": {}
        },
        {
          "output_type": "display_data",
          "data": {
            "text/plain": [
              "'models/gemini-1.5-flash-001'"
            ],
            "application/vnd.google.colaboratory.intrinsic+json": {
              "type": "string"
            }
          },
          "metadata": {}
        },
        {
          "output_type": "display_data",
          "data": {
            "text/plain": [
              "'models/gemini-1.5-flash-latest'"
            ],
            "application/vnd.google.colaboratory.intrinsic+json": {
              "type": "string"
            }
          },
          "metadata": {}
        },
        {
          "output_type": "display_data",
          "data": {
            "text/plain": [
              "'models/gemini-1.5-pro'"
            ],
            "application/vnd.google.colaboratory.intrinsic+json": {
              "type": "string"
            }
          },
          "metadata": {}
        },
        {
          "output_type": "display_data",
          "data": {
            "text/plain": [
              "'models/gemini-1.5-pro-001'"
            ],
            "application/vnd.google.colaboratory.intrinsic+json": {
              "type": "string"
            }
          },
          "metadata": {}
        },
        {
          "output_type": "display_data",
          "data": {
            "text/plain": [
              "'models/gemini-1.5-pro-latest'"
            ],
            "application/vnd.google.colaboratory.intrinsic+json": {
              "type": "string"
            }
          },
          "metadata": {}
        },
        {
          "output_type": "display_data",
          "data": {
            "text/plain": [
              "'models/gemini-pro'"
            ],
            "application/vnd.google.colaboratory.intrinsic+json": {
              "type": "string"
            }
          },
          "metadata": {}
        },
        {
          "output_type": "display_data",
          "data": {
            "text/plain": [
              "'models/gemini-pro-vision'"
            ],
            "application/vnd.google.colaboratory.intrinsic+json": {
              "type": "string"
            }
          },
          "metadata": {}
        }
      ]
    },
    {
      "cell_type": "code",
      "source": [
        "# 다음의 코드를 테스트해보자\n",
        "import pathlib\n",
        "import textwrap\n",
        "\n",
        "from IPython.display import display\n",
        "from IPython.display import Markdown\n",
        "\n",
        "def to_markdown(text):\n",
        "  text = text.replace('•', '  *')\n",
        "  return Markdown(textwrap.indent(text, '> ', predicate=lambda _: True))"
      ],
      "metadata": {
        "id": "WFCoRUJ8G92m"
      },
      "execution_count": null,
      "outputs": []
    },
    {
      "cell_type": "code",
      "source": [
        "# gemini-pro를 일단 사용해본다.\n",
        "model = genai.GenerativeModel('gemini-pro')"
      ],
      "metadata": {
        "id": "K1lpSM2VG92m"
      },
      "execution_count": null,
      "outputs": []
    },
    {
      "cell_type": "code",
      "source": [
        "# %%time은 맨 첫줄에서만 동작함. 그래서 코드셀을 나눴음.\n",
        "%%time\n",
        "response = model.generate_content(\"삶의 의미가 멀까?\")\n",
        "to_markdown(response.text)"
      ],
      "metadata": {
        "outputId": "c6359b89-c88e-4828-dbf5-8cef9b0ab9eb",
        "colab": {
          "base_uri": "https://localhost:8080/"
        },
        "id": "wxqFvgqiG92m"
      },
      "execution_count": null,
      "outputs": [
        {
          "output_type": "stream",
          "name": "stdout",
          "text": [
            "CPU times: user 162 ms, sys: 23.4 ms, total: 185 ms\n",
            "Wall time: 10.5 s\n"
          ]
        },
        {
          "output_type": "execute_result",
          "data": {
            "text/plain": [
              "<IPython.core.display.Markdown object>"
            ],
            "text/markdown": "> 삶의 의미는 주관적인 것이며, 사람마다 다를 수 있습니다. 일부 사람들에게는 삶의 의미가 명확하고 명확한 반면, 다른 사람들에게는 더 모호하고 찾기 어려울 수 있습니다.\n> \n> 어떤 사람들은 삶의 의미가 다음과 같다고 믿습니다.\n> \n> * 사랑하는 사람과 의사 소통하고 관계를 맺는 것\n> * 목적 의식을 가지고 열정을 추구하는 것\n> * 세상에 긍정적인 영향을 미치는 것\n> * 자기 성장과 성취를 추구하는 것\n> \n> 다른 사람들은 삶의 의미가 단순히 존재하고 경험을 누리는 것일 뿐이라고 믿을 수 있습니다. 또 다른 사람들은 삶의 의미가 신이나 우주적 목적과 같은 초월적인 것과 연결될 수 있다고 믿을 수 있습니다.\n> \n> 어떤 사람들은 삶의 의미가 시간이 지남에 따라 변할 수 있다고 믿는 반면, 다른 사람들은 그 의미가 고정되어 있다고 믿을 수 있습니다. 궁극적으로 삶의 의미는 각 개인이 결정해야 하는 것입니다.\n> \n> 삶의 의미를 찾는 것은 어려울 수 있지만 가치 있는 노력이 될 수 있습니다. 삶의 의미를 찾으면 인생의 목적 의식이 높아지고 만족도와 행복도가 높아질 수 있습니다.\n> \n> 삶의 의미를 찾는 데 도움이 될 수 있는 몇 가지 제안은 다음과 같습니다.\n> \n> * 자신의 가치관, 신념, 관심사를 반성하는 시간을 갖는 것\n> * 열정을 따르고 삶에 기쁨을 주는 활동에 참여하는 것\n> * 여행, 새로운 사람들 만나기, 새로운 문화 탐험과 같은 새로운 경험에 자신을 열어주는 것\n> * 지역사회에 참여하고 다른 사람들을 돕는 것\n> * 영적 실천 또는 명상을 통해 초월적인 것과 연결하는 것\n> \n> 삶의 의미를 찾는 것은 쉬운 과제가 아닐 수 있지만 여정은 그 자체로 가치가 있습니다. 인내심을 갖고 스스로에게 친절하게 대하고 자신의 길에 자신만의 시간을 주십시오."
          },
          "metadata": {},
          "execution_count": 5
        }
      ]
    },
    {
      "cell_type": "code",
      "source": [
        "# Stream으로 노출하려면 출력을 다르게 해야한다.\n",
        "%%time\n",
        "response = model.generate_content(\"삶의 의미가 멀까?\", stream=True)\n",
        "for chunk in response:\n",
        "  display(chunk.text)\n",
        "  display(\"_\"*80)"
      ],
      "metadata": {
        "outputId": "e4c8e54d-16d2-4248-e2c4-d02026eeaa03",
        "colab": {
          "base_uri": "https://localhost:8080/"
        },
        "id": "8IVW4RGvG92m"
      },
      "execution_count": null,
      "outputs": [
        {
          "output_type": "display_data",
          "data": {
            "text/plain": [
              "'삶의 의미는 사람마다 다르며, 그에 대해서는 보'"
            ],
            "application/vnd.google.colaboratory.intrinsic+json": {
              "type": "string"
            }
          },
          "metadata": {}
        },
        {
          "output_type": "display_data",
          "data": {
            "text/plain": [
              "'________________________________________________________________________________'"
            ],
            "application/vnd.google.colaboratory.intrinsic+json": {
              "type": "string"
            }
          },
          "metadata": {}
        },
        {
          "output_type": "display_data",
          "data": {
            "text/plain": [
              "'편적으로 받아들여지는 답이 없습니다. 그러나 사람들이 삶의 의미에 대해 갖는 몇 가지 일반적인 관점'"
            ],
            "application/vnd.google.colaboratory.intrinsic+json": {
              "type": "string"
            }
          },
          "metadata": {}
        },
        {
          "output_type": "display_data",
          "data": {
            "text/plain": [
              "'________________________________________________________________________________'"
            ],
            "application/vnd.google.colaboratory.intrinsic+json": {
              "type": "string"
            }
          },
          "metadata": {}
        },
        {
          "output_type": "display_data",
          "data": {
            "text/plain": [
              "'은 다음과 같습니다.\\n\\n**목적론적 관점:**\\n* 인간의 삶은 본질적으로 목적이 있으며, 이는 종교적 신념, 도덕적 가치, 또는 개인적 성취를 통해 발견될 수 있습니다.\\n* 이 관점'"
            ],
            "application/vnd.google.colaboratory.intrinsic+json": {
              "type": "string"
            }
          },
          "metadata": {}
        },
        {
          "output_type": "display_data",
          "data": {
            "text/plain": [
              "'________________________________________________________________________________'"
            ],
            "application/vnd.google.colaboratory.intrinsic+json": {
              "type": "string"
            }
          },
          "metadata": {}
        },
        {
          "output_type": "display_data",
          "data": {
            "text/plain": [
              "'에서는 삶의 의미는 자신의 목적을 찾고 그것을 성취하는 것입니다.\\n\\n**실존주의적 관점:**\\n* 인간은 본질적으로 자유롭고 책임이 있습니다.\\n* 이 관점에서는 삶의 의미는 자신의 선택과 행동을 통해 스스로 만들어내는 것입니다.\\n\\n**인본주의적 관점:**\\n* 인간의 잠재력과 개인적 성장을 강조합니다.\\n* 이 관점에서는 삶의 의미는 자신의 능력을 최대한 발휘하고 다른 사람과 유익한'"
            ],
            "application/vnd.google.colaboratory.intrinsic+json": {
              "type": "string"
            }
          },
          "metadata": {}
        },
        {
          "output_type": "display_data",
          "data": {
            "text/plain": [
              "'________________________________________________________________________________'"
            ],
            "application/vnd.google.colaboratory.intrinsic+json": {
              "type": "string"
            }
          },
          "metadata": {}
        },
        {
          "output_type": "display_data",
          "data": {
            "text/plain": [
              "' 관계를 맺는 것입니다.\\n\\n**결정주의적 관점:**\\n* 모든 사건은 운명이나 자연 법칙에 의해 결정되며, 인간은 자신의 삶에 통제력이 없습니다.\\n* 이 관점에서는 삶의 의미는 자신의 존재를 받아들이고 현재를 즐기는 것입니다.\\n\\n**무의미함의 수용:**\\n* 인간의 삶은 본질적으로 무의미하며, 의미를 부여하는 것은 우리 자신의 해석에 달려 있습니다.\\n* 이 관점에서는 삶의 의미를 찾는 것보다 삶을 자체적으로 받아들이는 것에 중점을 둡니다.\\n\\n**개인적 관점:**\\n* 삶의 의미는 주관적이며 개인마다 다릅니다.\\n* 이러한 관점에서는 삶의 의미를 스스로 정의하고 자신의 가치관과 신념에 따라 살아가는 것이 중요합니다.\\n\\n궁극적으로 삶의 의미는 개인이 자신에게 중요한 것에 따라 결정됩니다. 삶의 목적을 찾는 것은 지속적이고 개인적인 여정이며'"
            ],
            "application/vnd.google.colaboratory.intrinsic+json": {
              "type": "string"
            }
          },
          "metadata": {}
        },
        {
          "output_type": "display_data",
          "data": {
            "text/plain": [
              "'________________________________________________________________________________'"
            ],
            "application/vnd.google.colaboratory.intrinsic+json": {
              "type": "string"
            }
          },
          "metadata": {}
        },
        {
          "output_type": "display_data",
          "data": {
            "text/plain": [
              "', 올바른 대답이나 잘못된 대답은 없습니다.'"
            ],
            "application/vnd.google.colaboratory.intrinsic+json": {
              "type": "string"
            }
          },
          "metadata": {}
        },
        {
          "output_type": "display_data",
          "data": {
            "text/plain": [
              "'________________________________________________________________________________'"
            ],
            "application/vnd.google.colaboratory.intrinsic+json": {
              "type": "string"
            }
          },
          "metadata": {}
        },
        {
          "output_type": "stream",
          "name": "stdout",
          "text": [
            "CPU times: user 210 ms, sys: 35.7 ms, total: 246 ms\n",
            "Wall time: 11.6 s\n"
          ]
        }
      ]
    },
    {
      "cell_type": "markdown",
      "source": [
        "예제가 openai로 되어있습니다. colab에서 테스트를 쉽게 하고 싶으니 gemini로 바꿔서 테스트해보자.\n",
        "\n",
        "일단 langchain library를 설치한다."
      ],
      "metadata": {
        "id": "17PDXdmCHzdj"
      }
    },
    {
      "cell_type": "code",
      "source": [
        "# LangChain 업데이트\n",
        "!pip install -U langchain langchain-community langchain-experimental langchain-core langchain-google-genai langsmith"
      ],
      "metadata": {
        "id": "4LOqUHQoHMvo",
        "outputId": "46cf0ff6-618a-4125-ddfc-65a1d3c13021",
        "colab": {
          "base_uri": "https://localhost:8080/"
        }
      },
      "execution_count": null,
      "outputs": [
        {
          "output_type": "stream",
          "name": "stdout",
          "text": [
            "Collecting langchain\n",
            "  Downloading langchain-0.2.1-py3-none-any.whl (973 kB)\n",
            "\u001b[2K     \u001b[90m━━━━━━━━━━━━━━━━━━━━━━━━━━━━━━━━━━━━━━━━\u001b[0m \u001b[32m973.5/973.5 kB\u001b[0m \u001b[31m14.8 MB/s\u001b[0m eta \u001b[36m0:00:00\u001b[0m\n",
            "\u001b[?25hCollecting langchain-community\n",
            "  Downloading langchain_community-0.2.1-py3-none-any.whl (2.1 MB)\n",
            "\u001b[2K     \u001b[90m━━━━━━━━━━━━━━━━━━━━━━━━━━━━━━━━━━━━━━━━\u001b[0m \u001b[32m2.1/2.1 MB\u001b[0m \u001b[31m46.0 MB/s\u001b[0m eta \u001b[36m0:00:00\u001b[0m\n",
            "\u001b[?25hCollecting langchain-experimental\n",
            "  Downloading langchain_experimental-0.0.59-py3-none-any.whl (199 kB)\n",
            "\u001b[2K     \u001b[90m━━━━━━━━━━━━━━━━━━━━━━━━━━━━━━━━━━━━━━━━\u001b[0m \u001b[32m199.5/199.5 kB\u001b[0m \u001b[31m20.1 MB/s\u001b[0m eta \u001b[36m0:00:00\u001b[0m\n",
            "\u001b[?25hCollecting langchain-core\n",
            "  Downloading langchain_core-0.2.1-py3-none-any.whl (308 kB)\n",
            "\u001b[2K     \u001b[90m━━━━━━━━━━━━━━━━━━━━━━━━━━━━━━━━━━━━━━━━\u001b[0m \u001b[32m308.5/308.5 kB\u001b[0m \u001b[31m26.5 MB/s\u001b[0m eta \u001b[36m0:00:00\u001b[0m\n",
            "\u001b[?25hCollecting langchain-google-genai\n",
            "  Downloading langchain_google_genai-1.0.5-py3-none-any.whl (34 kB)\n",
            "Collecting langsmith\n",
            "  Downloading langsmith-0.1.63-py3-none-any.whl (122 kB)\n",
            "\u001b[2K     \u001b[90m━━━━━━━━━━━━━━━━━━━━━━━━━━━━━━━━━━━━━━━━\u001b[0m \u001b[32m122.8/122.8 kB\u001b[0m \u001b[31m14.9 MB/s\u001b[0m eta \u001b[36m0:00:00\u001b[0m\n",
            "\u001b[?25hRequirement already satisfied: PyYAML>=5.3 in /usr/local/lib/python3.10/dist-packages (from langchain) (6.0.1)\n",
            "Requirement already satisfied: SQLAlchemy<3,>=1.4 in /usr/local/lib/python3.10/dist-packages (from langchain) (2.0.30)\n",
            "Requirement already satisfied: aiohttp<4.0.0,>=3.8.3 in /usr/local/lib/python3.10/dist-packages (from langchain) (3.9.5)\n",
            "Requirement already satisfied: async-timeout<5.0.0,>=4.0.0 in /usr/local/lib/python3.10/dist-packages (from langchain) (4.0.3)\n",
            "Collecting langchain-text-splitters<0.3.0,>=0.2.0 (from langchain)\n",
            "  Downloading langchain_text_splitters-0.2.0-py3-none-any.whl (23 kB)\n",
            "Requirement already satisfied: numpy<2,>=1 in /usr/local/lib/python3.10/dist-packages (from langchain) (1.25.2)\n",
            "Requirement already satisfied: pydantic<3,>=1 in /usr/local/lib/python3.10/dist-packages (from langchain) (2.7.1)\n",
            "Requirement already satisfied: requests<3,>=2 in /usr/local/lib/python3.10/dist-packages (from langchain) (2.31.0)\n",
            "Requirement already satisfied: tenacity<9.0.0,>=8.1.0 in /usr/local/lib/python3.10/dist-packages (from langchain) (8.3.0)\n",
            "Collecting dataclasses-json<0.7,>=0.5.7 (from langchain-community)\n",
            "  Downloading dataclasses_json-0.6.6-py3-none-any.whl (28 kB)\n",
            "Collecting jsonpatch<2.0,>=1.33 (from langchain-core)\n",
            "  Downloading jsonpatch-1.33-py2.py3-none-any.whl (12 kB)\n",
            "Collecting packaging<24.0,>=23.2 (from langchain-core)\n",
            "  Downloading packaging-23.2-py3-none-any.whl (53 kB)\n",
            "\u001b[2K     \u001b[90m━━━━━━━━━━━━━━━━━━━━━━━━━━━━━━━━━━━━━━━━\u001b[0m \u001b[32m53.0/53.0 kB\u001b[0m \u001b[31m6.2 MB/s\u001b[0m eta \u001b[36m0:00:00\u001b[0m\n",
            "\u001b[?25hRequirement already satisfied: google-generativeai<0.6.0,>=0.5.2 in /usr/local/lib/python3.10/dist-packages (from langchain-google-genai) (0.5.4)\n",
            "Collecting orjson<4.0.0,>=3.9.14 (from langsmith)\n",
            "  Downloading orjson-3.10.3-cp310-cp310-manylinux_2_17_x86_64.manylinux2014_x86_64.whl (142 kB)\n",
            "\u001b[2K     \u001b[90m━━━━━━━━━━━━━━━━━━━━━━━━━━━━━━━━━━━━━━━━\u001b[0m \u001b[32m142.5/142.5 kB\u001b[0m \u001b[31m8.2 MB/s\u001b[0m eta \u001b[36m0:00:00\u001b[0m\n",
            "\u001b[?25hRequirement already satisfied: aiosignal>=1.1.2 in /usr/local/lib/python3.10/dist-packages (from aiohttp<4.0.0,>=3.8.3->langchain) (1.3.1)\n",
            "Requirement already satisfied: attrs>=17.3.0 in /usr/local/lib/python3.10/dist-packages (from aiohttp<4.0.0,>=3.8.3->langchain) (23.2.0)\n",
            "Requirement already satisfied: frozenlist>=1.1.1 in /usr/local/lib/python3.10/dist-packages (from aiohttp<4.0.0,>=3.8.3->langchain) (1.4.1)\n",
            "Requirement already satisfied: multidict<7.0,>=4.5 in /usr/local/lib/python3.10/dist-packages (from aiohttp<4.0.0,>=3.8.3->langchain) (6.0.5)\n",
            "Requirement already satisfied: yarl<2.0,>=1.0 in /usr/local/lib/python3.10/dist-packages (from aiohttp<4.0.0,>=3.8.3->langchain) (1.9.4)\n",
            "Collecting marshmallow<4.0.0,>=3.18.0 (from dataclasses-json<0.7,>=0.5.7->langchain-community)\n",
            "  Downloading marshmallow-3.21.2-py3-none-any.whl (49 kB)\n",
            "\u001b[2K     \u001b[90m━━━━━━━━━━━━━━━━━━━━━━━━━━━━━━━━━━━━━━━━\u001b[0m \u001b[32m49.3/49.3 kB\u001b[0m \u001b[31m6.6 MB/s\u001b[0m eta \u001b[36m0:00:00\u001b[0m\n",
            "\u001b[?25hCollecting typing-inspect<1,>=0.4.0 (from dataclasses-json<0.7,>=0.5.7->langchain-community)\n",
            "  Downloading typing_inspect-0.9.0-py3-none-any.whl (8.8 kB)\n",
            "Requirement already satisfied: google-ai-generativelanguage==0.6.4 in /usr/local/lib/python3.10/dist-packages (from google-generativeai<0.6.0,>=0.5.2->langchain-google-genai) (0.6.4)\n",
            "Requirement already satisfied: google-api-core in /usr/local/lib/python3.10/dist-packages (from google-generativeai<0.6.0,>=0.5.2->langchain-google-genai) (2.11.1)\n",
            "Requirement already satisfied: google-api-python-client in /usr/local/lib/python3.10/dist-packages (from google-generativeai<0.6.0,>=0.5.2->langchain-google-genai) (2.84.0)\n",
            "Requirement already satisfied: google-auth>=2.15.0 in /usr/local/lib/python3.10/dist-packages (from google-generativeai<0.6.0,>=0.5.2->langchain-google-genai) (2.27.0)\n",
            "Requirement already satisfied: protobuf in /usr/local/lib/python3.10/dist-packages (from google-generativeai<0.6.0,>=0.5.2->langchain-google-genai) (3.20.3)\n",
            "Requirement already satisfied: tqdm in /usr/local/lib/python3.10/dist-packages (from google-generativeai<0.6.0,>=0.5.2->langchain-google-genai) (4.66.4)\n",
            "Requirement already satisfied: typing-extensions in /usr/local/lib/python3.10/dist-packages (from google-generativeai<0.6.0,>=0.5.2->langchain-google-genai) (4.11.0)\n",
            "Requirement already satisfied: proto-plus<2.0.0dev,>=1.22.3 in /usr/local/lib/python3.10/dist-packages (from google-ai-generativelanguage==0.6.4->google-generativeai<0.6.0,>=0.5.2->langchain-google-genai) (1.23.0)\n",
            "Collecting jsonpointer>=1.9 (from jsonpatch<2.0,>=1.33->langchain-core)\n",
            "  Downloading jsonpointer-2.4-py2.py3-none-any.whl (7.8 kB)\n",
            "Requirement already satisfied: annotated-types>=0.4.0 in /usr/local/lib/python3.10/dist-packages (from pydantic<3,>=1->langchain) (0.7.0)\n",
            "Requirement already satisfied: pydantic-core==2.18.2 in /usr/local/lib/python3.10/dist-packages (from pydantic<3,>=1->langchain) (2.18.2)\n",
            "Requirement already satisfied: charset-normalizer<4,>=2 in /usr/local/lib/python3.10/dist-packages (from requests<3,>=2->langchain) (3.3.2)\n",
            "Requirement already satisfied: idna<4,>=2.5 in /usr/local/lib/python3.10/dist-packages (from requests<3,>=2->langchain) (3.7)\n",
            "Requirement already satisfied: urllib3<3,>=1.21.1 in /usr/local/lib/python3.10/dist-packages (from requests<3,>=2->langchain) (2.0.7)\n",
            "Requirement already satisfied: certifi>=2017.4.17 in /usr/local/lib/python3.10/dist-packages (from requests<3,>=2->langchain) (2024.2.2)\n",
            "Requirement already satisfied: greenlet!=0.4.17 in /usr/local/lib/python3.10/dist-packages (from SQLAlchemy<3,>=1.4->langchain) (3.0.3)\n",
            "Requirement already satisfied: cachetools<6.0,>=2.0.0 in /usr/local/lib/python3.10/dist-packages (from google-auth>=2.15.0->google-generativeai<0.6.0,>=0.5.2->langchain-google-genai) (5.3.3)\n",
            "Requirement already satisfied: pyasn1-modules>=0.2.1 in /usr/local/lib/python3.10/dist-packages (from google-auth>=2.15.0->google-generativeai<0.6.0,>=0.5.2->langchain-google-genai) (0.4.0)\n",
            "Requirement already satisfied: rsa<5,>=3.1.4 in /usr/local/lib/python3.10/dist-packages (from google-auth>=2.15.0->google-generativeai<0.6.0,>=0.5.2->langchain-google-genai) (4.9)\n",
            "Collecting mypy-extensions>=0.3.0 (from typing-inspect<1,>=0.4.0->dataclasses-json<0.7,>=0.5.7->langchain-community)\n",
            "  Downloading mypy_extensions-1.0.0-py3-none-any.whl (4.7 kB)\n",
            "Requirement already satisfied: googleapis-common-protos<2.0.dev0,>=1.56.2 in /usr/local/lib/python3.10/dist-packages (from google-api-core->google-generativeai<0.6.0,>=0.5.2->langchain-google-genai) (1.63.0)\n",
            "Requirement already satisfied: httplib2<1dev,>=0.15.0 in /usr/local/lib/python3.10/dist-packages (from google-api-python-client->google-generativeai<0.6.0,>=0.5.2->langchain-google-genai) (0.22.0)\n",
            "Requirement already satisfied: google-auth-httplib2>=0.1.0 in /usr/local/lib/python3.10/dist-packages (from google-api-python-client->google-generativeai<0.6.0,>=0.5.2->langchain-google-genai) (0.1.1)\n",
            "Requirement already satisfied: uritemplate<5,>=3.0.1 in /usr/local/lib/python3.10/dist-packages (from google-api-python-client->google-generativeai<0.6.0,>=0.5.2->langchain-google-genai) (4.1.1)\n",
            "Requirement already satisfied: grpcio<2.0dev,>=1.33.2 in /usr/local/lib/python3.10/dist-packages (from google-api-core->google-generativeai<0.6.0,>=0.5.2->langchain-google-genai) (1.64.0)\n",
            "Requirement already satisfied: grpcio-status<2.0.dev0,>=1.33.2 in /usr/local/lib/python3.10/dist-packages (from google-api-core->google-generativeai<0.6.0,>=0.5.2->langchain-google-genai) (1.48.2)\n",
            "Requirement already satisfied: pyparsing!=3.0.0,!=3.0.1,!=3.0.2,!=3.0.3,<4,>=2.4.2 in /usr/local/lib/python3.10/dist-packages (from httplib2<1dev,>=0.15.0->google-api-python-client->google-generativeai<0.6.0,>=0.5.2->langchain-google-genai) (3.1.2)\n",
            "Requirement already satisfied: pyasn1<0.7.0,>=0.4.6 in /usr/local/lib/python3.10/dist-packages (from pyasn1-modules>=0.2.1->google-auth>=2.15.0->google-generativeai<0.6.0,>=0.5.2->langchain-google-genai) (0.6.0)\n",
            "Installing collected packages: packaging, orjson, mypy-extensions, jsonpointer, typing-inspect, marshmallow, jsonpatch, langsmith, dataclasses-json, langchain-core, langchain-text-splitters, langchain, langchain-google-genai, langchain-community, langchain-experimental\n",
            "  Attempting uninstall: packaging\n",
            "    Found existing installation: packaging 24.0\n",
            "    Uninstalling packaging-24.0:\n",
            "      Successfully uninstalled packaging-24.0\n",
            "Successfully installed dataclasses-json-0.6.6 jsonpatch-1.33 jsonpointer-2.4 langchain-0.2.1 langchain-community-0.2.1 langchain-core-0.2.1 langchain-experimental-0.0.59 langchain-google-genai-1.0.5 langchain-text-splitters-0.2.0 langsmith-0.1.63 marshmallow-3.21.2 mypy-extensions-1.0.0 orjson-3.10.3 packaging-23.2 typing-inspect-0.9.0\n"
          ]
        }
      ]
    },
    {
      "cell_type": "markdown",
      "source": [
        "기본 코드 돌려봅시다!"
      ],
      "metadata": {
        "id": "v4HLXB-qHiH2"
      }
    },
    {
      "cell_type": "code",
      "source": [
        "from langchain_google_genai import ChatGoogleGenerativeAI\n",
        "\n",
        "# 객체 생성\n",
        "llm = ChatGoogleGenerativeAI(\n",
        "    model=\"gemini-pro\",\n",
        "    google_api_key=GOOGLE_API_KEY\n",
        ")\n",
        "\n",
        "# 물어보자.\n",
        "result = llm.invoke(\"넌 누구냐!\")\n",
        "display(f\"[답변]: {result.content}\")"
      ],
      "metadata": {
        "id": "VxCjvbg5HfTW",
        "outputId": "d880ace7-7ab0-4c47-a882-8cb8ea5bbe23",
        "colab": {
          "base_uri": "https://localhost:8080/"
        }
      },
      "execution_count": null,
      "outputs": [
        {
          "output_type": "display_data",
          "data": {
            "text/plain": [
              "'[답변]: 저는 Gemini입니다. Google에서 개발한 대규모 다국어 모델입니다.'"
            ],
            "application/vnd.google.colaboratory.intrinsic+json": {
              "type": "string"
            }
          },
          "metadata": {}
        }
      ]
    },
    {
      "cell_type": "markdown",
      "source": [
        "요정도에서 gemini설정을 마치고 langchain 학습으로 넘어간다.\n",
        "\n",
        "langchain학습은 [테디노트님의 ebook](https://wikidocs.net/book/14314)으로 진행해본다."
      ],
      "metadata": {
        "id": "it8jBS09G92m"
      }
    },
    {
      "cell_type": "markdown",
      "source": [
        "# Ch01 LangChain 시작하기 노트\n"
      ],
      "metadata": {
        "id": "gBJVwwISk-7B"
      }
    },
    {
      "cell_type": "markdown",
      "source": [
        "프롬프트 템플릿도 한번 써보자.\n",
        "\n",
        "일단 prompt를 만든다."
      ],
      "metadata": {
        "id": "q-t4c2Pim6GO"
      }
    },
    {
      "cell_type": "code",
      "source": [
        "from langchain.prompts import PromptTemplate\n",
        "\n",
        "template = \"{country}의 수도는 뭐야?\"\n",
        "\n",
        "# 템플릿 완성\n",
        "prompt = PromptTemplate.from_template(template=template)\n",
        "prompt"
      ],
      "metadata": {
        "id": "YZJEwueRne3k",
        "outputId": "a0b2f8f2-11e2-4c42-832a-fdad64159d77",
        "colab": {
          "base_uri": "https://localhost:8080/"
        }
      },
      "execution_count": null,
      "outputs": [
        {
          "output_type": "execute_result",
          "data": {
            "text/plain": [
              "PromptTemplate(input_variables=['country'], template='{country}의 수도는 뭐야?')"
            ]
          },
          "metadata": {},
          "execution_count": 21
        }
      ]
    },
    {
      "cell_type": "markdown",
      "source": [
        "그 다음에 prompt를 써서 요청을 날려보자"
      ],
      "metadata": {
        "id": "5YuxfaoIoXSL"
      }
    },
    {
      "cell_type": "code",
      "source": [
        "from langchain.chains import LLMChain\n",
        "\n",
        "llm_chain = LLMChain(prompt=prompt, llm=llm) # 위에서 prompt와 llm을 만드는 코드를 실행한 후에 여기를 돌려야 한다.\n",
        "\n",
        "llm_chain.invoke({\"country\": \"대한민국\"}) # 요거는 서울"
      ],
      "metadata": {
        "id": "dpltUWLcn2aa",
        "outputId": "be19832a-dcc4-426b-a172-ff9a727dc1e4",
        "colab": {
          "base_uri": "https://localhost:8080/"
        }
      },
      "execution_count": null,
      "outputs": [
        {
          "output_type": "execute_result",
          "data": {
            "text/plain": [
              "{'country': '대한민국', 'text': '서울'}"
            ]
          },
          "metadata": {},
          "execution_count": 24
        }
      ]
    },
    {
      "cell_type": "markdown",
      "source": [
        "apply()로 여러개의 입력도 한번에 처리가 가능하다."
      ],
      "metadata": {
        "id": "rLpu5fQpoZQl"
      }
    },
    {
      "cell_type": "code",
      "source": [
        "input_list = [{\"country\": \"호주\"}, {\"country\": \"중국\"}, {\"country\":\"네덜란드\"}]\n",
        "\n",
        "result = llm_chain.apply(input_list)\n",
        "\n",
        "display(result)\n",
        "\n",
        "for res in result:\n",
        "  display(res[\"text\"].strip())"
      ],
      "metadata": {
        "id": "y8PLy6Qfod1T",
        "outputId": "a406948b-ff47-4217-efab-8b4eb39b241a",
        "colab": {
          "base_uri": "https://localhost:8080/",
          "height": 89
        }
      },
      "execution_count": null,
      "outputs": [
        {
          "output_type": "display_data",
          "data": {
            "text/plain": [
              "[{'text': '캔버라'}, {'text': '베이징'}, {'text': '암스테르담'}]"
            ]
          },
          "metadata": {}
        },
        {
          "output_type": "display_data",
          "data": {
            "text/plain": [
              "'캔버라'"
            ],
            "application/vnd.google.colaboratory.intrinsic+json": {
              "type": "string"
            }
          },
          "metadata": {}
        },
        {
          "output_type": "display_data",
          "data": {
            "text/plain": [
              "'베이징'"
            ],
            "application/vnd.google.colaboratory.intrinsic+json": {
              "type": "string"
            }
          },
          "metadata": {}
        },
        {
          "output_type": "display_data",
          "data": {
            "text/plain": [
              "'암스테르담'"
            ],
            "application/vnd.google.colaboratory.intrinsic+json": {
              "type": "string"
            }
          },
          "metadata": {}
        }
      ]
    },
    {
      "cell_type": "markdown",
      "source": [
        "generate()로 좀 더 자세한 추가정보를 출력할 수 있다."
      ],
      "metadata": {
        "id": "h0sF1Uweo-4O"
      }
    },
    {
      "cell_type": "code",
      "source": [
        "input_list = [{\"country\": \"호주\"}, {\"country\": \"중국\"}, {\"country\":\"네덜란드\"}]\n",
        "\n",
        "result = llm_chain.generate(input_list)\n",
        "\n",
        "display(result)"
      ],
      "metadata": {
        "id": "ciVXZxkcpGJO"
      },
      "execution_count": null,
      "outputs": []
    },
    {
      "cell_type": "markdown",
      "source": [
        "토큰 사용량을 바로 보려면 다음과 같이 찍으면 된다고 하는데 OpenAI는 되나본데, Gemini는 아무것도 안나온다. 따로 방법을 찾아보자."
      ],
      "metadata": {
        "id": "khmIifyLqs3x"
      }
    },
    {
      "cell_type": "code",
      "source": [
        "result.llm_output"
      ],
      "metadata": {
        "id": "Y1XNDFOrqxm1",
        "outputId": "234fe11e-e872-441d-dfbc-59848d242758",
        "colab": {
          "base_uri": "https://localhost:8080/"
        }
      },
      "execution_count": null,
      "outputs": [
        {
          "output_type": "execute_result",
          "data": {
            "text/plain": [
              "{}"
            ]
          },
          "metadata": {},
          "execution_count": 40
        }
      ]
    },
    {
      "cell_type": "markdown",
      "source": [
        "2개 이상의 변수를 템플릿 안에 정의하는 것도 가능하다."
      ],
      "metadata": {
        "id": "6tOXnzbNrQcf"
      }
    },
    {
      "cell_type": "code",
      "source": [
        "template = \"{area1}와 {area2}의 시차는 몇시간이야?\"\n",
        "\n",
        "prompt = PromptTemplate.from_template(template)\n",
        "prompt"
      ],
      "metadata": {
        "id": "7UKfHPH3rVxB"
      },
      "execution_count": null,
      "outputs": []
    },
    {
      "cell_type": "code",
      "source": [
        "llm_chain = LLMChain(prompt=prompt, llm=llm)"
      ],
      "metadata": {
        "id": "KIdklYmOrh4q"
      },
      "execution_count": null,
      "outputs": []
    },
    {
      "cell_type": "code",
      "source": [
        "display(llm_chain.invoke({\"area1\": \"서울\", \"area2\": \"파리\"}))"
      ],
      "metadata": {
        "id": "zRa_8MiKrmeA"
      },
      "execution_count": null,
      "outputs": []
    },
    {
      "cell_type": "code",
      "source": [
        "input_list = [\n",
        "    {\"area1\": \"파리\", \"area2\": \"뉴욕\"},\n",
        "    {\"area1\": \"서울\", \"area2\": \"하와이\"},\n",
        "    {\"area1\": \"켄버라\", \"area2\": \"베이징\"},\n",
        "]\n",
        "\n",
        "# 반복문으로 결과 출력\n",
        "result = llm_chain.apply(input_list)\n",
        "for res in result:\n",
        "    display(res[\"text\"].strip())"
      ],
      "metadata": {
        "id": "AUlKGqUprsfO"
      },
      "execution_count": null,
      "outputs": []
    },
    {
      "cell_type": "markdown",
      "source": [
        "stream으로 출력도 가능하다만 OpenAI로 좀 다른거 같다. stream이란 함수를 호출해서 출력한다."
      ],
      "metadata": {
        "id": "fhMdyVyMsoNn"
      }
    },
    {
      "cell_type": "code",
      "source": [
        "llm = ChatGoogleGenerativeAI(\n",
        "    model=\"gemini-pro\",\n",
        "    google_api_key=GOOGLE_API_KEY,\n",
        "    temperature=0, #창의성\n",
        "    max_output_tokens=2048,\n",
        ")\n",
        "\n",
        "question = \"대한민국에 대해서 300자 내외로 최대한 상세히 알려줘\"\n",
        "\n",
        "for chunk in llm.stream(question):\n",
        "    display(to_markdown(chunk.content))\n",
        "    display(to_markdown(\"---\"))"
      ],
      "metadata": {
        "id": "4sR3ixAksq-o"
      },
      "execution_count": null,
      "outputs": []
    },
    {
      "cell_type": "markdown",
      "source": [
        "Chain 생성에서 LCEL(LangChain Expression Language)도 가능한지 살펴본다."
      ],
      "metadata": {
        "id": "YSQtF6uiuBB7"
      }
    },
    {
      "cell_type": "code",
      "source": [
        "from langchain_core.output_parsers import StrOutputParser\n",
        "\n",
        "# 주어진 나라에 대하여 수도를 묻는 프롬프트 템플릿을 생성합니다.\n",
        "template = \"\"\"\n",
        "당신은 친절하게 답변해 주는 친절 봇입니다. 사용자의 질문에 [FORMAT]에 맞추어 답변해 주세요.\n",
        "답변은 항상 한글로 작성해 주세요.\n",
        "\n",
        "질문:\n",
        "{question}에 대하여 설명해 주세요.\n",
        "\n",
        "FORMAT:\n",
        "- 개요:\n",
        "- 예시:\n",
        "- 출처:\n",
        "\"\"\"\n",
        "\n",
        "template = \"\"\"\n",
        "당신은 영어를 가르치는 10년차 영어 선생님입니다. 상황에 [FORMAT]에 영어 회화를 작성해 주세요.\n",
        "\n",
        "상황:\n",
        "{question}\n",
        "\n",
        "FORMAT:\n",
        "- 영어 회화:\n",
        "- 한글 해석:\n",
        "\"\"\"\n",
        "\n",
        "prompt = PromptTemplate.from_template(template)\n",
        "\n",
        "# OpenAI 챗모델을 초기화합니다.\n",
        "model = ChatGoogleGenerativeAI(\n",
        "    model=\"gemini-pro\",\n",
        "    google_api_key=GOOGLE_API_KEY,\n",
        "    temperature=0, #창의성\n",
        "    max_output_tokens=2048,\n",
        ")\n",
        "\n",
        "# 문자열 출력 파서를 초기화합니다.\n",
        "output_parser = StrOutputParser()\n",
        "\n",
        "# 프롬프트, 모델, 출력 파서를 연결하여 처리 체인을 구성합니다.\n",
        "chain = prompt | model | output_parser\n",
        "\n",
        "# 완성된 Chain 을 이용하여 country 를 '대한민국'으로 설정하여 실행합니다.\n",
        "# chain.invoke({\"country\": \"대한민국\"})\n",
        "print(chain.invoke({\"question\": \"저는 식당에 가서 음식을 주문하고 싶어요\"}))"
      ],
      "metadata": {
        "id": "NqSS-6PhuUin",
        "outputId": "41594315-264f-454c-a99d-bffceefed274",
        "colab": {
          "base_uri": "https://localhost:8080/",
          "height": 384
        }
      },
      "execution_count": null,
      "outputs": [
        {
          "output_type": "error",
          "ename": "ModuleNotFoundError",
          "evalue": "No module named 'langchain_core'",
          "traceback": [
            "\u001b[0;31m---------------------------------------------------------------------------\u001b[0m",
            "\u001b[0;31mModuleNotFoundError\u001b[0m                       Traceback (most recent call last)",
            "\u001b[0;32m<ipython-input-6-7712ac2a9f93>\u001b[0m in \u001b[0;36m<cell line: 1>\u001b[0;34m()\u001b[0m\n\u001b[0;32m----> 1\u001b[0;31m \u001b[0;32mfrom\u001b[0m \u001b[0mlangchain_core\u001b[0m\u001b[0;34m.\u001b[0m\u001b[0moutput_parsers\u001b[0m \u001b[0;32mimport\u001b[0m \u001b[0mStrOutputParser\u001b[0m\u001b[0;34m\u001b[0m\u001b[0;34m\u001b[0m\u001b[0m\n\u001b[0m\u001b[1;32m      2\u001b[0m \u001b[0;34m\u001b[0m\u001b[0m\n\u001b[1;32m      3\u001b[0m \u001b[0;31m# 주어진 나라에 대하여 수도를 묻는 프롬프트 템플릿을 생성합니다.\u001b[0m\u001b[0;34m\u001b[0m\u001b[0;34m\u001b[0m\u001b[0m\n\u001b[1;32m      4\u001b[0m template = \"\"\"\n\u001b[1;32m      5\u001b[0m \u001b[0m당신은\u001b[0m \u001b[0m친절하게\u001b[0m \u001b[0m답변해\u001b[0m \u001b[0m주는\u001b[0m \u001b[0m친절\u001b[0m \u001b[0m봇입니다\u001b[0m\u001b[0;34m.\u001b[0m \u001b[0m사용자의\u001b[0m \u001b[0m질문에\u001b[0m \u001b[0;34m[\u001b[0m\u001b[0mFORMAT\u001b[0m\u001b[0;34m]\u001b[0m\u001b[0m에\u001b[0m \u001b[0m맞추어\u001b[0m \u001b[0m답변해\u001b[0m \u001b[0m주세요\u001b[0m\u001b[0;34m.\u001b[0m\u001b[0;34m\u001b[0m\u001b[0;34m\u001b[0m\u001b[0m\n",
            "\u001b[0;31mModuleNotFoundError\u001b[0m: No module named 'langchain_core'",
            "",
            "\u001b[0;31m---------------------------------------------------------------------------\u001b[0;32m\nNOTE: If your import is failing due to a missing package, you can\nmanually install dependencies using either !pip or !apt.\n\nTo view examples of installing some common dependencies, click the\n\"Open Examples\" button below.\n\u001b[0;31m---------------------------------------------------------------------------\u001b[0m\n"
          ],
          "errorDetails": {
            "actions": [
              {
                "action": "open_url",
                "actionText": "Open Examples",
                "url": "/notebooks/snippets/importing_libraries.ipynb"
              }
            ]
          }
        }
      ]
    },
    {
      "cell_type": "code",
      "source": [
        "print(chain.invoke({\"question\": \"미국에서 피자 주문\"}))"
      ],
      "metadata": {
        "id": "nTiI7hbmvl5o"
      },
      "execution_count": null,
      "outputs": []
    },
    {
      "cell_type": "markdown",
      "source": [
        "ebook에 있는 다른 예제도 실행해본다."
      ],
      "metadata": {
        "id": "fz-4MOAHv66A"
      }
    },
    {
      "cell_type": "code",
      "source": [
        "# prompt 를 PromptTemplate 객체로 생성합니다.\n",
        "prompt = PromptTemplate.from_template(\"{topic} 에 대해 쉽게 설명해주세요.\")\n",
        "\n",
        "# input 딕셔너리에 주제를 'ice cream'으로 설정합니다.\n",
        "input = {\"topic\": \"양자역학\"}\n",
        "\n",
        "# prompt 객체의 invoke 메서드를 사용하여 input을 전달하고 대화형 프롬프트 값을 생성합니다.\n",
        "prompt.invoke(input)\n",
        "\n",
        "# prompt 객체와 model 객체를 파이프(|) 연산자로 연결하고 invoke 메서드를 사용하여 input을 전달합니다.\n",
        "# 이를 통해 AI 모델이 생성한 메시지를 반환합니다.\n",
        "(prompt | model).invoke(input)"
      ],
      "metadata": {
        "id": "FuE8r61Hv9uL"
      },
      "execution_count": null,
      "outputs": []
    },
    {
      "cell_type": "code",
      "source": [
        "# parse_output 메서드를 사용하여 AI 모델이 생성한 메시지 문자열로 출력합니다.\n",
        "display((prompt | model | output_parser).invoke(input))"
      ],
      "metadata": {
        "id": "KBkljGX_wIvE"
      },
      "execution_count": null,
      "outputs": []
    },
    {
      "cell_type": "markdown",
      "source": [
        "LCEL 인터페이스에 있는 다른 내용은 필요할 때 보면 될 것 같고, 병렬성 예제를 돌려본다."
      ],
      "metadata": {
        "id": "EDuG92JIwqy-"
      }
    },
    {
      "cell_type": "code",
      "source": [
        "from langchain.prompts import ChatPromptTemplate\n",
        "from langchain_core.runnables import RunnableParallel\n",
        "\n",
        "# {country} 의 수도를 물어보는 체인을 생성합니다.\n",
        "chain1 = ChatPromptTemplate.from_template(\"{country} 의 수도는 어디야?\") | model\n",
        "\n",
        "# {country} 의 면적을 물어보는 체인을 생성합니다.\n",
        "chain2 = ChatPromptTemplate.from_template(\"{country} 의 면적은 얼마야?\") | model\n",
        "# 위의 2개 체인을 동시에 생성하는 병렬 실행 체인을 생성합니다.\n",
        "combined = RunnableParallel(capital=chain1, area=chain2)"
      ],
      "metadata": {
        "id": "gmhhArJ6w1No"
      },
      "execution_count": null,
      "outputs": []
    },
    {
      "cell_type": "code",
      "source": [
        "chain1.invoke(\n",
        "    {\"country\": \"대한민국\"}\n",
        ")"
      ],
      "metadata": {
        "id": "nqfeWAwVxESf"
      },
      "execution_count": null,
      "outputs": []
    },
    {
      "cell_type": "code",
      "source": [
        "chain2.invoke({\"country\": \"미국\"})"
      ],
      "metadata": {
        "id": "urii-7RHxLed"
      },
      "execution_count": null,
      "outputs": []
    },
    {
      "cell_type": "code",
      "source": [
        "# 주어진 'country'에 대해 'combined' 객체의 'invoke' 메서드를 호출합니다.\n",
        "combined.invoke({\"country\": \"대한민국\"})"
      ],
      "metadata": {
        "id": "N5080IAqxQMy"
      },
      "execution_count": null,
      "outputs": []
    },
    {
      "cell_type": "markdown",
      "source": [
        "# Ch07 도큐먼트 로더(Document Loader)\n",
        "\n"
      ],
      "metadata": {
        "id": "5Bki-cRuF1we"
      }
    },
    {
      "cell_type": "markdown",
      "source": [
        "## 01. 논문(Arxiv)"
      ],
      "metadata": {
        "id": "nkQEtQYHGQdx"
      }
    },
    {
      "cell_type": "markdown",
      "source": [
        "Arxiv는 200만편 이상이 있는 학술 논문 오픈 엑세스 아카이브입니다."
      ],
      "metadata": {
        "id": "pMUqy9OJGW-b"
      }
    },
    {
      "cell_type": "markdown",
      "source": [
        "먼저 Arxiv 라이브러리를 설치해보자.\n",
        "\n",
        "ArxivLoader에 대한 설명은 다음 링크를 참조하자\n",
        "\n",
        "https://pypi.org/project/arxivloader/\n"
      ],
      "metadata": {
        "id": "Wxq5T1QdKaVh"
      }
    },
    {
      "cell_type": "code",
      "source": [
        "# 1. arxiv 라이브러리를 설치합니다.\n",
        "!pip install -qU arxiv\n",
        "\n",
        "# 2. arxiv.org 사이트에서 다운로드한 PDF파일을 텍스트 형식으로 변환하는 PyMuPDF 패키지를 설치합니다.\n",
        "!pip install -qU pymupdf\n"
      ],
      "metadata": {
        "id": "Y6oz9LRNGc1-",
        "outputId": "7c213655-f981-4fb9-8ed9-8369eef89632",
        "colab": {
          "base_uri": "https://localhost:8080/"
        }
      },
      "execution_count": null,
      "outputs": [
        {
          "output_type": "stream",
          "name": "stdout",
          "text": [
            "\u001b[?25l     \u001b[90m━━━━━━━━━━━━━━━━━━━━━━━━━━━━━━━━━━━━━━━━\u001b[0m \u001b[32m0.0/81.1 kB\u001b[0m \u001b[31m?\u001b[0m eta \u001b[36m-:--:--\u001b[0m\r\u001b[2K     \u001b[91m━━━━━━━━━━━━━━━\u001b[0m\u001b[90m╺\u001b[0m\u001b[90m━━━━━━━━━━━━━━━━━━━━━━━━\u001b[0m \u001b[32m30.7/81.1 kB\u001b[0m \u001b[31m758.2 kB/s\u001b[0m eta \u001b[36m0:00:01\u001b[0m\r\u001b[2K     \u001b[90m━━━━━━━━━━━━━━━━━━━━━━━━━━━━━━━━━━━━━━━━\u001b[0m \u001b[32m81.1/81.1 kB\u001b[0m \u001b[31m1.2 MB/s\u001b[0m eta \u001b[36m0:00:00\u001b[0m\n",
            "\u001b[?25h  Preparing metadata (setup.py) ... \u001b[?25l\u001b[?25hdone\n",
            "  Building wheel for sgmllib3k (setup.py) ... \u001b[?25l\u001b[?25hdone\n",
            "\u001b[2K     \u001b[90m━━━━━━━━━━━━━━━━━━━━━━━━━━━━━━━━━━━━━━━━\u001b[0m \u001b[32m3.5/3.5 MB\u001b[0m \u001b[31m13.8 MB/s\u001b[0m eta \u001b[36m0:00:00\u001b[0m\n",
            "\u001b[2K     \u001b[90m━━━━━━━━━━━━━━━━━━━━━━━━━━━━━━━━━━━━━━━━\u001b[0m \u001b[32m15.8/15.8 MB\u001b[0m \u001b[31m49.9 MB/s\u001b[0m eta \u001b[36m0:00:00\u001b[0m\n",
            "\u001b[?25h"
          ]
        }
      ]
    },
    {
      "cell_type": "markdown",
      "source": [
        "이제 문서를 로딩해봅시다.  "
      ],
      "metadata": {
        "id": "DGjQNMuVIBDy"
      }
    },
    {
      "cell_type": "code",
      "source": [
        "from langchain_community.document_loaders import ArxivLoader\n",
        "\n",
        "# ArxivLoader를 사용하여 arXiv에서 문서를 로드합니다.\n",
        "# query 매개변수는 검색할 논문의 arXiv ID이고, load_max_docs 매개변수는 로드할 최대 문서 수를 지정합니다.\n",
        "# 그 유명한 Attention Is All You Need 논문 보기\n",
        "docs = ArxivLoader(query=\"1706.03762\", load_max_docs=2).load()\n",
        "len(docs)  # 로드된 문서의 개수를 반환합니다."
      ],
      "metadata": {
        "id": "X8eI0v9-JC0K",
        "outputId": "dd15722b-51ef-4cf2-9003-685240d9a3ba",
        "colab": {
          "base_uri": "https://localhost:8080/"
        }
      },
      "execution_count": null,
      "outputs": [
        {
          "output_type": "execute_result",
          "data": {
            "text/plain": [
              "1"
            ]
          },
          "metadata": {},
          "execution_count": 15
        }
      ]
    },
    {
      "cell_type": "code",
      "source": [
        "# metadata 출력해보기\n",
        "docs[0].metadata"
      ],
      "metadata": {
        "id": "UWmrpcSrIT0i",
        "outputId": "13526037-f5a5-4046-cd16-a4dabcd32c1a",
        "colab": {
          "base_uri": "https://localhost:8080/"
        }
      },
      "execution_count": null,
      "outputs": [
        {
          "output_type": "execute_result",
          "data": {
            "text/plain": [
              "{'Published': '2023-08-02',\n",
              " 'Title': 'Attention Is All You Need',\n",
              " 'Authors': 'Ashish Vaswani, Noam Shazeer, Niki Parmar, Jakob Uszkoreit, Llion Jones, Aidan N. Gomez, Lukasz Kaiser, Illia Polosukhin',\n",
              " 'Summary': 'The dominant sequence transduction models are based on complex recurrent or\\nconvolutional neural networks in an encoder-decoder configuration. The best\\nperforming models also connect the encoder and decoder through an attention\\nmechanism. We propose a new simple network architecture, the Transformer, based\\nsolely on attention mechanisms, dispensing with recurrence and convolutions\\nentirely. Experiments on two machine translation tasks show these models to be\\nsuperior in quality while being more parallelizable and requiring significantly\\nless time to train. Our model achieves 28.4 BLEU on the WMT 2014\\nEnglish-to-German translation task, improving over the existing best results,\\nincluding ensembles by over 2 BLEU. On the WMT 2014 English-to-French\\ntranslation task, our model establishes a new single-model state-of-the-art\\nBLEU score of 41.8 after training for 3.5 days on eight GPUs, a small fraction\\nof the training costs of the best models from the literature. We show that the\\nTransformer generalizes well to other tasks by applying it successfully to\\nEnglish constituency parsing both with large and limited training data.'}"
            ]
          },
          "metadata": {},
          "execution_count": 16
        }
      ]
    },
    {
      "cell_type": "code",
      "source": [
        "# 문서의 모든 페이지 내용 중 처음 400자를 가져오기\n",
        "docs[0].page_content[:400]"
      ],
      "metadata": {
        "id": "2Mox7PvTJF9s",
        "outputId": "27df7085-2af3-41cf-dcf2-d69a216d0093",
        "colab": {
          "base_uri": "https://localhost:8080/",
          "height": 105
        }
      },
      "execution_count": null,
      "outputs": [
        {
          "output_type": "execute_result",
          "data": {
            "text/plain": [
              "'Provided proper attribution is provided, Google hereby grants permission to\\nreproduce the tables and figures in this paper solely for use in journalistic or\\nscholarly works.\\nAttention Is All You Need\\nAshish Vaswani∗\\nGoogle Brain\\navaswani@google.com\\nNoam Shazeer∗\\nGoogle Brain\\nnoam@google.com\\nNiki Parmar∗\\nGoogle Research\\nnikip@google.com\\nJakob Uszkoreit∗\\nGoogle Research\\nusz@google.com\\nLlion Jones∗\\nG'"
            ],
            "application/vnd.google.colaboratory.intrinsic+json": {
              "type": "string"
            }
          },
          "metadata": {},
          "execution_count": 17
        }
      ]
    },
    {
      "cell_type": "code",
      "source": [
        "# 문서의 글자수 보기\n",
        "len(docs[0].page_content)"
      ],
      "metadata": {
        "id": "V1EqyjirJHOH",
        "outputId": "e951b708-1bb6-490f-e2bf-f02c3389ec28",
        "colab": {
          "base_uri": "https://localhost:8080/"
        }
      },
      "execution_count": null,
      "outputs": [
        {
          "output_type": "execute_result",
          "data": {
            "text/plain": [
              "39593"
            ]
          },
          "metadata": {},
          "execution_count": 19
        }
      ]
    },
    {
      "cell_type": "code",
      "source": [
        "# 문서의 페이지수 보기\n",
        "docs[0].page_content"
      ],
      "metadata": {
        "id": "jD1pIzMDKB91",
        "outputId": "d2b7e62a-bc77-4648-d0de-39460d8766f5",
        "colab": {
          "base_uri": "https://localhost:8080/",
          "height": 192
        }
      },
      "execution_count": null,
      "outputs": [
        {
          "output_type": "execute_result",
          "data": {
            "text/plain": [
              "'Provided proper attribution is provided, Google hereby grants permission to\\nreproduce the tables and figures in this paper solely for use in journalistic or\\nscholarly works.\\nAttention Is All You Need\\nAshish Vaswani∗\\nGoogle Brain\\navaswani@google.com\\nNoam Shazeer∗\\nGoogle Brain\\nnoam@google.com\\nNiki Parmar∗\\nGoogle Research\\nnikip@google.com\\nJakob Uszkoreit∗\\nGoogle Research\\nusz@google.com\\nLlion Jones∗\\nGoogle Research\\nllion@google.com\\nAidan N. Gomez∗†\\nUniversity of Toronto\\naidan@cs.toronto.edu\\nŁukasz Kaiser∗\\nGoogle Brain\\nlukaszkaiser@google.com\\nIllia Polosukhin∗‡\\nillia.polosukhin@gmail.com\\nAbstract\\nThe dominant sequence transduction models are based on complex recurrent or\\nconvolutional neural networks that include an encoder and a decoder. The best\\nperforming models also connect the encoder and decoder through an attention\\nmechanism. We propose a new simple network architecture, the Transformer,\\nbased solely on attention mechanisms, dispensing with recurrence and convolutions\\nentirely. Experiments on two machine translation tasks show these models to\\nbe superior in quality while being more parallelizable and requiring significantly\\nless time to train. Our model achieves 28.4 BLEU on the WMT 2014 English-\\nto-German translation task, improving over the existing best results, including\\nensembles, by over 2 BLEU. On the WMT 2014 English-to-French translation task,\\nour model establishes a new single-model state-of-the-art BLEU score of 41.8 after\\ntraining for 3.5 days on eight GPUs, a small fraction of the training costs of the\\nbest models from the literature. We show that the Transformer generalizes well to\\nother tasks by applying it successfully to English constituency parsing both with\\nlarge and limited training data.\\n∗Equal contribution. Listing order is random. Jakob proposed replacing RNNs with self-attention and started\\nthe effort to evaluate this idea. Ashish, with Illia, designed and implemented the first Transformer models and\\nhas been crucially involved in every aspect of this work. Noam proposed scaled dot-product attention, multi-head\\nattention and the parameter-free position representation and became the other person involved in nearly every\\ndetail. Niki designed, implemented, tuned and evaluated countless model variants in our original codebase and\\ntensor2tensor. Llion also experimented with novel model variants, was responsible for our initial codebase, and\\nefficient inference and visualizations. Lukasz and Aidan spent countless long days designing various parts of and\\nimplementing tensor2tensor, replacing our earlier codebase, greatly improving results and massively accelerating\\nour research.\\n†Work performed while at Google Brain.\\n‡Work performed while at Google Research.\\n31st Conference on Neural Information Processing Systems (NIPS 2017), Long Beach, CA, USA.\\narXiv:1706.03762v7  [cs.CL]  2 Aug 2023\\n1\\nIntroduction\\nRecurrent neural networks, long short-term memory [13] and gated recurrent [7] neural networks\\nin particular, have been firmly established as state of the art approaches in sequence modeling and\\ntransduction problems such as language modeling and machine translation [35, 2, 5]. Numerous\\nefforts have since continued to push the boundaries of recurrent language models and encoder-decoder\\narchitectures [38, 24, 15].\\nRecurrent models typically factor computation along the symbol positions of the input and output\\nsequences. Aligning the positions to steps in computation time, they generate a sequence of hidden\\nstates ht, as a function of the previous hidden state ht−1 and the input for position t. This inherently\\nsequential nature precludes parallelization within training examples, which becomes critical at longer\\nsequence lengths, as memory constraints limit batching across examples. Recent work has achieved\\nsignificant improvements in computational efficiency through factorization tricks [21] and conditional\\ncomputation [32], while also improving model performance in case of the latter. The fundamental\\nconstraint of sequential computation, however, remains.\\nAttention mechanisms have become an integral part of compelling sequence modeling and transduc-\\ntion models in various tasks, allowing modeling of dependencies without regard to their distance in\\nthe input or output sequences [2, 19]. In all but a few cases [27], however, such attention mechanisms\\nare used in conjunction with a recurrent network.\\nIn this work we propose the Transformer, a model architecture eschewing recurrence and instead\\nrelying entirely on an attention mechanism to draw global dependencies between input and output.\\nThe Transformer allows for significantly more parallelization and can reach a new state of the art in\\ntranslation quality after being trained for as little as twelve hours on eight P100 GPUs.\\n2\\nBackground\\nThe goal of reducing sequential computation also forms the foundation of the Extended Neural GPU\\n[16], ByteNet [18] and ConvS2S [9], all of which use convolutional neural networks as basic building\\nblock, computing hidden representations in parallel for all input and output positions. In these models,\\nthe number of operations required to relate signals from two arbitrary input or output positions grows\\nin the distance between positions, linearly for ConvS2S and logarithmically for ByteNet. This makes\\nit more difficult to learn dependencies between distant positions [12]. In the Transformer this is\\nreduced to a constant number of operations, albeit at the cost of reduced effective resolution due\\nto averaging attention-weighted positions, an effect we counteract with Multi-Head Attention as\\ndescribed in section 3.2.\\nSelf-attention, sometimes called intra-attention is an attention mechanism relating different positions\\nof a single sequence in order to compute a representation of the sequence. Self-attention has been\\nused successfully in a variety of tasks including reading comprehension, abstractive summarization,\\ntextual entailment and learning task-independent sentence representations [4, 27, 28, 22].\\nEnd-to-end memory networks are based on a recurrent attention mechanism instead of sequence-\\naligned recurrence and have been shown to perform well on simple-language question answering and\\nlanguage modeling tasks [34].\\nTo the best of our knowledge, however, the Transformer is the first transduction model relying\\nentirely on self-attention to compute representations of its input and output without using sequence-\\naligned RNNs or convolution. In the following sections, we will describe the Transformer, motivate\\nself-attention and discuss its advantages over models such as [17, 18] and [9].\\n3\\nModel Architecture\\nMost competitive neural sequence transduction models have an encoder-decoder structure [5, 2, 35].\\nHere, the encoder maps an input sequence of symbol representations (x1, ..., xn) to a sequence\\nof continuous representations z = (z1, ..., zn). Given z, the decoder then generates an output\\nsequence (y1, ..., ym) of symbols one element at a time. At each step the model is auto-regressive\\n[10], consuming the previously generated symbols as additional input when generating the next.\\n2\\nFigure 1: The Transformer - model architecture.\\nThe Transformer follows this overall architecture using stacked self-attention and point-wise, fully\\nconnected layers for both the encoder and decoder, shown in the left and right halves of Figure 1,\\nrespectively.\\n3.1\\nEncoder and Decoder Stacks\\nEncoder:\\nThe encoder is composed of a stack of N = 6 identical layers. Each layer has two\\nsub-layers. The first is a multi-head self-attention mechanism, and the second is a simple, position-\\nwise fully connected feed-forward network. We employ a residual connection [11] around each of\\nthe two sub-layers, followed by layer normalization [1]. That is, the output of each sub-layer is\\nLayerNorm(x + Sublayer(x)), where Sublayer(x) is the function implemented by the sub-layer\\nitself. To facilitate these residual connections, all sub-layers in the model, as well as the embedding\\nlayers, produce outputs of dimension dmodel = 512.\\nDecoder:\\nThe decoder is also composed of a stack of N = 6 identical layers. In addition to the two\\nsub-layers in each encoder layer, the decoder inserts a third sub-layer, which performs multi-head\\nattention over the output of the encoder stack. Similar to the encoder, we employ residual connections\\naround each of the sub-layers, followed by layer normalization. We also modify the self-attention\\nsub-layer in the decoder stack to prevent positions from attending to subsequent positions. This\\nmasking, combined with fact that the output embeddings are offset by one position, ensures that the\\npredictions for position i can depend only on the known outputs at positions less than i.\\n3.2\\nAttention\\nAn attention function can be described as mapping a query and a set of key-value pairs to an output,\\nwhere the query, keys, values, and output are all vectors. The output is computed as a weighted sum\\n3\\nScaled Dot-Product Attention\\nMulti-Head Attention\\nFigure 2: (left) Scaled Dot-Product Attention. (right) Multi-Head Attention consists of several\\nattention layers running in parallel.\\nof the values, where the weight assigned to each value is computed by a compatibility function of the\\nquery with the corresponding key.\\n3.2.1\\nScaled Dot-Product Attention\\nWe call our particular attention \"Scaled Dot-Product Attention\" (Figure 2). The input consists of\\nqueries and keys of dimension dk, and values of dimension dv. We compute the dot products of the\\nquery with all keys, divide each by √dk, and apply a softmax function to obtain the weights on the\\nvalues.\\nIn practice, we compute the attention function on a set of queries simultaneously, packed together\\ninto a matrix Q. The keys and values are also packed together into matrices K and V . We compute\\nthe matrix of outputs as:\\nAttention(Q, K, V ) = softmax(QKT\\n√dk\\n)V\\n(1)\\nThe two most commonly used attention functions are additive attention [2], and dot-product (multi-\\nplicative) attention. Dot-product attention is identical to our algorithm, except for the scaling factor\\nof\\n1\\n√dk . Additive attention computes the compatibility function using a feed-forward network with\\na single hidden layer. While the two are similar in theoretical complexity, dot-product attention is\\nmuch faster and more space-efficient in practice, since it can be implemented using highly optimized\\nmatrix multiplication code.\\nWhile for small values of dk the two mechanisms perform similarly, additive attention outperforms\\ndot product attention without scaling for larger values of dk [3]. We suspect that for large values of\\ndk, the dot products grow large in magnitude, pushing the softmax function into regions where it has\\nextremely small gradients 4. To counteract this effect, we scale the dot products by\\n1\\n√dk .\\n3.2.2\\nMulti-Head Attention\\nInstead of performing a single attention function with dmodel-dimensional keys, values and queries,\\nwe found it beneficial to linearly project the queries, keys and values h times with different, learned\\nlinear projections to dk, dk and dv dimensions, respectively. On each of these projected versions of\\nqueries, keys and values we then perform the attention function in parallel, yielding dv-dimensional\\n4To illustrate why the dot products get large, assume that the components of q and k are independent random\\nvariables with mean 0 and variance 1. Then their dot product, q · k = Pdk\\ni=1 qiki, has mean 0 and variance dk.\\n4\\noutput values. These are concatenated and once again projected, resulting in the final values, as\\ndepicted in Figure 2.\\nMulti-head attention allows the model to jointly attend to information from different representation\\nsubspaces at different positions. With a single attention head, averaging inhibits this.\\nMultiHead(Q, K, V ) = Concat(head1, ..., headh)W O\\nwhere headi = Attention(QW Q\\ni , KW K\\ni , V W V\\ni )\\nWhere the projections are parameter matrices W Q\\ni\\n∈Rdmodel×dk, W K\\ni\\n∈Rdmodel×dk, W V\\ni\\n∈Rdmodel×dv\\nand W O ∈Rhdv×dmodel.\\nIn this work we employ h = 8 parallel attention layers, or heads. For each of these we use\\ndk = dv = dmodel/h = 64. Due to the reduced dimension of each head, the total computational cost\\nis similar to that of single-head attention with full dimensionality.\\n3.2.3\\nApplications of Attention in our Model\\nThe Transformer uses multi-head attention in three different ways:\\n• In \"encoder-decoder attention\" layers, the queries come from the previous decoder layer,\\nand the memory keys and values come from the output of the encoder. This allows every\\nposition in the decoder to attend over all positions in the input sequence. This mimics the\\ntypical encoder-decoder attention mechanisms in sequence-to-sequence models such as\\n[38, 2, 9].\\n• The encoder contains self-attention layers. In a self-attention layer all of the keys, values\\nand queries come from the same place, in this case, the output of the previous layer in the\\nencoder. Each position in the encoder can attend to all positions in the previous layer of the\\nencoder.\\n• Similarly, self-attention layers in the decoder allow each position in the decoder to attend to\\nall positions in the decoder up to and including that position. We need to prevent leftward\\ninformation flow in the decoder to preserve the auto-regressive property. We implement this\\ninside of scaled dot-product attention by masking out (setting to −∞) all values in the input\\nof the softmax which correspond to illegal connections. See Figure 2.\\n3.3\\nPosition-wise Feed-Forward Networks\\nIn addition to attention sub-layers, each of the layers in our encoder and decoder contains a fully\\nconnected feed-forward network, which is applied to each position separately and identically. This\\nconsists of two linear transformations with a ReLU activation in between.\\nFFN(x) = max(0, xW1 + b1)W2 + b2\\n(2)\\nWhile the linear transformations are the same across different positions, they use different parameters\\nfrom layer to layer. Another way of describing this is as two convolutions with kernel size 1.\\nThe dimensionality of input and output is dmodel = 512, and the inner-layer has dimensionality\\ndff = 2048.\\n3.4\\nEmbeddings and Softmax\\nSimilarly to other sequence transduction models, we use learned embeddings to convert the input\\ntokens and output tokens to vectors of dimension dmodel. We also use the usual learned linear transfor-\\nmation and softmax function to convert the decoder output to predicted next-token probabilities. In\\nour model, we share the same weight matrix between the two embedding layers and the pre-softmax\\nlinear transformation, similar to [30]. In the embedding layers, we multiply those weights by √dmodel.\\n5\\nTable 1: Maximum path lengths, per-layer complexity and minimum number of sequential operations\\nfor different layer types. n is the sequence length, d is the representation dimension, k is the kernel\\nsize of convolutions and r the size of the neighborhood in restricted self-attention.\\nLayer Type\\nComplexity per Layer\\nSequential\\nMaximum Path Length\\nOperations\\nSelf-Attention\\nO(n2 · d)\\nO(1)\\nO(1)\\nRecurrent\\nO(n · d2)\\nO(n)\\nO(n)\\nConvolutional\\nO(k · n · d2)\\nO(1)\\nO(logk(n))\\nSelf-Attention (restricted)\\nO(r · n · d)\\nO(1)\\nO(n/r)\\n3.5\\nPositional Encoding\\nSince our model contains no recurrence and no convolution, in order for the model to make use of the\\norder of the sequence, we must inject some information about the relative or absolute position of the\\ntokens in the sequence. To this end, we add \"positional encodings\" to the input embeddings at the\\nbottoms of the encoder and decoder stacks. The positional encodings have the same dimension dmodel\\nas the embeddings, so that the two can be summed. There are many choices of positional encodings,\\nlearned and fixed [9].\\nIn this work, we use sine and cosine functions of different frequencies:\\nPE(pos,2i) = sin(pos/100002i/dmodel)\\nPE(pos,2i+1) = cos(pos/100002i/dmodel)\\nwhere pos is the position and i is the dimension. That is, each dimension of the positional encoding\\ncorresponds to a sinusoid. The wavelengths form a geometric progression from 2π to 10000 · 2π. We\\nchose this function because we hypothesized it would allow the model to easily learn to attend by\\nrelative positions, since for any fixed offset k, PEpos+k can be represented as a linear function of\\nPEpos.\\nWe also experimented with using learned positional embeddings [9] instead, and found that the two\\nversions produced nearly identical results (see Table 3 row (E)). We chose the sinusoidal version\\nbecause it may allow the model to extrapolate to sequence lengths longer than the ones encountered\\nduring training.\\n4\\nWhy Self-Attention\\nIn this section we compare various aspects of self-attention layers to the recurrent and convolu-\\ntional layers commonly used for mapping one variable-length sequence of symbol representations\\n(x1, ..., xn) to another sequence of equal length (z1, ..., zn), with xi, zi ∈Rd, such as a hidden\\nlayer in a typical sequence transduction encoder or decoder. Motivating our use of self-attention we\\nconsider three desiderata.\\nOne is the total computational complexity per layer. Another is the amount of computation that can\\nbe parallelized, as measured by the minimum number of sequential operations required.\\nThe third is the path length between long-range dependencies in the network. Learning long-range\\ndependencies is a key challenge in many sequence transduction tasks. One key factor affecting the\\nability to learn such dependencies is the length of the paths forward and backward signals have to\\ntraverse in the network. The shorter these paths between any combination of positions in the input\\nand output sequences, the easier it is to learn long-range dependencies [12]. Hence we also compare\\nthe maximum path length between any two input and output positions in networks composed of the\\ndifferent layer types.\\nAs noted in Table 1, a self-attention layer connects all positions with a constant number of sequentially\\nexecuted operations, whereas a recurrent layer requires O(n) sequential operations. In terms of\\ncomputational complexity, self-attention layers are faster than recurrent layers when the sequence\\n6\\nlength n is smaller than the representation dimensionality d, which is most often the case with\\nsentence representations used by state-of-the-art models in machine translations, such as word-piece\\n[38] and byte-pair [31] representations. To improve computational performance for tasks involving\\nvery long sequences, self-attention could be restricted to considering only a neighborhood of size r in\\nthe input sequence centered around the respective output position. This would increase the maximum\\npath length to O(n/r). We plan to investigate this approach further in future work.\\nA single convolutional layer with kernel width k < n does not connect all pairs of input and output\\npositions. Doing so requires a stack of O(n/k) convolutional layers in the case of contiguous kernels,\\nor O(logk(n)) in the case of dilated convolutions [18], increasing the length of the longest paths\\nbetween any two positions in the network. Convolutional layers are generally more expensive than\\nrecurrent layers, by a factor of k. Separable convolutions [6], however, decrease the complexity\\nconsiderably, to O(k · n · d + n · d2). Even with k = n, however, the complexity of a separable\\nconvolution is equal to the combination of a self-attention layer and a point-wise feed-forward layer,\\nthe approach we take in our model.\\nAs side benefit, self-attention could yield more interpretable models. We inspect attention distributions\\nfrom our models and present and discuss examples in the appendix. Not only do individual attention\\nheads clearly learn to perform different tasks, many appear to exhibit behavior related to the syntactic\\nand semantic structure of the sentences.\\n5\\nTraining\\nThis section describes the training regime for our models.\\n5.1\\nTraining Data and Batching\\nWe trained on the standard WMT 2014 English-German dataset consisting of about 4.5 million\\nsentence pairs. Sentences were encoded using byte-pair encoding [3], which has a shared source-\\ntarget vocabulary of about 37000 tokens. For English-French, we used the significantly larger WMT\\n2014 English-French dataset consisting of 36M sentences and split tokens into a 32000 word-piece\\nvocabulary [38]. Sentence pairs were batched together by approximate sequence length. Each training\\nbatch contained a set of sentence pairs containing approximately 25000 source tokens and 25000\\ntarget tokens.\\n5.2\\nHardware and Schedule\\nWe trained our models on one machine with 8 NVIDIA P100 GPUs. For our base models using\\nthe hyperparameters described throughout the paper, each training step took about 0.4 seconds. We\\ntrained the base models for a total of 100,000 steps or 12 hours. For our big models,(described on the\\nbottom line of table 3), step time was 1.0 seconds. The big models were trained for 300,000 steps\\n(3.5 days).\\n5.3\\nOptimizer\\nWe used the Adam optimizer [20] with β1 = 0.9, β2 = 0.98 and ϵ = 10−9. We varied the learning\\nrate over the course of training, according to the formula:\\nlrate = d−0.5\\nmodel · min(step_num−0.5, step_num · warmup_steps−1.5)\\n(3)\\nThis corresponds to increasing the learning rate linearly for the first warmup_steps training steps,\\nand decreasing it thereafter proportionally to the inverse square root of the step number. We used\\nwarmup_steps = 4000.\\n5.4\\nRegularization\\nWe employ three types of regularization during training:\\n7\\nTable 2: The Transformer achieves better BLEU scores than previous state-of-the-art models on the\\nEnglish-to-German and English-to-French newstest2014 tests at a fraction of the training cost.\\nModel\\nBLEU\\nTraining Cost (FLOPs)\\nEN-DE\\nEN-FR\\nEN-DE\\nEN-FR\\nByteNet [18]\\n23.75\\nDeep-Att + PosUnk [39]\\n39.2\\n1.0 · 1020\\nGNMT + RL [38]\\n24.6\\n39.92\\n2.3 · 1019\\n1.4 · 1020\\nConvS2S [9]\\n25.16\\n40.46\\n9.6 · 1018\\n1.5 · 1020\\nMoE [32]\\n26.03\\n40.56\\n2.0 · 1019\\n1.2 · 1020\\nDeep-Att + PosUnk Ensemble [39]\\n40.4\\n8.0 · 1020\\nGNMT + RL Ensemble [38]\\n26.30\\n41.16\\n1.8 · 1020\\n1.1 · 1021\\nConvS2S Ensemble [9]\\n26.36\\n41.29\\n7.7 · 1019\\n1.2 · 1021\\nTransformer (base model)\\n27.3\\n38.1\\n3.3 · 1018\\nTransformer (big)\\n28.4\\n41.8\\n2.3 · 1019\\nResidual Dropout\\nWe apply dropout [33] to the output of each sub-layer, before it is added to the\\nsub-layer input and normalized. In addition, we apply dropout to the sums of the embeddings and the\\npositional encodings in both the encoder and decoder stacks. For the base model, we use a rate of\\nPdrop = 0.1.\\nLabel Smoothing\\nDuring training, we employed label smoothing of value ϵls = 0.1 [36]. This\\nhurts perplexity, as the model learns to be more unsure, but improves accuracy and BLEU score.\\n6\\nResults\\n6.1\\nMachine Translation\\nOn the WMT 2014 English-to-German translation task, the big transformer model (Transformer (big)\\nin Table 2) outperforms the best previously reported models (including ensembles) by more than 2.0\\nBLEU, establishing a new state-of-the-art BLEU score of 28.4. The configuration of this model is\\nlisted in the bottom line of Table 3. Training took 3.5 days on 8 P100 GPUs. Even our base model\\nsurpasses all previously published models and ensembles, at a fraction of the training cost of any of\\nthe competitive models.\\nOn the WMT 2014 English-to-French translation task, our big model achieves a BLEU score of 41.0,\\noutperforming all of the previously published single models, at less than 1/4 the training cost of the\\nprevious state-of-the-art model. The Transformer (big) model trained for English-to-French used\\ndropout rate Pdrop = 0.1, instead of 0.3.\\nFor the base models, we used a single model obtained by averaging the last 5 checkpoints, which\\nwere written at 10-minute intervals. For the big models, we averaged the last 20 checkpoints. We\\nused beam search with a beam size of 4 and length penalty α = 0.6 [38]. These hyperparameters\\nwere chosen after experimentation on the development set. We set the maximum output length during\\ninference to input length + 50, but terminate early when possible [38].\\nTable 2 summarizes our results and compares our translation quality and training costs to other model\\narchitectures from the literature. We estimate the number of floating point operations used to train a\\nmodel by multiplying the training time, the number of GPUs used, and an estimate of the sustained\\nsingle-precision floating-point capacity of each GPU 5.\\n6.2\\nModel Variations\\nTo evaluate the importance of different components of the Transformer, we varied our base model\\nin different ways, measuring the change in performance on English-to-German translation on the\\n5We used values of 2.8, 3.7, 6.0 and 9.5 TFLOPS for K80, K40, M40 and P100, respectively.\\n8\\nTable 3: Variations on the Transformer architecture. Unlisted values are identical to those of the base\\nmodel. All metrics are on the English-to-German translation development set, newstest2013. Listed\\nperplexities are per-wordpiece, according to our byte-pair encoding, and should not be compared to\\nper-word perplexities.\\nN\\ndmodel\\ndff\\nh\\ndk\\ndv\\nPdrop\\nϵls\\ntrain\\nPPL\\nBLEU\\nparams\\nsteps\\n(dev)\\n(dev)\\n×106\\nbase\\n6\\n512\\n2048\\n8\\n64\\n64\\n0.1\\n0.1\\n100K\\n4.92\\n25.8\\n65\\n(A)\\n1\\n512\\n512\\n5.29\\n24.9\\n4\\n128\\n128\\n5.00\\n25.5\\n16\\n32\\n32\\n4.91\\n25.8\\n32\\n16\\n16\\n5.01\\n25.4\\n(B)\\n16\\n5.16\\n25.1\\n58\\n32\\n5.01\\n25.4\\n60\\n(C)\\n2\\n6.11\\n23.7\\n36\\n4\\n5.19\\n25.3\\n50\\n8\\n4.88\\n25.5\\n80\\n256\\n32\\n32\\n5.75\\n24.5\\n28\\n1024\\n128\\n128\\n4.66\\n26.0\\n168\\n1024\\n5.12\\n25.4\\n53\\n4096\\n4.75\\n26.2\\n90\\n(D)\\n0.0\\n5.77\\n24.6\\n0.2\\n4.95\\n25.5\\n0.0\\n4.67\\n25.3\\n0.2\\n5.47\\n25.7\\n(E)\\npositional embedding instead of sinusoids\\n4.92\\n25.7\\nbig\\n6\\n1024\\n4096\\n16\\n0.3\\n300K\\n4.33\\n26.4\\n213\\ndevelopment set, newstest2013. We used beam search as described in the previous section, but no\\ncheckpoint averaging. We present these results in Table 3.\\nIn Table 3 rows (A), we vary the number of attention heads and the attention key and value dimensions,\\nkeeping the amount of computation constant, as described in Section 3.2.2. While single-head\\nattention is 0.9 BLEU worse than the best setting, quality also drops off with too many heads.\\nIn Table 3 rows (B), we observe that reducing the attention key size dk hurts model quality. This\\nsuggests that determining compatibility is not easy and that a more sophisticated compatibility\\nfunction than dot product may be beneficial. We further observe in rows (C) and (D) that, as expected,\\nbigger models are better, and dropout is very helpful in avoiding over-fitting. In row (E) we replace our\\nsinusoidal positional encoding with learned positional embeddings [9], and observe nearly identical\\nresults to the base model.\\n6.3\\nEnglish Constituency Parsing\\nTo evaluate if the Transformer can generalize to other tasks we performed experiments on English\\nconstituency parsing. This task presents specific challenges: the output is subject to strong structural\\nconstraints and is significantly longer than the input. Furthermore, RNN sequence-to-sequence\\nmodels have not been able to attain state-of-the-art results in small-data regimes [37].\\nWe trained a 4-layer transformer with dmodel = 1024 on the Wall Street Journal (WSJ) portion of the\\nPenn Treebank [25], about 40K training sentences. We also trained it in a semi-supervised setting,\\nusing the larger high-confidence and BerkleyParser corpora from with approximately 17M sentences\\n[37]. We used a vocabulary of 16K tokens for the WSJ only setting and a vocabulary of 32K tokens\\nfor the semi-supervised setting.\\nWe performed only a small number of experiments to select the dropout, both attention and residual\\n(section 5.4), learning rates and beam size on the Section 22 development set, all other parameters\\nremained unchanged from the English-to-German base translation model. During inference, we\\n9\\nTable 4: The Transformer generalizes well to English constituency parsing (Results are on Section 23\\nof WSJ)\\nParser\\nTraining\\nWSJ 23 F1\\nVinyals & Kaiser el al. (2014) [37]\\nWSJ only, discriminative\\n88.3\\nPetrov et al. (2006) [29]\\nWSJ only, discriminative\\n90.4\\nZhu et al. (2013) [40]\\nWSJ only, discriminative\\n90.4\\nDyer et al. (2016) [8]\\nWSJ only, discriminative\\n91.7\\nTransformer (4 layers)\\nWSJ only, discriminative\\n91.3\\nZhu et al. (2013) [40]\\nsemi-supervised\\n91.3\\nHuang & Harper (2009) [14]\\nsemi-supervised\\n91.3\\nMcClosky et al. (2006) [26]\\nsemi-supervised\\n92.1\\nVinyals & Kaiser el al. (2014) [37]\\nsemi-supervised\\n92.1\\nTransformer (4 layers)\\nsemi-supervised\\n92.7\\nLuong et al. (2015) [23]\\nmulti-task\\n93.0\\nDyer et al. (2016) [8]\\ngenerative\\n93.3\\nincreased the maximum output length to input length + 300. We used a beam size of 21 and α = 0.3\\nfor both WSJ only and the semi-supervised setting.\\nOur results in Table 4 show that despite the lack of task-specific tuning our model performs sur-\\nprisingly well, yielding better results than all previously reported models with the exception of the\\nRecurrent Neural Network Grammar [8].\\nIn contrast to RNN sequence-to-sequence models [37], the Transformer outperforms the Berkeley-\\nParser [29] even when training only on the WSJ training set of 40K sentences.\\n7\\nConclusion\\nIn this work, we presented the Transformer, the first sequence transduction model based entirely on\\nattention, replacing the recurrent layers most commonly used in encoder-decoder architectures with\\nmulti-headed self-attention.\\nFor translation tasks, the Transformer can be trained significantly faster than architectures based\\non recurrent or convolutional layers. On both WMT 2014 English-to-German and WMT 2014\\nEnglish-to-French translation tasks, we achieve a new state of the art. In the former task our best\\nmodel outperforms even all previously reported ensembles.\\nWe are excited about the future of attention-based models and plan to apply them to other tasks. We\\nplan to extend the Transformer to problems involving input and output modalities other than text and\\nto investigate local, restricted attention mechanisms to efficiently handle large inputs and outputs\\nsuch as images, audio and video. Making generation less sequential is another research goals of ours.\\nThe code we used to train and evaluate our models is available at https://github.com/\\ntensorflow/tensor2tensor.\\nAcknowledgements\\nWe are grateful to Nal Kalchbrenner and Stephan Gouws for their fruitful\\ncomments, corrections and inspiration.\\nReferences\\n[1] Jimmy Lei Ba, Jamie Ryan Kiros, and Geoffrey E Hinton. Layer normalization. arXiv preprint\\narXiv:1607.06450, 2016.\\n[2] Dzmitry Bahdanau, Kyunghyun Cho, and Yoshua Bengio. Neural machine translation by jointly\\nlearning to align and translate. CoRR, abs/1409.0473, 2014.\\n[3] Denny Britz, Anna Goldie, Minh-Thang Luong, and Quoc V. Le. Massive exploration of neural\\nmachine translation architectures. CoRR, abs/1703.03906, 2017.\\n[4] Jianpeng Cheng, Li Dong, and Mirella Lapata. Long short-term memory-networks for machine\\nreading. arXiv preprint arXiv:1601.06733, 2016.\\n10\\n[5] Kyunghyun Cho, Bart van Merrienboer, Caglar Gulcehre, Fethi Bougares, Holger Schwenk,\\nand Yoshua Bengio. Learning phrase representations using rnn encoder-decoder for statistical\\nmachine translation. CoRR, abs/1406.1078, 2014.\\n[6] Francois Chollet. Xception: Deep learning with depthwise separable convolutions. arXiv\\npreprint arXiv:1610.02357, 2016.\\n[7] Junyoung Chung, Çaglar Gülçehre, Kyunghyun Cho, and Yoshua Bengio. Empirical evaluation\\nof gated recurrent neural networks on sequence modeling. CoRR, abs/1412.3555, 2014.\\n[8] Chris Dyer, Adhiguna Kuncoro, Miguel Ballesteros, and Noah A. Smith. Recurrent neural\\nnetwork grammars. In Proc. of NAACL, 2016.\\n[9] Jonas Gehring, Michael Auli, David Grangier, Denis Yarats, and Yann N. Dauphin. Convolu-\\ntional sequence to sequence learning. arXiv preprint arXiv:1705.03122v2, 2017.\\n[10] Alex Graves.\\nGenerating sequences with recurrent neural networks.\\narXiv preprint\\narXiv:1308.0850, 2013.\\n[11] Kaiming He, Xiangyu Zhang, Shaoqing Ren, and Jian Sun. Deep residual learning for im-\\nage recognition. In Proceedings of the IEEE Conference on Computer Vision and Pattern\\nRecognition, pages 770–778, 2016.\\n[12] Sepp Hochreiter, Yoshua Bengio, Paolo Frasconi, and Jürgen Schmidhuber. Gradient flow in\\nrecurrent nets: the difficulty of learning long-term dependencies, 2001.\\n[13] Sepp Hochreiter and Jürgen Schmidhuber. Long short-term memory. Neural computation,\\n9(8):1735–1780, 1997.\\n[14] Zhongqiang Huang and Mary Harper. Self-training PCFG grammars with latent annotations\\nacross languages. In Proceedings of the 2009 Conference on Empirical Methods in Natural\\nLanguage Processing, pages 832–841. ACL, August 2009.\\n[15] Rafal Jozefowicz, Oriol Vinyals, Mike Schuster, Noam Shazeer, and Yonghui Wu. Exploring\\nthe limits of language modeling. arXiv preprint arXiv:1602.02410, 2016.\\n[16] Łukasz Kaiser and Samy Bengio. Can active memory replace attention? In Advances in Neural\\nInformation Processing Systems, (NIPS), 2016.\\n[17] Łukasz Kaiser and Ilya Sutskever. Neural GPUs learn algorithms. In International Conference\\non Learning Representations (ICLR), 2016.\\n[18] Nal Kalchbrenner, Lasse Espeholt, Karen Simonyan, Aaron van den Oord, Alex Graves, and Ko-\\nray Kavukcuoglu. Neural machine translation in linear time. arXiv preprint arXiv:1610.10099v2,\\n2017.\\n[19] Yoon Kim, Carl Denton, Luong Hoang, and Alexander M. Rush. Structured attention networks.\\nIn International Conference on Learning Representations, 2017.\\n[20] Diederik Kingma and Jimmy Ba. Adam: A method for stochastic optimization. In ICLR, 2015.\\n[21] Oleksii Kuchaiev and Boris Ginsburg. Factorization tricks for LSTM networks. arXiv preprint\\narXiv:1703.10722, 2017.\\n[22] Zhouhan Lin, Minwei Feng, Cicero Nogueira dos Santos, Mo Yu, Bing Xiang, Bowen\\nZhou, and Yoshua Bengio. A structured self-attentive sentence embedding. arXiv preprint\\narXiv:1703.03130, 2017.\\n[23] Minh-Thang Luong, Quoc V. Le, Ilya Sutskever, Oriol Vinyals, and Lukasz Kaiser. Multi-task\\nsequence to sequence learning. arXiv preprint arXiv:1511.06114, 2015.\\n[24] Minh-Thang Luong, Hieu Pham, and Christopher D Manning. Effective approaches to attention-\\nbased neural machine translation. arXiv preprint arXiv:1508.04025, 2015.\\n11\\n[25] Mitchell P Marcus, Mary Ann Marcinkiewicz, and Beatrice Santorini. Building a large annotated\\ncorpus of english: The penn treebank. Computational linguistics, 19(2):313–330, 1993.\\n[26] David McClosky, Eugene Charniak, and Mark Johnson. Effective self-training for parsing. In\\nProceedings of the Human Language Technology Conference of the NAACL, Main Conference,\\npages 152–159. ACL, June 2006.\\n[27] Ankur Parikh, Oscar Täckström, Dipanjan Das, and Jakob Uszkoreit. A decomposable attention\\nmodel. In Empirical Methods in Natural Language Processing, 2016.\\n[28] Romain Paulus, Caiming Xiong, and Richard Socher. A deep reinforced model for abstractive\\nsummarization. arXiv preprint arXiv:1705.04304, 2017.\\n[29] Slav Petrov, Leon Barrett, Romain Thibaux, and Dan Klein. Learning accurate, compact,\\nand interpretable tree annotation. In Proceedings of the 21st International Conference on\\nComputational Linguistics and 44th Annual Meeting of the ACL, pages 433–440. ACL, July\\n2006.\\n[30] Ofir Press and Lior Wolf. Using the output embedding to improve language models. arXiv\\npreprint arXiv:1608.05859, 2016.\\n[31] Rico Sennrich, Barry Haddow, and Alexandra Birch. Neural machine translation of rare words\\nwith subword units. arXiv preprint arXiv:1508.07909, 2015.\\n[32] Noam Shazeer, Azalia Mirhoseini, Krzysztof Maziarz, Andy Davis, Quoc Le, Geoffrey Hinton,\\nand Jeff Dean. Outrageously large neural networks: The sparsely-gated mixture-of-experts\\nlayer. arXiv preprint arXiv:1701.06538, 2017.\\n[33] Nitish Srivastava, Geoffrey E Hinton, Alex Krizhevsky, Ilya Sutskever, and Ruslan Salakhutdi-\\nnov. Dropout: a simple way to prevent neural networks from overfitting. Journal of Machine\\nLearning Research, 15(1):1929–1958, 2014.\\n[34] Sainbayar Sukhbaatar, Arthur Szlam, Jason Weston, and Rob Fergus. End-to-end memory\\nnetworks. In C. Cortes, N. D. Lawrence, D. D. Lee, M. Sugiyama, and R. Garnett, editors,\\nAdvances in Neural Information Processing Systems 28, pages 2440–2448. Curran Associates,\\nInc., 2015.\\n[35] Ilya Sutskever, Oriol Vinyals, and Quoc VV Le. Sequence to sequence learning with neural\\nnetworks. In Advances in Neural Information Processing Systems, pages 3104–3112, 2014.\\n[36] Christian Szegedy, Vincent Vanhoucke, Sergey Ioffe, Jonathon Shlens, and Zbigniew Wojna.\\nRethinking the inception architecture for computer vision. CoRR, abs/1512.00567, 2015.\\n[37] Vinyals & Kaiser, Koo, Petrov, Sutskever, and Hinton. Grammar as a foreign language. In\\nAdvances in Neural Information Processing Systems, 2015.\\n[38] Yonghui Wu, Mike Schuster, Zhifeng Chen, Quoc V Le, Mohammad Norouzi, Wolfgang\\nMacherey, Maxim Krikun, Yuan Cao, Qin Gao, Klaus Macherey, et al. Google’s neural machine\\ntranslation system: Bridging the gap between human and machine translation. arXiv preprint\\narXiv:1609.08144, 2016.\\n[39] Jie Zhou, Ying Cao, Xuguang Wang, Peng Li, and Wei Xu. Deep recurrent models with\\nfast-forward connections for neural machine translation. CoRR, abs/1606.04199, 2016.\\n[40] Muhua Zhu, Yue Zhang, Wenliang Chen, Min Zhang, and Jingbo Zhu. Fast and accurate\\nshift-reduce constituent parsing. In Proceedings of the 51st Annual Meeting of the ACL (Volume\\n1: Long Papers), pages 434–443. ACL, August 2013.\\n12\\nAttention Visualizations\\nInput-Input Layer5\\nIt\\nis\\nin\\nthis\\nspirit\\nthat\\na\\nmajority\\nof\\nAmerican\\ngovernments\\nhave\\npassed\\nnew\\nlaws\\nsince\\n2009\\nmaking\\nthe\\nregistration\\nor\\nvoting\\nprocess\\nmore\\ndifficult\\n.\\n<EOS>\\n<pad>\\n<pad>\\n<pad>\\n<pad>\\n<pad>\\n<pad>\\nIt\\nis\\nin\\nthis\\nspirit\\nthat\\na\\nmajority\\nof\\nAmerican\\ngovernments\\nhave\\npassed\\nnew\\nlaws\\nsince\\n2009\\nmaking\\nthe\\nregistration\\nor\\nvoting\\nprocess\\nmore\\ndifficult\\n.\\n<EOS>\\n<pad>\\n<pad>\\n<pad>\\n<pad>\\n<pad>\\n<pad>\\nFigure 3: An example of the attention mechanism following long-distance dependencies in the\\nencoder self-attention in layer 5 of 6. Many of the attention heads attend to a distant dependency of\\nthe verb ‘making’, completing the phrase ‘making...more difficult’. Attentions here shown only for\\nthe word ‘making’. Different colors represent different heads. Best viewed in color.\\n13\\nInput-Input Layer5\\nThe\\nLaw\\nwill\\nnever\\nbe\\nperfect\\n,\\nbut\\nits\\napplication\\nshould\\nbe\\njust\\n-\\nthis\\nis\\nwhat\\nwe\\nare\\nmissing\\n,\\nin\\nmy\\nopinion\\n.\\n<EOS>\\n<pad>\\nThe\\nLaw\\nwill\\nnever\\nbe\\nperfect\\n,\\nbut\\nits\\napplication\\nshould\\nbe\\njust\\n-\\nthis\\nis\\nwhat\\nwe\\nare\\nmissing\\n,\\nin\\nmy\\nopinion\\n.\\n<EOS>\\n<pad>\\nInput-Input Layer5\\nThe\\nLaw\\nwill\\nnever\\nbe\\nperfect\\n,\\nbut\\nits\\napplication\\nshould\\nbe\\njust\\n-\\nthis\\nis\\nwhat\\nwe\\nare\\nmissing\\n,\\nin\\nmy\\nopinion\\n.\\n<EOS>\\n<pad>\\nThe\\nLaw\\nwill\\nnever\\nbe\\nperfect\\n,\\nbut\\nits\\napplication\\nshould\\nbe\\njust\\n-\\nthis\\nis\\nwhat\\nwe\\nare\\nmissing\\n,\\nin\\nmy\\nopinion\\n.\\n<EOS>\\n<pad>\\nFigure 4: Two attention heads, also in layer 5 of 6, apparently involved in anaphora resolution. Top:\\nFull attentions for head 5. Bottom: Isolated attentions from just the word ‘its’ for attention heads 5\\nand 6. Note that the attentions are very sharp for this word.\\n14\\nInput-Input Layer5\\nThe\\nLaw\\nwill\\nnever\\nbe\\nperfect\\n,\\nbut\\nits\\napplication\\nshould\\nbe\\njust\\n-\\nthis\\nis\\nwhat\\nwe\\nare\\nmissing\\n,\\nin\\nmy\\nopinion\\n.\\n<EOS>\\n<pad>\\nThe\\nLaw\\nwill\\nnever\\nbe\\nperfect\\n,\\nbut\\nits\\napplication\\nshould\\nbe\\njust\\n-\\nthis\\nis\\nwhat\\nwe\\nare\\nmissing\\n,\\nin\\nmy\\nopinion\\n.\\n<EOS>\\n<pad>\\nInput-Input Layer5\\nThe\\nLaw\\nwill\\nnever\\nbe\\nperfect\\n,\\nbut\\nits\\napplication\\nshould\\nbe\\njust\\n-\\nthis\\nis\\nwhat\\nwe\\nare\\nmissing\\n,\\nin\\nmy\\nopinion\\n.\\n<EOS>\\n<pad>\\nThe\\nLaw\\nwill\\nnever\\nbe\\nperfect\\n,\\nbut\\nits\\napplication\\nshould\\nbe\\njust\\n-\\nthis\\nis\\nwhat\\nwe\\nare\\nmissing\\n,\\nin\\nmy\\nopinion\\n.\\n<EOS>\\n<pad>\\nFigure 5: Many of the attention heads exhibit behaviour that seems related to the structure of the\\nsentence. We give two such examples above, from two different heads from the encoder self-attention\\nat layer 5 of 6. The heads clearly learned to perform different tasks.\\n15\\n'"
            ],
            "application/vnd.google.colaboratory.intrinsic+json": {
              "type": "string"
            }
          },
          "metadata": {},
          "execution_count": 22
        }
      ]
    },
    {
      "cell_type": "markdown",
      "source": [
        "## 02. 허깅페이스 데이터셋"
      ],
      "metadata": {
        "id": "NMYJWaDFLPa4"
      }
    },
    {
      "cell_type": "markdown",
      "source": [
        "허깅 페이스 허브는 NLP, 컴퓨터 비전, 오디오 분야 등 다양한 작업에 사용될 수 있는 100개 이상의 언어로된 5000개 이상의 데이터셋을 제공한다.\n",
        "\n",
        "허깅페이스 데이터셋 로더(HuggingFaceDatasetLoader)를 써봅시다."
      ],
      "metadata": {
        "id": "mBNsaKhdLlgz"
      }
    },
    {
      "cell_type": "markdown",
      "source": [
        "요것도 설치해봅시다"
      ],
      "metadata": {
        "id": "239TpsdGMXPE"
      }
    },
    {
      "cell_type": "code",
      "source": [
        "# sentence_transformer, faiss 없으면 에러나서 추가.\n",
        "\n",
        "!pip install datasets sentence_transformers"
      ],
      "metadata": {
        "id": "036n--nCMZdG",
        "outputId": "a3875eb9-5622-4d12-b8f4-575df3b329cb",
        "colab": {
          "base_uri": "https://localhost:8080/"
        }
      },
      "execution_count": null,
      "outputs": [
        {
          "output_type": "stream",
          "name": "stdout",
          "text": [
            "Requirement already satisfied: datasets in /usr/local/lib/python3.10/dist-packages (2.19.1)\n",
            "Requirement already satisfied: sentence_transformers in /usr/local/lib/python3.10/dist-packages (2.7.0)\n",
            "Collecting faiss-gpu\n",
            "  Downloading faiss_gpu-1.7.2-cp310-cp310-manylinux_2_17_x86_64.manylinux2014_x86_64.whl (85.5 MB)\n",
            "\u001b[2K     \u001b[90m━━━━━━━━━━━━━━━━━━━━━━━━━━━━━━━━━━━━━━━━\u001b[0m \u001b[32m85.5/85.5 MB\u001b[0m \u001b[31m6.7 MB/s\u001b[0m eta \u001b[36m0:00:00\u001b[0m\n",
            "\u001b[?25hRequirement already satisfied: filelock in /usr/local/lib/python3.10/dist-packages (from datasets) (3.14.0)\n",
            "Requirement already satisfied: numpy>=1.17 in /usr/local/lib/python3.10/dist-packages (from datasets) (1.25.2)\n",
            "Requirement already satisfied: pyarrow>=12.0.0 in /usr/local/lib/python3.10/dist-packages (from datasets) (14.0.2)\n",
            "Requirement already satisfied: pyarrow-hotfix in /usr/local/lib/python3.10/dist-packages (from datasets) (0.6)\n",
            "Requirement already satisfied: dill<0.3.9,>=0.3.0 in /usr/local/lib/python3.10/dist-packages (from datasets) (0.3.8)\n",
            "Requirement already satisfied: pandas in /usr/local/lib/python3.10/dist-packages (from datasets) (2.0.3)\n",
            "Requirement already satisfied: requests>=2.19.0 in /usr/local/lib/python3.10/dist-packages (from datasets) (2.31.0)\n",
            "Requirement already satisfied: tqdm>=4.62.1 in /usr/local/lib/python3.10/dist-packages (from datasets) (4.66.4)\n",
            "Requirement already satisfied: xxhash in /usr/local/lib/python3.10/dist-packages (from datasets) (3.4.1)\n",
            "Requirement already satisfied: multiprocess in /usr/local/lib/python3.10/dist-packages (from datasets) (0.70.16)\n",
            "Requirement already satisfied: fsspec[http]<=2024.3.1,>=2023.1.0 in /usr/local/lib/python3.10/dist-packages (from datasets) (2023.6.0)\n",
            "Requirement already satisfied: aiohttp in /usr/local/lib/python3.10/dist-packages (from datasets) (3.9.5)\n",
            "Requirement already satisfied: huggingface-hub>=0.21.2 in /usr/local/lib/python3.10/dist-packages (from datasets) (0.23.1)\n",
            "Requirement already satisfied: packaging in /usr/local/lib/python3.10/dist-packages (from datasets) (23.2)\n",
            "Requirement already satisfied: pyyaml>=5.1 in /usr/local/lib/python3.10/dist-packages (from datasets) (6.0.1)\n",
            "Requirement already satisfied: transformers<5.0.0,>=4.34.0 in /usr/local/lib/python3.10/dist-packages (from sentence_transformers) (4.41.0)\n",
            "Requirement already satisfied: torch>=1.11.0 in /usr/local/lib/python3.10/dist-packages (from sentence_transformers) (2.3.0+cu121)\n",
            "Requirement already satisfied: scikit-learn in /usr/local/lib/python3.10/dist-packages (from sentence_transformers) (1.2.2)\n",
            "Requirement already satisfied: scipy in /usr/local/lib/python3.10/dist-packages (from sentence_transformers) (1.11.4)\n",
            "Requirement already satisfied: Pillow in /usr/local/lib/python3.10/dist-packages (from sentence_transformers) (9.4.0)\n",
            "Requirement already satisfied: aiosignal>=1.1.2 in /usr/local/lib/python3.10/dist-packages (from aiohttp->datasets) (1.3.1)\n",
            "Requirement already satisfied: attrs>=17.3.0 in /usr/local/lib/python3.10/dist-packages (from aiohttp->datasets) (23.2.0)\n",
            "Requirement already satisfied: frozenlist>=1.1.1 in /usr/local/lib/python3.10/dist-packages (from aiohttp->datasets) (1.4.1)\n",
            "Requirement already satisfied: multidict<7.0,>=4.5 in /usr/local/lib/python3.10/dist-packages (from aiohttp->datasets) (6.0.5)\n",
            "Requirement already satisfied: yarl<2.0,>=1.0 in /usr/local/lib/python3.10/dist-packages (from aiohttp->datasets) (1.9.4)\n",
            "Requirement already satisfied: async-timeout<5.0,>=4.0 in /usr/local/lib/python3.10/dist-packages (from aiohttp->datasets) (4.0.3)\n",
            "Requirement already satisfied: typing-extensions>=3.7.4.3 in /usr/local/lib/python3.10/dist-packages (from huggingface-hub>=0.21.2->datasets) (4.11.0)\n",
            "Requirement already satisfied: charset-normalizer<4,>=2 in /usr/local/lib/python3.10/dist-packages (from requests>=2.19.0->datasets) (3.3.2)\n",
            "Requirement already satisfied: idna<4,>=2.5 in /usr/local/lib/python3.10/dist-packages (from requests>=2.19.0->datasets) (3.7)\n",
            "Requirement already satisfied: urllib3<3,>=1.21.1 in /usr/local/lib/python3.10/dist-packages (from requests>=2.19.0->datasets) (2.0.7)\n",
            "Requirement already satisfied: certifi>=2017.4.17 in /usr/local/lib/python3.10/dist-packages (from requests>=2.19.0->datasets) (2024.2.2)\n",
            "Requirement already satisfied: sympy in /usr/local/lib/python3.10/dist-packages (from torch>=1.11.0->sentence_transformers) (1.12)\n",
            "Requirement already satisfied: networkx in /usr/local/lib/python3.10/dist-packages (from torch>=1.11.0->sentence_transformers) (3.3)\n",
            "Requirement already satisfied: jinja2 in /usr/local/lib/python3.10/dist-packages (from torch>=1.11.0->sentence_transformers) (3.1.4)\n",
            "Requirement already satisfied: nvidia-cuda-nvrtc-cu12==12.1.105 in /usr/local/lib/python3.10/dist-packages (from torch>=1.11.0->sentence_transformers) (12.1.105)\n",
            "Requirement already satisfied: nvidia-cuda-runtime-cu12==12.1.105 in /usr/local/lib/python3.10/dist-packages (from torch>=1.11.0->sentence_transformers) (12.1.105)\n",
            "Requirement already satisfied: nvidia-cuda-cupti-cu12==12.1.105 in /usr/local/lib/python3.10/dist-packages (from torch>=1.11.0->sentence_transformers) (12.1.105)\n",
            "Requirement already satisfied: nvidia-cudnn-cu12==8.9.2.26 in /usr/local/lib/python3.10/dist-packages (from torch>=1.11.0->sentence_transformers) (8.9.2.26)\n",
            "Requirement already satisfied: nvidia-cublas-cu12==12.1.3.1 in /usr/local/lib/python3.10/dist-packages (from torch>=1.11.0->sentence_transformers) (12.1.3.1)\n",
            "Requirement already satisfied: nvidia-cufft-cu12==11.0.2.54 in /usr/local/lib/python3.10/dist-packages (from torch>=1.11.0->sentence_transformers) (11.0.2.54)\n",
            "Requirement already satisfied: nvidia-curand-cu12==10.3.2.106 in /usr/local/lib/python3.10/dist-packages (from torch>=1.11.0->sentence_transformers) (10.3.2.106)\n",
            "Requirement already satisfied: nvidia-cusolver-cu12==11.4.5.107 in /usr/local/lib/python3.10/dist-packages (from torch>=1.11.0->sentence_transformers) (11.4.5.107)\n",
            "Requirement already satisfied: nvidia-cusparse-cu12==12.1.0.106 in /usr/local/lib/python3.10/dist-packages (from torch>=1.11.0->sentence_transformers) (12.1.0.106)\n",
            "Requirement already satisfied: nvidia-nccl-cu12==2.20.5 in /usr/local/lib/python3.10/dist-packages (from torch>=1.11.0->sentence_transformers) (2.20.5)\n",
            "Requirement already satisfied: nvidia-nvtx-cu12==12.1.105 in /usr/local/lib/python3.10/dist-packages (from torch>=1.11.0->sentence_transformers) (12.1.105)\n",
            "Requirement already satisfied: triton==2.3.0 in /usr/local/lib/python3.10/dist-packages (from torch>=1.11.0->sentence_transformers) (2.3.0)\n",
            "Requirement already satisfied: nvidia-nvjitlink-cu12 in /usr/local/lib/python3.10/dist-packages (from nvidia-cusolver-cu12==11.4.5.107->torch>=1.11.0->sentence_transformers) (12.5.40)\n",
            "Requirement already satisfied: regex!=2019.12.17 in /usr/local/lib/python3.10/dist-packages (from transformers<5.0.0,>=4.34.0->sentence_transformers) (2023.12.25)\n",
            "Requirement already satisfied: tokenizers<0.20,>=0.19 in /usr/local/lib/python3.10/dist-packages (from transformers<5.0.0,>=4.34.0->sentence_transformers) (0.19.1)\n",
            "Requirement already satisfied: safetensors>=0.4.1 in /usr/local/lib/python3.10/dist-packages (from transformers<5.0.0,>=4.34.0->sentence_transformers) (0.4.3)\n",
            "Requirement already satisfied: python-dateutil>=2.8.2 in /usr/local/lib/python3.10/dist-packages (from pandas->datasets) (2.8.2)\n",
            "Requirement already satisfied: pytz>=2020.1 in /usr/local/lib/python3.10/dist-packages (from pandas->datasets) (2023.4)\n",
            "Requirement already satisfied: tzdata>=2022.1 in /usr/local/lib/python3.10/dist-packages (from pandas->datasets) (2024.1)\n",
            "Requirement already satisfied: joblib>=1.1.1 in /usr/local/lib/python3.10/dist-packages (from scikit-learn->sentence_transformers) (1.4.2)\n",
            "Requirement already satisfied: threadpoolctl>=2.0.0 in /usr/local/lib/python3.10/dist-packages (from scikit-learn->sentence_transformers) (3.5.0)\n",
            "Requirement already satisfied: six>=1.5 in /usr/local/lib/python3.10/dist-packages (from python-dateutil>=2.8.2->pandas->datasets) (1.16.0)\n",
            "Requirement already satisfied: MarkupSafe>=2.0 in /usr/local/lib/python3.10/dist-packages (from jinja2->torch>=1.11.0->sentence_transformers) (2.1.5)\n",
            "Requirement already satisfied: mpmath>=0.19 in /usr/local/lib/python3.10/dist-packages (from sympy->torch>=1.11.0->sentence_transformers) (1.3.0)\n",
            "Installing collected packages: faiss-gpu\n",
            "Successfully installed faiss-gpu-1.7.2\n"
          ]
        }
      ]
    },
    {
      "cell_type": "markdown",
      "source": [
        "이제 로딩해봅시다."
      ],
      "metadata": {
        "id": "LjTywFpVMdWw"
      }
    },
    {
      "cell_type": "code",
      "source": [
        "from langchain_community.document_loaders import HuggingFaceDatasetLoader\n",
        "\n",
        "dataset_name = \"imdb\"  # 데이터셋 이름을 \"imdb\"로 설정합니다.\n",
        "page_content_column = \"text\"  # 페이지 내용이 포함된 열의 이름을 \"text\"로 설정합니다.\n",
        "\n",
        "# HuggingFaceDatasetLoader를 사용하여 데이터셋을 로드합니다.\n",
        "# 데이터셋 이름과 페이지 내용 열 이름을 전달합니다.\n",
        "loader = HuggingFaceDatasetLoader(dataset_name, page_content_column)\n",
        "\n",
        "data = loader.load()  # 로더를 사용하여 데이터를 불러옵니다\n",
        "\n",
        "data[:3] # 처음 3개 요소를 봅시다."
      ],
      "metadata": {
        "id": "b4BzNqdVL9N6",
        "outputId": "7c22aaf7-4e70-473a-d87c-a8e982f353b7",
        "colab": {
          "base_uri": "https://localhost:8080/"
        }
      },
      "execution_count": null,
      "outputs": [
        {
          "output_type": "stream",
          "name": "stderr",
          "text": [
            "/usr/local/lib/python3.10/dist-packages/datasets/load.py:2547: FutureWarning: 'use_auth_token' was deprecated in favor of 'token' in version 2.14.0 and will be removed in 3.0.0.\n",
            "You can remove this warning by passing 'token=<use_auth_token>' instead.\n",
            "  warnings.warn(\n"
          ]
        },
        {
          "output_type": "execute_result",
          "data": {
            "text/plain": [
              "[Document(page_content='\"I rented I AM CURIOUS-YELLOW from my video store because of all the controversy that surrounded it when it was first released in 1967. I also heard that at first it was seized by U.S. customs if it ever tried to enter this country, therefore being a fan of films considered \\\\\"controversial\\\\\" I really had to see this for myself.<br /><br />The plot is centered around a young Swedish drama student named Lena who wants to learn everything she can about life. In particular she wants to focus her attentions to making some sort of documentary on what the average Swede thought about certain political issues such as the Vietnam War and race issues in the United States. In between asking politicians and ordinary denizens of Stockholm about their opinions on politics, she has sex with her drama teacher, classmates, and married men.<br /><br />What kills me about I AM CURIOUS-YELLOW is that 40 years ago, this was considered pornographic. Really, the sex and nudity scenes are few and far between, even then it\\'s not shot like some cheaply made porno. While my countrymen mind find it shocking, in reality sex and nudity are a major staple in Swedish cinema. Even Ingmar Bergman, arguably their answer to good old boy John Ford, had sex scenes in his films.<br /><br />I do commend the filmmakers for the fact that any sex shown in the film is shown for artistic purposes rather than just to shock people and make money to be shown in pornographic theaters in America. I AM CURIOUS-YELLOW is a good film for anyone wanting to study the meat and potatoes (no pun intended) of Swedish cinema. But really, this film doesn\\'t have much of a plot.\"', metadata={'label': 0}),\n",
              " Document(page_content='\"\\\\\"I Am Curious: Yellow\\\\\" is a risible and pretentious steaming pile. It doesn\\'t matter what one\\'s political views are because this film can hardly be taken seriously on any level. As for the claim that frontal male nudity is an automatic NC-17, that isn\\'t true. I\\'ve seen R-rated films with male nudity. Granted, they only offer some fleeting views, but where are the R-rated films with gaping vulvas and flapping labia? Nowhere, because they don\\'t exist. The same goes for those crappy cable shows: schlongs swinging in the breeze but not a clitoris in sight. And those pretentious indie movies like The Brown Bunny, in which we\\'re treated to the site of Vincent Gallo\\'s throbbing johnson, but not a trace of pink visible on Chloe Sevigny. Before crying (or implying) \\\\\"double-standard\\\\\" in matters of nudity, the mentally obtuse should take into account one unavoidably obvious anatomical difference between men and women: there are no genitals on display when actresses appears nude, and the same cannot be said for a man. In fact, you generally won\\'t see female genitals in an American film in anything short of porn or explicit erotica. This alleged double-standard is less a double standard than an admittedly depressing ability to come to terms culturally with the insides of women\\'s bodies.\"', metadata={'label': 0}),\n",
              " Document(page_content='\"If only to avoid making this type of film in the future. This film is interesting as an experiment but tells no cogent story.<br /><br />One might feel virtuous for sitting thru it because it touches on so many IMPORTANT issues but it does so without any discernable motive. The viewer comes away with no new perspectives (unless one comes up with one while one\\'s mind wanders, as it will invariably do during this pointless film).<br /><br />One might better spend one\\'s time staring out a window at a tree growing.<br /><br />\"', metadata={'label': 0})]"
            ]
          },
          "metadata": {},
          "execution_count": 26
        }
      ]
    },
    {
      "cell_type": "markdown",
      "source": [
        "이 데이터셋을 이용해서 질문에 답변해봅시다.\n",
        "\n",
        "HuggingFaceDatasetLoader를 사용해서 데이터를 로드하고, VectorstoreIndexCreator를 통해서 벡터 저장소 기반의 인덱스를 생성해봅니다."
      ],
      "metadata": {
        "id": "qrRhkQusNDOH"
      }
    },
    {
      "cell_type": "code",
      "source": [
        "from langchain.indexes import VectorstoreIndexCreator\n",
        "from langchain_community.document_loaders.hugging_face_dataset import (\n",
        "    HuggingFaceDatasetLoader,\n",
        ")\n",
        "from langchain_google_genai import ChatGoogleGenerativeAI\n",
        "\n",
        "dataset_name = \"tweet_eval\"  # 데이터셋 이름을 \"tweet_eval\"로 설정합니다.\n",
        "page_content_column = \"text\"  # 페이지 내용이 포함된 열의 이름을 \"text\"로 설정합니다.\n",
        "name = \"stance_climate\"  # 데이터셋의 특정 부분을 식별하는 이름을 \"stance_climate\"로 설정합니다.\n",
        "\n",
        "# HuggingFaceDatasetLoader를 사용하여 데이터셋을 로드합니다.\n",
        "loader = HuggingFaceDatasetLoader(dataset_name, page_content_column, name)\n",
        "\n",
        "# 이거 문서에는 없는데 컴파일 안되서 추가합니다.\n",
        "from langchain.embeddings import HuggingFaceEmbeddings\n",
        "from langchain.vectorstores import FAISS\n",
        "\n",
        "# 로더에서 벡터 저장소 인덱스를 생성합니다.\n",
        "index = VectorstoreIndexCreator(\n",
        "    embedding=HuggingFaceEmbeddings(), # 요것도 바뀌어서 추가해줘야 합니다.\n",
        ").from_loaders([loader])\n",
        "\n",
        "query = \"What are the most used hashtag?\"  # 가장 많이 사용되는 해시태그는 무엇인가요?\n",
        "result = index.query( # 요거 사용법이 바뀌어서 llm을 꼭 넣어줘야 합니다.\n",
        "    question=query,\n",
        "    llm=ChatGoogleGenerativeAI(\n",
        "      model=\"gemini-1.5-pro-latest\", # gemini-pro로 하면 에러가 나는데 요렇게 바꾸면 됨. https://github.com/google-gemini/generative-ai-python/issues/278#issuecomment-2055815213\n",
        "      google_api_key=GOOGLE_API_KEY,\n",
        "      temperature=0, #창의성\n",
        "      max_output_tokens=204ㄱ8,\n",
        "    ),\n",
        ")\n",
        "\n",
        "result"
      ],
      "metadata": {
        "id": "rqp78sUzNTKC",
        "outputId": "fa2f284d-52fe-4b66-ce6b-7b573b78d521",
        "colab": {
          "base_uri": "https://localhost:8080/",
          "height": 177
        }
      },
      "execution_count": null,
      "outputs": [
        {
          "output_type": "stream",
          "name": "stderr",
          "text": [
            "/usr/local/lib/python3.10/dist-packages/huggingface_hub/file_download.py:1132: FutureWarning: `resume_download` is deprecated and will be removed in version 1.0.0. Downloads always resume when possible. If you want to force a new download, use `force_download=True`.\n",
            "  warnings.warn(\n",
            "/usr/local/lib/python3.10/dist-packages/langchain/indexes/vectorstore.py:129: UserWarning: Using InMemoryVectorStore as the default vectorstore.This memory store won't persist data. You should explicitlyspecify a vectorstore when using VectorstoreIndexCreator\n",
            "  warnings.warn(\n",
            "/usr/local/lib/python3.10/dist-packages/datasets/load.py:2547: FutureWarning: 'use_auth_token' was deprecated in favor of 'token' in version 2.14.0 and will be removed in 3.0.0.\n",
            "You can remove this warning by passing 'token=<use_auth_token>' instead.\n",
            "  warnings.warn(\n"
          ]
        },
        {
          "output_type": "execute_result",
          "data": {
            "text/plain": [
              "'The most used hashtag is #SemST. \\n'"
            ],
            "application/vnd.google.colaboratory.intrinsic+json": {
              "type": "string"
            }
          },
          "metadata": {},
          "execution_count": 44
        }
      ]
    },
    {
      "cell_type": "markdown",
      "source": [
        "## 03. 웹 크롤링"
      ],
      "metadata": {
        "id": "GtiY25fgLZoj"
      }
    },
    {
      "cell_type": "markdown",
      "source": [
        "호오..여기는 참으로 관심이 가는 항목.\n",
        "렛츠고!"
      ],
      "metadata": {
        "id": "mVPvbT6QURgC"
      }
    },
    {
      "cell_type": "markdown",
      "source": [
        "필요한 것들 설치해봅시다.\n",
        "\n",
        "역시나 문서에 있는 걸로는 제대로 동작하지 않는다.\n",
        "colab이기 때문에 playwright 동작을 하기 위한 방법이 필요하다.\n",
        "\n",
        "이 [문서](https://jonghoonpark.com/2023/05/26/google-colab%EC%97%90%EC%84%9C-playwright-%EC%82%AC%EC%9A%A9%ED%95%98%EA%B8%B0)를 참고하자."
      ],
      "metadata": {
        "id": "9n8r6vmfUiC6"
      }
    },
    {
      "cell_type": "code",
      "source": [
        "!wget https://dl.google.com/linux/direct/google-chrome-stable_current_amd64.deb\n",
        "!apt install ./google-chrome-stable_current_amd64.deb\n",
        "\n",
        "!pip install nest_asyncio\n",
        "!pip install pytest-playwright\n",
        "\n",
        "!pip install -qU playwright beautifulsoup4 html2text tiktoken\n",
        "\n",
        "import nest_asyncio\n",
        "nest_asyncio.apply()"
      ],
      "metadata": {
        "id": "DiyPH9PWUoqM",
        "outputId": "09849e99-573f-4365-9e7d-0404383eff7d",
        "colab": {
          "base_uri": "https://localhost:8080/"
        }
      },
      "execution_count": null,
      "outputs": [
        {
          "output_type": "stream",
          "name": "stdout",
          "text": [
            "--2024-05-25 15:46:29--  https://dl.google.com/linux/direct/google-chrome-stable_current_amd64.deb\n",
            "Resolving dl.google.com (dl.google.com)... 172.217.214.91, 172.217.214.93, 172.217.214.190, ...\n",
            "Connecting to dl.google.com (dl.google.com)|172.217.214.91|:443... connected.\n",
            "HTTP request sent, awaiting response... 200 OK\n",
            "Length: 107624500 (103M) [application/x-debian-package]\n",
            "Saving to: ‘google-chrome-stable_current_amd64.deb.3’\n",
            "\n",
            "google-chrome-stabl 100%[===================>] 102.64M   253MB/s    in 0.4s    \n",
            "\n",
            "2024-05-25 15:46:29 (253 MB/s) - ‘google-chrome-stable_current_amd64.deb.3’ saved [107624500/107624500]\n",
            "\n",
            "Reading package lists... Done\n",
            "Building dependency tree... Done\n",
            "Reading state information... Done\n",
            "Note, selecting 'google-chrome-stable' instead of './google-chrome-stable_current_amd64.deb'\n",
            "google-chrome-stable is already the newest version (125.0.6422.112-1).\n",
            "0 upgraded, 0 newly installed, 0 to remove and 44 not upgraded.\n",
            "Requirement already satisfied: nest_asyncio in /usr/local/lib/python3.10/dist-packages (1.6.0)\n",
            "Requirement already satisfied: pytest-playwright in /usr/local/lib/python3.10/dist-packages (0.5.0)\n",
            "Requirement already satisfied: playwright>=1.18 in /usr/local/lib/python3.10/dist-packages (from pytest-playwright) (1.44.0)\n",
            "Requirement already satisfied: pytest<9.0.0,>=6.2.4 in /usr/local/lib/python3.10/dist-packages (from pytest-playwright) (7.4.4)\n",
            "Requirement already satisfied: pytest-base-url<3.0.0,>=1.0.0 in /usr/local/lib/python3.10/dist-packages (from pytest-playwright) (2.1.0)\n",
            "Requirement already satisfied: python-slugify<9.0.0,>=6.0.0 in /usr/local/lib/python3.10/dist-packages (from pytest-playwright) (8.0.4)\n",
            "Requirement already satisfied: greenlet==3.0.3 in /usr/local/lib/python3.10/dist-packages (from playwright>=1.18->pytest-playwright) (3.0.3)\n",
            "Requirement already satisfied: pyee==11.1.0 in /usr/local/lib/python3.10/dist-packages (from playwright>=1.18->pytest-playwright) (11.1.0)\n",
            "Requirement already satisfied: typing-extensions in /usr/local/lib/python3.10/dist-packages (from pyee==11.1.0->playwright>=1.18->pytest-playwright) (4.11.0)\n",
            "Requirement already satisfied: iniconfig in /usr/local/lib/python3.10/dist-packages (from pytest<9.0.0,>=6.2.4->pytest-playwright) (2.0.0)\n",
            "Requirement already satisfied: packaging in /usr/local/lib/python3.10/dist-packages (from pytest<9.0.0,>=6.2.4->pytest-playwright) (23.2)\n",
            "Requirement already satisfied: pluggy<2.0,>=0.12 in /usr/local/lib/python3.10/dist-packages (from pytest<9.0.0,>=6.2.4->pytest-playwright) (1.5.0)\n",
            "Requirement already satisfied: exceptiongroup>=1.0.0rc8 in /usr/local/lib/python3.10/dist-packages (from pytest<9.0.0,>=6.2.4->pytest-playwright) (1.2.1)\n",
            "Requirement already satisfied: tomli>=1.0.0 in /usr/local/lib/python3.10/dist-packages (from pytest<9.0.0,>=6.2.4->pytest-playwright) (2.0.1)\n",
            "Requirement already satisfied: requests>=2.9 in /usr/local/lib/python3.10/dist-packages (from pytest-base-url<3.0.0,>=1.0.0->pytest-playwright) (2.31.0)\n",
            "Requirement already satisfied: text-unidecode>=1.3 in /usr/local/lib/python3.10/dist-packages (from python-slugify<9.0.0,>=6.0.0->pytest-playwright) (1.3)\n",
            "Requirement already satisfied: charset-normalizer<4,>=2 in /usr/local/lib/python3.10/dist-packages (from requests>=2.9->pytest-base-url<3.0.0,>=1.0.0->pytest-playwright) (3.3.2)\n",
            "Requirement already satisfied: idna<4,>=2.5 in /usr/local/lib/python3.10/dist-packages (from requests>=2.9->pytest-base-url<3.0.0,>=1.0.0->pytest-playwright) (3.7)\n",
            "Requirement already satisfied: urllib3<3,>=1.21.1 in /usr/local/lib/python3.10/dist-packages (from requests>=2.9->pytest-base-url<3.0.0,>=1.0.0->pytest-playwright) (2.0.7)\n",
            "Requirement already satisfied: certifi>=2017.4.17 in /usr/local/lib/python3.10/dist-packages (from requests>=2.9->pytest-base-url<3.0.0,>=1.0.0->pytest-playwright) (2024.2.2)\n",
            "\u001b[2K     \u001b[90m━━━━━━━━━━━━━━━━━━━━━━━━━━━━━━━━━━━━━━━━\u001b[0m \u001b[32m1.1/1.1 MB\u001b[0m \u001b[31m5.8 MB/s\u001b[0m eta \u001b[36m0:00:00\u001b[0m\n",
            "\u001b[?25h"
          ]
        }
      ]
    },
    {
      "cell_type": "markdown",
      "source": [
        "이제 되려나..\n",
        "\n",
        "근데..이건 너무 그대로 파싱하는 것이라..이래저래 귀찮다."
      ],
      "metadata": {
        "id": "XIeJcOs9WK-E"
      }
    },
    {
      "cell_type": "code",
      "source": [
        "from langchain_community.document_loaders import AsyncChromiumLoader\n",
        "from langchain_community.document_transformers import Html2TextTransformer\n",
        "from langchain_community.document_transformers import BeautifulSoupTransformer\n",
        "\n",
        "\n",
        "# 크롤링할 URL 목록을 설정합니다.\n",
        "urls = [\"https://n.news.naver.com/article/011/0004345031?cds=news_media_pc\"]\n",
        "\n",
        "# AsyncChromiumLoader를 사용하여 URL에서 비동기적으로 문서를 로드합니다.\n",
        "loader = AsyncChromiumLoader(urls)\n",
        "# 로드된 문서를 가져옵니다.\n",
        "docs = loader.load()\n",
        "\n",
        "# 0번 문서의 내용 중 중간의 500자를 출력합니다.\n",
        "docs[0].page_content[6000:6500]\n",
        "\n",
        "# html2text = Html2TextTransformer()  # HTML을 텍스트로 변환하는 객체를 생성합니다.\n",
        "# docs_transformed = html2text.transform_documents(\n",
        "#     docs\n",
        "# )  # HTML 문서를 텍스트로 변환합니다.\n",
        "# print(docs_transformed[0].page_content)\n",
        "\n",
        "# # 변환 작업\n",
        "bs_transformer = BeautifulSoupTransformer()\n",
        "# HTML 문서를 변환합니다. p, li, div, a 태그의 내용을 추출합니다.\n",
        "docs_transformed = bs_transformer.transform_documents(\n",
        "    docs,\n",
        "    # tags_to_extract=[\"p\", \"li\", \"div\", \"a\"]\n",
        "    tags_to_extract=[\"div\"],\n",
        ")"
      ],
      "metadata": {
        "id": "MAOW0R54WMz1",
        "outputId": "f02f47f4-0c3d-471f-8b75-96ca6822c714",
        "colab": {
          "base_uri": "https://localhost:8080/"
        }
      },
      "execution_count": null,
      "outputs": [
        {
          "output_type": "stream",
          "name": "stdout",
          "text": [
            "본문 바로가기\n",
            "\n",
            "이전 페이지\n",
            "\n",
            "#  서울경제\n",
            "\n",
            "구독\n",
            "\n",
            "**언론사를 구독하면 메인** 에서 바로 볼 수 있어요!\n",
            "\n",
            "메인 뉴스판에서 서울경제 주요뉴스를  \n",
            "볼 수 있습니다. 보러가기\n",
            "\n",
            "**서울경제** 언론사 구독 해지되었습니다.\n",
            "\n",
            "  * 주요뉴스\n",
            "  * 숏폼\n",
            "  * 정치\n",
            "  * 경제\n",
            "  * 사회\n",
            "  * 생활\n",
            "  * 세계\n",
            "  * IT\n",
            "  * 사설/칼럼\n",
            "  * 신문보기\n",
            "  * 랭킹\n",
            "\n",
            "* * *\n",
            "\n",
            "_PICK_ _안내_\n",
            "\n",
            "언론사가 주요기사로  \n",
            "선정한 기사입니다. 언론사별 바로가기 닫기\n",
            "\n",
            "## 대통령실 \"연금개혁, 쫓기듯 타결 안돼…청년세대 의견 반영해야\"\n",
            "\n",
            "_입력_ 2024.05.25. 오후 6:37\n",
            "\n",
            "기사원문\n",
            "\n",
            "_박동휘 기자_\n",
            "\n",
            "  * _박동휘 기자_\n",
            "\n",
            "구독 구독중\n",
            "\n",
            "구독자\n",
            "\n",
            "    0\n",
            "\n",
            "응원수\n",
            "\n",
            "    0\n",
            "\n",
            "더보기\n",
            "\n",
            "추천\n",
            "\n",
            "  * 쏠쏠정보 0\n",
            "  * 흥미진진 0\n",
            "  * 공감백배 0\n",
            "  * 분석탁월 0\n",
            "  * 후속강추 0\n",
            "\n",
            "댓글\n",
            "\n",
            "본문 요약봇\n",
            "\n",
            "**본문 요약봇도움말** 자동 추출 기술로 요약된 내용입니다. 요약 기술의 특성상 본문의 주요 내용이 제외될 수 있어, 전체 맥락을 이해하기\n",
            "위해서는 기사 본문 전체보기를 권장합니다. 닫기\n",
            "\n",
            "텍스트 음성 변환 서비스 사용하기\n",
            "\n",
            "_성별_ 남성 여성\n",
            "\n",
            "_말하기 속도_ 느림 보통 빠름\n",
            "\n",
            "이동 통신망을 이용하여 음성을 재생하면 별도의 데이터 통화료가 부과될 수 있습니다.\n",
            "\n",
            "본문듣기 시작\n",
            "\n",
            "닫기\n",
            "\n",
            "글자 크기 변경하기\n",
            "\n",
            "  * 가 _1단계_ 작게\n",
            "  * 가 _2단계_ 보통\n",
            "  * 가 _3단계_ 크게\n",
            "  * 가 _4단계_ 아주크게\n",
            "  * 가 _5단계_ 최대크게\n",
            "\n",
            "SNS 보내기\n",
            "\n",
            "인쇄하기\n",
            "\n",
            "_연합뉴스_  \n",
            "[서울경제]  \n",
            "  \n",
            "대통령실은 25일 이재명 더불어민주당 대표가 기자회견을 열어 국민연금 개혁안을 21대 국회에서 처리하자고 윤석열 대통령과 국민의힘에 거듭\n",
            "요구한 데 대해 시간에 쫓기듯 졸속으로 결정해서는 안 된다고 밝혔다.  \n",
            "  \n",
            "대통령실 고위 관계자는 이날 \"보험료율과 소득대체율 수치에 대한 결정 자체도 중요하지만, 국민연금은 국민 모두의 의사를 반영해 민주적으로\n",
            "결정해 나가는 대타협의 과정과 절차도 매우 중요하다\"며 \"연금은 국민 모두의 삶에 미치는 영향이 매우 큰 사안이기 때문\"이라고 말했다.\n",
            "그러면서 \"특히 기성세대보다는 청년과 미래세대에 미치는 영향력이 엄청난 사안\"이라며 \"따라서 여야가 시간에 쫓기듯 졸속으로 결정하기보다는\n",
            "국민 전체의 의견, 특히 청년세대의 의견을 충분히 반영하여 결정하자는 것\"이라고 강조했다.  \n",
            "  \n",
            "이 고위 관계자는 \"오래 끌자는 것이 아니다\"며 \"이 대표가 여당 안을 받겠다고 양보할 의사를 이미 밝혔으므로 국민적 공감대를 형성하는 데\n",
            "그렇게 오랜 시간이 필요하지 않을 것\"이라고 덧붙였다.  \n",
            "  \n",
            "앞서 이 대표는 이날 오후 국회에서 긴급 기자회견을 열어 \"1% 때문에 지금까지 해 온 연금개혁을 무산시킬 수 없다\"며 \"여당이 제시한\n",
            "소득대체율 44%를 전적으로 수용하겠다\"고 밝혔다. 이어 정부·여당을 향해 \"윤석열 대통령께 간곡하게 부탁드린다. 연금개혁을 공언했던 약속을\n",
            "국민들이 기억하고 있다\"며 \"민주당의 제안을 받아주길 바란다. 국민의힘은 스스로 제시한 44%를 저희가 전적으로 수용했으니 바로 입법을 위한\n",
            "구체적 협의에 나서달라\"고 촉구했다.  \n",
            "  \n",
            "\n",
            "박동휘 기자(slypdh@sedaily.com)\n",
            "\n",
            "#### 기자 프로필\n",
            "\n",
            "_박동휘 기자_\n",
            "\n",
            "구독 구독중\n",
            "\n",
            "_구독자_ _0_\n",
            "\n",
            "_응원수_ _0_\n",
            "\n",
            "  * 공포에 떠는 여군에 “예쁜데”…하마스 무장대원이 저지른 만행\n",
            "  * “UFO 비행장면 포착?”…美공군 공개한 '이 사진' 무엇\n",
            "\n",
            "#### 서울경제의 구독 많은 기자를 구독해보세요!\n",
            "\n",
            "닫기\n",
            "\n",
            "Copyright ⓒ 서울경제. All rights reserved. 무단 전재 및 재배포 금지.\n",
            "\n",
            "이 기사는 언론사에서 _정치_ 섹션으로 분류했습니다.\n",
            "\n",
            "_기사 섹션 분류 안내_\n",
            "\n",
            "기사의 섹션 정보는 해당 언론사의 분류를 따르고 있습니다. 언론사는 개별 기사를 2개 이상 섹션으로 중복 분류할 수 있습니다.\n",
            "\n",
            "닫기\n",
            "\n",
            "구독\n",
            "\n",
            "**메인에서** 바로 보는 언론사 편집 뉴스 지금 바로 구독해보세요!\n",
            "\n",
            "구독중\n",
            "\n",
            "**메인에서** 바로 보는 언론사 편집 뉴스 지금 바로 확인해보세요!\n",
            "\n",
            "  * [서울포럼 2024] 기술패권 시대 생존 전략 QR 코드를 클릭하면 크게 볼 수 있어요.\n",
            "\n",
            "QR을 촬영해보세요. **[서울포럼 2024] 기술패권 시대 생존 전략**\n",
            "\n",
            "________\n",
            "\n",
            "닫기\n",
            "\n",
            "  * 서울경제 미술 전문 버티컬 미디어 '아트씽' 오픈! QR 코드를 클릭하면 크게 볼 수 있어요.\n",
            "\n",
            "QR을 촬영해보세요. **서울경제 미술 전문 버티컬 미디어 '아트씽' 오픈!**\n",
            "\n",
            "________\n",
            "\n",
            "닫기\n",
            "\n",
            "###  주요뉴스해당 언론사에서 선정하며 _언론사 페이지(아웃링크)_ 로 이동해 볼 수 있습니다.\n",
            "\n",
            "  * 박서준, 10살 연하 인플루언서와 열애설 \"사생활 확인 불가\"[공식]\n",
            "  * 강형욱 '55분 해명'에도···변호사 \"열 받아 무료 변론\", 前 직원 \"폭언 생생\"\n",
            "  * 잔디 훼손 '원천 차단', 팬들에겐 '스페셜 우비' 선물···임영웅, 오늘부터 '상암벌' 선다\n",
            "  * \"생명체 존재 가능성 있어\"···지구와 온도 비슷한 '외계 금성' 발견\n",
            "  * 황의조, 튀르키예 리그 최종전서 데뷔골\n",
            "\n",
            "**이 기사를 추천합니다**\n",
            "\n",
            "기사 추천은 24시간 내 50회까지 참여할 수 있습니다.\n",
            "\n",
            "닫기\n",
            "\n",
            "  * 쏠쏠정보 0\n",
            "  * 흥미진진 0\n",
            "  * 공감백배 0\n",
            "  * 분석탁월 0\n",
            "  * 후속강추 0\n",
            "\n",
            "**모두에게 보여주고 싶은 기사라면 _?_ beta** **이 기사를 추천합니다** 버튼을 눌러주세요.  \n",
            "집계 기간 동안 추천을 많이 받은 기사는 네이버 자동 기사배열 영역에 추천 요소로 활용됩니다. 레이어 닫기\n",
            "\n",
            "_서울경제_ 언론사홈 바로가기\n",
            "\n",
            "_언론사_ 구독 후 기사보기 __ 구독 없이 계속 보기\n",
            "\n",
            "_기자_ 구독 후 기사보기 __ 구독 없이 계속 보기\n",
            "\n",
            "##  _서울경제_ 헤드라인\n",
            "\n",
            "  * 대통령실 \"연금개혁, 쫓기듯 타결 안돼…청년세대 의견 반영해야\"\n",
            "\n",
            "대통령실은 25일 이재명 더불어민주당 대표가 기자회견을 열어 국민연금 개혁안을 21대 국회에서 처리하자고 윤석열 대통령과 국민의힘에 거듭\n",
            "요구한 데 대해 시간에 쫓기듯 졸속으로 결정해서는 안 된다고 밝혔다. 대통령실\n",
            "\n",
            "  * 이재명 \"국민 힘으로 항복시켜야\"…조국 \"8년 전 일 다시 겪을 것\"\n",
            "\n",
            "이재명 더불어민주당 대표는 25일 ‘순직 해병 진상규명 방해 및 사건 은폐 등의 진상규명을 위한 특별검사 임명법(채상병특검법)’\n",
            "재의요구권(거부권)을 행사한 윤석열 대통령을 겨냥 \"대통령이 국회 입법권을 무시하고 상\n",
            "\n",
            "  * 강형욱 '55분 해명'에도…변호사 \"열 받아 무료 변론\", 前 직원 \"폭언 생생\"\n",
            "\n",
            "직원들을 감시하기 위해 직원보다 많은 폐쇄회로TV(CCTV)를 설치하고 사내 메신저를 직원들의 동의 없이 감시했다는 의혹 등에 대해 반려동물\n",
            "훈련사 강형욱 보듬컴퍼니 대표와 그의 배우자 수잔 엘더가 24일 입을 열었\n",
            "\n",
            "  * 경복궁 낙서 테러 배후 '이팀장' 구속…사주 5개월만\n",
            "\n",
            "10대 청소년들에게 경복궁 담장에 불법 스트리밍 사이트를 연상시키는 문구를 스프레이로 낙서하도록 지시한 30대 남성이 25일 구속됐다.\n",
            "서울중앙지법 남천규 영장전담 부장판사는 이날 문화재보호법상 손상 또는 은닉 및\n",
            "\n",
            "  * “5% 확률로 살아돌아와”…금지된 박수소리 울려퍼진 英의회 무슨 일\n",
            "\n",
            "의사당 내에서 박수치는 게 허용되지 않는 영국에서 최근 모든 의원이 기립박수를 치는 일이 있었다. 박수를 받은 주인공은 보수당 하원 의원인\n",
            "크레이그 맥킨레이다. 25일(현지시간) 영국 일간 텔레그래프에 따르면 맥킨레\n",
            "\n",
            "  * 걸그룹 마신 물병이 장기자랑 상품?…대학 축제에서 생긴 일\n",
            "\n",
            "충남의 한 대학 축제에서 사회자가 초대 가수 걸그룹이 마시던 물병을 학생들에게 장기자랑 상품으로 나눠줘 논란이 일고 있다. 비판이 이어지자\n",
            "대학 측과 사회자 모두 사과문을 발표했다. 25일 해당 대학 학생회는 당시\n",
            "\n",
            "이전 뉴스들 보기\n",
            "\n",
            "1\n",
            "\n",
            "3\n",
            "\n",
            "다음 뉴스들 보기\n",
            "\n",
            "_서울경제_ 가 이 기사의 댓글 정책을 결정합니다.  안내 **댓글 정책 언론사별 선택제** 섹션별로 기사의 댓글 제공여부와 정렬방식을  \n",
            "언론사가 직접 결정합니다. 기사 섹션 정보가  \n",
            "정치/선거를 포함하는 경우 정치/선거섹션 정책이  \n",
            "적용됩니다. 단, 운영규정에 따른  \n",
            "삭제나 이용제한 조치는 네이버가 직접  \n",
            "수행합니다. 레이어 닫기\n",
            "\n",
            "**_서울경제_ 헤드라인** 더보기\n",
            "\n",
            "  * 대통령실 \"연금개혁, 쫓기듯 타결 안돼…청년세대 의견 반영해야\"\n",
            "\n",
            "5시간전\n",
            "\n",
            "  * 이재명 \"국민 힘으로 항복시켜야\"…조국 \"8년 전 일 다시 겪을 것\"\n",
            "\n",
            "4시간전\n",
            "\n",
            "  * 강형욱 '55분 해명'에도…변호사 \"열 받아 무료 변론\", 前 직원 \"폭언 생생\"\n",
            "\n",
            "8시간전\n",
            "\n",
            "  * 경복궁 낙서 테러 배후 '이팀장' 구속…사주 5개월만\n",
            "\n",
            "2시간전\n",
            "\n",
            "  * “5% 확률로 살아돌아와”…금지된 박수소리 울려퍼진 英의회 무슨 일\n",
            "\n",
            "46분전\n",
            "\n",
            "  * 걸그룹 마신 물병이 장기자랑 상품?…대학 축제에서 생긴 일\n",
            "\n",
            "31분전\n",
            "\n",
            "**네이버 AI 뉴스 알고리즘**\n",
            "\n",
            "뉴스 추천 알고리즘이 궁금하다면?\n",
            "\n",
            "**_서울경제_ 랭킹 뉴스** 오후 11시~자정까지 집계한 결과입니다. 전날 하루동안 집계한 결과입니다. 더보기 더보기\n",
            "\n",
            "  * 많이 본\n",
            "  * 댓글 많은\n",
            "\n",
            "  * _1_\n",
            "\n",
            "강형욱 '55분 해명'에도…변호사 \"열 받아 무료 변론\", 前 직원 \"폭언 생생\"\n",
            "\n",
            "8시간전\n",
            "\n",
            "더보기\n",
            "\n",
            "  * _2_\n",
            "\n",
            "\"모기떼·팅커벨에 캠핑도 못가겠다\"…전문가들 \"올해 곤충떼 출몰 잦을 것\"\n",
            "\n",
            "15시간전\n",
            "\n",
            "더보기\n",
            "\n",
            "  * _3_\n",
            "\n",
            "감정가 1억4000만 원 시흥 아파트에 92명 몰려…경기도 아파트 경매 '후끈'\n",
            "\n",
            "5시간전\n",
            "\n",
            "더보기\n",
            "\n",
            "  * _4_\n",
            "\n",
            "'큰놈 온다'…삼성 갤폴드6 출시 앞두고 기존 모델 '폭풍 할인'\n",
            "\n",
            "14시간전\n",
            "\n",
            "더보기\n",
            "\n",
            "  * _5_\n",
            "\n",
            "경복궁 낙서 테러 배후 '이팀장' 구속…사주 5개월만\n",
            "\n",
            "2시간전\n",
            "\n",
            "더보기\n",
            "\n",
            "  * _1_\n",
            "\n",
            "강형욱 “직원들 메신저 6개월치 밤새 봤다…아들 조롱·혐오 발언에 눈 뒤집혀”\n",
            "\n",
            "1일전\n",
            "\n",
            "더보기\n",
            "\n",
            "  * _2_\n",
            "\n",
            "강형욱 '55분 해명'에도…변호사 \"열 받아 무료 변론\", 前 직원 \"폭언 생생\"\n",
            "\n",
            "8시간전\n",
            "\n",
            "더보기\n",
            "\n",
            "  * _3_\n",
            "\n",
            "앞치마 두르고 계란말이 만든 尹, 용산서 기자들과 김치찌개 만찬\n",
            "\n",
            "1일전\n",
            "\n",
            "더보기\n",
            "\n",
            "  * _4_\n",
            "\n",
            "이재명 \"소득대체율 44% 수용…尹, 민주당 제안 받아달라\"\n",
            "\n",
            "10시간전\n",
            "\n",
            "더보기\n",
            "\n",
            "  * _5_\n",
            "\n",
            "술 냄새 풀풀 나도 음주운전 무혐의?…김호중이 쏘아올린 '위드마크'란[폴리스라인]\n",
            "\n",
            "13시간전\n",
            "\n",
            "더보기\n",
            "\n",
            "  * _1_\n",
            "\n",
            "강형욱 '55분 해명'에도…변호사 \"열 받아 무료 변론\", 前 직원 \"폭언 생생\"\n",
            "\n",
            "8시간전\n",
            "\n",
            "더보기\n",
            "\n",
            "  * _2_\n",
            "\n",
            "\"모기떼·팅커벨에 캠핑도 못가겠다\"…전문가들 \"올해 곤충떼 출몰 잦을 것\"\n",
            "\n",
            "15시간전\n",
            "\n",
            "더보기\n",
            "\n",
            "  * _3_\n",
            "\n",
            "감정가 1억4000만 원 시흥 아파트에 92명 몰려…경기도 아파트 경매 '후끈'\n",
            "\n",
            "5시간전\n",
            "\n",
            "더보기\n",
            "\n",
            "  * _4_\n",
            "\n",
            "'큰놈 온다'…삼성 갤폴드6 출시 앞두고 기존 모델 '폭풍 할인'\n",
            "\n",
            "14시간전\n",
            "\n",
            "더보기\n",
            "\n",
            "  * _5_\n",
            "\n",
            "경복궁 낙서 테러 배후 '이팀장' 구속…사주 5개월만\n",
            "\n",
            "2시간전\n",
            "\n",
            "더보기\n",
            "\n",
            "  * _1_\n",
            "\n",
            "강형욱 “직원들 메신저 6개월치 밤새 봤다…아들 조롱·혐오 발언에 눈 뒤집혀”\n",
            "\n",
            "1일전\n",
            "\n",
            "더보기\n",
            "\n",
            "  * _2_\n",
            "\n",
            "강형욱 '55분 해명'에도…변호사 \"열 받아 무료 변론\", 前 직원 \"폭언 생생\"\n",
            "\n",
            "8시간전\n",
            "\n",
            "더보기\n",
            "\n",
            "  * _3_\n",
            "\n",
            "앞치마 두르고 계란말이 만든 尹, 용산서 기자들과 김치찌개 만찬\n",
            "\n",
            "1일전\n",
            "\n",
            "더보기\n",
            "\n",
            "  * _4_\n",
            "\n",
            "이재명 \"소득대체율 44% 수용…尹, 민주당 제안 받아달라\"\n",
            "\n",
            "10시간전\n",
            "\n",
            "더보기\n",
            "\n",
            "  * _5_\n",
            "\n",
            "술 냄새 풀풀 나도 음주운전 무혐의?…김호중이 쏘아올린 '위드마크'란[폴리스라인]\n",
            "\n",
            "13시간전\n",
            "\n",
            "더보기\n",
            "\n",
            "**__함께 볼만한 기자** 안내\n",
            "\n",
            "최근 일주일 이내 업데이트된 기자 중에서 무작위 순서로 노출합니다.\n",
            "\n",
            "닫기\n",
            "\n",
            "  * 비슷한 주제\n",
            "  * 구독자 많은\n",
            "\n",
            "  * 서소정 기자\n",
            "\n",
            "구독 구독중\n",
            "\n",
            "구독해주셔서 감사합니다\n",
            "\n",
            "서소정 기자의 기사는  \n",
            "언론사별에서 볼 수 있습니다\n",
            "\n",
            "닫기\n",
            "\n",
            "언론사도 함께 구독해 보세요.\n",
            "\n",
            "구독\n",
            "\n",
            "언론사를 함께 구독중입니다.\n",
            "\n",
            "대통령실 \"연금개혁, 시간 쫓기듯 결정보다 국민의견 반영해 결정\"\n",
            "\n",
            "아시아경제\n",
            "\n",
            "5시간전\n",
            "\n",
            "더보기\n",
            "\n",
            "  * 김세희 기자\n",
            "\n",
            "구독 구독중\n",
            "\n",
            "구독해주셔서 감사합니다\n",
            "\n",
            "김세희 기자의 기사는  \n",
            "언론사별에서 볼 수 있습니다\n",
            "\n",
            "닫기\n",
            "\n",
            "언론사도 함께 구독해 보세요.\n",
            "\n",
            "구독\n",
            "\n",
            "언론사를 함께 구독중입니다.\n",
            "\n",
            "원유철 전 대표 `평택항 신생매립지 되찾기` 공로로 감사패 받아\n",
            "\n",
            "디지털타임스\n",
            "\n",
            "1일전\n",
            "\n",
            "더보기\n",
            "\n",
            "  * 장하얀 기자\n",
            "\n",
            "구독 구독중\n",
            "\n",
            "구독해주셔서 감사합니다\n",
            "\n",
            "장하얀 기자의 기사는  \n",
            "언론사별에서 볼 수 있습니다\n",
            "\n",
            "닫기\n",
            "\n",
            "언론사도 함께 구독해 보세요.\n",
            "\n",
            "구독\n",
            "\n",
            "언론사를 함께 구독중입니다.\n",
            "\n",
            "‘첫목회’ 박상수 “자발적 팬덤이 한동훈 전당대회로 불러내고 있어”[중립기어]\n",
            "\n",
            "동아일보\n",
            "\n",
            "6시간전\n",
            "\n",
            "더보기\n",
            "\n",
            "  * 장관석 기자\n",
            "\n",
            "구독 구독중\n",
            "\n",
            "구독해주셔서 감사합니다\n",
            "\n",
            "장관석 기자의 기사는  \n",
            "언론사별에서 볼 수 있습니다\n",
            "\n",
            "닫기\n",
            "\n",
            "언론사도 함께 구독해 보세요.\n",
            "\n",
            "구독\n",
            "\n",
            "언론사를 함께 구독중입니다.\n",
            "\n",
            "정호성 대통령실 합류에 野 “탄핵 대비냐”\n",
            "\n",
            "동아일보\n",
            "\n",
            "22시간전\n",
            "\n",
            "더보기\n",
            "\n",
            "  * 박정훈 기자\n",
            "\n",
            "구독 구독중\n",
            "\n",
            "구독해주셔서 감사합니다\n",
            "\n",
            "박정훈 기자의 기사는  \n",
            "언론사별에서 볼 수 있습니다\n",
            "\n",
            "닫기\n",
            "\n",
            "언론사도 함께 구독해 보세요.\n",
            "\n",
            "구독\n",
            "\n",
            "언론사를 함께 구독중입니다.\n",
            "\n",
            "도담소 전면 개방한 김동연 \"서로 믿고 더불어 사는 공동체 만들겠다\"\n",
            "\n",
            "오마이뉴스\n",
            "\n",
            "6시간전\n",
            "\n",
            "더보기\n",
            "\n",
            "  * 김기태 기자\n",
            "\n",
            "구독 구독중\n",
            "\n",
            "구독해주셔서 감사합니다\n",
            "\n",
            "김기태 기자의 기사는  \n",
            "언론사별에서 볼 수 있습니다\n",
            "\n",
            "닫기\n",
            "\n",
            "언론사도 함께 구독해 보세요.\n",
            "\n",
            "구독\n",
            "\n",
            "언론사를 함께 구독중입니다.\n",
            "\n",
            "'국정농단 실형' 비서관 발탁…야권서 비판 잇따라\n",
            "\n",
            "SBS\n",
            "\n",
            "16시간전\n",
            "\n",
            "_재생하기_\n",
            "\n",
            "더보기\n",
            "\n",
            "  * 김덕훈 기자\n",
            "\n",
            "구독 구독중\n",
            "\n",
            "구독해주셔서 감사합니다\n",
            "\n",
            "김덕훈 기자의 기사는  \n",
            "언론사별에서 볼 수 있습니다\n",
            "\n",
            "닫기\n",
            "\n",
            "언론사도 함께 구독해 보세요.\n",
            "\n",
            "구독\n",
            "\n",
            "언론사를 함께 구독중입니다.\n",
            "\n",
            "북러, 과학기술 협력 논의…모스크바서 과기분과위 개최\n",
            "\n",
            "KBS\n",
            "\n",
            "3일전\n",
            "\n",
            "더보기\n",
            "\n",
            "  * 이범수 기자\n",
            "\n",
            "구독 구독중\n",
            "\n",
            "구독해주셔서 감사합니다\n",
            "\n",
            "이범수 기자의 기사는  \n",
            "언론사별에서 볼 수 있습니다\n",
            "\n",
            "닫기\n",
            "\n",
            "언론사도 함께 구독해 보세요.\n",
            "\n",
            "구독\n",
            "\n",
            "언론사를 함께 구독중입니다.\n",
            "\n",
            "민주 “대통령실, 李 ‘연금개혁 회담’ 제안 사실상 거절”\n",
            "\n",
            "서울신문\n",
            "\n",
            "1일전\n",
            "\n",
            "더보기\n",
            "\n",
            "  * 노민호 기자\n",
            "\n",
            "구독 구독중\n",
            "\n",
            "구독해주셔서 감사합니다\n",
            "\n",
            "노민호 기자의 기사는  \n",
            "언론사별에서 볼 수 있습니다\n",
            "\n",
            "닫기\n",
            "\n",
            "언론사도 함께 구독해 보세요.\n",
            "\n",
            "구독\n",
            "\n",
            "언론사를 함께 구독중입니다.\n",
            "\n",
            "조태열 외교장관, 美 랜드연구소 대표단 만나 '한미동맹 발전' 논의\n",
            "\n",
            "뉴스1\n",
            "\n",
            "1일전\n",
            "\n",
            "더보기\n",
            "\n",
            "  * 이준규 기자\n",
            "\n",
            "구독 구독중\n",
            "\n",
            "구독해주셔서 감사합니다\n",
            "\n",
            "이준규 기자의 기사는  \n",
            "언론사별에서 볼 수 있습니다\n",
            "\n",
            "닫기\n",
            "\n",
            "언론사도 함께 구독해 보세요.\n",
            "\n",
            "구독\n",
            "\n",
            "언론사를 함께 구독중입니다.\n",
            "\n",
            "법사위원장 정청래? 추미애?…개딸에 휘둘리는 민주당\n",
            "\n",
            "노컷뉴스\n",
            "\n",
            "1일전\n",
            "\n",
            "더보기\n",
            "\n",
            "  * 조권형 기자\n",
            "\n",
            "구독 구독중\n",
            "\n",
            "구독해주셔서 감사합니다\n",
            "\n",
            "조권형 기자의 기사는  \n",
            "언론사별에서 볼 수 있습니다\n",
            "\n",
            "닫기\n",
            "\n",
            "언론사도 함께 구독해 보세요.\n",
            "\n",
            "구독\n",
            "\n",
            "언론사를 함께 구독중입니다.\n",
            "\n",
            "대통령실 “비서관실별로 정책 현실성 사전 점검할 것”\n",
            "\n",
            "동아일보\n",
            "\n",
            "2일전\n",
            "\n",
            "더보기\n",
            "\n",
            "  * 나윤석 기자\n",
            "\n",
            "구독 구독중\n",
            "\n",
            "구독해주셔서 감사합니다\n",
            "\n",
            "나윤석 기자의 기사는  \n",
            "언론사별에서 볼 수 있습니다\n",
            "\n",
            "닫기\n",
            "\n",
            "언론사도 함께 구독해 보세요.\n",
            "\n",
            "구독\n",
            "\n",
            "언론사를 함께 구독중입니다.\n",
            "\n",
            "이재명 “국민연금 소득대체율 44~45% 사이 열려있어” … 연일 용산 결단 압박\n",
            "\n",
            "문화일보\n",
            "\n",
            "1일전\n",
            "\n",
            "더보기\n",
            "\n",
            "  * 김종우 기자\n",
            "\n",
            "구독 구독중\n",
            "\n",
            "구독해주셔서 감사합니다\n",
            "\n",
            "김종우 기자의 기사는  \n",
            "언론사별에서 볼 수 있습니다\n",
            "\n",
            "닫기\n",
            "\n",
            "언론사도 함께 구독해 보세요.\n",
            "\n",
            "구독\n",
            "\n",
            "언론사를 함께 구독중입니다.\n",
            "\n",
            "美하원, 트럼프 압박에도…\"주한미군 2만8500명 유지\"\n",
            "\n",
            "한국경제\n",
            "\n",
            "1일전\n",
            "\n",
            "더보기\n",
            "\n",
            "  * 심은석 기자\n",
            "\n",
            "구독 구독중\n",
            "\n",
            "구독해주셔서 감사합니다\n",
            "\n",
            "심은석 기자의 기사는  \n",
            "언론사별에서 볼 수 있습니다\n",
            "\n",
            "닫기\n",
            "\n",
            "언론사도 함께 구독해 보세요.\n",
            "\n",
            "구독\n",
            "\n",
            "언론사를 함께 구독중입니다.\n",
            "\n",
            "[결혼]이윤범군 김현아양\n",
            "\n",
            "강원일보\n",
            "\n",
            "5일전\n",
            "\n",
            "더보기\n",
            "\n",
            "  * 김영수 기자\n",
            "\n",
            "구독 구독중\n",
            "\n",
            "구독해주셔서 감사합니다\n",
            "\n",
            "김영수 기자의 기사는  \n",
            "언론사별에서 볼 수 있습니다\n",
            "\n",
            "닫기\n",
            "\n",
            "언론사도 함께 구독해 보세요.\n",
            "\n",
            "구독\n",
            "\n",
            "언론사를 함께 구독중입니다.\n",
            "\n",
            "尹 지지율 5주간 24%(갤럽) ...'尹과 갈등' 한동훈의 선택은? [앵커리포트]\n",
            "\n",
            "YTN\n",
            "\n",
            "1일전\n",
            "\n",
            "_재생하기_\n",
            "\n",
            "더보기\n",
            "\n",
            "  * 김경훈 기자\n",
            "\n",
            "구독 구독중\n",
            "\n",
            "구독해주셔서 감사합니다\n",
            "\n",
            "김경훈 기자의 기사는  \n",
            "언론사별에서 볼 수 있습니다\n",
            "\n",
            "닫기\n",
            "\n",
            "언론사도 함께 구독해 보세요.\n",
            "\n",
            "구독\n",
            "\n",
            "언론사를 함께 구독중입니다.\n",
            "\n",
            "'버닝썬' 때문이었나…구하라 사망 50일 뒤 '금고 절도사건' 재조명\n",
            "\n",
            "서울경제\n",
            "\n",
            "8시간전\n",
            "\n",
            "더보기\n",
            "\n",
            "  * 최기성 기자\n",
            "\n",
            "구독 구독중\n",
            "\n",
            "구독해주셔서 감사합니다\n",
            "\n",
            "최기성 기자의 기사는  \n",
            "언론사별에서 볼 수 있습니다\n",
            "\n",
            "닫기\n",
            "\n",
            "언론사도 함께 구독해 보세요.\n",
            "\n",
            "구독\n",
            "\n",
            "언론사를 함께 구독중입니다.\n",
            "\n",
            "“우리도 한국의 기업시민입니다”…‘더불어 삶’ 폭스바겐그룹 우리재단 출범\n",
            "\n",
            "매일경제\n",
            "\n",
            "2일전\n",
            "\n",
            "더보기\n",
            "\n",
            "  * 이상규 기자\n",
            "\n",
            "구독 구독중\n",
            "\n",
            "구독해주셔서 감사합니다\n",
            "\n",
            "이상규 기자의 기사는  \n",
            "언론사별에서 볼 수 있습니다\n",
            "\n",
            "닫기\n",
            "\n",
            "언론사도 함께 구독해 보세요.\n",
            "\n",
            "구독\n",
            "\n",
            "언론사를 함께 구독중입니다.\n",
            "\n",
            "“제거 수술했는데 1년 후 재발판정”…암투병 고백한 ‘파묘’ 여배우\n",
            "\n",
            "매일경제\n",
            "\n",
            "7시간전\n",
            "\n",
            "더보기\n",
            "\n",
            "  * 권준영 기자\n",
            "\n",
            "구독 구독중\n",
            "\n",
            "구독해주셔서 감사합니다\n",
            "\n",
            "권준영 기자의 기사는  \n",
            "언론사별에서 볼 수 있습니다\n",
            "\n",
            "닫기\n",
            "\n",
            "언론사도 함께 구독해 보세요.\n",
            "\n",
            "구독\n",
            "\n",
            "언론사를 함께 구독중입니다.\n",
            "\n",
            "이준석에 고개 숙인 개혁신당 노예슬 “李 당선인에 미친 피해 생각해서라도…”\n",
            "\n",
            "디지털타임스\n",
            "\n",
            "17시간전\n",
            "\n",
            "더보기\n",
            "\n",
            "  * 강영운 기자\n",
            "\n",
            "구독 구독중\n",
            "\n",
            "구독해주셔서 감사합니다\n",
            "\n",
            "강영운 기자의 기사는  \n",
            "언론사별에서 볼 수 있습니다\n",
            "\n",
            "닫기\n",
            "\n",
            "언론사도 함께 구독해 보세요.\n",
            "\n",
            "구독\n",
            "\n",
            "언론사를 함께 구독중입니다.\n",
            "\n",
            "“여보, 그 여배우랑 사귀어봐”···남편 불륜을 응원한 여자의 사연 [사색(史色)]\n",
            "\n",
            "매일경제\n",
            "\n",
            "14시간전\n",
            "\n",
            "더보기\n",
            "\n",
            "  * 류영상 기자\n",
            "\n",
            "구독 구독중\n",
            "\n",
            "구독해주셔서 감사합니다\n",
            "\n",
            "류영상 기자의 기사는  \n",
            "언론사별에서 볼 수 있습니다\n",
            "\n",
            "닫기\n",
            "\n",
            "언론사도 함께 구독해 보세요.\n",
            "\n",
            "구독\n",
            "\n",
            "언론사를 함께 구독중입니다.\n",
            "\n",
            "‘5개월 만에 잡힌’ 경복궁 10대 낙서 배후 ‘이 팀장’ 결국 구속\n",
            "\n",
            "매일경제\n",
            "\n",
            "1시간전\n",
            "\n",
            "더보기\n",
            "\n",
            "  * 조성신 기자\n",
            "\n",
            "구독 구독중\n",
            "\n",
            "구독해주셔서 감사합니다\n",
            "\n",
            "조성신 기자의 기사는  \n",
            "언론사별에서 볼 수 있습니다\n",
            "\n",
            "닫기\n",
            "\n",
            "언론사도 함께 구독해 보세요.\n",
            "\n",
            "구독\n",
            "\n",
            "언론사를 함께 구독중입니다.\n",
            "\n",
            "“한도 200% 땡겼다”…대전 전세사기 피해 80%, 이곳서 대출받았다\n",
            "\n",
            "매일경제\n",
            "\n",
            "7시간전\n",
            "\n",
            "더보기\n",
            "\n",
            "  * 이보람 기자\n",
            "\n",
            "구독 구독중\n",
            "\n",
            "구독해주셔서 감사합니다\n",
            "\n",
            "이보람 기자의 기사는  \n",
            "언론사별에서 볼 수 있습니다\n",
            "\n",
            "닫기\n",
            "\n",
            "언론사도 함께 구독해 보세요.\n",
            "\n",
            "구독\n",
            "\n",
            "언론사를 함께 구독중입니다.\n",
            "\n",
            "음주뺑소니에 거짓말까지…김호중-소속사 대표 줄줄이 구속\n",
            "\n",
            "중앙일보\n",
            "\n",
            "1일전\n",
            "\n",
            "_재생하기_\n",
            "\n",
            "더보기\n",
            "\n",
            "  * 홍민성 기자\n",
            "\n",
            "구독 구독중\n",
            "\n",
            "구독해주셔서 감사합니다\n",
            "\n",
            "홍민성 기자의 기사는  \n",
            "언론사별에서 볼 수 있습니다\n",
            "\n",
            "닫기\n",
            "\n",
            "언론사도 함께 구독해 보세요.\n",
            "\n",
            "구독\n",
            "\n",
            "언론사를 함께 구독중입니다.\n",
            "\n",
            "\"김호중·강형욱 왜 김건희 나오자 터지나\"…음모론 '술렁' [이슈+]\n",
            "\n",
            "한국경제\n",
            "\n",
            "15시간전\n",
            "\n",
            "더보기\n",
            "\n",
            "  * 문지연 기자\n",
            "\n",
            "구독 구독중\n",
            "\n",
            "구독해주셔서 감사합니다\n",
            "\n",
            "문지연 기자의 기사는  \n",
            "언론사별에서 볼 수 있습니다\n",
            "\n",
            "닫기\n",
            "\n",
            "언론사도 함께 구독해 보세요.\n",
            "\n",
            "구독\n",
            "\n",
            "언론사를 함께 구독중입니다.\n",
            "\n",
            "‘올해 1호 태풍’ 필리핀서 발달 중... 우리나라 영향은?\n",
            "\n",
            "조선일보\n",
            "\n",
            "1일전\n",
            "\n",
            "더보기\n",
            "\n",
            "  * 이지희 기자\n",
            "\n",
            "구독 구독중\n",
            "\n",
            "구독해주셔서 감사합니다\n",
            "\n",
            "이지희 기자의 기사는  \n",
            "언론사별에서 볼 수 있습니다\n",
            "\n",
            "닫기\n",
            "\n",
            "언론사도 함께 구독해 보세요.\n",
            "\n",
            "구독\n",
            "\n",
            "언론사를 함께 구독중입니다.\n",
            "\n",
            "김호중, 벤틀리 타기 직전 비틀대는 모습 다 찍혔다\n",
            "\n",
            "데일리안\n",
            "\n",
            "1일전\n",
            "\n",
            "더보기\n",
            "\n",
            "  * 최재원 기자\n",
            "\n",
            "구독 구독중\n",
            "\n",
            "구독해주셔서 감사합니다\n",
            "\n",
            "최재원 기자의 기사는  \n",
            "언론사별에서 볼 수 있습니다\n",
            "\n",
            "닫기\n",
            "\n",
            "언론사도 함께 구독해 보세요.\n",
            "\n",
            "구독\n",
            "\n",
            "언론사를 함께 구독중입니다.\n",
            "\n",
            "신동빈 '콘텐츠 강화 전략' 통했다 … 포켓몬타운에 400만명 몰려\n",
            "\n",
            "매일경제\n",
            "\n",
            "2일전\n",
            "\n",
            "더보기\n",
            "\n",
            "  * 이미나 기자\n",
            "\n",
            "구독 구독중\n",
            "\n",
            "구독해주셔서 감사합니다\n",
            "\n",
            "이미나 기자의 기사는  \n",
            "언론사별에서 볼 수 있습니다\n",
            "\n",
            "닫기\n",
            "\n",
            "언론사도 함께 구독해 보세요.\n",
            "\n",
            "구독\n",
            "\n",
            "언론사를 함께 구독중입니다.\n",
            "\n",
            "\"김호중 위해 힘없는 막내 매니저 처벌받아도 되나\" 판사의 질책\n",
            "\n",
            "한국경제\n",
            "\n",
            "23시간전\n",
            "\n",
            "더보기\n",
            "\n",
            "  * 박태훈 기자\n",
            "\n",
            "구독 구독중\n",
            "\n",
            "구독해주셔서 감사합니다\n",
            "\n",
            "박태훈 기자의 기사는  \n",
            "언론사별에서 볼 수 있습니다\n",
            "\n",
            "닫기\n",
            "\n",
            "언론사도 함께 구독해 보세요.\n",
            "\n",
            "구독\n",
            "\n",
            "언론사를 함께 구독중입니다.\n",
            "\n",
            "박훈 변호사 \"강형욱, CCTV 감시용 아냐?…열받아서, 姜의 직원 무료 변론\"\n",
            "\n",
            "뉴스1\n",
            "\n",
            "15시간전\n",
            "\n",
            "더보기\n",
            "\n",
            "  * 윤현주 기자\n",
            "\n",
            "구독 구독중\n",
            "\n",
            "구독해주셔서 감사합니다\n",
            "\n",
            "윤현주 기자의 기사는  \n",
            "언론사별에서 볼 수 있습니다\n",
            "\n",
            "닫기\n",
            "\n",
            "언론사도 함께 구독해 보세요.\n",
            "\n",
            "구독\n",
            "\n",
            "언론사를 함께 구독중입니다.\n",
            "\n",
            "주가 40% 폭등했다가 20% 하락…개미 '진땀'나게 한 이 종목 [윤현주의 主食이 주식]\n",
            "\n",
            "한국경제\n",
            "\n",
            "17시간전\n",
            "\n",
            "더보기\n",
            "\n",
            "  * 서소정 기자\n",
            "\n",
            "구독 구독중\n",
            "\n",
            "구독해주셔서 감사합니다\n",
            "\n",
            "서소정 기자의 기사는  \n",
            "언론사별에서 볼 수 있습니다\n",
            "\n",
            "닫기\n",
            "\n",
            "언론사도 함께 구독해 보세요.\n",
            "\n",
            "구독\n",
            "\n",
            "언론사를 함께 구독중입니다.\n",
            "\n",
            "대통령실 \"연금개혁, 시간 쫓기듯 결정보다 국민의견 반영해 결정\"\n",
            "\n",
            "아시아경제\n",
            "\n",
            "5시간전\n",
            "\n",
            "더보기\n",
            "\n",
            "  * 김세희 기자\n",
            "\n",
            "구독 구독중\n",
            "\n",
            "구독해주셔서 감사합니다\n",
            "\n",
            "김세희 기자의 기사는  \n",
            "언론사별에서 볼 수 있습니다\n",
            "\n",
            "닫기\n",
            "\n",
            "언론사도 함께 구독해 보세요.\n",
            "\n",
            "구독\n",
            "\n",
            "언론사를 함께 구독중입니다.\n",
            "\n",
            "원유철 전 대표 `평택항 신생매립지 되찾기` 공로로 감사패 받아\n",
            "\n",
            "디지털타임스\n",
            "\n",
            "1일전\n",
            "\n",
            "더보기\n",
            "\n",
            "  * 장하얀 기자\n",
            "\n",
            "구독 구독중\n",
            "\n",
            "구독해주셔서 감사합니다\n",
            "\n",
            "장하얀 기자의 기사는  \n",
            "언론사별에서 볼 수 있습니다\n",
            "\n",
            "닫기\n",
            "\n",
            "언론사도 함께 구독해 보세요.\n",
            "\n",
            "구독\n",
            "\n",
            "언론사를 함께 구독중입니다.\n",
            "\n",
            "‘첫목회’ 박상수 “자발적 팬덤이 한동훈 전당대회로 불러내고 있어”[중립기어]\n",
            "\n",
            "동아일보\n",
            "\n",
            "6시간전\n",
            "\n",
            "더보기\n",
            "\n",
            "  * 장관석 기자\n",
            "\n",
            "구독 구독중\n",
            "\n",
            "구독해주셔서 감사합니다\n",
            "\n",
            "장관석 기자의 기사는  \n",
            "언론사별에서 볼 수 있습니다\n",
            "\n",
            "닫기\n",
            "\n",
            "언론사도 함께 구독해 보세요.\n",
            "\n",
            "구독\n",
            "\n",
            "언론사를 함께 구독중입니다.\n",
            "\n",
            "정호성 대통령실 합류에 野 “탄핵 대비냐”\n",
            "\n",
            "동아일보\n",
            "\n",
            "22시간전\n",
            "\n",
            "더보기\n",
            "\n",
            "  * 박정훈 기자\n",
            "\n",
            "구독 구독중\n",
            "\n",
            "구독해주셔서 감사합니다\n",
            "\n",
            "박정훈 기자의 기사는  \n",
            "언론사별에서 볼 수 있습니다\n",
            "\n",
            "닫기\n",
            "\n",
            "언론사도 함께 구독해 보세요.\n",
            "\n",
            "구독\n",
            "\n",
            "언론사를 함께 구독중입니다.\n",
            "\n",
            "도담소 전면 개방한 김동연 \"서로 믿고 더불어 사는 공동체 만들겠다\"\n",
            "\n",
            "오마이뉴스\n",
            "\n",
            "6시간전\n",
            "\n",
            "더보기\n",
            "\n",
            "  * 김기태 기자\n",
            "\n",
            "구독 구독중\n",
            "\n",
            "구독해주셔서 감사합니다\n",
            "\n",
            "김기태 기자의 기사는  \n",
            "언론사별에서 볼 수 있습니다\n",
            "\n",
            "닫기\n",
            "\n",
            "언론사도 함께 구독해 보세요.\n",
            "\n",
            "구독\n",
            "\n",
            "언론사를 함께 구독중입니다.\n",
            "\n",
            "'국정농단 실형' 비서관 발탁…야권서 비판 잇따라\n",
            "\n",
            "SBS\n",
            "\n",
            "16시간전\n",
            "\n",
            "_재생하기_\n",
            "\n",
            "더보기\n",
            "\n",
            "  * 김덕훈 기자\n",
            "\n",
            "구독 구독중\n",
            "\n",
            "구독해주셔서 감사합니다\n",
            "\n",
            "김덕훈 기자의 기사는  \n",
            "언론사별에서 볼 수 있습니다\n",
            "\n",
            "닫기\n",
            "\n",
            "언론사도 함께 구독해 보세요.\n",
            "\n",
            "구독\n",
            "\n",
            "언론사를 함께 구독중입니다.\n",
            "\n",
            "북러, 과학기술 협력 논의…모스크바서 과기분과위 개최\n",
            "\n",
            "KBS\n",
            "\n",
            "3일전\n",
            "\n",
            "더보기\n",
            "\n",
            "  * 이범수 기자\n",
            "\n",
            "구독 구독중\n",
            "\n",
            "구독해주셔서 감사합니다\n",
            "\n",
            "이범수 기자의 기사는  \n",
            "언론사별에서 볼 수 있습니다\n",
            "\n",
            "닫기\n",
            "\n",
            "언론사도 함께 구독해 보세요.\n",
            "\n",
            "구독\n",
            "\n",
            "언론사를 함께 구독중입니다.\n",
            "\n",
            "민주 “대통령실, 李 ‘연금개혁 회담’ 제안 사실상 거절”\n",
            "\n",
            "서울신문\n",
            "\n",
            "1일전\n",
            "\n",
            "더보기\n",
            "\n",
            "  * 노민호 기자\n",
            "\n",
            "구독 구독중\n",
            "\n",
            "구독해주셔서 감사합니다\n",
            "\n",
            "노민호 기자의 기사는  \n",
            "언론사별에서 볼 수 있습니다\n",
            "\n",
            "닫기\n",
            "\n",
            "언론사도 함께 구독해 보세요.\n",
            "\n",
            "구독\n",
            "\n",
            "언론사를 함께 구독중입니다.\n",
            "\n",
            "조태열 외교장관, 美 랜드연구소 대표단 만나 '한미동맹 발전' 논의\n",
            "\n",
            "뉴스1\n",
            "\n",
            "1일전\n",
            "\n",
            "더보기\n",
            "\n",
            "  * 이준규 기자\n",
            "\n",
            "구독 구독중\n",
            "\n",
            "구독해주셔서 감사합니다\n",
            "\n",
            "이준규 기자의 기사는  \n",
            "언론사별에서 볼 수 있습니다\n",
            "\n",
            "닫기\n",
            "\n",
            "언론사도 함께 구독해 보세요.\n",
            "\n",
            "구독\n",
            "\n",
            "언론사를 함께 구독중입니다.\n",
            "\n",
            "법사위원장 정청래? 추미애?…개딸에 휘둘리는 민주당\n",
            "\n",
            "노컷뉴스\n",
            "\n",
            "1일전\n",
            "\n",
            "더보기\n",
            "\n",
            "  * 조권형 기자\n",
            "\n",
            "구독 구독중\n",
            "\n",
            "구독해주셔서 감사합니다\n",
            "\n",
            "조권형 기자의 기사는  \n",
            "언론사별에서 볼 수 있습니다\n",
            "\n",
            "닫기\n",
            "\n",
            "언론사도 함께 구독해 보세요.\n",
            "\n",
            "구독\n",
            "\n",
            "언론사를 함께 구독중입니다.\n",
            "\n",
            "대통령실 “비서관실별로 정책 현실성 사전 점검할 것”\n",
            "\n",
            "동아일보\n",
            "\n",
            "2일전\n",
            "\n",
            "더보기\n",
            "\n",
            "  * 나윤석 기자\n",
            "\n",
            "구독 구독중\n",
            "\n",
            "구독해주셔서 감사합니다\n",
            "\n",
            "나윤석 기자의 기사는  \n",
            "언론사별에서 볼 수 있습니다\n",
            "\n",
            "닫기\n",
            "\n",
            "언론사도 함께 구독해 보세요.\n",
            "\n",
            "구독\n",
            "\n",
            "언론사를 함께 구독중입니다.\n",
            "\n",
            "이재명 “국민연금 소득대체율 44~45% 사이 열려있어” … 연일 용산 결단 압박\n",
            "\n",
            "문화일보\n",
            "\n",
            "1일전\n",
            "\n",
            "더보기\n",
            "\n",
            "  * 김종우 기자\n",
            "\n",
            "구독 구독중\n",
            "\n",
            "구독해주셔서 감사합니다\n",
            "\n",
            "김종우 기자의 기사는  \n",
            "언론사별에서 볼 수 있습니다\n",
            "\n",
            "닫기\n",
            "\n",
            "언론사도 함께 구독해 보세요.\n",
            "\n",
            "구독\n",
            "\n",
            "언론사를 함께 구독중입니다.\n",
            "\n",
            "美하원, 트럼프 압박에도…\"주한미군 2만8500명 유지\"\n",
            "\n",
            "한국경제\n",
            "\n",
            "1일전\n",
            "\n",
            "더보기\n",
            "\n",
            "  * 심은석 기자\n",
            "\n",
            "구독 구독중\n",
            "\n",
            "구독해주셔서 감사합니다\n",
            "\n",
            "심은석 기자의 기사는  \n",
            "언론사별에서 볼 수 있습니다\n",
            "\n",
            "닫기\n",
            "\n",
            "언론사도 함께 구독해 보세요.\n",
            "\n",
            "구독\n",
            "\n",
            "언론사를 함께 구독중입니다.\n",
            "\n",
            "[결혼]이윤범군 김현아양\n",
            "\n",
            "강원일보\n",
            "\n",
            "5일전\n",
            "\n",
            "더보기\n",
            "\n",
            "  * 김영수 기자\n",
            "\n",
            "구독 구독중\n",
            "\n",
            "구독해주셔서 감사합니다\n",
            "\n",
            "김영수 기자의 기사는  \n",
            "언론사별에서 볼 수 있습니다\n",
            "\n",
            "닫기\n",
            "\n",
            "언론사도 함께 구독해 보세요.\n",
            "\n",
            "구독\n",
            "\n",
            "언론사를 함께 구독중입니다.\n",
            "\n",
            "尹 지지율 5주간 24%(갤럽) ...'尹과 갈등' 한동훈의 선택은? [앵커리포트]\n",
            "\n",
            "YTN\n",
            "\n",
            "1일전\n",
            "\n",
            "_재생하기_\n",
            "\n",
            "더보기\n",
            "\n",
            "  * 김경훈 기자\n",
            "\n",
            "구독 구독중\n",
            "\n",
            "구독해주셔서 감사합니다\n",
            "\n",
            "김경훈 기자의 기사는  \n",
            "언론사별에서 볼 수 있습니다\n",
            "\n",
            "닫기\n",
            "\n",
            "언론사도 함께 구독해 보세요.\n",
            "\n",
            "구독\n",
            "\n",
            "언론사를 함께 구독중입니다.\n",
            "\n",
            "'버닝썬' 때문이었나…구하라 사망 50일 뒤 '금고 절도사건' 재조명\n",
            "\n",
            "서울경제\n",
            "\n",
            "8시간전\n",
            "\n",
            "더보기\n",
            "\n",
            "  * 최기성 기자\n",
            "\n",
            "구독 구독중\n",
            "\n",
            "구독해주셔서 감사합니다\n",
            "\n",
            "최기성 기자의 기사는  \n",
            "언론사별에서 볼 수 있습니다\n",
            "\n",
            "닫기\n",
            "\n",
            "언론사도 함께 구독해 보세요.\n",
            "\n",
            "구독\n",
            "\n",
            "언론사를 함께 구독중입니다.\n",
            "\n",
            "“우리도 한국의 기업시민입니다”…‘더불어 삶’ 폭스바겐그룹 우리재단 출범\n",
            "\n",
            "매일경제\n",
            "\n",
            "2일전\n",
            "\n",
            "더보기\n",
            "\n",
            "  * 이상규 기자\n",
            "\n",
            "구독 구독중\n",
            "\n",
            "구독해주셔서 감사합니다\n",
            "\n",
            "이상규 기자의 기사는  \n",
            "언론사별에서 볼 수 있습니다\n",
            "\n",
            "닫기\n",
            "\n",
            "언론사도 함께 구독해 보세요.\n",
            "\n",
            "구독\n",
            "\n",
            "언론사를 함께 구독중입니다.\n",
            "\n",
            "“제거 수술했는데 1년 후 재발판정”…암투병 고백한 ‘파묘’ 여배우\n",
            "\n",
            "매일경제\n",
            "\n",
            "7시간전\n",
            "\n",
            "더보기\n",
            "\n",
            "  * 권준영 기자\n",
            "\n",
            "구독 구독중\n",
            "\n",
            "구독해주셔서 감사합니다\n",
            "\n",
            "권준영 기자의 기사는  \n",
            "언론사별에서 볼 수 있습니다\n",
            "\n",
            "닫기\n",
            "\n",
            "언론사도 함께 구독해 보세요.\n",
            "\n",
            "구독\n",
            "\n",
            "언론사를 함께 구독중입니다.\n",
            "\n",
            "이준석에 고개 숙인 개혁신당 노예슬 “李 당선인에 미친 피해 생각해서라도…”\n",
            "\n",
            "디지털타임스\n",
            "\n",
            "17시간전\n",
            "\n",
            "더보기\n",
            "\n",
            "  * 강영운 기자\n",
            "\n",
            "구독 구독중\n",
            "\n",
            "구독해주셔서 감사합니다\n",
            "\n",
            "강영운 기자의 기사는  \n",
            "언론사별에서 볼 수 있습니다\n",
            "\n",
            "닫기\n",
            "\n",
            "언론사도 함께 구독해 보세요.\n",
            "\n",
            "구독\n",
            "\n",
            "언론사를 함께 구독중입니다.\n",
            "\n",
            "“여보, 그 여배우랑 사귀어봐”···남편 불륜을 응원한 여자의 사연 [사색(史色)]\n",
            "\n",
            "매일경제\n",
            "\n",
            "14시간전\n",
            "\n",
            "더보기\n",
            "\n",
            "  * 류영상 기자\n",
            "\n",
            "구독 구독중\n",
            "\n",
            "구독해주셔서 감사합니다\n",
            "\n",
            "류영상 기자의 기사는  \n",
            "언론사별에서 볼 수 있습니다\n",
            "\n",
            "닫기\n",
            "\n",
            "언론사도 함께 구독해 보세요.\n",
            "\n",
            "구독\n",
            "\n",
            "언론사를 함께 구독중입니다.\n",
            "\n",
            "‘5개월 만에 잡힌’ 경복궁 10대 낙서 배후 ‘이 팀장’ 결국 구속\n",
            "\n",
            "매일경제\n",
            "\n",
            "1시간전\n",
            "\n",
            "더보기\n",
            "\n",
            "  * 조성신 기자\n",
            "\n",
            "구독 구독중\n",
            "\n",
            "구독해주셔서 감사합니다\n",
            "\n",
            "조성신 기자의 기사는  \n",
            "언론사별에서 볼 수 있습니다\n",
            "\n",
            "닫기\n",
            "\n",
            "언론사도 함께 구독해 보세요.\n",
            "\n",
            "구독\n",
            "\n",
            "언론사를 함께 구독중입니다.\n",
            "\n",
            "“한도 200% 땡겼다”…대전 전세사기 피해 80%, 이곳서 대출받았다\n",
            "\n",
            "매일경제\n",
            "\n",
            "7시간전\n",
            "\n",
            "더보기\n",
            "\n",
            "  * 이보람 기자\n",
            "\n",
            "구독 구독중\n",
            "\n",
            "구독해주셔서 감사합니다\n",
            "\n",
            "이보람 기자의 기사는  \n",
            "언론사별에서 볼 수 있습니다\n",
            "\n",
            "닫기\n",
            "\n",
            "언론사도 함께 구독해 보세요.\n",
            "\n",
            "구독\n",
            "\n",
            "언론사를 함께 구독중입니다.\n",
            "\n",
            "음주뺑소니에 거짓말까지…김호중-소속사 대표 줄줄이 구속\n",
            "\n",
            "중앙일보\n",
            "\n",
            "1일전\n",
            "\n",
            "_재생하기_\n",
            "\n",
            "더보기\n",
            "\n",
            "  * 홍민성 기자\n",
            "\n",
            "구독 구독중\n",
            "\n",
            "구독해주셔서 감사합니다\n",
            "\n",
            "홍민성 기자의 기사는  \n",
            "언론사별에서 볼 수 있습니다\n",
            "\n",
            "닫기\n",
            "\n",
            "언론사도 함께 구독해 보세요.\n",
            "\n",
            "구독\n",
            "\n",
            "언론사를 함께 구독중입니다.\n",
            "\n",
            "\"김호중·강형욱 왜 김건희 나오자 터지나\"…음모론 '술렁' [이슈+]\n",
            "\n",
            "한국경제\n",
            "\n",
            "15시간전\n",
            "\n",
            "더보기\n",
            "\n",
            "  * 문지연 기자\n",
            "\n",
            "구독 구독중\n",
            "\n",
            "구독해주셔서 감사합니다\n",
            "\n",
            "문지연 기자의 기사는  \n",
            "언론사별에서 볼 수 있습니다\n",
            "\n",
            "닫기\n",
            "\n",
            "언론사도 함께 구독해 보세요.\n",
            "\n",
            "구독\n",
            "\n",
            "언론사를 함께 구독중입니다.\n",
            "\n",
            "‘올해 1호 태풍’ 필리핀서 발달 중... 우리나라 영향은?\n",
            "\n",
            "조선일보\n",
            "\n",
            "1일전\n",
            "\n",
            "더보기\n",
            "\n",
            "  * 이지희 기자\n",
            "\n",
            "구독 구독중\n",
            "\n",
            "구독해주셔서 감사합니다\n",
            "\n",
            "이지희 기자의 기사는  \n",
            "언론사별에서 볼 수 있습니다\n",
            "\n",
            "닫기\n",
            "\n",
            "언론사도 함께 구독해 보세요.\n",
            "\n",
            "구독\n",
            "\n",
            "언론사를 함께 구독중입니다.\n",
            "\n",
            "김호중, 벤틀리 타기 직전 비틀대는 모습 다 찍혔다\n",
            "\n",
            "데일리안\n",
            "\n",
            "1일전\n",
            "\n",
            "더보기\n",
            "\n",
            "  * 최재원 기자\n",
            "\n",
            "구독 구독중\n",
            "\n",
            "구독해주셔서 감사합니다\n",
            "\n",
            "최재원 기자의 기사는  \n",
            "언론사별에서 볼 수 있습니다\n",
            "\n",
            "닫기\n",
            "\n",
            "언론사도 함께 구독해 보세요.\n",
            "\n",
            "구독\n",
            "\n",
            "언론사를 함께 구독중입니다.\n",
            "\n",
            "신동빈 '콘텐츠 강화 전략' 통했다 … 포켓몬타운에 400만명 몰려\n",
            "\n",
            "매일경제\n",
            "\n",
            "2일전\n",
            "\n",
            "더보기\n",
            "\n",
            "  * 이미나 기자\n",
            "\n",
            "구독 구독중\n",
            "\n",
            "구독해주셔서 감사합니다\n",
            "\n",
            "이미나 기자의 기사는  \n",
            "언론사별에서 볼 수 있습니다\n",
            "\n",
            "닫기\n",
            "\n",
            "언론사도 함께 구독해 보세요.\n",
            "\n",
            "구독\n",
            "\n",
            "언론사를 함께 구독중입니다.\n",
            "\n",
            "\"김호중 위해 힘없는 막내 매니저 처벌받아도 되나\" 판사의 질책\n",
            "\n",
            "한국경제\n",
            "\n",
            "23시간전\n",
            "\n",
            "더보기\n",
            "\n",
            "  * 박태훈 기자\n",
            "\n",
            "구독 구독중\n",
            "\n",
            "구독해주셔서 감사합니다\n",
            "\n",
            "박태훈 기자의 기사는  \n",
            "언론사별에서 볼 수 있습니다\n",
            "\n",
            "닫기\n",
            "\n",
            "언론사도 함께 구독해 보세요.\n",
            "\n",
            "구독\n",
            "\n",
            "언론사를 함께 구독중입니다.\n",
            "\n",
            "박훈 변호사 \"강형욱, CCTV 감시용 아냐?…열받아서, 姜의 직원 무료 변론\"\n",
            "\n",
            "뉴스1\n",
            "\n",
            "15시간전\n",
            "\n",
            "더보기\n",
            "\n",
            "  * 윤현주 기자\n",
            "\n",
            "구독 구독중\n",
            "\n",
            "구독해주셔서 감사합니다\n",
            "\n",
            "윤현주 기자의 기사는  \n",
            "언론사별에서 볼 수 있습니다\n",
            "\n",
            "닫기\n",
            "\n",
            "언론사도 함께 구독해 보세요.\n",
            "\n",
            "구독\n",
            "\n",
            "언론사를 함께 구독중입니다.\n",
            "\n",
            "주가 40% 폭등했다가 20% 하락…개미 '진땀'나게 한 이 종목 [윤현주의 主食이 주식]\n",
            "\n",
            "한국경제\n",
            "\n",
            "17시간전\n",
            "\n",
            "더보기\n",
            "\n",
            "새로보기\n",
            "\n",
            "## 함께 볼만한 뉴스\n",
            "\n",
            "안내\n",
            "\n",
            "이 기사를 본 이용자들이 함께 많이 본 기사, 해당 기사와 유사한 기사, 관심 기사 등을 자동 추천합니다\n",
            "\n",
            "닫기\n",
            "\n",
            "  * 이재명 \"소득대체율 44% 수용…尹, 민주당 제안 받아달라\"\n",
            "\n",
            "더불어민주당 이재명 대표가 25일 국민연금 개혁 논의와 관련해 \"꼭 해야 할 일인데 시간은 없으니 불가피하게 민주당이 다 양보하겠다. 여당이\n",
            "제시한 소득대체율 44%를 전적으로 수용하겠다\"고 밝혔다. 이 대표는 이날\n",
            "\n",
            "  * _재생하기_ _재생시간_ 01:56\n",
            "\n",
            "서울대생들도 \"의대 갈래요\"…이공계는 \"연구 경쟁력 우려\"\n",
            "\n",
            "서울 학원가에서 이른바 N수생과 반수생들을 상대로 한 입시 설명회가 열렸습니다. 내년도 의대 정원이 1천500여 명 늘어나는 것으로 확정된\n",
            "뒤 처음 열리는 거였죠. 어떤 이야기들이 나왔는지, 김지욱 기자가 현장 다녀\n",
            "\n",
            "  * 與, 野 ‘채상병특검법’ 집회에 “죽음 정치에 이용·탄핵 바람몰이”\n",
            "\n",
            "국민의힘은 25일 더불어민주당 등 범야권이 ‘채상병특검법’ 통과를 촉구하는 장외집회를 여는 것에 대해 죽음을 정치에 이용하는 ‘윤석열 대통령\n",
            "탄핵 바람몰이’라고 비판했다. 정광재 대변인은 논평에서 \"민주당이 대규모\n",
            "\n",
            "  * 與, 野 연금개혁 주장에 \"특검법 처리 희생량으로 삼으려 해\"\n",
            "\n",
            "국민의힘은 오늘(25일) 더불어민주당 이재명 대표가 21대 국회 연금 개혁안 처리를 촉구하는 데 대해 '정치적 꼼수'라며 비판했습니다.\n",
            "장동혁 원내수석대변인은 논평에서 \"민주당이 국민의 노후와 미래 세대에 막대한 영\n",
            "\n",
            "  * '음주운전' 숨기려 '조직적 증거인멸', 결국 김호중 발목 잡았다[체크리스트]\n",
            "\n",
            "우리 사회에서 논란이 되거나 쟁점이 되는 예민한 현안을 점검하는 고정물입니다. 확인·점검 사항 목록인 '체크리스트'를 만들 듯, 우리 사회의\n",
            "과제들을 꼼꼼히 살펴보겠습니다. '음주 뺑소니' 논란을 연신 부인하며 여론\n",
            "\n",
            "  * 이재명 \"국민 힘으로 항복시켜야\"…조국 \"8년 전 일 다시 겪을 것\"\n",
            "\n",
            "이재명 더불어민주당 대표는 25일 ‘순직 해병 진상규명 방해 및 사건 은폐 등의 진상규명을 위한 특별검사 임명법(채상병특검법)’\n",
            "재의요구권(거부권)을 행사한 윤석열 대통령을 겨냥 \"대통령이 국회 입법권을 무시하고 상\n",
            "\n",
            "  * 국민의힘, 野 '채상병특검법' 집회에 \"죽음을 정치에 이용, 떼쓰기 정치\"\n",
            "\n",
            "국민의힘이 야당과 시민단체의 '채 상병 특검법 통과 촉구 장외집회'에 대해 \"떼쓰기 정치\"라고 비판했다. 정광재 국민의힘 대변인은 25일\n",
            "논평을 통해 \"더불어민주당에 법과 원칙이 사라진 지 이미 오래\"라며 \"순직 해\n",
            "\n",
            "  * \"초딩 때 찍었던 영상 누가 볼까 아찔\" 흑역사 지우는 중고딩들\n",
            "\n",
            "부끄러운 과거의 모습을 지울 수 있었어요.\" \"비밀번호를 잃어버린 계정에 다시 접속하지 않고도 게시물을 삭제할 수 있었어요.\" \"개인정보가\n",
            "노출되고 있다는 불안감을 해소했어요.\" 시행 1년을 맞은 정부 '지우개'서\n",
            "\n",
            "  * 대통령실 \"연금개혁, 쫓기듯 타결 말고 22대 국회서 대타협해야\"\n",
            "\n",
            "더불어민주당 이재명 대표가 기자회견을 열어 국민연금 개혁안을 21대 국회에서 처리하자고 윤석열 대통령과 국민의힘에 거듭 요구한 데 대해\n",
            "대통령실 부정적 입장을 밝혔습니다. 대통령실 고위 관계자는 오늘(25일) 연합뉴\n",
            "\n",
            "  * 여야 원내지도부 주말 회동 취소…'원 구성 협상' 평행선\n",
            "\n",
            "22대 국회 원 구성 협상을 위한 여야 원내지도부의 주말 회동이 취소됐습니다. 국민의힘 추경호 원내대표와 배준영 원내수석부대표, 더불어민주당\n",
            "박찬대 원내대표와 박성준 원내수석부대표는 오늘(25일) 오후 시내 모처에서\n",
            "\n",
            "  * 지하철 좌석 4개 차지한 ‘문신남’…“30분 퍼질러 자더라”\n",
            "\n",
            "서울 지하철 6호선 좌석을 차지하고 드러누운 ‘쩍벌’ 남성의 모습이 공분을 사고 있다. 25일 직장인 익명 커뮤니티 ‘블라인드’에는 “6호선\n",
            "병X 같은 문신남 박제”란 제목의 글이 올라왔다. 글에 게재된 사진에는 한\n",
            "\n",
            "  * 홍준표 \"채상병 특검은 과한 정치공세…찬성하는 여당 의원 한심\"\n",
            "\n",
            "홍준표 대구시장은 25일 채상병 순직사고 특검과 관련해 “대통령 탄핵 운운하는 특검 시도는 과도한 정치공세로 보인다”고 말했다. 홍 시장은\n",
            "자신의 페이스북 글에서 “채상병의 순직은 가슴 아프고 유족들의 슬픔은 국민\n",
            "\n",
            "  * 野, 전세사기특별법도 강행…21대 막판 또 다른 화약고\n",
            "\n",
            "더불어민주당이 28일 국회 본회의에서 '전세사기특별법 개정안' 강행 처리를 예고하면서 21대 국회 마지막까지 여야가 갈등을 이어갈 전망이다.\n",
            "여당은 개정안에 반대하는 입장이라 윤석열 대통령이\n",
            "\n",
            "  * [와이파일] 이근 대위가 말하는 우크라이나…F-16, 전황 바꿀까?\n",
            "\n",
            "이근 예비역 대위는 여러 가지 논란을 몰고 다니는 인물이지만, 군사 분야 전문가란 점에서는 의문의 여지가 없습니다. 우크라이나 종군 기자로\n",
            "취재를 마치고 돌아온 이후 현지 취재를 통해 알게 된 재미한인 자원봉사자를\n",
            "\n",
            "  * '채상병 특검' 표단속에 與 사활…이틀째 편지, 전직 원내대표도 동참\n",
            "\n",
            "국민의힘 지도부가 오는 28일 '해병대 채상병 사망사건 외압 의혹 특별검사법'(채상병 특검법)의 국회 본회의 재표결을 앞두고 이탈표 방지에\n",
            "사활을 걸고 있다. 추경호 국민의힘 원내대표는 당 소속 의원들에 이어 당원들\n",
            "\n",
            "  * 고민정, ‘세금 폭탄’ 종부세 폐지 주장에… 당내 \"국민의힘으로 가라\"\n",
            "\n",
            "더불어민주당 고민정 최고위원이 종합부동산세 폐지를 주장하자 당내 비난이 쏟아지고 있다. 최민희 당선자를 비롯한 야권 인사들은 고 최고위원을\n",
            "향해 “보수 언론에 동화된 생각” 이라며 공개적으로 비판했다. 고 최고위원\n",
            "\n",
            "  * \"부작용 심해서\" …자궁 내 피임장치 혼자 빼 버린 女, 괜찮을까?\n",
            "\n",
            "자궁 내 피임장치를 스스로 제거한 여성 사연이 주목받고 있다. 출혈, 여드름 등 부작용에 병원을 찾았으나 진료가 계속 미뤄지자 직접 제거에\n",
            "나선 것이다. 영국 일간 데일리메일에 따르면 영국 워릭셔에 사는 키에라 플랫\n",
            "\n",
            "  * \"하한가 치길래 '줍줍' 했는데…망한 건가요\" 초조한 개미들 [한경우의 케이스스터디]\n",
            "\n",
            "미국에서 간암 신약 승인이 불발된 HLB가 2거래일 연속으로 하한가를 기록한 뒤 눈에 띄는 반등을 보이지 못하고 있습니다. 급락한 뒤 기술적\n",
            "반등을 노리고 주식을 매수한 투자자들, 특히 개인 투자자들(개미)은 속이\n",
            "\n",
            "  * 김호중 50분 구속심사 종료…포승줄 묶인 채 유치장으로\n",
            "\n",
            "음주 운전을 하다 사고를 낸 뒤 달아난 혐의를 받는 가수 김호중(33)씨가 구속 심사를 마치고 포승줄에 묶인 채 경찰서 유치장으로 옮겨졌다.\n",
            "서울중앙지법은 낮 12시 30분부터 약 50분 동안 구속 전 피의자 심문(\n",
            "\n",
            "  * “강형욱 부부 영상 보다 열받아”… 박훈 변호사, 前 직원 무료 변호 선언한 이유\n",
            "\n",
            "영화 ‘부러진 화살’의 실제 인물로 알려진 박훈 변호사가 반려견 훈련사 강형욱 보듬컴퍼니 대표의 갑질 논란 가운데 ‘사무실 CCTV 감시\n",
            "의혹’를 두고 분노했다. “직원 감시 용도가 아니었다”는 강씨 부부의 해명에도\n",
            "\n",
            "  * \"10만원 내기 싫다\"…캐리어 바퀴 다 뜯고 탑승한 남성\n",
            "\n",
            "한 여행객이 저가 항공사의 추가 수화물 요금을 내지 않겠다며 기내 캐리어의 바퀴를 뜯어냈다. 연합뉴스가 25일(현지시간) 프랑스 일간\n",
            "르피가로를 인용한 보도를 보면, 다니엘 갈바레스는 스페인 발레아레스 제도에서 휴가\n",
            "\n",
            "  * 정치권, 시민들, 해병대 전우까지…“‘채상병 특검 거부’를 거부한다”\n",
            "\n",
            "“대통령의 특검 거부 국민이 거부한다” “채상병 특검법 통과 국민의 명령이다” 해병대 전우회원들부터, 각 시민 단체와 모임 깃발 아래 모인\n",
            "시민들, 전국 곳곳에서 온 야당 당원들까지. 서울역 출구부터 숭례문까지 5개\n",
            "\n",
            "  * '음주 뺑소니' 김호중 15일 만에 구속…경찰 수사 탄력\n",
            "\n",
            "범인도피 방조에서 교사로 혐의 변경 가능성도 음주 뺑소니와 운전자 바꿔치기 등 혐의를 받는 가수 김호중이 사건 발생 15일 만에 구속됐다.\n",
            "김 씨 신병 확보에 성공하면서 경찰은 음주 뺑소니뿐만 아니라 증거인멸 혐의\n",
            "\n",
            "  * 강형욱 사과·해명에 前 직원 반박...박훈 변호사는 무료 변론 자청\n",
            "\n",
            "반려견 훈련사인 강형욱(39) 보듬컴퍼니 대표가 직원을 감시하고 괴롭혔다는 의혹을 전면 부인한 가운데 전 직원이 강 대표의 일부 해명에 대해\n",
            "다시 반박하고 나섰다. 강 대표와 배우자인 수잔 엘더 보듬컴퍼니 이사는 각\n",
            "\n",
            "  * \"부기 빠지고 눈 커져\" …엄지원 동안 마사지, 주의할 점은?\n",
            "\n",
            "배우 엄지원이 집에서 꾸준히 따라하면 누구나 동안이 될 수 있는 '홈케어 꿀팁'을 공개했다. 23일 '엄지원 Umjeewon'에는 '배우\n",
            "엄지원의 홈 페이셜 케어 꿀팁 소개합니다'라는 제목의 영상이 게재됐다. 영상\n",
            "\n",
            "  * “아무도 이럴줄 몰랐다” 충격 받은 삼성…완전 당했다\n",
            "\n",
            "“베끼던 중국에 당했다” 충격적인 결과가 나왔다. 삼성전자가 압도적 1위를 하던 접는 스마트폰 ‘폴더블폰’ 1위자리를 중국 화웨이에게\n",
            "뺏겼다. 삼성 제품 베끼기에 급급했던 중국이 삼성을 제치고 폴더블폰 점유율 세계\n",
            "\n",
            "  * 112에 접수된 “납치됐다 살려 달라” 전화, 신고자 알고 보니…\n",
            "\n",
            "마약을 투약한 50대가 “납치됐다. 살려 달라”고 스스로 경찰에 신고했다가 검거됐다. 25일 경기북부경찰청에 따르면 지난 4월 18일 “내가\n",
            "납치됐다, 살려 달라”는 내용의 신고전화가 112에 접수됐다. 경기북부경찰\n",
            "\n",
            "  * _재생하기_ _재생시간_ 00:59\n",
            "\n",
            "\"강형욱 CCTV 해명 열 받아\" 前직원 무료 변론 선언한 변호사\n",
            "\n",
            "반려견 훈련사 강형욱 보듬컴퍼니 대표가 직장 내 괴롭힘 논란에 해명한 뒤 사무실에 대한 CCTV 촬영을 둘러싼 갑론을박이 이어지고 있다.\n",
            "전국금속노조 상근변호사를 맡기도 했던 박훈 변호사는 25일 자신의 페이스북에\n",
            "\n",
            "  * 지하철서 드러눕고 '쩍벌'…6호선 '문신남'에 누리꾼 공분\n",
            "\n",
            "지하철 6호선 열차 안에서 좌석 3개를 점용해 누운 뒤 잠을 잔 한 남성의 사진이 공개돼 누리꾼들의 공분을 사고 있다. 25일 한 온라인\n",
            "커뮤니티에는 '6호선에 잠자는 사람 사진입니다'라는 제목의 글이 올라왔다. 글\n",
            "\n",
            "  * 햄·소시지보다도 대장암 위험 키우는 ‘이것’… 딱 이만큼만 먹어야\n",
            "\n",
            "소고기 등 붉은 육류와 햄, 소시지, 베이컨 등 가공육이 대장암 발병 위험을 키운다는 것은 잘 알려졌다. 세계보건기구(WHO) 산하\n",
            "국제암연구기구(IARC)에서도 역학연구를 검토한 후 적색육과 가공육을 발암물질 2A\n",
            "\n",
            "이전 뉴스들 보기\n",
            "\n",
            "1\n",
            "\n",
            "5\n",
            "\n",
            "다음 뉴스들 보기\n",
            "\n",
            "### 구독\n",
            "\n",
            "본문 듣기를 _종료_ 하였습니다.\n",
            "\n",
            "이 기사를 _추천_ 했습니다.\n",
            "\n",
            "추천을 _취소_ 했습니다.\n",
            "\n",
            "* * *\n",
            "\n",
            "로그인 전체서비스 서비스안내 오류신고 고객센터 기사배열 책임자 : 김수향 청소년 보호 책임자 : 이정규 각 언론사가 직접 콘텐츠를\n",
            "편집합니다. ⓒ 서울경제 이 콘텐츠의 저작권은 저작권자 또는 제공처에 있으며, 이를 무단  \n",
            "이용하는 경우 저작권법 등에 따라 법적 책임을 질 수 있습니다.  NAVER\n",
            "\n",
            "맨위로\n",
            "\n",
            "예 아니오\n",
            "\n",
            "\n",
            "본문 바로가기\n",
            "\n",
            "이전 페이지\n",
            "\n",
            "#  서울경제\n",
            "\n",
            "구독\n",
            "\n",
            "**언론사를 구독하면 메인** 에서 바로 볼 수 있어요!\n",
            "\n",
            "메인 뉴스판에서 서울경제 주요뉴스를  \n",
            "볼 수 있습니다. 보러가기\n",
            "\n",
            "**서울경제** 언론사 구독 해지되었습니다.\n",
            "\n",
            "  * 주요뉴스\n",
            "  * 숏폼\n",
            "  * 정치\n",
            "  * 경제\n",
            "  * 사회\n",
            "  * 생활\n",
            "  * 세계\n",
            "  * IT\n",
            "  * 사설/칼럼\n",
            "  * 신문보기\n",
            "  * 랭킹\n",
            "\n",
            "* * *\n",
            "\n",
            "_PICK_ _안내_\n",
            "\n",
            "언론사가 주요기사로  \n",
            "선정한 기사입니다. 언론사별 바로가기 닫기\n",
            "\n",
            "## 대통령실 \"연금개혁, 쫓기듯 타결 안돼…청년세대 의견 반영해야\"\n",
            "\n",
            "_입력_ 2024.05.25. 오후 6:37\n",
            "\n",
            "기사원문\n",
            "\n",
            "_박동휘 기자_\n",
            "\n",
            "  * _박동휘 기자_\n",
            "\n",
            "구독 구독중\n",
            "\n",
            "구독자\n",
            "\n",
            "    0\n",
            "\n",
            "응원수\n",
            "\n",
            "    0\n",
            "\n",
            "더보기\n",
            "\n",
            "추천\n",
            "\n",
            "  * 쏠쏠정보 0\n",
            "  * 흥미진진 0\n",
            "  * 공감백배 0\n",
            "  * 분석탁월 0\n",
            "  * 후속강추 0\n",
            "\n",
            "댓글\n",
            "\n",
            "본문 요약봇\n",
            "\n",
            "**본문 요약봇도움말** 자동 추출 기술로 요약된 내용입니다. 요약 기술의 특성상 본문의 주요 내용이 제외될 수 있어, 전체 맥락을 이해하기\n",
            "위해서는 기사 본문 전체보기를 권장합니다. 닫기\n",
            "\n",
            "텍스트 음성 변환 서비스 사용하기\n",
            "\n",
            "_성별_ 남성 여성\n",
            "\n",
            "_말하기 속도_ 느림 보통 빠름\n",
            "\n",
            "이동 통신망을 이용하여 음성을 재생하면 별도의 데이터 통화료가 부과될 수 있습니다.\n",
            "\n",
            "본문듣기 시작\n",
            "\n",
            "닫기\n",
            "\n",
            "글자 크기 변경하기\n",
            "\n",
            "  * 가 _1단계_ 작게\n",
            "  * 가 _2단계_ 보통\n",
            "  * 가 _3단계_ 크게\n",
            "  * 가 _4단계_ 아주크게\n",
            "  * 가 _5단계_ 최대크게\n",
            "\n",
            "SNS 보내기\n",
            "\n",
            "인쇄하기\n",
            "\n",
            "_연합뉴스_  \n",
            "[서울경제]  \n",
            "  \n",
            "대통령실은 25일 이재명 더불어민주당 대표가 기자회견을 열어 국민연금 개혁안을 21대 국회에서 처리하자고 윤석열 대통령과 국민의힘에 거듭\n",
            "요구한 데 대해 시간에 쫓기듯 졸속으로 결정해서는 안 된다고 밝혔다.  \n",
            "  \n",
            "대통령실 고위 관계자는 이날 \"보험료율과 소득대체율 수치에 대한 결정 자체도 중요하지만, 국민연금은 국\n"
          ]
        }
      ]
    },
    {
      "cell_type": "markdown",
      "source": [
        "WebBaseLoader는 HTML 웹페이지의 모든 텍스트를 추출할 때 사용하는 로더임.\n",
        "\n",
        "WebBaseLoader의 경우 다양한 자식 클래스들이 있어서 이걸 쓰면 알아서 파싱을 잘 해주는 듯함."
      ],
      "metadata": {
        "id": "CXJnjq64Y7No"
      }
    },
    {
      "cell_type": "code",
      "source": [
        "from langchain_community.document_loaders import WebBaseLoader\n",
        "\n",
        "# 웹 페이지 \"https://news.naver.com/\"에서 데이터를 로드하는 WebBaseLoader 객체를 생성합니다.\n",
        "loader = WebBaseLoader(\"https://news.naver.com/\")\n",
        "\n",
        "# SSL 인증서 오류 우회\n",
        "loader.requests_kwargs = {\"verify\": False}\n",
        "\n",
        "# 로더를 사용하여 데이터를 불러옵니다.\n",
        "web_data = loader.load()\n",
        "# 불러온 데이터를 출력합니다.\n",
        "display(web_data[0].page_content[2000:2500].replace(\"\\n\", \"\"))\n",
        "\n"
      ],
      "metadata": {
        "id": "GhSsd0-BL8dV",
        "outputId": "f3463781-be51-4c8f-e457-7bab20d120d8",
        "colab": {
          "base_uri": "https://localhost:8080/",
          "height": 177
        }
      },
      "execution_count": null,
      "outputs": [
        {
          "output_type": "stream",
          "name": "stderr",
          "text": [
            "/usr/local/lib/python3.10/dist-packages/urllib3/connectionpool.py:1100: InsecureRequestWarning: Unverified HTTPS request is being made to host 'news.naver.com'. Adding certificate verification is strongly advised. See: https://urllib3.readthedocs.io/en/latest/advanced-usage.html#tls-warnings\n",
            "  warnings.warn(\n"
          ]
        },
        {
          "output_type": "display_data",
          "data": {
            "text/plain": [
              "'의원이 \"특검을 당당매일경제05월 26일 00:12구독강형욱 “아내는 통일교 2세…스무 살에 탈퇴했다”직원들에 대한 ‘갑질’ 논란에 휘말린 유명 반려견 훈련사 강형욱이 아내의 종교에 대해 처음으로 입을 열었다. 강형욱은 아내 수잔 엘더가 과거 통일교였다고 밝혔다. 25일 디스패치는 강형욱과 나눈 인터뷰를 공개했다. 서울경제05월 26일 00:03구독“5% 확률로 살아돌아와”…금지된 박수소리 울려퍼진 英의회 무슨 일의사당 내에서 박수치는 게 허용되지 않는 영국에서 최근 모든 의원이 기립박수를 치는 일이 있었다. 박수를 받은 주인공은 보수당 하원 의원인 크레이그 맥킨레이다. 25일(현지시간) 영국 일간 텔레그래프에 따르면 맥킨레새로보기노컷뉴스05월 26일 00:02구독이재명 \"\\'소득대체율 44%\\' 연금개혁 여당안 수용\"…與 \"언론플레이\"(종합)더불'"
            ],
            "application/vnd.google.colaboratory.intrinsic+json": {
              "type": "string"
            }
          },
          "metadata": {}
        }
      ]
    },
    {
      "cell_type": "markdown",
      "source": [
        "찾아보니 LLM에게 전달해서 파싱을 할 수도 있나보다.\n",
        "\n",
        "한번 해보자\n",
        "\n"
      ],
      "metadata": {
        "id": "e-tDjcBMap_X"
      }
    },
    {
      "cell_type": "code",
      "source": [
        "from langchain.text_splitter import RecursiveCharacterTextSplitter\n",
        "from langchain_community.document_loaders import AsyncChromiumLoader\n",
        "from langchain_community.document_transformers import Html2TextTransformer\n",
        "from langchain_community.document_transformers import BeautifulSoupTransformer\n",
        "from langchain.chains import create_extraction_chain\n",
        "\n",
        "# 크롤링할 URL 목록을 설정합니다.\n",
        "urls = [\"https://n.news.naver.com/article/011/0004345031?cds=news_media_pc\"]\n",
        "\n",
        "# AsyncChromiumLoader를 사용하여 URL에서 비동기적으로 문서를 로드합니다.\n",
        "loader = AsyncChromiumLoader(urls)\n",
        "# 로드된 문서를 가져옵니다.\n",
        "docs = loader.load()\n",
        "\n",
        "# # 변환 작업\n",
        "bs_transformer = BeautifulSoupTransformer()\n",
        "# HTML 문서를 변환합니다. p, li, div, a 태그의 내용을 추출합니다.\n",
        "docs_transformed = bs_transformer.transform_documents(\n",
        "    docs,\n",
        "    tags_to_extract=[\"div\"],\n",
        ")\n",
        "\n",
        "splitter = RecursiveCharacterTextSplitter.from_tiktoken_encoder(\n",
        "  chunk_size=1000, chunk_overlap=0\n",
        ")\n",
        "splits = splitter.split_documents(docs_transformed)\n",
        "\n",
        "schema = {\n",
        "    \"properties\": {\n",
        "        \"뉴스 제목\": {\"type\": \"string\"},\n",
        "        \"언론사\": {\"type\": \"string\"},\n",
        "    },\n",
        "    \"required\": [\"뉴스 제목\", \"언론사\"],\n",
        "}\n",
        "\n",
        "def extract(content: str, schema: dict):\n",
        "    return create_extraction_chain(schema=schema, llm=llm).run(content)\n",
        "\n",
        "from tqdm import tqdm\n",
        "\n",
        "extracted_contents = []\n",
        "for split in tqdm(splits):\n",
        "    extracted_content = extract(content=split.page_content, schema=schema)\n",
        "    extracted_contents.extend(extracted_content)"
      ],
      "metadata": {
        "id": "4HL9zUt1axMI",
        "outputId": "71a8d88e-1365-4725-a610-ae29775a2e64",
        "colab": {
          "base_uri": "https://localhost:8080/",
          "height": 391
        }
      },
      "execution_count": null,
      "outputs": [
        {
          "output_type": "stream",
          "name": "stderr",
          "text": [
            "  0%|          | 0/55 [00:00<?, ?it/s]\n"
          ]
        },
        {
          "output_type": "error",
          "ename": "TypeError",
          "evalue": "GenerativeServiceClient.generate_content() got an unexpected keyword argument 'function_call'",
          "traceback": [
            "\u001b[0;31m---------------------------------------------------------------------------\u001b[0m",
            "\u001b[0;31mTypeError\u001b[0m                                 Traceback (most recent call last)",
            "\u001b[0;32m<ipython-input-65-2cc64145b0d3>\u001b[0m in \u001b[0;36m<cell line: 42>\u001b[0;34m()\u001b[0m\n\u001b[1;32m     41\u001b[0m \u001b[0mextracted_contents\u001b[0m \u001b[0;34m=\u001b[0m \u001b[0;34m[\u001b[0m\u001b[0;34m]\u001b[0m\u001b[0;34m\u001b[0m\u001b[0;34m\u001b[0m\u001b[0m\n\u001b[1;32m     42\u001b[0m \u001b[0;32mfor\u001b[0m \u001b[0msplit\u001b[0m \u001b[0;32min\u001b[0m \u001b[0mtqdm\u001b[0m\u001b[0;34m(\u001b[0m\u001b[0msplits\u001b[0m\u001b[0;34m)\u001b[0m\u001b[0;34m:\u001b[0m\u001b[0;34m\u001b[0m\u001b[0;34m\u001b[0m\u001b[0m\n\u001b[0;32m---> 43\u001b[0;31m     \u001b[0mextracted_content\u001b[0m \u001b[0;34m=\u001b[0m \u001b[0mextract\u001b[0m\u001b[0;34m(\u001b[0m\u001b[0mcontent\u001b[0m\u001b[0;34m=\u001b[0m\u001b[0msplit\u001b[0m\u001b[0;34m.\u001b[0m\u001b[0mpage_content\u001b[0m\u001b[0;34m,\u001b[0m \u001b[0mschema\u001b[0m\u001b[0;34m=\u001b[0m\u001b[0mschema\u001b[0m\u001b[0;34m)\u001b[0m\u001b[0;34m\u001b[0m\u001b[0;34m\u001b[0m\u001b[0m\n\u001b[0m\u001b[1;32m     44\u001b[0m     \u001b[0mextracted_contents\u001b[0m\u001b[0;34m.\u001b[0m\u001b[0mextend\u001b[0m\u001b[0;34m(\u001b[0m\u001b[0mextracted_content\u001b[0m\u001b[0;34m)\u001b[0m\u001b[0;34m\u001b[0m\u001b[0;34m\u001b[0m\u001b[0m\n",
            "\u001b[0;32m<ipython-input-65-2cc64145b0d3>\u001b[0m in \u001b[0;36mextract\u001b[0;34m(content, schema)\u001b[0m\n\u001b[1;32m     35\u001b[0m \u001b[0;34m\u001b[0m\u001b[0m\n\u001b[1;32m     36\u001b[0m \u001b[0;32mdef\u001b[0m \u001b[0mextract\u001b[0m\u001b[0;34m(\u001b[0m\u001b[0mcontent\u001b[0m\u001b[0;34m:\u001b[0m \u001b[0mstr\u001b[0m\u001b[0;34m,\u001b[0m \u001b[0mschema\u001b[0m\u001b[0;34m:\u001b[0m \u001b[0mdict\u001b[0m\u001b[0;34m)\u001b[0m\u001b[0;34m:\u001b[0m\u001b[0;34m\u001b[0m\u001b[0;34m\u001b[0m\u001b[0m\n\u001b[0;32m---> 37\u001b[0;31m     \u001b[0;32mreturn\u001b[0m \u001b[0mcreate_extraction_chain\u001b[0m\u001b[0;34m(\u001b[0m\u001b[0mschema\u001b[0m\u001b[0;34m=\u001b[0m\u001b[0mschema\u001b[0m\u001b[0;34m,\u001b[0m \u001b[0mllm\u001b[0m\u001b[0;34m=\u001b[0m\u001b[0mllm\u001b[0m\u001b[0;34m)\u001b[0m\u001b[0;34m.\u001b[0m\u001b[0mrun\u001b[0m\u001b[0;34m(\u001b[0m\u001b[0mcontent\u001b[0m\u001b[0;34m)\u001b[0m\u001b[0;34m\u001b[0m\u001b[0;34m\u001b[0m\u001b[0m\n\u001b[0m\u001b[1;32m     38\u001b[0m \u001b[0;34m\u001b[0m\u001b[0m\n\u001b[1;32m     39\u001b[0m \u001b[0;32mfrom\u001b[0m \u001b[0mtqdm\u001b[0m \u001b[0;32mimport\u001b[0m \u001b[0mtqdm\u001b[0m\u001b[0;34m\u001b[0m\u001b[0;34m\u001b[0m\u001b[0m\n",
            "\u001b[0;32m/usr/local/lib/python3.10/dist-packages/langchain_core/_api/deprecation.py\u001b[0m in \u001b[0;36mwarning_emitting_wrapper\u001b[0;34m(*args, **kwargs)\u001b[0m\n\u001b[1;32m    146\u001b[0m                 \u001b[0mwarned\u001b[0m \u001b[0;34m=\u001b[0m \u001b[0;32mTrue\u001b[0m\u001b[0;34m\u001b[0m\u001b[0;34m\u001b[0m\u001b[0m\n\u001b[1;32m    147\u001b[0m                 \u001b[0memit_warning\u001b[0m\u001b[0;34m(\u001b[0m\u001b[0;34m)\u001b[0m\u001b[0;34m\u001b[0m\u001b[0;34m\u001b[0m\u001b[0m\n\u001b[0;32m--> 148\u001b[0;31m             \u001b[0;32mreturn\u001b[0m \u001b[0mwrapped\u001b[0m\u001b[0;34m(\u001b[0m\u001b[0;34m*\u001b[0m\u001b[0margs\u001b[0m\u001b[0;34m,\u001b[0m \u001b[0;34m**\u001b[0m\u001b[0mkwargs\u001b[0m\u001b[0;34m)\u001b[0m\u001b[0;34m\u001b[0m\u001b[0;34m\u001b[0m\u001b[0m\n\u001b[0m\u001b[1;32m    149\u001b[0m \u001b[0;34m\u001b[0m\u001b[0m\n\u001b[1;32m    150\u001b[0m         \u001b[0;32masync\u001b[0m \u001b[0;32mdef\u001b[0m \u001b[0mawarning_emitting_wrapper\u001b[0m\u001b[0;34m(\u001b[0m\u001b[0;34m*\u001b[0m\u001b[0margs\u001b[0m\u001b[0;34m:\u001b[0m \u001b[0mAny\u001b[0m\u001b[0;34m,\u001b[0m \u001b[0;34m**\u001b[0m\u001b[0mkwargs\u001b[0m\u001b[0;34m:\u001b[0m \u001b[0mAny\u001b[0m\u001b[0;34m)\u001b[0m \u001b[0;34m->\u001b[0m \u001b[0mAny\u001b[0m\u001b[0;34m:\u001b[0m\u001b[0;34m\u001b[0m\u001b[0;34m\u001b[0m\u001b[0m\n",
            "\u001b[0;32m/usr/local/lib/python3.10/dist-packages/langchain/chains/base.py\u001b[0m in \u001b[0;36mrun\u001b[0;34m(self, callbacks, tags, metadata, *args, **kwargs)\u001b[0m\n\u001b[1;32m    598\u001b[0m             \u001b[0;32mif\u001b[0m \u001b[0mlen\u001b[0m\u001b[0;34m(\u001b[0m\u001b[0margs\u001b[0m\u001b[0;34m)\u001b[0m \u001b[0;34m!=\u001b[0m \u001b[0;36m1\u001b[0m\u001b[0;34m:\u001b[0m\u001b[0;34m\u001b[0m\u001b[0;34m\u001b[0m\u001b[0m\n\u001b[1;32m    599\u001b[0m                 \u001b[0;32mraise\u001b[0m \u001b[0mValueError\u001b[0m\u001b[0;34m(\u001b[0m\u001b[0;34m\"`run` supports only one positional argument.\"\u001b[0m\u001b[0;34m)\u001b[0m\u001b[0;34m\u001b[0m\u001b[0;34m\u001b[0m\u001b[0m\n\u001b[0;32m--> 600\u001b[0;31m             return self(args[0], callbacks=callbacks, tags=tags, metadata=metadata)[\n\u001b[0m\u001b[1;32m    601\u001b[0m                 \u001b[0m_output_key\u001b[0m\u001b[0;34m\u001b[0m\u001b[0;34m\u001b[0m\u001b[0m\n\u001b[1;32m    602\u001b[0m             ]\n",
            "\u001b[0;32m/usr/local/lib/python3.10/dist-packages/langchain_core/_api/deprecation.py\u001b[0m in \u001b[0;36mwarning_emitting_wrapper\u001b[0;34m(*args, **kwargs)\u001b[0m\n\u001b[1;32m    146\u001b[0m                 \u001b[0mwarned\u001b[0m \u001b[0;34m=\u001b[0m \u001b[0;32mTrue\u001b[0m\u001b[0;34m\u001b[0m\u001b[0;34m\u001b[0m\u001b[0m\n\u001b[1;32m    147\u001b[0m                 \u001b[0memit_warning\u001b[0m\u001b[0;34m(\u001b[0m\u001b[0;34m)\u001b[0m\u001b[0;34m\u001b[0m\u001b[0;34m\u001b[0m\u001b[0m\n\u001b[0;32m--> 148\u001b[0;31m             \u001b[0;32mreturn\u001b[0m \u001b[0mwrapped\u001b[0m\u001b[0;34m(\u001b[0m\u001b[0;34m*\u001b[0m\u001b[0margs\u001b[0m\u001b[0;34m,\u001b[0m \u001b[0;34m**\u001b[0m\u001b[0mkwargs\u001b[0m\u001b[0;34m)\u001b[0m\u001b[0;34m\u001b[0m\u001b[0;34m\u001b[0m\u001b[0m\n\u001b[0m\u001b[1;32m    149\u001b[0m \u001b[0;34m\u001b[0m\u001b[0m\n\u001b[1;32m    150\u001b[0m         \u001b[0;32masync\u001b[0m \u001b[0;32mdef\u001b[0m \u001b[0mawarning_emitting_wrapper\u001b[0m\u001b[0;34m(\u001b[0m\u001b[0;34m*\u001b[0m\u001b[0margs\u001b[0m\u001b[0;34m:\u001b[0m \u001b[0mAny\u001b[0m\u001b[0;34m,\u001b[0m \u001b[0;34m**\u001b[0m\u001b[0mkwargs\u001b[0m\u001b[0;34m:\u001b[0m \u001b[0mAny\u001b[0m\u001b[0;34m)\u001b[0m \u001b[0;34m->\u001b[0m \u001b[0mAny\u001b[0m\u001b[0;34m:\u001b[0m\u001b[0;34m\u001b[0m\u001b[0;34m\u001b[0m\u001b[0m\n",
            "\u001b[0;32m/usr/local/lib/python3.10/dist-packages/langchain/chains/base.py\u001b[0m in \u001b[0;36m__call__\u001b[0;34m(self, inputs, return_only_outputs, callbacks, tags, metadata, run_name, include_run_info)\u001b[0m\n\u001b[1;32m    381\u001b[0m         }\n\u001b[1;32m    382\u001b[0m \u001b[0;34m\u001b[0m\u001b[0m\n\u001b[0;32m--> 383\u001b[0;31m         return self.invoke(\n\u001b[0m\u001b[1;32m    384\u001b[0m             \u001b[0minputs\u001b[0m\u001b[0;34m,\u001b[0m\u001b[0;34m\u001b[0m\u001b[0;34m\u001b[0m\u001b[0m\n\u001b[1;32m    385\u001b[0m             \u001b[0mcast\u001b[0m\u001b[0;34m(\u001b[0m\u001b[0mRunnableConfig\u001b[0m\u001b[0;34m,\u001b[0m \u001b[0;34m{\u001b[0m\u001b[0mk\u001b[0m\u001b[0;34m:\u001b[0m \u001b[0mv\u001b[0m \u001b[0;32mfor\u001b[0m \u001b[0mk\u001b[0m\u001b[0;34m,\u001b[0m \u001b[0mv\u001b[0m \u001b[0;32min\u001b[0m \u001b[0mconfig\u001b[0m\u001b[0;34m.\u001b[0m\u001b[0mitems\u001b[0m\u001b[0;34m(\u001b[0m\u001b[0;34m)\u001b[0m \u001b[0;32mif\u001b[0m \u001b[0mv\u001b[0m \u001b[0;32mis\u001b[0m \u001b[0;32mnot\u001b[0m \u001b[0;32mNone\u001b[0m\u001b[0;34m}\u001b[0m\u001b[0;34m)\u001b[0m\u001b[0;34m,\u001b[0m\u001b[0;34m\u001b[0m\u001b[0;34m\u001b[0m\u001b[0m\n",
            "\u001b[0;32m/usr/local/lib/python3.10/dist-packages/langchain/chains/base.py\u001b[0m in \u001b[0;36minvoke\u001b[0;34m(self, input, config, **kwargs)\u001b[0m\n\u001b[1;32m    164\u001b[0m         \u001b[0;32mexcept\u001b[0m \u001b[0mBaseException\u001b[0m \u001b[0;32mas\u001b[0m \u001b[0me\u001b[0m\u001b[0;34m:\u001b[0m\u001b[0;34m\u001b[0m\u001b[0;34m\u001b[0m\u001b[0m\n\u001b[1;32m    165\u001b[0m             \u001b[0mrun_manager\u001b[0m\u001b[0;34m.\u001b[0m\u001b[0mon_chain_error\u001b[0m\u001b[0;34m(\u001b[0m\u001b[0me\u001b[0m\u001b[0;34m)\u001b[0m\u001b[0;34m\u001b[0m\u001b[0;34m\u001b[0m\u001b[0m\n\u001b[0;32m--> 166\u001b[0;31m             \u001b[0;32mraise\u001b[0m \u001b[0me\u001b[0m\u001b[0;34m\u001b[0m\u001b[0;34m\u001b[0m\u001b[0m\n\u001b[0m\u001b[1;32m    167\u001b[0m         \u001b[0mrun_manager\u001b[0m\u001b[0;34m.\u001b[0m\u001b[0mon_chain_end\u001b[0m\u001b[0;34m(\u001b[0m\u001b[0moutputs\u001b[0m\u001b[0;34m)\u001b[0m\u001b[0;34m\u001b[0m\u001b[0;34m\u001b[0m\u001b[0m\n\u001b[1;32m    168\u001b[0m \u001b[0;34m\u001b[0m\u001b[0m\n",
            "\u001b[0;32m/usr/local/lib/python3.10/dist-packages/langchain/chains/base.py\u001b[0m in \u001b[0;36minvoke\u001b[0;34m(self, input, config, **kwargs)\u001b[0m\n\u001b[1;32m    154\u001b[0m             \u001b[0mself\u001b[0m\u001b[0;34m.\u001b[0m\u001b[0m_validate_inputs\u001b[0m\u001b[0;34m(\u001b[0m\u001b[0minputs\u001b[0m\u001b[0;34m)\u001b[0m\u001b[0;34m\u001b[0m\u001b[0;34m\u001b[0m\u001b[0m\n\u001b[1;32m    155\u001b[0m             outputs = (\n\u001b[0;32m--> 156\u001b[0;31m                 \u001b[0mself\u001b[0m\u001b[0;34m.\u001b[0m\u001b[0m_call\u001b[0m\u001b[0;34m(\u001b[0m\u001b[0minputs\u001b[0m\u001b[0;34m,\u001b[0m \u001b[0mrun_manager\u001b[0m\u001b[0;34m=\u001b[0m\u001b[0mrun_manager\u001b[0m\u001b[0;34m)\u001b[0m\u001b[0;34m\u001b[0m\u001b[0;34m\u001b[0m\u001b[0m\n\u001b[0m\u001b[1;32m    157\u001b[0m                 \u001b[0;32mif\u001b[0m \u001b[0mnew_arg_supported\u001b[0m\u001b[0;34m\u001b[0m\u001b[0;34m\u001b[0m\u001b[0m\n\u001b[1;32m    158\u001b[0m                 \u001b[0;32melse\u001b[0m \u001b[0mself\u001b[0m\u001b[0;34m.\u001b[0m\u001b[0m_call\u001b[0m\u001b[0;34m(\u001b[0m\u001b[0minputs\u001b[0m\u001b[0;34m)\u001b[0m\u001b[0;34m\u001b[0m\u001b[0;34m\u001b[0m\u001b[0m\n",
            "\u001b[0;32m/usr/local/lib/python3.10/dist-packages/langchain/chains/llm.py\u001b[0m in \u001b[0;36m_call\u001b[0;34m(self, inputs, run_manager)\u001b[0m\n\u001b[1;32m    124\u001b[0m         \u001b[0mrun_manager\u001b[0m\u001b[0;34m:\u001b[0m \u001b[0mOptional\u001b[0m\u001b[0;34m[\u001b[0m\u001b[0mCallbackManagerForChainRun\u001b[0m\u001b[0;34m]\u001b[0m \u001b[0;34m=\u001b[0m \u001b[0;32mNone\u001b[0m\u001b[0;34m,\u001b[0m\u001b[0;34m\u001b[0m\u001b[0;34m\u001b[0m\u001b[0m\n\u001b[1;32m    125\u001b[0m     ) -> Dict[str, str]:\n\u001b[0;32m--> 126\u001b[0;31m         \u001b[0mresponse\u001b[0m \u001b[0;34m=\u001b[0m \u001b[0mself\u001b[0m\u001b[0;34m.\u001b[0m\u001b[0mgenerate\u001b[0m\u001b[0;34m(\u001b[0m\u001b[0;34m[\u001b[0m\u001b[0minputs\u001b[0m\u001b[0;34m]\u001b[0m\u001b[0;34m,\u001b[0m \u001b[0mrun_manager\u001b[0m\u001b[0;34m=\u001b[0m\u001b[0mrun_manager\u001b[0m\u001b[0;34m)\u001b[0m\u001b[0;34m\u001b[0m\u001b[0;34m\u001b[0m\u001b[0m\n\u001b[0m\u001b[1;32m    127\u001b[0m         \u001b[0;32mreturn\u001b[0m \u001b[0mself\u001b[0m\u001b[0;34m.\u001b[0m\u001b[0mcreate_outputs\u001b[0m\u001b[0;34m(\u001b[0m\u001b[0mresponse\u001b[0m\u001b[0;34m)\u001b[0m\u001b[0;34m[\u001b[0m\u001b[0;36m0\u001b[0m\u001b[0;34m]\u001b[0m\u001b[0;34m\u001b[0m\u001b[0;34m\u001b[0m\u001b[0m\n\u001b[1;32m    128\u001b[0m \u001b[0;34m\u001b[0m\u001b[0m\n",
            "\u001b[0;32m/usr/local/lib/python3.10/dist-packages/langchain/chains/llm.py\u001b[0m in \u001b[0;36mgenerate\u001b[0;34m(self, input_list, run_manager)\u001b[0m\n\u001b[1;32m    136\u001b[0m         \u001b[0mcallbacks\u001b[0m \u001b[0;34m=\u001b[0m \u001b[0mrun_manager\u001b[0m\u001b[0;34m.\u001b[0m\u001b[0mget_child\u001b[0m\u001b[0;34m(\u001b[0m\u001b[0;34m)\u001b[0m \u001b[0;32mif\u001b[0m \u001b[0mrun_manager\u001b[0m \u001b[0;32melse\u001b[0m \u001b[0;32mNone\u001b[0m\u001b[0;34m\u001b[0m\u001b[0;34m\u001b[0m\u001b[0m\n\u001b[1;32m    137\u001b[0m         \u001b[0;32mif\u001b[0m \u001b[0misinstance\u001b[0m\u001b[0;34m(\u001b[0m\u001b[0mself\u001b[0m\u001b[0;34m.\u001b[0m\u001b[0mllm\u001b[0m\u001b[0;34m,\u001b[0m \u001b[0mBaseLanguageModel\u001b[0m\u001b[0;34m)\u001b[0m\u001b[0;34m:\u001b[0m\u001b[0;34m\u001b[0m\u001b[0;34m\u001b[0m\u001b[0m\n\u001b[0;32m--> 138\u001b[0;31m             return self.llm.generate_prompt(\n\u001b[0m\u001b[1;32m    139\u001b[0m                 \u001b[0mprompts\u001b[0m\u001b[0;34m,\u001b[0m\u001b[0;34m\u001b[0m\u001b[0;34m\u001b[0m\u001b[0m\n\u001b[1;32m    140\u001b[0m                 \u001b[0mstop\u001b[0m\u001b[0;34m,\u001b[0m\u001b[0;34m\u001b[0m\u001b[0;34m\u001b[0m\u001b[0m\n",
            "\u001b[0;32m/usr/local/lib/python3.10/dist-packages/langchain_core/language_models/chat_models.py\u001b[0m in \u001b[0;36mgenerate_prompt\u001b[0;34m(self, prompts, stop, callbacks, **kwargs)\u001b[0m\n\u001b[1;32m    597\u001b[0m     ) -> LLMResult:\n\u001b[1;32m    598\u001b[0m         \u001b[0mprompt_messages\u001b[0m \u001b[0;34m=\u001b[0m \u001b[0;34m[\u001b[0m\u001b[0mp\u001b[0m\u001b[0;34m.\u001b[0m\u001b[0mto_messages\u001b[0m\u001b[0;34m(\u001b[0m\u001b[0;34m)\u001b[0m \u001b[0;32mfor\u001b[0m \u001b[0mp\u001b[0m \u001b[0;32min\u001b[0m \u001b[0mprompts\u001b[0m\u001b[0;34m]\u001b[0m\u001b[0;34m\u001b[0m\u001b[0;34m\u001b[0m\u001b[0m\n\u001b[0;32m--> 599\u001b[0;31m         \u001b[0;32mreturn\u001b[0m \u001b[0mself\u001b[0m\u001b[0;34m.\u001b[0m\u001b[0mgenerate\u001b[0m\u001b[0;34m(\u001b[0m\u001b[0mprompt_messages\u001b[0m\u001b[0;34m,\u001b[0m \u001b[0mstop\u001b[0m\u001b[0;34m=\u001b[0m\u001b[0mstop\u001b[0m\u001b[0;34m,\u001b[0m \u001b[0mcallbacks\u001b[0m\u001b[0;34m=\u001b[0m\u001b[0mcallbacks\u001b[0m\u001b[0;34m,\u001b[0m \u001b[0;34m**\u001b[0m\u001b[0mkwargs\u001b[0m\u001b[0;34m)\u001b[0m\u001b[0;34m\u001b[0m\u001b[0;34m\u001b[0m\u001b[0m\n\u001b[0m\u001b[1;32m    600\u001b[0m \u001b[0;34m\u001b[0m\u001b[0m\n\u001b[1;32m    601\u001b[0m     async def agenerate_prompt(\n",
            "\u001b[0;32m/usr/local/lib/python3.10/dist-packages/langchain_core/language_models/chat_models.py\u001b[0m in \u001b[0;36mgenerate\u001b[0;34m(self, messages, stop, callbacks, tags, metadata, run_name, run_id, **kwargs)\u001b[0m\n\u001b[1;32m    454\u001b[0m                 \u001b[0;32mif\u001b[0m \u001b[0mrun_managers\u001b[0m\u001b[0;34m:\u001b[0m\u001b[0;34m\u001b[0m\u001b[0;34m\u001b[0m\u001b[0m\n\u001b[1;32m    455\u001b[0m                     \u001b[0mrun_managers\u001b[0m\u001b[0;34m[\u001b[0m\u001b[0mi\u001b[0m\u001b[0;34m]\u001b[0m\u001b[0;34m.\u001b[0m\u001b[0mon_llm_error\u001b[0m\u001b[0;34m(\u001b[0m\u001b[0me\u001b[0m\u001b[0;34m,\u001b[0m \u001b[0mresponse\u001b[0m\u001b[0;34m=\u001b[0m\u001b[0mLLMResult\u001b[0m\u001b[0;34m(\u001b[0m\u001b[0mgenerations\u001b[0m\u001b[0;34m=\u001b[0m\u001b[0;34m[\u001b[0m\u001b[0;34m]\u001b[0m\u001b[0;34m)\u001b[0m\u001b[0;34m)\u001b[0m\u001b[0;34m\u001b[0m\u001b[0;34m\u001b[0m\u001b[0m\n\u001b[0;32m--> 456\u001b[0;31m                 \u001b[0;32mraise\u001b[0m \u001b[0me\u001b[0m\u001b[0;34m\u001b[0m\u001b[0;34m\u001b[0m\u001b[0m\n\u001b[0m\u001b[1;32m    457\u001b[0m         flattened_outputs = [\n\u001b[1;32m    458\u001b[0m             \u001b[0mLLMResult\u001b[0m\u001b[0;34m(\u001b[0m\u001b[0mgenerations\u001b[0m\u001b[0;34m=\u001b[0m\u001b[0;34m[\u001b[0m\u001b[0mres\u001b[0m\u001b[0;34m.\u001b[0m\u001b[0mgenerations\u001b[0m\u001b[0;34m]\u001b[0m\u001b[0;34m,\u001b[0m \u001b[0mllm_output\u001b[0m\u001b[0;34m=\u001b[0m\u001b[0mres\u001b[0m\u001b[0;34m.\u001b[0m\u001b[0mllm_output\u001b[0m\u001b[0;34m)\u001b[0m  \u001b[0;31m# type: ignore[list-item]\u001b[0m\u001b[0;34m\u001b[0m\u001b[0;34m\u001b[0m\u001b[0m\n",
            "\u001b[0;32m/usr/local/lib/python3.10/dist-packages/langchain_core/language_models/chat_models.py\u001b[0m in \u001b[0;36mgenerate\u001b[0;34m(self, messages, stop, callbacks, tags, metadata, run_name, run_id, **kwargs)\u001b[0m\n\u001b[1;32m    444\u001b[0m             \u001b[0;32mtry\u001b[0m\u001b[0;34m:\u001b[0m\u001b[0;34m\u001b[0m\u001b[0;34m\u001b[0m\u001b[0m\n\u001b[1;32m    445\u001b[0m                 results.append(\n\u001b[0;32m--> 446\u001b[0;31m                     self._generate_with_cache(\n\u001b[0m\u001b[1;32m    447\u001b[0m                         \u001b[0mm\u001b[0m\u001b[0;34m,\u001b[0m\u001b[0;34m\u001b[0m\u001b[0;34m\u001b[0m\u001b[0m\n\u001b[1;32m    448\u001b[0m                         \u001b[0mstop\u001b[0m\u001b[0;34m=\u001b[0m\u001b[0mstop\u001b[0m\u001b[0;34m,\u001b[0m\u001b[0;34m\u001b[0m\u001b[0;34m\u001b[0m\u001b[0m\n",
            "\u001b[0;32m/usr/local/lib/python3.10/dist-packages/langchain_core/language_models/chat_models.py\u001b[0m in \u001b[0;36m_generate_with_cache\u001b[0;34m(self, messages, stop, run_manager, **kwargs)\u001b[0m\n\u001b[1;32m    669\u001b[0m         \u001b[0;32melse\u001b[0m\u001b[0;34m:\u001b[0m\u001b[0;34m\u001b[0m\u001b[0;34m\u001b[0m\u001b[0m\n\u001b[1;32m    670\u001b[0m             \u001b[0;32mif\u001b[0m \u001b[0minspect\u001b[0m\u001b[0;34m.\u001b[0m\u001b[0msignature\u001b[0m\u001b[0;34m(\u001b[0m\u001b[0mself\u001b[0m\u001b[0;34m.\u001b[0m\u001b[0m_generate\u001b[0m\u001b[0;34m)\u001b[0m\u001b[0;34m.\u001b[0m\u001b[0mparameters\u001b[0m\u001b[0;34m.\u001b[0m\u001b[0mget\u001b[0m\u001b[0;34m(\u001b[0m\u001b[0;34m\"run_manager\"\u001b[0m\u001b[0;34m)\u001b[0m\u001b[0;34m:\u001b[0m\u001b[0;34m\u001b[0m\u001b[0;34m\u001b[0m\u001b[0m\n\u001b[0;32m--> 671\u001b[0;31m                 result = self._generate(\n\u001b[0m\u001b[1;32m    672\u001b[0m                     \u001b[0mmessages\u001b[0m\u001b[0;34m,\u001b[0m \u001b[0mstop\u001b[0m\u001b[0;34m=\u001b[0m\u001b[0mstop\u001b[0m\u001b[0;34m,\u001b[0m \u001b[0mrun_manager\u001b[0m\u001b[0;34m=\u001b[0m\u001b[0mrun_manager\u001b[0m\u001b[0;34m,\u001b[0m \u001b[0;34m**\u001b[0m\u001b[0mkwargs\u001b[0m\u001b[0;34m\u001b[0m\u001b[0;34m\u001b[0m\u001b[0m\n\u001b[1;32m    673\u001b[0m                 )\n",
            "\u001b[0;32m/usr/local/lib/python3.10/dist-packages/langchain_google_genai/chat_models.py\u001b[0m in \u001b[0;36m_generate\u001b[0;34m(self, messages, stop, run_manager, tools, functions, safety_settings, tool_config, generation_config, **kwargs)\u001b[0m\n\u001b[1;32m    722\u001b[0m             \u001b[0mgeneration_config\u001b[0m\u001b[0;34m=\u001b[0m\u001b[0mgeneration_config\u001b[0m\u001b[0;34m,\u001b[0m\u001b[0;34m\u001b[0m\u001b[0;34m\u001b[0m\u001b[0m\n\u001b[1;32m    723\u001b[0m         )\n\u001b[0;32m--> 724\u001b[0;31m         response: GenerateContentResponse = _chat_with_retry(\n\u001b[0m\u001b[1;32m    725\u001b[0m             \u001b[0mrequest\u001b[0m\u001b[0;34m=\u001b[0m\u001b[0mrequest\u001b[0m\u001b[0;34m,\u001b[0m\u001b[0;34m\u001b[0m\u001b[0;34m\u001b[0m\u001b[0m\n\u001b[1;32m    726\u001b[0m             \u001b[0;34m**\u001b[0m\u001b[0mkwargs\u001b[0m\u001b[0;34m,\u001b[0m\u001b[0;34m\u001b[0m\u001b[0;34m\u001b[0m\u001b[0m\n",
            "\u001b[0;32m/usr/local/lib/python3.10/dist-packages/langchain_google_genai/chat_models.py\u001b[0m in \u001b[0;36m_chat_with_retry\u001b[0;34m(generation_method, **kwargs)\u001b[0m\n\u001b[1;32m    186\u001b[0m             \u001b[0;32mraise\u001b[0m \u001b[0me\u001b[0m\u001b[0;34m\u001b[0m\u001b[0;34m\u001b[0m\u001b[0m\n\u001b[1;32m    187\u001b[0m \u001b[0;34m\u001b[0m\u001b[0m\n\u001b[0;32m--> 188\u001b[0;31m     \u001b[0;32mreturn\u001b[0m \u001b[0m_chat_with_retry\u001b[0m\u001b[0;34m(\u001b[0m\u001b[0;34m**\u001b[0m\u001b[0mkwargs\u001b[0m\u001b[0;34m)\u001b[0m\u001b[0;34m\u001b[0m\u001b[0;34m\u001b[0m\u001b[0m\n\u001b[0m\u001b[1;32m    189\u001b[0m \u001b[0;34m\u001b[0m\u001b[0m\n\u001b[1;32m    190\u001b[0m \u001b[0;34m\u001b[0m\u001b[0m\n",
            "\u001b[0;32m/usr/local/lib/python3.10/dist-packages/tenacity/__init__.py\u001b[0m in \u001b[0;36mwrapped_f\u001b[0;34m(*args, **kw)\u001b[0m\n\u001b[1;32m    328\u001b[0m         )\n\u001b[1;32m    329\u001b[0m         \u001b[0;32mdef\u001b[0m \u001b[0mwrapped_f\u001b[0m\u001b[0;34m(\u001b[0m\u001b[0;34m*\u001b[0m\u001b[0margs\u001b[0m\u001b[0;34m:\u001b[0m \u001b[0mt\u001b[0m\u001b[0;34m.\u001b[0m\u001b[0mAny\u001b[0m\u001b[0;34m,\u001b[0m \u001b[0;34m**\u001b[0m\u001b[0mkw\u001b[0m\u001b[0;34m:\u001b[0m \u001b[0mt\u001b[0m\u001b[0;34m.\u001b[0m\u001b[0mAny\u001b[0m\u001b[0;34m)\u001b[0m \u001b[0;34m->\u001b[0m \u001b[0mt\u001b[0m\u001b[0;34m.\u001b[0m\u001b[0mAny\u001b[0m\u001b[0;34m:\u001b[0m\u001b[0;34m\u001b[0m\u001b[0;34m\u001b[0m\u001b[0m\n\u001b[0;32m--> 330\u001b[0;31m             \u001b[0;32mreturn\u001b[0m \u001b[0mself\u001b[0m\u001b[0;34m(\u001b[0m\u001b[0mf\u001b[0m\u001b[0;34m,\u001b[0m \u001b[0;34m*\u001b[0m\u001b[0margs\u001b[0m\u001b[0;34m,\u001b[0m \u001b[0;34m**\u001b[0m\u001b[0mkw\u001b[0m\u001b[0;34m)\u001b[0m\u001b[0;34m\u001b[0m\u001b[0;34m\u001b[0m\u001b[0m\n\u001b[0m\u001b[1;32m    331\u001b[0m \u001b[0;34m\u001b[0m\u001b[0m\n\u001b[1;32m    332\u001b[0m         \u001b[0;32mdef\u001b[0m \u001b[0mretry_with\u001b[0m\u001b[0;34m(\u001b[0m\u001b[0;34m*\u001b[0m\u001b[0margs\u001b[0m\u001b[0;34m:\u001b[0m \u001b[0mt\u001b[0m\u001b[0;34m.\u001b[0m\u001b[0mAny\u001b[0m\u001b[0;34m,\u001b[0m \u001b[0;34m**\u001b[0m\u001b[0mkwargs\u001b[0m\u001b[0;34m:\u001b[0m \u001b[0mt\u001b[0m\u001b[0;34m.\u001b[0m\u001b[0mAny\u001b[0m\u001b[0;34m)\u001b[0m \u001b[0;34m->\u001b[0m \u001b[0mWrappedFn\u001b[0m\u001b[0;34m:\u001b[0m\u001b[0;34m\u001b[0m\u001b[0;34m\u001b[0m\u001b[0m\n",
            "\u001b[0;32m/usr/local/lib/python3.10/dist-packages/tenacity/__init__.py\u001b[0m in \u001b[0;36m__call__\u001b[0;34m(self, fn, *args, **kwargs)\u001b[0m\n\u001b[1;32m    465\u001b[0m         \u001b[0mretry_state\u001b[0m \u001b[0;34m=\u001b[0m \u001b[0mRetryCallState\u001b[0m\u001b[0;34m(\u001b[0m\u001b[0mretry_object\u001b[0m\u001b[0;34m=\u001b[0m\u001b[0mself\u001b[0m\u001b[0;34m,\u001b[0m \u001b[0mfn\u001b[0m\u001b[0;34m=\u001b[0m\u001b[0mfn\u001b[0m\u001b[0;34m,\u001b[0m \u001b[0margs\u001b[0m\u001b[0;34m=\u001b[0m\u001b[0margs\u001b[0m\u001b[0;34m,\u001b[0m \u001b[0mkwargs\u001b[0m\u001b[0;34m=\u001b[0m\u001b[0mkwargs\u001b[0m\u001b[0;34m)\u001b[0m\u001b[0;34m\u001b[0m\u001b[0;34m\u001b[0m\u001b[0m\n\u001b[1;32m    466\u001b[0m         \u001b[0;32mwhile\u001b[0m \u001b[0;32mTrue\u001b[0m\u001b[0;34m:\u001b[0m\u001b[0;34m\u001b[0m\u001b[0;34m\u001b[0m\u001b[0m\n\u001b[0;32m--> 467\u001b[0;31m             \u001b[0mdo\u001b[0m \u001b[0;34m=\u001b[0m \u001b[0mself\u001b[0m\u001b[0;34m.\u001b[0m\u001b[0miter\u001b[0m\u001b[0;34m(\u001b[0m\u001b[0mretry_state\u001b[0m\u001b[0;34m=\u001b[0m\u001b[0mretry_state\u001b[0m\u001b[0;34m)\u001b[0m\u001b[0;34m\u001b[0m\u001b[0;34m\u001b[0m\u001b[0m\n\u001b[0m\u001b[1;32m    468\u001b[0m             \u001b[0;32mif\u001b[0m \u001b[0misinstance\u001b[0m\u001b[0;34m(\u001b[0m\u001b[0mdo\u001b[0m\u001b[0;34m,\u001b[0m \u001b[0mDoAttempt\u001b[0m\u001b[0;34m)\u001b[0m\u001b[0;34m:\u001b[0m\u001b[0;34m\u001b[0m\u001b[0;34m\u001b[0m\u001b[0m\n\u001b[1;32m    469\u001b[0m                 \u001b[0;32mtry\u001b[0m\u001b[0;34m:\u001b[0m\u001b[0;34m\u001b[0m\u001b[0;34m\u001b[0m\u001b[0m\n",
            "\u001b[0;32m/usr/local/lib/python3.10/dist-packages/tenacity/__init__.py\u001b[0m in \u001b[0;36miter\u001b[0;34m(self, retry_state)\u001b[0m\n\u001b[1;32m    366\u001b[0m         \u001b[0mresult\u001b[0m \u001b[0;34m=\u001b[0m \u001b[0;32mNone\u001b[0m\u001b[0;34m\u001b[0m\u001b[0;34m\u001b[0m\u001b[0m\n\u001b[1;32m    367\u001b[0m         \u001b[0;32mfor\u001b[0m \u001b[0maction\u001b[0m \u001b[0;32min\u001b[0m \u001b[0mself\u001b[0m\u001b[0;34m.\u001b[0m\u001b[0miter_state\u001b[0m\u001b[0;34m.\u001b[0m\u001b[0mactions\u001b[0m\u001b[0;34m:\u001b[0m\u001b[0;34m\u001b[0m\u001b[0;34m\u001b[0m\u001b[0m\n\u001b[0;32m--> 368\u001b[0;31m             \u001b[0mresult\u001b[0m \u001b[0;34m=\u001b[0m \u001b[0maction\u001b[0m\u001b[0;34m(\u001b[0m\u001b[0mretry_state\u001b[0m\u001b[0;34m)\u001b[0m\u001b[0;34m\u001b[0m\u001b[0;34m\u001b[0m\u001b[0m\n\u001b[0m\u001b[1;32m    369\u001b[0m         \u001b[0;32mreturn\u001b[0m \u001b[0mresult\u001b[0m\u001b[0;34m\u001b[0m\u001b[0;34m\u001b[0m\u001b[0m\n\u001b[1;32m    370\u001b[0m \u001b[0;34m\u001b[0m\u001b[0m\n",
            "\u001b[0;32m/usr/local/lib/python3.10/dist-packages/tenacity/__init__.py\u001b[0m in \u001b[0;36m<lambda>\u001b[0;34m(rs)\u001b[0m\n\u001b[1;32m    388\u001b[0m     \u001b[0;32mdef\u001b[0m \u001b[0m_post_retry_check_actions\u001b[0m\u001b[0;34m(\u001b[0m\u001b[0mself\u001b[0m\u001b[0;34m,\u001b[0m \u001b[0mretry_state\u001b[0m\u001b[0;34m:\u001b[0m \u001b[0;34m\"RetryCallState\"\u001b[0m\u001b[0;34m)\u001b[0m \u001b[0;34m->\u001b[0m \u001b[0;32mNone\u001b[0m\u001b[0;34m:\u001b[0m\u001b[0;34m\u001b[0m\u001b[0;34m\u001b[0m\u001b[0m\n\u001b[1;32m    389\u001b[0m         \u001b[0;32mif\u001b[0m \u001b[0;32mnot\u001b[0m \u001b[0;34m(\u001b[0m\u001b[0mself\u001b[0m\u001b[0;34m.\u001b[0m\u001b[0miter_state\u001b[0m\u001b[0;34m.\u001b[0m\u001b[0mis_explicit_retry\u001b[0m \u001b[0;32mor\u001b[0m \u001b[0mself\u001b[0m\u001b[0;34m.\u001b[0m\u001b[0miter_state\u001b[0m\u001b[0;34m.\u001b[0m\u001b[0mretry_run_result\u001b[0m\u001b[0;34m)\u001b[0m\u001b[0;34m:\u001b[0m\u001b[0;34m\u001b[0m\u001b[0;34m\u001b[0m\u001b[0m\n\u001b[0;32m--> 390\u001b[0;31m             \u001b[0mself\u001b[0m\u001b[0;34m.\u001b[0m\u001b[0m_add_action_func\u001b[0m\u001b[0;34m(\u001b[0m\u001b[0;32mlambda\u001b[0m \u001b[0mrs\u001b[0m\u001b[0;34m:\u001b[0m \u001b[0mrs\u001b[0m\u001b[0;34m.\u001b[0m\u001b[0moutcome\u001b[0m\u001b[0;34m.\u001b[0m\u001b[0mresult\u001b[0m\u001b[0;34m(\u001b[0m\u001b[0;34m)\u001b[0m\u001b[0;34m)\u001b[0m\u001b[0;34m\u001b[0m\u001b[0;34m\u001b[0m\u001b[0m\n\u001b[0m\u001b[1;32m    391\u001b[0m             \u001b[0;32mreturn\u001b[0m\u001b[0;34m\u001b[0m\u001b[0;34m\u001b[0m\u001b[0m\n\u001b[1;32m    392\u001b[0m \u001b[0;34m\u001b[0m\u001b[0m\n",
            "\u001b[0;32m/usr/lib/python3.10/concurrent/futures/_base.py\u001b[0m in \u001b[0;36mresult\u001b[0;34m(self, timeout)\u001b[0m\n\u001b[1;32m    449\u001b[0m                     \u001b[0;32mraise\u001b[0m \u001b[0mCancelledError\u001b[0m\u001b[0;34m(\u001b[0m\u001b[0;34m)\u001b[0m\u001b[0;34m\u001b[0m\u001b[0;34m\u001b[0m\u001b[0m\n\u001b[1;32m    450\u001b[0m                 \u001b[0;32melif\u001b[0m \u001b[0mself\u001b[0m\u001b[0;34m.\u001b[0m\u001b[0m_state\u001b[0m \u001b[0;34m==\u001b[0m \u001b[0mFINISHED\u001b[0m\u001b[0;34m:\u001b[0m\u001b[0;34m\u001b[0m\u001b[0;34m\u001b[0m\u001b[0m\n\u001b[0;32m--> 451\u001b[0;31m                     \u001b[0;32mreturn\u001b[0m \u001b[0mself\u001b[0m\u001b[0;34m.\u001b[0m\u001b[0m__get_result\u001b[0m\u001b[0;34m(\u001b[0m\u001b[0;34m)\u001b[0m\u001b[0;34m\u001b[0m\u001b[0;34m\u001b[0m\u001b[0m\n\u001b[0m\u001b[1;32m    452\u001b[0m \u001b[0;34m\u001b[0m\u001b[0m\n\u001b[1;32m    453\u001b[0m                 \u001b[0mself\u001b[0m\u001b[0;34m.\u001b[0m\u001b[0m_condition\u001b[0m\u001b[0;34m.\u001b[0m\u001b[0mwait\u001b[0m\u001b[0;34m(\u001b[0m\u001b[0mtimeout\u001b[0m\u001b[0;34m)\u001b[0m\u001b[0;34m\u001b[0m\u001b[0;34m\u001b[0m\u001b[0m\n",
            "\u001b[0;32m/usr/lib/python3.10/concurrent/futures/_base.py\u001b[0m in \u001b[0;36m__get_result\u001b[0;34m(self)\u001b[0m\n\u001b[1;32m    401\u001b[0m         \u001b[0;32mif\u001b[0m \u001b[0mself\u001b[0m\u001b[0;34m.\u001b[0m\u001b[0m_exception\u001b[0m\u001b[0;34m:\u001b[0m\u001b[0;34m\u001b[0m\u001b[0;34m\u001b[0m\u001b[0m\n\u001b[1;32m    402\u001b[0m             \u001b[0;32mtry\u001b[0m\u001b[0;34m:\u001b[0m\u001b[0;34m\u001b[0m\u001b[0;34m\u001b[0m\u001b[0m\n\u001b[0;32m--> 403\u001b[0;31m                 \u001b[0;32mraise\u001b[0m \u001b[0mself\u001b[0m\u001b[0;34m.\u001b[0m\u001b[0m_exception\u001b[0m\u001b[0;34m\u001b[0m\u001b[0;34m\u001b[0m\u001b[0m\n\u001b[0m\u001b[1;32m    404\u001b[0m             \u001b[0;32mfinally\u001b[0m\u001b[0;34m:\u001b[0m\u001b[0;34m\u001b[0m\u001b[0;34m\u001b[0m\u001b[0m\n\u001b[1;32m    405\u001b[0m                 \u001b[0;31m# Break a reference cycle with the exception in self._exception\u001b[0m\u001b[0;34m\u001b[0m\u001b[0;34m\u001b[0m\u001b[0m\n",
            "\u001b[0;32m/usr/local/lib/python3.10/dist-packages/tenacity/__init__.py\u001b[0m in \u001b[0;36m__call__\u001b[0;34m(self, fn, *args, **kwargs)\u001b[0m\n\u001b[1;32m    468\u001b[0m             \u001b[0;32mif\u001b[0m \u001b[0misinstance\u001b[0m\u001b[0;34m(\u001b[0m\u001b[0mdo\u001b[0m\u001b[0;34m,\u001b[0m \u001b[0mDoAttempt\u001b[0m\u001b[0;34m)\u001b[0m\u001b[0;34m:\u001b[0m\u001b[0;34m\u001b[0m\u001b[0;34m\u001b[0m\u001b[0m\n\u001b[1;32m    469\u001b[0m                 \u001b[0;32mtry\u001b[0m\u001b[0;34m:\u001b[0m\u001b[0;34m\u001b[0m\u001b[0;34m\u001b[0m\u001b[0m\n\u001b[0;32m--> 470\u001b[0;31m                     \u001b[0mresult\u001b[0m \u001b[0;34m=\u001b[0m \u001b[0mfn\u001b[0m\u001b[0;34m(\u001b[0m\u001b[0;34m*\u001b[0m\u001b[0margs\u001b[0m\u001b[0;34m,\u001b[0m \u001b[0;34m**\u001b[0m\u001b[0mkwargs\u001b[0m\u001b[0;34m)\u001b[0m\u001b[0;34m\u001b[0m\u001b[0;34m\u001b[0m\u001b[0m\n\u001b[0m\u001b[1;32m    471\u001b[0m                 \u001b[0;32mexcept\u001b[0m \u001b[0mBaseException\u001b[0m\u001b[0;34m:\u001b[0m  \u001b[0;31m# noqa: B902\u001b[0m\u001b[0;34m\u001b[0m\u001b[0;34m\u001b[0m\u001b[0m\n\u001b[1;32m    472\u001b[0m                     \u001b[0mretry_state\u001b[0m\u001b[0;34m.\u001b[0m\u001b[0mset_exception\u001b[0m\u001b[0;34m(\u001b[0m\u001b[0msys\u001b[0m\u001b[0;34m.\u001b[0m\u001b[0mexc_info\u001b[0m\u001b[0;34m(\u001b[0m\u001b[0;34m)\u001b[0m\u001b[0;34m)\u001b[0m  \u001b[0;31m# type: ignore[arg-type]\u001b[0m\u001b[0;34m\u001b[0m\u001b[0;34m\u001b[0m\u001b[0m\n",
            "\u001b[0;32m/usr/local/lib/python3.10/dist-packages/langchain_google_genai/chat_models.py\u001b[0m in \u001b[0;36m_chat_with_retry\u001b[0;34m(**kwargs)\u001b[0m\n\u001b[1;32m    184\u001b[0m             ) from e\n\u001b[1;32m    185\u001b[0m         \u001b[0;32mexcept\u001b[0m \u001b[0mException\u001b[0m \u001b[0;32mas\u001b[0m \u001b[0me\u001b[0m\u001b[0;34m:\u001b[0m\u001b[0;34m\u001b[0m\u001b[0;34m\u001b[0m\u001b[0m\n\u001b[0;32m--> 186\u001b[0;31m             \u001b[0;32mraise\u001b[0m \u001b[0me\u001b[0m\u001b[0;34m\u001b[0m\u001b[0;34m\u001b[0m\u001b[0m\n\u001b[0m\u001b[1;32m    187\u001b[0m \u001b[0;34m\u001b[0m\u001b[0m\n\u001b[1;32m    188\u001b[0m     \u001b[0;32mreturn\u001b[0m \u001b[0m_chat_with_retry\u001b[0m\u001b[0;34m(\u001b[0m\u001b[0;34m**\u001b[0m\u001b[0mkwargs\u001b[0m\u001b[0;34m)\u001b[0m\u001b[0;34m\u001b[0m\u001b[0;34m\u001b[0m\u001b[0m\n",
            "\u001b[0;32m/usr/local/lib/python3.10/dist-packages/langchain_google_genai/chat_models.py\u001b[0m in \u001b[0;36m_chat_with_retry\u001b[0;34m(**kwargs)\u001b[0m\n\u001b[1;32m    168\u001b[0m     \u001b[0;32mdef\u001b[0m \u001b[0m_chat_with_retry\u001b[0m\u001b[0;34m(\u001b[0m\u001b[0;34m**\u001b[0m\u001b[0mkwargs\u001b[0m\u001b[0;34m:\u001b[0m \u001b[0mAny\u001b[0m\u001b[0;34m)\u001b[0m \u001b[0;34m->\u001b[0m \u001b[0mAny\u001b[0m\u001b[0;34m:\u001b[0m\u001b[0;34m\u001b[0m\u001b[0;34m\u001b[0m\u001b[0m\n\u001b[1;32m    169\u001b[0m         \u001b[0;32mtry\u001b[0m\u001b[0;34m:\u001b[0m\u001b[0;34m\u001b[0m\u001b[0;34m\u001b[0m\u001b[0m\n\u001b[0;32m--> 170\u001b[0;31m             \u001b[0;32mreturn\u001b[0m \u001b[0mgeneration_method\u001b[0m\u001b[0;34m(\u001b[0m\u001b[0;34m**\u001b[0m\u001b[0mkwargs\u001b[0m\u001b[0;34m)\u001b[0m\u001b[0;34m\u001b[0m\u001b[0;34m\u001b[0m\u001b[0m\n\u001b[0m\u001b[1;32m    171\u001b[0m         \u001b[0;31m# Do not retry for these errors.\u001b[0m\u001b[0;34m\u001b[0m\u001b[0;34m\u001b[0m\u001b[0m\n\u001b[1;32m    172\u001b[0m         \u001b[0;32mexcept\u001b[0m \u001b[0mgoogle\u001b[0m\u001b[0;34m.\u001b[0m\u001b[0mapi_core\u001b[0m\u001b[0;34m.\u001b[0m\u001b[0mexceptions\u001b[0m\u001b[0;34m.\u001b[0m\u001b[0mFailedPrecondition\u001b[0m \u001b[0;32mas\u001b[0m \u001b[0mexc\u001b[0m\u001b[0;34m:\u001b[0m\u001b[0;34m\u001b[0m\u001b[0;34m\u001b[0m\u001b[0m\n",
            "\u001b[0;31mTypeError\u001b[0m: GenerativeServiceClient.generate_content() got an unexpected keyword argument 'function_call'"
          ]
        }
      ]
    },
    {
      "cell_type": "markdown",
      "source": [
        "여러 페이지 로드도 가능하다."
      ],
      "metadata": {
        "id": "qsjrzkUtZyMN"
      }
    },
    {
      "cell_type": "code",
      "source": [
        "# 웹 페이지 URL 목록을 사용하여 WebBaseLoader 객체를 생성합니다.\n",
        "loader = WebBaseLoader([\"https://news.naver.com/\", \"https://news.daum.net\"])\n",
        "docs = loader.load()  # 지정된 웹 페이지에서 문서를 로드합니다.\n",
        "# 로드된 문서를 출력합니다.\n",
        "print(\"Naver\")\n",
        "print(docs[0].page_content.replace(\"\\n\", \"\")[200:1000])\n",
        "print(\"===\" * 20)\n",
        "print(\"Daum\")\n",
        "print(docs[1].page_content.replace(\"\\n\", \"\")[:1000])"
      ],
      "metadata": {
        "id": "BuvaNaxsZ13z",
        "outputId": "2deea3d5-5b3e-460a-e6d0-0b366da3c383",
        "colab": {
          "base_uri": "https://localhost:8080/"
        }
      },
      "execution_count": null,
      "outputs": [
        {
          "output_type": "stream",
          "name": "stdout",
          "text": [
            "Naver\n",
            "                        구독설정                                경향신문05월 25일 21:58구독마지막 국회 본회의 앞두고...시민사회·야7당 “채 상병 특검법 통과시켜라”시민사회단체와 7개 야당이 오는 28일 21대 국회 마지막 본회의에서 ‘채 상병 특별검사법’의 재의결을 촉구했다. 더불어민주당, 정의당, 새로운미래, 조국혁신당, 진보당, 기본소득당, 사회민주당 등 야7당 정치인 및JIBS05월 25일 22:32구독레인지로버 내팽개치고 떠난 '중국 왕서방' 대포차 악용  우려차량을 방치하고 제주를 떠난 중국인들이 잇따르면서 대포차 양산 우려를 키우고 있습니다. 오늘(25일) 서귀포시에 따르면 서귀포시 안덕면에 살던 중국인 A 씨가 몰던 레인지로버를 비롯한 외국인 소유주 차량 15대에 최디지털타임스05월 25일 23:15구독\"300만원 줄게\"…경복궁 낙서 시킨 30대 `이팀장` 구속법원 \"증거인멸·도망 염려\" 지난해 10대 청소년들에게 경복궁 담장에 스프레이로 '영화공짜' 등의 낙서를 하도록 사주한 30대 남성이 25일 구속됐다. 이날 법조계에 따르면 서울중앙지법 남천규 영장전담 부장판사는 문오마이뉴스05월 25일 19:23구독\"이거 페미 영화예요?\" 남자만 나오는 '매드맥스' 신작의 실체* 이 글에는 영화의 스포일러가 포함돼 있습니다. ▲ <퓨리오사: 매드맥스 사가> 메인 포스터 ⓒ 워너브러더스 코리아 \"<매드맥스>가 왜 페미임? 마초 영화 그 자체인데.\" 새로운 영화가 개봉할 때마다 팬들끼리 '페SBS Biz05월 25일 20:58구독\"사장님, 여기 소주 한 잔\n",
            "============================================================\n",
            "Daum\n",
            "홈 | 다음뉴스본문 바로가기메뉴 바로가기뉴스관련 서비스연예스포츠 뉴스 메인메뉴홈사회정치경제국제문화IT연재포토팩트체크홈이슈 기사 목록국제                                    바이든 \"한미일 3각 협력, 누구도 상상 못 한 일\"                                문화                                    [날씨] 전국에 비‥수도권 최대 60mm                                국제                                    파리올림픽 교통통제에 자전거 배달업 특수                                IT                                    보잉 우주선 스타라이너, 유인 비행 성공할까[우주이야기]                                국제                                    尹에 \"말참견 말라\" 발언한 中외교부 입 왕원빈 사임                                국제                                    '하마스 억류' 인질 석방 협상 재개…이번 주 이집트·카타르 중재                                문화                                    아이스크림 먹고 '찌릿'… 치료 받아야 할까?                                정치                                    `촛불` 붙든 北매체들 \"친미굴종 尹과 여편네 김건희…이승만처럼 타도\"                                정치                                    대통령실∙국힘, 이재명 대표 제안 거부…“연금개혁안, 22대 국회에서”                                정치                       \n"
          ]
        }
      ]
    },
    {
      "cell_type": "markdown",
      "source": [
        "여러 URL을 동시에 로드도 되고, requests_per_second를 조정해서 제한할수도 있다."
      ],
      "metadata": {
        "id": "Iy17zFgFZ7HJ"
      }
    },
    {
      "cell_type": "code",
      "source": [
        "# 웹 페이지 URL 목록을 사용하여 WebBaseLoader 객체를 생성합니다.\n",
        "loader = WebBaseLoader([\"https://news.naver.com/\", \"https://news.daum.net\"])\n",
        "loader.requests_per_second = 1  # 초당 요청 수를 1로 설정합니다.\n",
        "docs = loader.aload()  # 지정된 웹 페이지에서 문서를 로드합니다.\n",
        "# 로드된 문서를 출력합니다.\n",
        "print(\"Naver\")\n",
        "print(docs[0].page_content.replace(\"\\n\", \"\")[200:1000])\n",
        "print(\"===\" * 20)\n",
        "print(\"Daum\")\n",
        "print(docs[1].page_content.replace(\"\\n\", \"\")[:1000])"
      ],
      "metadata": {
        "id": "IrMMCxRWaEta",
        "outputId": "793dc9a9-1448-4d53-d3db-b12781cb6b62",
        "colab": {
          "base_uri": "https://localhost:8080/"
        }
      },
      "execution_count": null,
      "outputs": [
        {
          "output_type": "stream",
          "name": "stderr",
          "text": [
            "Fetching pages: 100%|##########| 2/2 [00:01<00:00,  1.17it/s]\n"
          ]
        },
        {
          "output_type": "stream",
          "name": "stdout",
          "text": [
            "Naver\n",
            "                        구독설정                                kbc광주방송05월 25일 23:14구독한 달간 맥도날드만 먹었더니..'슈퍼사이즈 미' 스펄록 감독 별세패스트푸드의 폐해를 낱낱이 고발한 다큐멘터리 영화 '슈퍼 사이즈 미'(Super Size Me)의 감독 모건 스펄록이 암 투병 끝에 향년 53세로 별세했다고 AP통신이 24일(현지시각) 보도했습니다. 지난 2004년JTBC05월 25일 23:32구독동영상재생시간04:34[단독] '상사 욕설' 녹음했다가 고소당한 공공기관 직원…법정에선 '기립박수' 쏟아졌다해양수산부 산하의 한 공공기관에서 직장 내 괴롭힘을 호소하는 동료를 위해 신고에 나섰던 연구원이 오히려 고소·고발을 당했습니다. 법정에 피고인으로 서야 했는데요. 그 재판 결과가 어땠을지, 부글터뷰 이상엽 기자의 단이코노미스트05월 26일 00:18구독9년 전 ‘다이소 화장품’에 혹평했던 유튜버, 지금은?[허태윤의 브랜드 스토리]다이소의 진화는 경이롭다. 생활용품을 중심으로 ‘1000원 경영’을 해온 다이소가 영역을 전방위로 넓히고 있다. 특히 뷰티 시장에서의 진화는 이 분야 독주체제를 구가하고 있던 ‘CJ올리브 영’을 긴장하게 하고 있다.MBN05월 26일 00:08구독10대에 경복궁 낙서 지시 '이 팀장' 구속…\"증거인멸·도망 우려\"10대 학생들에게 경복궁 담벼락 낙서를 지시한 '이 팀장' 강 모 씨가 오늘(25일) 구속됐습니다. 서울중앙지법은 문화재보호법상 손상 또는 은닉 및 저작권법 위반 등 혐의를 받는 강 씨에 대해 증거인멸 및 도주 우려세계일\n",
            "============================================================\n",
            "Daum\n",
            "홈 | 다음뉴스본문 바로가기메뉴 바로가기뉴스관련 서비스연예스포츠 뉴스 메인메뉴홈사회정치경제국제문화IT연재포토팩트체크홈이슈 기사 목록국제                                    바이든 \"한미일 3각 협력, 누구도 상상 못 한 일\"                                문화                                    [날씨] 전국에 비‥수도권 최대 60mm                                국제                                    파리올림픽 교통통제에 자전거 배달업 특수                                IT                                    보잉 우주선 스타라이너, 유인 비행 성공할까[우주이야기]                                국제                                    尹에 \"말참견 말라\" 발언한 中외교부 입 왕원빈 사임                                국제                                    '하마스 억류' 인질 석방 협상 재개…이번 주 이집트·카타르 중재                                문화                                    아이스크림 먹고 '찌릿'… 치료 받아야 할까?                                정치                                    `촛불` 붙든 北매체들 \"친미굴종 尹과 여편네 김건희…이승만처럼 타도\"                                정치                                    대통령실∙국힘, 이재명 대표 제안 거부…“연금개혁안, 22대 국회에서”                                정치                       \n"
          ]
        }
      ]
    },
    {
      "cell_type": "markdown",
      "source": [
        "## 04. 판다스 데이터프레임\n",
        "\n",
        "이건 csv를 가져다가 쓸 때 좋아보임.\n",
        "\n",
        "https://wikidocs.net/233823\n",
        "\n",
        "를 그냥 참고할 것.\n"
      ],
      "metadata": {
        "id": "ghJBGMGsaQbq"
      }
    },
    {
      "cell_type": "markdown",
      "source": [
        "# CH08 텍스트 분할  "
      ],
      "metadata": {
        "id": "sZGlJZuXf0uK"
      }
    },
    {
      "cell_type": "markdown",
      "source": [
        "## 01. 문자 텍스트 분할"
      ],
      "metadata": {
        "id": "1mbNHb0vf90v"
      }
    },
    {
      "cell_type": "markdown",
      "source": [
        "\"\\n\\n\"을 기준으로 문자 단위로 텍스트를 분할하고, 청크의 크기를 문자 수로 측정 함"
      ],
      "metadata": {
        "id": "vdAe-e2VgNxO"
      }
    },
    {
      "cell_type": "code",
      "source": [
        "# 일단 splitter 설치\n",
        "!pip install -qU langchain-text-splitters"
      ],
      "metadata": {
        "id": "LJE-k-H6gDT5"
      },
      "execution_count": null,
      "outputs": []
    },
    {
      "cell_type": "code",
      "source": [
        "from langchain_text_splitters import CharacterTextSplitter\n",
        "\n",
        "text = \"\"\"\n",
        "Semantic Search\n",
        "\n",
        "정의: 의미론적 검색은 사용자의 질의를 단순한 키워드 매칭을 넘어서 그 의미를 파악하여 관련된 결과를 반환하는 검색 방식입니다.\n",
        "예시: 사용자가 \"태양계 행성\"이라고 검색하면, \"목성\", \"화성\" 등과 같이 관련된 행성에 대한 정보를 반환합니다.\n",
        "연관키워드: 자연어 처리, 검색 알고리즘, 데이터 마이닝\n",
        "\n",
        "Embedding\n",
        "\n",
        "정의: 임베딩은 단어나 문장 같은 텍스트 데이터를 저차원의 연속적인 벡터로 변환하는 과정입니다. 이를 통해 컴퓨터가 텍스트를 이해하고 처리할 수 있게 합니다.\n",
        "예시: \"사과\"라는 단어를 [0.65, -0.23, 0.17]과 같은 벡터로 표현합니다.\n",
        "연관키워드: 자연어 처리, 벡터화, 딥러닝\n",
        "\n",
        "Token\n",
        "\n",
        "정의: 토큰은 텍스트를 더 작은 단위로 분할하는 것을 의미합니다. 이는 일반적으로 단어, 문장, 또는 구절일 수 있습니다.\n",
        "예시: 문장 \"나는 학교에 간다\"를 \"나는\", \"학교에\", \"간다\"로 분할합니다.\n",
        "연관키워드: 토큰화, 자연어\n",
        "\"\"\"\n",
        "\n",
        "text_splitter = CharacterTextSplitter(\n",
        "    # 텍스트를 분할할 때 사용할 구분자를 지정합니다. 기본값은 \"\\n\\n\"입니다.\n",
        "    # separator=\" \",\n",
        "    # 분할된 텍스트 청크의 최대 크기를 지정합니다.\n",
        "    chunk_size=250,\n",
        "    # 분할된 텍스트 청크 간의 중복되는 문자 수를 지정합니다.\n",
        "    chunk_overlap=50,\n",
        "    # 텍스트의 길이를 계산하는 함수를 지정합니다.\n",
        "    length_function=len,\n",
        "    # 구분자가 정규식인지 여부를 지정합니다.\n",
        "    is_separator_regex=False,\n",
        ")\n",
        "\n",
        "# text_splitter를 사용하여 state_of_the_union 텍스트를 문서로 분할합니다.\n",
        "texts = text_splitter.create_documents([text])\n",
        "display(texts[0])  # 분할된 문서 중 첫 번째 문서를 출력합니다.\n",
        "\n",
        "metadatas = [\n",
        "    {\"document\": 1},\n",
        "    {\"document\": 2},\n",
        "]  # 문서에 대한 메타데이터 리스트를 정의합니다.\n",
        "documents = text_splitter.create_documents(\n",
        "    [\n",
        "        text,\n",
        "        text,\n",
        "    ],  # 분할할 텍스트 데이터를 리스트로 전달합니다.\n",
        "    metadatas=metadatas,  # 각 문서에 해당하는 메타데이터를 전달합니다.\n",
        ")\n",
        "display(documents[0])  # 분할된 문서 중 첫 번째 문서를 출력합니다.\n",
        "\n",
        "# text_splitter를 사용하여 file 텍스트를 분할하고, 분할된 텍스트의 첫 번째 요소를 반환합니다.\n",
        "text_splitter.split_text(text)[0]\n"
      ],
      "metadata": {
        "id": "XaSVvjpVgzrF",
        "outputId": "8c2d4df7-03ae-4efc-c393-05b3549d8e34",
        "colab": {
          "base_uri": "https://localhost:8080/",
          "height": 192
        }
      },
      "execution_count": null,
      "outputs": [
        {
          "output_type": "display_data",
          "data": {
            "text/plain": [
              "Document(page_content='Semantic Search\\n\\n정의: 의미론적 검색은 사용자의 질의를 단순한 키워드 매칭을 넘어서 그 의미를 파악하여 관련된 결과를 반환하는 검색 방식입니다.\\n예시: 사용자가 \"태양계 행성\"이라고 검색하면, \"목성\", \"화성\" 등과 같이 관련된 행성에 대한 정보를 반환합니다.\\n연관키워드: 자연어 처리, 검색 알고리즘, 데이터 마이닝\\n\\nEmbedding')"
            ]
          },
          "metadata": {}
        },
        {
          "output_type": "display_data",
          "data": {
            "text/plain": [
              "Document(page_content='Semantic Search\\n\\n정의: 의미론적 검색은 사용자의 질의를 단순한 키워드 매칭을 넘어서 그 의미를 파악하여 관련된 결과를 반환하는 검색 방식입니다.\\n예시: 사용자가 \"태양계 행성\"이라고 검색하면, \"목성\", \"화성\" 등과 같이 관련된 행성에 대한 정보를 반환합니다.\\n연관키워드: 자연어 처리, 검색 알고리즘, 데이터 마이닝\\n\\nEmbedding', metadata={'document': 1})"
            ]
          },
          "metadata": {}
        },
        {
          "output_type": "execute_result",
          "data": {
            "text/plain": [
              "'Semantic Search\\n\\n정의: 의미론적 검색은 사용자의 질의를 단순한 키워드 매칭을 넘어서 그 의미를 파악하여 관련된 결과를 반환하는 검색 방식입니다.\\n예시: 사용자가 \"태양계 행성\"이라고 검색하면, \"목성\", \"화성\" 등과 같이 관련된 행성에 대한 정보를 반환합니다.\\n연관키워드: 자연어 처리, 검색 알고리즘, 데이터 마이닝\\n\\nEmbedding'"
            ],
            "application/vnd.google.colaboratory.intrinsic+json": {
              "type": "string"
            }
          },
          "metadata": {},
          "execution_count": 13
        }
      ]
    },
    {
      "cell_type": "markdown",
      "source": [
        "RecursiveCharacterTextSplitter는 일반적인 텍스트에 권장되는 방식이다. 문자 목록을 매개변수로 받아 동작한다."
      ],
      "metadata": {
        "id": "_QP2ZfN6h9Mn"
      }
    },
    {
      "cell_type": "code",
      "source": [
        "from langchain_text_splitters import RecursiveCharacterTextSplitter\n",
        "\n",
        "text = \"\"\"\n",
        "Semantic Search\n",
        "\n",
        "정의: 의미론적 검색은 사용자의 질의를 단순한 키워드 매칭을 넘어서 그 의미를 파악하여 관련된 결과를 반환하는 검색 방식입니다.\n",
        "예시: 사용자가 \"태양계 행성\"이라고 검색하면, \"목성\", \"화성\" 등과 같이 관련된 행성에 대한 정보를 반환합니다.\n",
        "연관키워드: 자연어 처리, 검색 알고리즘, 데이터 마이닝\n",
        "\n",
        "Embedding\n",
        "\n",
        "정의: 임베딩은 단어나 문장 같은 텍스트 데이터를 저차원의 연속적인 벡터로 변환하는 과정입니다. 이를 통해 컴퓨터가 텍스트를 이해하고 처리할 수 있게 합니다.\n",
        "예시: \"사과\"라는 단어를 [0.65, -0.23, 0.17]과 같은 벡터로 표현합니다.\n",
        "연관키워드: 자연어 처리, 벡터화, 딥러닝\n",
        "\n",
        "Token\n",
        "\n",
        "정의: 토큰은 텍스트를 더 작은 단위로 분할하는 것을 의미합니다. 이는 일반적으로 단어, 문장, 또는 구절일 수 있습니다.\n",
        "예시: 문장 \"나는 학교에 간다\"를 \"나는\", \"학교에\", \"간다\"로 분할합니다.\n",
        "연관키워드: 토큰화, 자연어\n",
        "\"\"\"\n",
        "\n",
        "text_splitter = RecursiveCharacterTextSplitter(\n",
        "    # 청크 크기를 매우 작게 설정합니다. 예시를 위한 설정입니다.\n",
        "    chunk_size=250,\n",
        "    # 청크 간의 중복되는 문자 수를 설정합니다.\n",
        "    chunk_overlap=50,\n",
        "    # 문자열 길이를 계산하는 함수를 지정합니다.\n",
        "    length_function=len,\n",
        "    # 구분자로 정규식을 사용할지 여부를 설정합니다.\n",
        "    is_separator_regex=False,\n",
        ")\n",
        "\n",
        "# text_splitter를 사용하여 file 텍스트를 문서로 분할합니다.\n",
        "texts = text_splitter.create_documents([text])\n",
        "display(texts[0])  # 분할된 문서의 첫 번째 문서를 출력합니다.\n",
        "display(\"===\" * 20)\n",
        "display(texts[1])  # 분할된 문서의 두 번째 문서를 출력합니다.\n",
        "\n",
        "# 텍스트를 분할하고 분할된 텍스트의 처음 2개 요소를 반환합니다.\n",
        "text_splitter.split_text(text)[:2]"
      ],
      "metadata": {
        "id": "6CbsWs9niOpa",
        "outputId": "e987b64b-fa3c-4c7e-cff2-93a09a286002",
        "colab": {
          "base_uri": "https://localhost:8080/",
          "height": 244
        }
      },
      "execution_count": null,
      "outputs": [
        {
          "output_type": "display_data",
          "data": {
            "text/plain": [
              "Document(page_content='Semantic Search\\n\\n정의: 의미론적 검색은 사용자의 질의를 단순한 키워드 매칭을 넘어서 그 의미를 파악하여 관련된 결과를 반환하는 검색 방식입니다.\\n예시: 사용자가 \"태양계 행성\"이라고 검색하면, \"목성\", \"화성\" 등과 같이 관련된 행성에 대한 정보를 반환합니다.\\n연관키워드: 자연어 처리, 검색 알고리즘, 데이터 마이닝\\n\\nEmbedding')"
            ]
          },
          "metadata": {}
        },
        {
          "output_type": "display_data",
          "data": {
            "text/plain": [
              "'============================================================'"
            ],
            "application/vnd.google.colaboratory.intrinsic+json": {
              "type": "string"
            }
          },
          "metadata": {}
        },
        {
          "output_type": "display_data",
          "data": {
            "text/plain": [
              "Document(page_content='Embedding\\n\\n정의: 임베딩은 단어나 문장 같은 텍스트 데이터를 저차원의 연속적인 벡터로 변환하는 과정입니다. 이를 통해 컴퓨터가 텍스트를 이해하고 처리할 수 있게 합니다.\\n예시: \"사과\"라는 단어를 [0.65, -0.23, 0.17]과 같은 벡터로 표현합니다.\\n연관키워드: 자연어 처리, 벡터화, 딥러닝\\n\\nToken')"
            ]
          },
          "metadata": {}
        },
        {
          "output_type": "execute_result",
          "data": {
            "text/plain": [
              "['Semantic Search\\n\\n정의: 의미론적 검색은 사용자의 질의를 단순한 키워드 매칭을 넘어서 그 의미를 파악하여 관련된 결과를 반환하는 검색 방식입니다.\\n예시: 사용자가 \"태양계 행성\"이라고 검색하면, \"목성\", \"화성\" 등과 같이 관련된 행성에 대한 정보를 반환합니다.\\n연관키워드: 자연어 처리, 검색 알고리즘, 데이터 마이닝\\n\\nEmbedding',\n",
              " 'Embedding\\n\\n정의: 임베딩은 단어나 문장 같은 텍스트 데이터를 저차원의 연속적인 벡터로 변환하는 과정입니다. 이를 통해 컴퓨터가 텍스트를 이해하고 처리할 수 있게 합니다.\\n예시: \"사과\"라는 단어를 [0.65, -0.23, 0.17]과 같은 벡터로 표현합니다.\\n연관키워드: 자연어 처리, 벡터화, 딥러닝\\n\\nToken']"
            ]
          },
          "metadata": {},
          "execution_count": 17
        }
      ]
    },
    {
      "cell_type": "markdown",
      "source": [
        "## 02. 토큰 텍스트 분할"
      ],
      "metadata": {
        "id": "D7HSWO0qi4w1"
      }
    },
    {
      "cell_type": "markdown",
      "source": [
        "TokenTextSplitter는 텍스트를 토큰 수를 기반으로 청크를 생성할 때 유용한데, 언어모델이 보통 토큰 제한이 있기 때문에 토큰 제한을 초과하지 않아야 할 때 사용하면 좋은 듯하다."
      ],
      "metadata": {
        "id": "_8K0iXAEjIGZ"
      }
    },
    {
      "cell_type": "code",
      "source": [
        "!pip install -qU langchain-text-splitters tiktoken"
      ],
      "metadata": {
        "id": "c4HpP55qjUVw",
        "outputId": "d2847891-feab-4474-cc33-48ac9e21d130",
        "colab": {
          "base_uri": "https://localhost:8080/"
        }
      },
      "execution_count": null,
      "outputs": [
        {
          "output_type": "stream",
          "name": "stdout",
          "text": [
            "\u001b[?25l     \u001b[90m━━━━━━━━━━━━━━━━━━━━━━━━━━━━━━━━━━━━━━━━\u001b[0m \u001b[32m0.0/1.1 MB\u001b[0m \u001b[31m?\u001b[0m eta \u001b[36m-:--:--\u001b[0m\r\u001b[2K     \u001b[91m━━━━━━━━━━━━━━━\u001b[0m\u001b[90m╺\u001b[0m\u001b[90m━━━━━━━━━━━━━━━━━━━━━━━━\u001b[0m \u001b[32m0.4/1.1 MB\u001b[0m \u001b[31m12.2 MB/s\u001b[0m eta \u001b[36m0:00:01\u001b[0m\r\u001b[2K     \u001b[91m━━━━━━━━━━━━━━━━━━━━━━━━━━━━━━━━━━━━━━━\u001b[0m\u001b[91m╸\u001b[0m \u001b[32m1.1/1.1 MB\u001b[0m \u001b[31m21.5 MB/s\u001b[0m eta \u001b[36m0:00:01\u001b[0m\r\u001b[2K     \u001b[90m━━━━━━━━━━━━━━━━━━━━━━━━━━━━━━━━━━━━━━━━\u001b[0m \u001b[32m1.1/1.1 MB\u001b[0m \u001b[31m14.6 MB/s\u001b[0m eta \u001b[36m0:00:00\u001b[0m\n",
            "\u001b[?25h"
          ]
        }
      ]
    },
    {
      "cell_type": "code",
      "source": [
        "text = \"\"\"\n",
        "Semantic Search\n",
        "\n",
        "정의: 의미론적 검색은 사용자의 질의를 단순한 키워드 매칭을 넘어서 그 의미를 파악하여 관련된 결과를 반환하는 검색 방식입니다.\n",
        "예시: 사용자가 \"태양계 행성\"이라고 검색하면, \"목성\", \"화성\" 등과 같이 관련된 행성에 대한 정보를 반환합니다.\n",
        "연관키워드: 자연어 처리, 검색 알고리즘, 데이터 마이닝\n",
        "\n",
        "Embedding\n",
        "\n",
        "정의: 임베딩은 단어나 문장 같은 텍스트 데이터를 저차원의 연속적인 벡터로 변환하는 과정입니다. 이를 통해 컴퓨터가 텍스트를 이해하고 처리할 수 있게 합니다.\n",
        "예시: \"사과\"라는 단어를 [0.65, -0.23, 0.17]과 같은 벡터로 표현합니다.\n",
        "연관키워드: 자연어 처리, 벡터화, 딥러닝\n",
        "\n",
        "Token\n",
        "\n",
        "정의: 토큰은 텍스트를 더 작은 단위로 분할하는 것을 의미합니다. 이는 일반적으로 단어, 문장, 또는 구절일 수 있습니다.\n",
        "예시: 문장 \"나는 학교에 간다\"를 \"나는\", \"학교에\", \"간다\"로 분할합니다.\n",
        "연관키워드: 토큰화, 자연어\n",
        "\"\"\"\n",
        "\n",
        "from langchain_text_splitters import CharacterTextSplitter\n",
        "\n",
        "text_splitter = CharacterTextSplitter.from_tiktoken_encoder(\n",
        "    # 청크 크기를 300으로 설정합니다.\n",
        "    chunk_size=300,\n",
        "    # 청크 간 중복되는 부분이 없도록 설정합니다.\n",
        "    chunk_overlap=0,\n",
        ")\n",
        "# file 텍스트를 청크 단위로 분할합니다.\n",
        "texts = text_splitter.split_text(text)\n",
        "print(len(texts))  # 분할된 청크의 개수를 출력합니다.\n",
        "# texts 리스트의 첫 번째 요소를 출력합니다.\n",
        "print(texts[0])\n"
      ],
      "metadata": {
        "id": "1n3Fn6mqjawS",
        "outputId": "aee92c3d-7293-4a5b-d011-13afa349223c",
        "colab": {
          "base_uri": "https://localhost:8080/"
        }
      },
      "execution_count": null,
      "outputs": [
        {
          "output_type": "stream",
          "name": "stderr",
          "text": [
            "WARNING:langchain_text_splitters.base:Created a chunk of size 358, which is longer than the specified 300\n",
            "WARNING:langchain_text_splitters.base:Created a chunk of size 315, which is longer than the specified 300\n"
          ]
        },
        {
          "output_type": "stream",
          "name": "stdout",
          "text": [
            "5\n",
            "Semantic Search\n"
          ]
        }
      ]
    },
    {
      "cell_type": "markdown",
      "source": [
        "CharacterTextSplitter.from_tiktoken_encoder를 사용하는 경우, 텍스트는 CharacterTextSplitter에 의해서만 분할되고 tiktoken 토크나이저는 분할된 텍스트를 병합하는 데 사용됩니다. (이는 분할된 텍스트가 tiktoken 토크나이저로 측정한 청크 크기보다 클 수 있음을 의미합니다.)\n",
        "\n",
        "\n",
        "RecursiveCharacterTextSplitter.from_tiktoken_encoder를 사용하면 분할된 텍스트가 언어 모델에서 허용하는 토큰의 청크 크기보다 크지 않도록 할 수 있으며, 각 분할은 크기가 더 큰 경우 재귀적으로 분할됩니다. 또한 tiktoken 분할기를 직접 로드할 수 있으며, 이는 각 분할이 청크 크기보다 작음을 보장합니다."
      ],
      "metadata": {
        "id": "DBVNLeOYjusr"
      }
    },
    {
      "cell_type": "markdown",
      "source": [
        "## 코드 분할"
      ],
      "metadata": {
        "id": "irmJ4XBYkOMA"
      }
    },
    {
      "cell_type": "markdown",
      "source": [
        "CodeTextSplitter를 사용하면 다양한 프로그래밍 언어로 작성된 코드를 분할 수 있다. 다양한 분할기가 있긴 하지만 일단 python만 해본다. 나머지는 찾아서 해보면 될 듯."
      ],
      "metadata": {
        "id": "ZetgxG8skSvz"
      }
    },
    {
      "cell_type": "code",
      "source": [
        "from langchain_text_splitters import (\n",
        "    Language,\n",
        "    RecursiveCharacterTextSplitter,\n",
        ")\n",
        "\n",
        "# 지원되는 언어의 전체 목록을 가져옵니다.\n",
        "print([e.value for e in Language])\n",
        "\n",
        "PYTHON_CODE = \"\"\"\n",
        "def hello_world():\n",
        "    print(\"Hello, World!\")\n",
        "\n",
        "hello_world()\n",
        "\"\"\"\n",
        "\n",
        "python_splitter = RecursiveCharacterTextSplitter.from_language(\n",
        "    language=Language.PYTHON, chunk_size=50, chunk_overlap=0\n",
        ")\n",
        "\n",
        "python_docs = python_splitter.create_documents([PYTHON_CODE])\n",
        "python_docs"
      ],
      "metadata": {
        "id": "u61pCH38kYDa",
        "outputId": "2d84931e-d001-4730-f3dc-40c8a320b7fb",
        "colab": {
          "base_uri": "https://localhost:8080/"
        }
      },
      "execution_count": null,
      "outputs": [
        {
          "output_type": "stream",
          "name": "stdout",
          "text": [
            "['cpp', 'go', 'java', 'kotlin', 'js', 'ts', 'php', 'proto', 'python', 'rst', 'ruby', 'rust', 'scala', 'swift', 'markdown', 'latex', 'html', 'sol', 'csharp', 'cobol', 'c', 'lua', 'perl', 'haskell']\n"
          ]
        },
        {
          "output_type": "execute_result",
          "data": {
            "text/plain": [
              "[Document(page_content='def hello_world():\\n    print(\"Hello, World!\")'),\n",
              " Document(page_content='hello_world()')]"
            ]
          },
          "metadata": {},
          "execution_count": 21
        }
      ]
    },
    {
      "cell_type": "markdown",
      "source": [
        "# CH09 임베딩"
      ],
      "metadata": {
        "id": "VWmqNDaGlL1b"
      }
    },
    {
      "cell_type": "markdown",
      "source": [
        "문서 임베드는 문서의 내용을 벡터 형태로 표현하는 과정을 의미함\n",
        "\n",
        "이를 통해 문서의 의미론적 정보를 수치화할 수 있으며, 문서 간의 유사도 비교, 문서 분류, 검색 등 다양한 자연어 처리 작업에 활용할 수 있음\n",
        "\n",
        "문서 임베드는 주로 사전 학습된 언어 모델을 사용하여 수행되며, 대표적인 예로는 BERT, GPT 등이 있음\n",
        "\n",
        "이러한 모델들은 대규모 텍스트 데이터로 학습되어 문맥적 정보를 포착할 수 있기 떄문에, 문서의 의미를 효과적으로 인코딩할 수 있음\n",
        "\n",
        "문서 임베드 과정에서는 문서를 토큰화하고, 각 토큰을 언어 모델에 입력하여 해당 토큰의 임베딩 벡터를 얻어서 문서 전체의 임베딩 벡터를 계산하기 위해 토큰 임베딩 벡터들을 평균하거나 가중 평균하는 등의 방법을 사용할 수 있음.\n",
        "\n",
        "문서 임베드를 통해 얻은 벡터 표현은 문서 간의 유사도를 계산하는 데 사용될 수 있으며, 이는 문서 검색, 추천 시스템, 문서 클러스터링 등 다양한 응용 분야에서 활용되거나 문서 분류 및 감성 분석 등의 작업을 수행할 수 있음.![image.png](data:image/png;base64,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)"
      ],
      "metadata": {
        "id": "dfYn1zOxlSRY"
      }
    },
    {
      "cell_type": "markdown",
      "source": [
        "OpenAIEmbedding은 돈을 내라고 해서 짜증나므로 huggingface를 써봅니다."
      ],
      "metadata": {
        "id": "kt_PIM4Btyan"
      }
    },
    {
      "cell_type": "code",
      "source": [
        "!pip install -qU langchain-community sentence_transformers"
      ],
      "metadata": {
        "id": "7YV55GnstsZS",
        "outputId": "0e296dc5-9bda-40f6-d16a-4d528871ea93",
        "colab": {
          "base_uri": "https://localhost:8080/"
        }
      },
      "execution_count": 10,
      "outputs": [
        {
          "output_type": "stream",
          "name": "stdout",
          "text": [
            "\u001b[2K     \u001b[90m━━━━━━━━━━━━━━━━━━━━━━━━━━━━━━━━━━━━━━━━\u001b[0m \u001b[32m2.1/2.1 MB\u001b[0m \u001b[31m6.9 MB/s\u001b[0m eta \u001b[36m0:00:00\u001b[0m\n",
            "\u001b[2K     \u001b[90m━━━━━━━━━━━━━━━━━━━━━━━━━━━━━━━━━━━━━━━━\u001b[0m \u001b[32m49.3/49.3 kB\u001b[0m \u001b[31m6.1 MB/s\u001b[0m eta \u001b[36m0:00:00\u001b[0m\n",
            "\u001b[?25h"
          ]
        }
      ]
    },
    {
      "cell_type": "code",
      "source": [
        "from langchain_community.embeddings import (\n",
        "    HuggingFaceEmbeddings,\n",
        ")\n",
        "from google.colab import userdata\n",
        "\n",
        "embeddings = HuggingFaceEmbeddings()  # HuggingFace 임베딩을 생성합니다.\n",
        "\n",
        "text = (\n",
        "    \"임베딩 테스트를 하기 위한 샘플 문장입니다.\"\n",
        ")\n",
        "\n",
        "# 텍스트를 임베딩하여 쿼리 결과를 생성\n",
        "query_result = embeddings.embed_query(text)\n",
        "\n",
        "# 쿼리 결과의 처음 5개 항목을 선택\n",
        "display(query_result[:5])\n",
        "\n",
        "# 텍스트를 임베딩하여 문서 벡터를 생성\n",
        "doc_result = embeddings.embed_documents(\n",
        "    [text]\n",
        ")\n",
        "\n",
        "# 문서 결과의 첫번째 요소에서 처음 5개 항목을 선택\n",
        "display(doc_result[0][:5])"
      ],
      "metadata": {
        "id": "1Fls10ntuBhe",
        "outputId": "a966ab26-122e-4cd5-a0e3-f8ca45fa6077",
        "colab": {
          "base_uri": "https://localhost:8080/",
          "height": 191
        }
      },
      "execution_count": 14,
      "outputs": [
        {
          "output_type": "display_data",
          "data": {
            "text/plain": [
              "[0.032299283891916275,\n",
              " -0.10691162943840027,\n",
              " -0.021215565502643585,\n",
              " -0.0021571977995336056,\n",
              " 0.013127222657203674]"
            ]
          },
          "metadata": {}
        },
        {
          "output_type": "display_data",
          "data": {
            "text/plain": [
              "[0.032299283891916275,\n",
              " -0.10691162943840027,\n",
              " -0.021215565502643585,\n",
              " -0.0021571977995336056,\n",
              " 0.013127222657203674]"
            ]
          },
          "metadata": {}
        }
      ]
    },
    {
      "cell_type": "markdown",
      "source": [
        "HuggingFaceInferenceAPIEmbeddings를 쓰면 sentence_transformers를 설치하거나 모델 다운로드가 필요없음"
      ],
      "metadata": {
        "id": "UJS5ETJ3zSVg"
      }
    },
    {
      "cell_type": "code",
      "source": [
        "from langchain_community.embeddings import HuggingFaceInferenceAPIEmbeddings\n",
        "from google.colab import userdata\n",
        "\n",
        "embeddings = HuggingFaceInferenceAPIEmbeddings(\n",
        "    # Hugging Face Inference API 키를 설정합니다.\n",
        "    api_key=userdata.get('HUGGING_FACE_KEY'),\n",
        "    # 사용할 임베딩 모델의 이름을 지정합니다.\n",
        "    model_name=\"sentence-transformers/all-MiniLM-l6-v2\",\n",
        ")\n",
        "\n",
        "# 주어진 텍스트에 대한 쿼리 임베딩을 생성합니다.\n",
        "query_result = embeddings.embed_query(text)\n",
        "# 쿼리 임베딩 결과의 첫 3개 요소를 가져옵니다.\n",
        "query_result[:3]"
      ],
      "metadata": {
        "id": "Z8bjbeZEy7sh",
        "outputId": "da926858-17f1-4da7-abd3-bdf2ad8213e4",
        "colab": {
          "base_uri": "https://localhost:8080/"
        }
      },
      "execution_count": 15,
      "outputs": [
        {
          "output_type": "execute_result",
          "data": {
            "text/plain": [
              "[-0.013430356979370117, 0.0677628219127655, 0.013700650073587894]"
            ]
          },
          "metadata": {},
          "execution_count": 15
        }
      ]
    },
    {
      "cell_type": "markdown",
      "source": [
        "huggingface_hub 패키지로 임베딩을 처리할 수도 있음."
      ],
      "metadata": {
        "id": "jOHSG2gHzbpR"
      }
    },
    {
      "cell_type": "code",
      "source": [
        "!pip install -qU langchain_community huggingface_hub"
      ],
      "metadata": {
        "id": "DUe1HNv3zhzo",
        "outputId": "f086e6f9-7f2b-498f-e5af-de1fa09ca9bb",
        "colab": {
          "base_uri": "https://localhost:8080/"
        }
      },
      "execution_count": 16,
      "outputs": [
        {
          "output_type": "stream",
          "name": "stdout",
          "text": [
            "\u001b[?25l     \u001b[90m━━━━━━━━━━━━━━━━━━━━━━━━━━━━━━━━━━━━━━━━\u001b[0m \u001b[32m0.0/401.7 kB\u001b[0m \u001b[31m?\u001b[0m eta \u001b[36m-:--:--\u001b[0m\r\u001b[2K     \u001b[91m━━\u001b[0m\u001b[90m╺\u001b[0m\u001b[90m━━━━━━━━━━━━━━━━━━━━━━━━━━━━━━━━━━━━━\u001b[0m \u001b[32m20.5/401.7 kB\u001b[0m \u001b[31m1.5 MB/s\u001b[0m eta \u001b[36m0:00:01\u001b[0m\r\u001b[2K     \u001b[91m━━━━━\u001b[0m\u001b[90m╺\u001b[0m\u001b[90m━━━━━━━━━━━━━━━━━━━━━━━━━━━━━━━━━━\u001b[0m \u001b[32m51.2/401.7 kB\u001b[0m \u001b[31m873.7 kB/s\u001b[0m eta \u001b[36m0:00:01\u001b[0m\r\u001b[2K     \u001b[91m━━━━━━━━━━━━━━\u001b[0m\u001b[90m╺\u001b[0m\u001b[90m━━━━━━━━━━━━━━━━━━━━━━━━━\u001b[0m \u001b[32m143.4/401.7 kB\u001b[0m \u001b[31m1.4 MB/s\u001b[0m eta \u001b[36m0:00:01\u001b[0m\r\u001b[2K     \u001b[91m━━━━━━━━━━━━━━━━━━━━━━━━━━━━━━━\u001b[0m\u001b[91m╸\u001b[0m\u001b[90m━━━━━━━━\u001b[0m \u001b[32m317.4/401.7 kB\u001b[0m \u001b[31m2.2 MB/s\u001b[0m eta \u001b[36m0:00:01\u001b[0m\r\u001b[2K     \u001b[90m━━━━━━━━━━━━━━━━━━━━━━━━━━━━━━━━━━━━━━━━\u001b[0m \u001b[32m401.7/401.7 kB\u001b[0m \u001b[31m2.3 MB/s\u001b[0m eta \u001b[36m0:00:00\u001b[0m\n",
            "\u001b[?25h"
          ]
        }
      ]
    },
    {
      "cell_type": "code",
      "source": [
        "from langchain_community.embeddings import HuggingFaceHubEmbeddings\n",
        "\n",
        "embeddings = HuggingFaceHubEmbeddings()\n",
        "text = (\n",
        "    \"임베딩 테스트를 하기 위한 샘플 문장입니다.\"  # 테스트용 문서 텍스트를 정의합니다.\n",
        ")\n",
        "\n",
        "# 텍스트를 임베딩하여 쿼리 결과를 생성합니다.\n",
        "query_result = embeddings.embed_query(text)\n",
        "\n",
        "# 차원을 확인합니다.\n",
        "len(query_result)\n",
        "\n",
        "# 쿼리 결과의 처음 3개 항목을 선택합니다.\n",
        "query_result[:3]"
      ],
      "metadata": {
        "id": "K3zAtFcpzl9a",
        "outputId": "82bbc6f9-30e9-4d16-d2e2-182a728285c2",
        "colab": {
          "base_uri": "https://localhost:8080/",
          "height": 530
        }
      },
      "execution_count": 17,
      "outputs": [
        {
          "output_type": "error",
          "ename": "HfHubHTTPError",
          "evalue": "429 Client Error: Too Many Requests for url: https://api-inference.huggingface.co/pipeline/feature-extraction/sentence-transformers/all-mpnet-base-v2 (Request ID: peC6lbZ0N_y52KjTmO1on)\n\nRate limit reached. Please log in or use a HF access token",
          "traceback": [
            "\u001b[0;31m---------------------------------------------------------------------------\u001b[0m",
            "\u001b[0;31mHTTPError\u001b[0m                                 Traceback (most recent call last)",
            "\u001b[0;32m/usr/local/lib/python3.10/dist-packages/huggingface_hub/utils/_errors.py\u001b[0m in \u001b[0;36mhf_raise_for_status\u001b[0;34m(response, endpoint_name)\u001b[0m\n\u001b[1;32m    303\u001b[0m     \u001b[0;32mtry\u001b[0m\u001b[0;34m:\u001b[0m\u001b[0;34m\u001b[0m\u001b[0;34m\u001b[0m\u001b[0m\n\u001b[0;32m--> 304\u001b[0;31m         \u001b[0mresponse\u001b[0m\u001b[0;34m.\u001b[0m\u001b[0mraise_for_status\u001b[0m\u001b[0;34m(\u001b[0m\u001b[0;34m)\u001b[0m\u001b[0;34m\u001b[0m\u001b[0;34m\u001b[0m\u001b[0m\n\u001b[0m\u001b[1;32m    305\u001b[0m     \u001b[0;32mexcept\u001b[0m \u001b[0mHTTPError\u001b[0m \u001b[0;32mas\u001b[0m \u001b[0me\u001b[0m\u001b[0;34m:\u001b[0m\u001b[0;34m\u001b[0m\u001b[0;34m\u001b[0m\u001b[0m\n",
            "\u001b[0;32m/usr/local/lib/python3.10/dist-packages/requests/models.py\u001b[0m in \u001b[0;36mraise_for_status\u001b[0;34m(self)\u001b[0m\n\u001b[1;32m   1020\u001b[0m         \u001b[0;32mif\u001b[0m \u001b[0mhttp_error_msg\u001b[0m\u001b[0;34m:\u001b[0m\u001b[0;34m\u001b[0m\u001b[0;34m\u001b[0m\u001b[0m\n\u001b[0;32m-> 1021\u001b[0;31m             \u001b[0;32mraise\u001b[0m \u001b[0mHTTPError\u001b[0m\u001b[0;34m(\u001b[0m\u001b[0mhttp_error_msg\u001b[0m\u001b[0;34m,\u001b[0m \u001b[0mresponse\u001b[0m\u001b[0;34m=\u001b[0m\u001b[0mself\u001b[0m\u001b[0;34m)\u001b[0m\u001b[0;34m\u001b[0m\u001b[0;34m\u001b[0m\u001b[0m\n\u001b[0m\u001b[1;32m   1022\u001b[0m \u001b[0;34m\u001b[0m\u001b[0m\n",
            "\u001b[0;31mHTTPError\u001b[0m: 429 Client Error: Too Many Requests for url: https://api-inference.huggingface.co/pipeline/feature-extraction/sentence-transformers/all-mpnet-base-v2",
            "\nThe above exception was the direct cause of the following exception:\n",
            "\u001b[0;31mHfHubHTTPError\u001b[0m                            Traceback (most recent call last)",
            "\u001b[0;32m<ipython-input-17-305d6e1cc8db>\u001b[0m in \u001b[0;36m<cell line: 9>\u001b[0;34m()\u001b[0m\n\u001b[1;32m      7\u001b[0m \u001b[0;34m\u001b[0m\u001b[0m\n\u001b[1;32m      8\u001b[0m \u001b[0;31m# 텍스트를 임베딩하여 쿼리 결과를 생성합니다.\u001b[0m\u001b[0;34m\u001b[0m\u001b[0;34m\u001b[0m\u001b[0m\n\u001b[0;32m----> 9\u001b[0;31m \u001b[0mquery_result\u001b[0m \u001b[0;34m=\u001b[0m \u001b[0membeddings\u001b[0m\u001b[0;34m.\u001b[0m\u001b[0membed_query\u001b[0m\u001b[0;34m(\u001b[0m\u001b[0mtext\u001b[0m\u001b[0;34m)\u001b[0m\u001b[0;34m\u001b[0m\u001b[0;34m\u001b[0m\u001b[0m\n\u001b[0m\u001b[1;32m     10\u001b[0m \u001b[0;34m\u001b[0m\u001b[0m\n\u001b[1;32m     11\u001b[0m \u001b[0;31m# 차원을 확인합니다.\u001b[0m\u001b[0;34m\u001b[0m\u001b[0;34m\u001b[0m\u001b[0m\n",
            "\u001b[0;32m/usr/local/lib/python3.10/dist-packages/langchain_community/embeddings/huggingface_hub.py\u001b[0m in \u001b[0;36membed_query\u001b[0;34m(self, text)\u001b[0m\n\u001b[1;32m    133\u001b[0m             \u001b[0mEmbeddings\u001b[0m \u001b[0;32mfor\u001b[0m \u001b[0mthe\u001b[0m \u001b[0mtext\u001b[0m\u001b[0;34m.\u001b[0m\u001b[0;34m\u001b[0m\u001b[0;34m\u001b[0m\u001b[0m\n\u001b[1;32m    134\u001b[0m         \"\"\"\n\u001b[0;32m--> 135\u001b[0;31m         \u001b[0mresponse\u001b[0m \u001b[0;34m=\u001b[0m \u001b[0mself\u001b[0m\u001b[0;34m.\u001b[0m\u001b[0membed_documents\u001b[0m\u001b[0;34m(\u001b[0m\u001b[0;34m[\u001b[0m\u001b[0mtext\u001b[0m\u001b[0;34m]\u001b[0m\u001b[0;34m)\u001b[0m\u001b[0;34m[\u001b[0m\u001b[0;36m0\u001b[0m\u001b[0;34m]\u001b[0m\u001b[0;34m\u001b[0m\u001b[0;34m\u001b[0m\u001b[0m\n\u001b[0m\u001b[1;32m    136\u001b[0m         \u001b[0;32mreturn\u001b[0m \u001b[0mresponse\u001b[0m\u001b[0;34m\u001b[0m\u001b[0;34m\u001b[0m\u001b[0m\n\u001b[1;32m    137\u001b[0m \u001b[0;34m\u001b[0m\u001b[0m\n",
            "\u001b[0;32m/usr/local/lib/python3.10/dist-packages/langchain_community/embeddings/huggingface_hub.py\u001b[0m in \u001b[0;36membed_documents\u001b[0;34m(self, texts)\u001b[0m\n\u001b[1;32m    102\u001b[0m         \u001b[0mtexts\u001b[0m \u001b[0;34m=\u001b[0m \u001b[0;34m[\u001b[0m\u001b[0mtext\u001b[0m\u001b[0;34m.\u001b[0m\u001b[0mreplace\u001b[0m\u001b[0;34m(\u001b[0m\u001b[0;34m\"\\n\"\u001b[0m\u001b[0;34m,\u001b[0m \u001b[0;34m\" \"\u001b[0m\u001b[0;34m)\u001b[0m \u001b[0;32mfor\u001b[0m \u001b[0mtext\u001b[0m \u001b[0;32min\u001b[0m \u001b[0mtexts\u001b[0m\u001b[0;34m]\u001b[0m\u001b[0;34m\u001b[0m\u001b[0;34m\u001b[0m\u001b[0m\n\u001b[1;32m    103\u001b[0m         \u001b[0m_model_kwargs\u001b[0m \u001b[0;34m=\u001b[0m \u001b[0mself\u001b[0m\u001b[0;34m.\u001b[0m\u001b[0mmodel_kwargs\u001b[0m \u001b[0;32mor\u001b[0m \u001b[0;34m{\u001b[0m\u001b[0;34m}\u001b[0m\u001b[0;34m\u001b[0m\u001b[0;34m\u001b[0m\u001b[0m\n\u001b[0;32m--> 104\u001b[0;31m         responses = self.client.post(\n\u001b[0m\u001b[1;32m    105\u001b[0m             \u001b[0mjson\u001b[0m\u001b[0;34m=\u001b[0m\u001b[0;34m{\u001b[0m\u001b[0;34m\"inputs\"\u001b[0m\u001b[0;34m:\u001b[0m \u001b[0mtexts\u001b[0m\u001b[0;34m,\u001b[0m \u001b[0;34m\"parameters\"\u001b[0m\u001b[0;34m:\u001b[0m \u001b[0m_model_kwargs\u001b[0m\u001b[0;34m}\u001b[0m\u001b[0;34m,\u001b[0m \u001b[0mtask\u001b[0m\u001b[0;34m=\u001b[0m\u001b[0mself\u001b[0m\u001b[0;34m.\u001b[0m\u001b[0mtask\u001b[0m\u001b[0;34m\u001b[0m\u001b[0;34m\u001b[0m\u001b[0m\n\u001b[1;32m    106\u001b[0m         )\n",
            "\u001b[0;32m/usr/local/lib/python3.10/dist-packages/huggingface_hub/inference/_client.py\u001b[0m in \u001b[0;36mpost\u001b[0;34m(self, json, data, model, task, stream)\u001b[0m\n\u001b[1;32m    271\u001b[0m \u001b[0;34m\u001b[0m\u001b[0m\n\u001b[1;32m    272\u001b[0m             \u001b[0;32mtry\u001b[0m\u001b[0;34m:\u001b[0m\u001b[0;34m\u001b[0m\u001b[0;34m\u001b[0m\u001b[0m\n\u001b[0;32m--> 273\u001b[0;31m                 \u001b[0mhf_raise_for_status\u001b[0m\u001b[0;34m(\u001b[0m\u001b[0mresponse\u001b[0m\u001b[0;34m)\u001b[0m\u001b[0;34m\u001b[0m\u001b[0;34m\u001b[0m\u001b[0m\n\u001b[0m\u001b[1;32m    274\u001b[0m                 \u001b[0;32mreturn\u001b[0m \u001b[0mresponse\u001b[0m\u001b[0;34m.\u001b[0m\u001b[0miter_lines\u001b[0m\u001b[0;34m(\u001b[0m\u001b[0;34m)\u001b[0m \u001b[0;32mif\u001b[0m \u001b[0mstream\u001b[0m \u001b[0;32melse\u001b[0m \u001b[0mresponse\u001b[0m\u001b[0;34m.\u001b[0m\u001b[0mcontent\u001b[0m\u001b[0;34m\u001b[0m\u001b[0;34m\u001b[0m\u001b[0m\n\u001b[1;32m    275\u001b[0m             \u001b[0;32mexcept\u001b[0m \u001b[0mHTTPError\u001b[0m \u001b[0;32mas\u001b[0m \u001b[0merror\u001b[0m\u001b[0;34m:\u001b[0m\u001b[0;34m\u001b[0m\u001b[0;34m\u001b[0m\u001b[0m\n",
            "\u001b[0;32m/usr/local/lib/python3.10/dist-packages/huggingface_hub/utils/_errors.py\u001b[0m in \u001b[0;36mhf_raise_for_status\u001b[0;34m(response, endpoint_name)\u001b[0m\n\u001b[1;32m    369\u001b[0m         \u001b[0;31m# Convert `HTTPError` into a `HfHubHTTPError` to display request information\u001b[0m\u001b[0;34m\u001b[0m\u001b[0;34m\u001b[0m\u001b[0m\n\u001b[1;32m    370\u001b[0m         \u001b[0;31m# as well (request id and/or server error message)\u001b[0m\u001b[0;34m\u001b[0m\u001b[0;34m\u001b[0m\u001b[0m\n\u001b[0;32m--> 371\u001b[0;31m         \u001b[0;32mraise\u001b[0m \u001b[0mHfHubHTTPError\u001b[0m\u001b[0;34m(\u001b[0m\u001b[0mstr\u001b[0m\u001b[0;34m(\u001b[0m\u001b[0me\u001b[0m\u001b[0;34m)\u001b[0m\u001b[0;34m,\u001b[0m \u001b[0mresponse\u001b[0m\u001b[0;34m=\u001b[0m\u001b[0mresponse\u001b[0m\u001b[0;34m)\u001b[0m \u001b[0;32mfrom\u001b[0m \u001b[0me\u001b[0m\u001b[0;34m\u001b[0m\u001b[0;34m\u001b[0m\u001b[0m\n\u001b[0m\u001b[1;32m    372\u001b[0m \u001b[0;34m\u001b[0m\u001b[0m\n\u001b[1;32m    373\u001b[0m \u001b[0;34m\u001b[0m\u001b[0m\n",
            "\u001b[0;31mHfHubHTTPError\u001b[0m: 429 Client Error: Too Many Requests for url: https://api-inference.huggingface.co/pipeline/feature-extraction/sentence-transformers/all-mpnet-base-v2 (Request ID: peC6lbZ0N_y52KjTmO1on)\n\nRate limit reached. Please log in or use a HF access token"
          ]
        }
      ]
    },
    {
      "cell_type": "markdown",
      "source": [
        "# CH10 벡터저장소"
      ],
      "metadata": {
        "id": "KuL2HGUWz-CQ"
      }
    },
    {
      "cell_type": "markdown",
      "source": [
        "## 벡터저장소"
      ],
      "metadata": {
        "id": "qIL_dps10B8x"
      }
    },
    {
      "cell_type": "markdown",
      "source": [
        "벡터 스토어를 사용할 때에는 벡터 스토어에 넣을 벡터를 만들어서 넣어야 하는데 일반적으로 임베딩을 통해서 만들어짐."
      ],
      "metadata": {
        "id": "_p1PUfKx0IO1"
      }
    },
    {
      "cell_type": "markdown",
      "source": [
        "### Chroma"
      ],
      "metadata": {
        "id": "Wdfs5SUX0UGV"
      }
    },
    {
      "cell_type": "markdown",
      "source": [
        "개발자 생산성에 초점을 맞춘 오픈소스 벡터 데이터베이스임.\n"
      ],
      "metadata": {
        "id": "EutdhQd60Wv6"
      }
    },
    {
      "cell_type": "markdown",
      "source": [
        "설치해봅시다."
      ],
      "metadata": {
        "id": "lOw8wbr00uwl"
      }
    },
    {
      "cell_type": "code",
      "source": [
        "!pip install -qU langchain_community chromadb pypdf"
      ],
      "metadata": {
        "id": "d4Lc1wZ50wZY",
        "outputId": "78f3de30-bc75-4e80-a362-274446d2a59a",
        "colab": {
          "base_uri": "https://localhost:8080/"
        }
      },
      "execution_count": 29,
      "outputs": [
        {
          "output_type": "stream",
          "name": "stdout",
          "text": [
            "\u001b[?25l     \u001b[90m━━━━━━━━━━━━━━━━━━━━━━━━━━━━━━━━━━━━━━━━\u001b[0m \u001b[32m0.0/290.4 kB\u001b[0m \u001b[31m?\u001b[0m eta \u001b[36m-:--:--\u001b[0m\r\u001b[2K     \u001b[91m━\u001b[0m\u001b[90m╺\u001b[0m\u001b[90m━━━━━━━━━━━━━━━━━━━━━━━━━━━━━━━━━━━━━━\u001b[0m \u001b[32m10.2/290.4 kB\u001b[0m \u001b[31m?\u001b[0m eta \u001b[36m-:--:--\u001b[0m\r\u001b[2K     \u001b[91m━━━━━\u001b[0m\u001b[91m╸\u001b[0m\u001b[90m━━━━━━━━━━━━━━━━━━━━━━━━━━━━━━━━━━\u001b[0m \u001b[32m41.0/290.4 kB\u001b[0m \u001b[31m578.6 kB/s\u001b[0m eta \u001b[36m0:00:01\u001b[0m\r\u001b[2K     \u001b[91m━━━━━━━━━━━━━━━━━━━\u001b[0m\u001b[91m╸\u001b[0m\u001b[90m━━━━━━━━━━━━━━━━━━━━\u001b[0m \u001b[32m143.4/290.4 kB\u001b[0m \u001b[31m1.4 MB/s\u001b[0m eta \u001b[36m0:00:01\u001b[0m\r\u001b[2K     \u001b[91m━━━━━━━━━━━━━━━━━━━━━━━━━━━━━━━━━━━━━━━\u001b[0m\u001b[90m╺\u001b[0m \u001b[32m286.7/290.4 kB\u001b[0m \u001b[31m2.2 MB/s\u001b[0m eta \u001b[36m0:00:01\u001b[0m\r\u001b[2K     \u001b[90m━━━━━━━━━━━━━━━━━━━━━━━━━━━━━━━━━━━━━━━━\u001b[0m \u001b[32m290.4/290.4 kB\u001b[0m \u001b[31m1.9 MB/s\u001b[0m eta \u001b[36m0:00:00\u001b[0m\n",
            "\u001b[?25h"
          ]
        }
      ]
    },
    {
      "cell_type": "markdown",
      "source": [],
      "metadata": {
        "id": "QjP6CfPE3voX"
      }
    },
    {
      "cell_type": "markdown",
      "source": [
        "#### 기본 사용법"
      ],
      "metadata": {
        "id": "3xpH37b108ed"
      }
    },
    {
      "cell_type": "code",
      "source": [
        "# import\n",
        "from langchain_community.embeddings.sentence_transformer import (\n",
        "    SentenceTransformerEmbeddings,\n",
        ")\n",
        "from langchain_community.vectorstores import Chroma\n",
        "from langchain_text_splitters import CharacterTextSplitter\n",
        "\n",
        "from langchain_community.document_loaders import PyPDFLoader\n",
        "\n",
        "loader = PyPDFLoader(\"./sample_data/CAPE_삼성전자_20200918.pdf\")\n",
        "\n",
        "# 로더를 사용하여 데이터를 불러옵니다.\n",
        "documents = loader.load()\n",
        "\n",
        "#display(documents)\n",
        "\n",
        "# 문서를 청크로 분할합니다.\n",
        "text_splitter = CharacterTextSplitter()\n",
        "docs = text_splitter.split_documents(documents)\n",
        "\n",
        "# display(docs)\n",
        "\n",
        "# 오픈 소스 임베딩 함수를 생성합니다.\n",
        "stf_embeddings = HuggingFaceEmbeddings(\n",
        "    model_name='jhgan/ko-sroberta-nli',\n",
        "    model_kwargs={'device':'cpu'},\n",
        "    encode_kwargs={'normalize_embeddings':True},\n",
        ")\n",
        "\n",
        "# Chroma에 로드합니다.\n",
        "db = Chroma.from_documents(docs, stf_embeddings)\n",
        "\n",
        "# 질의합니다.\n",
        "query = \"삼성전자 \"\n",
        "result = db.similarity_search(query)\n",
        "\n",
        "# 결과를 출력합니다.\n",
        "display(\"=================================\")\n",
        "display(result)\n",
        "\n",
        "db.delete_collection()"
      ],
      "metadata": {
        "id": "6hU0a8fz0-6Q",
        "outputId": "f781f1d3-89f4-42bd-f615-8661691849a9",
        "colab": {
          "base_uri": "https://localhost:8080/",
          "height": 1000
        }
      },
      "execution_count": 55,
      "outputs": [
        {
          "output_type": "display_data",
          "data": {
            "text/plain": [
              "'================================='"
            ],
            "application/vnd.google.colaboratory.intrinsic+json": {
              "type": "string"
            }
          },
          "metadata": {}
        },
        {
          "output_type": "display_data",
          "data": {
            "text/plain": [
              "[Document(page_content='CAPE Research  Division  ▶▶▶  Company Analysis  _ 2020/09/1 8 \\n \\nAnalyst 박성순ㆍ02)6923 -7333ㆍsspark@capefn.com  \\n \\n삼성전자  (005930KS | Buy 유지 | TP 80,000 원 상향) \\n우주의  기운이  삼성전자로  \\n \\n삼성전자에  대해 투자의견  Buy를 유지하며  목표주가를  80,000원으로  상향합니다 . 3분기 스마트폰과 TV 등 Set 중심의  강한 \\nPent -up 수요가  발생하고  있습니다 . 이에 더해 최근 Huawei향 단기 수요 증가와  메모리  수율 개선으로  가격 하락폭  대비 견조\\n한 반도체  실적이  예상됩니다 .  Foundry 사업의  향후 성장 기대감도  Valuation 확대 요소로  판단합니다 . \\n \\n3Q20F 매출액  64.2조원(+21.2 % QoQ), 영업이익  11.0조원(+35.2 % QoQ) 예상 \\n\\uf09f 삼성전자  3분기 실적은  시장 기대치를  상회할  것으로  전망. Set 중심으로  강한 Pent-Up 수요가  발생 중. 특히 스마\\n트폰 출하량은  당초 기대치를 크게 상회하는  8,000만대로  예상. 플래그십  출시 효과와  중가 모델 비중 증가로  +10% \\nQoQ의 ASP 상승 기대. 이에 더해 온라인  판매 확대, 마케팅  비용 절감에  따른 수익성  개선이  예상됨 . \\n\\uf09f DP는 LCD TV 패널 가격 상승에  따른 적자 축소와  북미 고객사  OLED 공급으로  전분기  대비 수익성  개선이  기대. \\n다만 북미 고객사의  신모델  출시 지연 영향으로  당초 추정치는  하회할  전망. 이는 4분기로  이연하여  추정치에  반영. \\n \\nHuawei로 인한 메모리  공백 우려는  크지 않아 \\n\\uf09f Huawei는 9월 15일 제재 전까지  공격적인  메모리  Rush Order 가 발생하였음 . 이는 모바일과  서버 전부문에서  나타\\n남. 따라서  DRAM과 NAND Bit Growth 모두 기존 가이던스를  상회할  것으로  예상. Hyperscale Data Center 고객\\n의 재고 소진으로  메모리  재고의  상승이  예상되었으나  Huawei 영향으로  전분기  수준을  유지하고  있는 것으로  파악. \\n비록 메모리  가격 하락폭이  기존 예상치를  하회할  것으로  예상되나 , DRAM  1Y nm, 1Z nm 와 NAND 128 단 수율 \\n개선으로  전분기  수준의  수익성  유지가  가능할  것으로  판단.  \\n\\uf09f Huawei 제재 영향은  IM에 긍정적 , 메모리에 중립적인  영향을  끼칠 것으로  예상. Huawei 공백은  중국에서  \\nVOX(Vivo, Oppo, Xiaomi) 가, 해외 시장은  삼성전자와  Apple이 채울 것으로  예상. 따라서  메모리  수요의  공백은  없\\n을 것으로  전망. 반면 IM은 반사이익으로  2021년 스마트폰  출하량  확대가 예상. \\n\\uf09f 하반기  Set 수요의  본격적인  반등(실적)과 비메모리  사업(Valuation) 에 집중할  필요가  있다고  판단. 미국의  중국 반도\\n체 제재, Intel의 미세화  전환 차질 등 삼성전자의  Foundry 사업에  긍정적이  흐름 지속 발생 중. Valuation 확대가  합\\n당하다  판단하며  이를 반영하여  목표주가를  80,000원으로  상향 조정. 업종 내 최선호주로  추천. \\n \\nStock Data   경영실적  전망 \\n \\n \\n주가(9/17)  59,50 0원 \\n액면가   100원 \\n시가총액  397,169십억원  \\n52주 최고/최저가  62,400원/ 42,500원 \\n주가상승률  1개월 6개월 12개월 \\n절대주가 (%) 2.6 25.8 26.9 \\n상대주가 (%) 2.6 -12.6 8.7  결산기 (12월) 단위 2018A  2019A  2020E  2021E  2022E  \\n매출액  (십억원 ) 243,771  230,401  233,485  249,616  255,975  \\n영업이익  (십억원 ) 58,887  27,769  34,868  43,546  50,697  \\n영업이익률  (%) 24.2  12.1  14.9  17.4  19.8  \\n지배주주순이익  (십억원 ) 43,891  21,505  27,590  33,660  39,212  \\nEPS (원) 6,024  3,166  4,062  4,955  5,773  \\n증감률  (%) 11.1  -47.4  28.3  22.0  16.5  \\nPER (배) 6.4  17.6  15.0  12.3  10.6  \\nPBR (배) 1.1  1.5  1.5  1.4  1.3  \\nROE (%) 19.2  8.5  10.1  11.6  12.4  \\nEV/EBITDA  (배) 2.1  5.0  4.8  3.9  3.2  \\n순차입금  (십억원 ) -86,273  -90,368  -107,046  -131,009  -154,360  \\n부채비율  (%) 37.0  34.1  31.8  30.7  28.5  \\n \\n02004006008001,0001,2001,4001,6001,8002,0002,2002,4002,600\\n010203040506070\\n19/09 19/12 20/03 20/06 20/09(pt)(천원)삼성전자 (L) KOSPI', metadata={'page': 0, 'source': './sample_data/CAPE_삼성전자_20200918.pdf'}),\n",
              " Document(page_content='CAPE Company Analysis                                                                                              2020/09/18  \\n삼성전자  | 우주의  기운이  삼성전자로  \\n4       CAPE   Research Division ㆍ www.capefn.com   \\n표 5. 삼성전자  주요 가정 \\n 1Q19  2Q19  3Q19  4Q19  1Q20  2Q20  3Q20F  4Q20F  2019 2020F  2021F  \\n주요 가정                       \\nUSD/KRW  1,125  1,167  1,194  1,176  1,194  1,220  1,191  1,178  1,166  1,196  1,190  \\nDRAM             \\nBit Growth  -0.4 15.0 32.0 3.5 -3.8 3.1 2.0 -1.0 20.5 19.0 18.2 \\nASP QoQ  -26.3 -21.0 -17.5 -8.2 3.0 10.3 -7.5 -6.5 -49.4 -14.3 3.6 \\nNAND             \\nBit Growth  3.8 30.0 12.0 8.0 -1.5 -2.0 12.0 10.0 46.8 24.6 34.0 \\nASP Q oQ -27.7 -16.0 -5.0 6.0 5.0 5.3 -8.0 -8.2 -54.4 0.4 -9.9 \\nSmartphone             \\nShipment (M Unit)  72.0 76.6 77.0 69.4 58.3 54.2 80.2 73.4 295.0  266.1  308.2  \\nShipment QoQ  2.3 6.4 0.5 -9.9 -16.0 -7.0 48.0 -8.5 0.8 -9.8 15.8 \\nASP (USD)  267.2  233.7  261.6  232.6 295.9  237.1  262.5  250.4  248.9  261.3  261.2  \\nASP QoQ  13.9 -12.5 11.9 -11.1 27.2 -19.9 10.7 -4.6 -1.9 5.0 0.0 \\nOLED             \\nShipment QoQ  -20.9 59.7 -0.2 -5.3 -26.6 -7.0 18.7 8.6 15.6 -17.8 4.9 \\nASP QoQ  -21.2 -19.1 29.7 -2.5 6.0 9.8 5.0 3.0 -8.9 27.7 4.7 \\nTV            \\nShipment  (M Unit)  10.2 9.2 10.5 14.2 10.3 8.8 13.1 12.8 44.1 45.1 45.1 \\nShipment QoQ  -24.0%  -10.0%  14.0%  35.0%  -27.0%  -15.0%  49.0%  -2.0%  4.7%  2.2%  0.2%  \\n자료: 삼성전자 , 케이프투자증권  리서치본부', metadata={'page': 3, 'source': './sample_data/CAPE_삼성전자_20200918.pdf'}),\n",
              " Document(page_content='CAPE Company Analysis  2020/09/18  \\n삼성전자  | 우주의  기운이  삼성전자로  \\nCAPE   Research Division ㆍ www.capefn.com        3 표 4. 삼성전자  부문별  실적 전망 \\n(Wbn)  1Q19  2Q19  3Q19  4Q19  1Q20  2Q20  3Q20F  4Q20F  2019 2020F  2021F  \\n매출액  52,386  56,127  62,003  59,885  55,325  52,966  64,218  60,975  230,401  233,485  249,616  \\nDS 20,615  23,531  26,636  24,735  24,132  25,050  26,189  25,937  95,518  101,307  114,500  \\nSemi  14,472  16,088  17,587  16,792  17,644  18,231  18,317  17,407  64,939  71,599  83,340  \\nMemory  11,469  12,300  13,263  13,184  13,140  14,615  14,108  13,421  50,216  55,284  65,780  \\nDRAM  7,874  7,417  8,266  7,734  7,779  9,041  8,329  7,625  31,291  32,774  38,884  \\nNAND 3,634  4,114  4,480  5,051  5,302  5,593  5,627  5,619  17,279  22,141  25,930  \\nDisplay  6,124  7,622  9,262  8,046  6,588  6,722  7,872  8,530  31,054  29,713  31,160  \\nIM 27,200  25,860  29,254  24,951  26,004  20,753  31,374  27,263  107,266  105,394  110,386  \\nMobile  25,915  24,272  28,096  24,049  24,951  19,799  30,611  26,195  102,332  101,556  105,864  \\nCE 10,041  11,068  10,935  12,713  10,155  10,315  12,971  12,400  44,756  45,842  47,300  \\nTV 5,836  5,998  6,257  8,088  5,650  5,312  7,882  7,410  26,178  26,254  26,885  \\nHarman  2,195  2,518  2,631  2,733  2,101  1,543  2,082  2,280  10,077  8,006  9,052  \\n영업이익  6,233  6,597  7,778  7,160  6,447  8,146  11,013  9,262  27,769  34,868  43,546  \\nDS 3,562  4,146  4,223  3,666  3,706  5,725  5,835  5,579  15,598  20,844  28,799  \\nSemi  4,122  3,398  3,049  3,447  3,993  5,427  5,328  4,591  14,016  19,339  26,522   \\nMemory  3,724  3,020  2,738  3,371  3,834  5,271  4,945  4,247  12,852  18,102  24,313  \\nDRAM  3,719  3,062  2,736  2,774  2,524  3,703  3,412  2,858  12,292  12,498  17,305  \\nNAND 5  -43  1  597  1,116  1,567  1,533  1,388  561  5,605  7,008  \\nDisplay  -560.7  748  1,174  220  -287  298  507  987  1,581  1,505  2,277  \\nIM 2,274  1,561  2,917  2,520  2,650  1,950  4,027  2,819  9,272  11,446  11,626  \\nMobile  2,114  1,362  2,769  2,451  2,536  1,807  3,945  2,645  8,732  10,931  11,069  \\nCE 541  712  548  805  465  719  1,120  826  2,606  3,130  2,930  \\nHarman  8  92  99  123  -188  -93  31  38  322  -212  191  \\nMargin (%)                     \\nOPM  11.9  11.8  12.5  12.0  11.7  15.4  17.1  15.2  12.1  14.9  17.4  \\nDS 17.3  17.6  15.9  14.8  15.4  22.9  22.3  21.5  16.3  20.6  25.2  \\nSemi  28.5  21.1  17.3  20.5  22.6  29.8  29.1  26.4  21.6  27.0  31.8  \\nDRAM  47.2  41.3  33.1  35.9  32.4  41.0  41.0  37.5  39.3  38.1  44.5  \\nNAND 0.2  -1.0  0.0  11.8  21.1  28.0  27.2  24.7  3.2  25.3  27.0  \\nDisplay  -9.2  9.8  12.7  2.7  -4.4  4.4  6.4  11.6  5.1  5.1  7.3  \\nIM 8.4  6.0  10.0  10.1  10.2  9.4  12.8  10.3  8.6  10.9  10.5  \\nMobile  8.2  5.6  9.9  10.2  10.2  9.1  12.9  10.1  8.5  10.8  10.5  \\nCE 5.4  6.4  5.0  6.3  4.6  7.0  8.6  6.7  5.8  6.8  6.2  \\nHarman  0.4  3.7  3.8  4.5  -8.9  -6.1  1.5  1.7  3.2  -2.6  2.1  \\nEBITDA Margin  25.4  21.2  21.1  26.6  25.0  29.4  27.5  26.9  24.9  27.2  29.5  \\nYoY Growth (%)                        \\n매출액  -13.5  -4.0  -5.3  1.0  5.6  -5.6  3.6  1.8  -5.5  1.3  6.9  \\nDS -27.3  -15.0  -23.4  -10.9  17.1  6.5  -1.7  4.9  -19.4  6.1  13.0  \\nSemi  -30.4  -26.8  -29.0  -10.4  21.9  13.3  4.1  3.7  -24.7  10.3  16.4  \\nMemory  -33.8  -33.5  -37.0  -15.0  14.6  18.8  6.4  1.8  -30.6  10.1  19.0  \\nDisplay  -18.7  34.5  -8.2  -12.3  7.6  -11.8  -15.0  6.0  -4.3  -4.3  4.9  \\nIM -4.4  7.8  17.4  7.0  -4.4  -19.8  7.2  9.3  -30.6  10.1  19.0  \\nMobile  -6.3  7.0  17.1  8.4  -3.7  -18.4  9.0  8.9  -35.4  4.7  18.6  \\nCE 3.1  6.4  7.4  7.9  1.1  -6.8  18.6  -2.5  -29.6  -40.7  -29.9  \\nHarman  13.1  18.0  18.7  7.1  -4.3  -38.7  -20.9  -16.6  적지 적지 적지 \\n영업이익  -60.2  -55.6  -55.7  -33.7  3.4  23.5  41.6  29.4  -52.8  25.6  24.9  \\nQoQ Growth (%)                      \\n매출액  -11.6 7.1 10.5  -3.4  -7.6  -4.3  21.2  -5.0     \\nDS -25.7 14.1 13.2  -7.1  -2.4  3.8  4.5  -1.0     \\nSemi  -22.8 11.2 9.3  -4.5  5.1  3.3  0.5  -5.0     \\nMemory  -26.0 7.2 7.8  -0.6  -0.3  11.2  -3.5  -4.9     \\nDisplay  -33.2 24.4 21.5  -13.1  -18.1  2.0  17.1  8.4     \\nIM 16.6 -4.9 13.1  -14.7  4.2  -20.2  51.2  -13.1     \\nMobile  16.8 -6.3 15.8  -14.4  3.7  -20.6  54.6  -14.4     \\nCE -14.8 10.2 -1.2  16.3  -20.1  1.6  25.7  -4.4     \\nHarman  -14.0 14.7 4.5  3.9  -23.1  -26.6  35.0  9.5     \\n영업이익  -42.3 5.8 17.9  -7.9  -10.0  26.4  35.2  -15.9     \\n자료: 삼성전자 , 케이프투자증권  리서치본부', metadata={'page': 2, 'source': './sample_data/CAPE_삼성전자_20200918.pdf'}),\n",
              " Document(page_content='CAPE Company Analysis  2020/09/18  \\n삼성전자  | 우주의  기운이  삼성전자로  \\nCAPE   Research Division ㆍ www.capefn.com        7  \\nCompliance Notice  _ 최근 2년간 투자의견  및 목표주가  변경내역  \\n \\n삼성전자 (005930)  주가 및 목표주가  추이 \\n제시일자  2019 -08-12 2019 -09-30 2019 -10-08 2019 -10-31 2019 -12-19 2020 -01-08 \\n 투자의견  Buy Buy Buy Buy Buy Buy \\n목표주가  57,000원 57,000원 57,000원 63,000원 68,000원 68,000원 \\n제시일자  2020 -01-30 2020 -03-09 2020 -04-08 2020 -04-29 2020 -06-08 2020 -07-08 \\n투자의견  Buy Buy Buy Buy Buy Buy \\n목표주가  68,000원 68,000원 68,000원 68,000원 68,000원 68,000원 \\n제시일자  2020 -07-30 2020 -09-17     \\n투자의견  Buy Buy     \\n목표주가  73,000원 80,000원     \\n \\n목표주가  변동 내역별  괴리율  \\n제시일자  투자의견  목표주가  괴리율 (%)_평균 괴리율 (%)_최고(최저) \\n2019 -08-12 Buy 57,000원 -16.80  -10.00  \\n2019 -10-31 Buy 63,000원 -17.06  -10.00  \\n2019 -12-19 Buy 68,000원 -21.40  -8.24 \\n2020 -07-30 Buy 73,000원 -21.45  -16.44  \\n2020 -09-17 Buy 80,000원   \\n*괴리율  산정 : 수정주가  적용, 목표주가  대상시점은  1년이며  목표주가를  변경하는  경우 해당 조사분석자 료의 공표일  전일까지 기간을  대상으로  함깢 \\n \\n \\n \\n \\n \\n \\n \\n \\n \\n \\n \\n \\nRatings System  \\n구분 대상기간  투자의견  비고 \\n[기업분석 ] 12개월 BUY(15% 초과)ㆍHOLD( -15%~15%) ㆍREDUCE( -15% 미만) * 단, 산업 및 기업에  대한 최종분석  이전에는  긍정, 중립,  \\n부정으로  표시할  수 있음. [산업분석 ] 12개월 Overweight ㆍNeutralㆍUnderweig ht \\n[투자비율 ] 12개월 매수(96.71%)ㆍ매도 (0.00%)ㆍ중립 (3.29%) * 기준일  2020.06.30까지 \\n \\nCompliance  \\n\\uf09f 동 자료에  게시된  내용들은  본인의  의견을  정확히  반영하고  있으며 , 외부의  부당한  압력이나  간섭없이  작성되었음을  확인합니다 . \\n\\uf09f 당사는  공표일  현재 상기 종목의  발행주식을  1%이상 보유하고  있지 않습니다 . \\n\\uf09f 당사는  동 자료를  기관투자자  또는 제3자에게  사전제공한  사실이  없습니다 . \\n\\uf09f 당사는  동 자료에  언급된  종목과  계열회사의  관계가  아닙니다 . \\n\\uf09f 조사분석  담당자  및 그배우자는  공표일  기준 동 자료에  언급된  종목과  재산적  이해관계가  없습니다 .  \\n본 조사자료는  고객의  투자에  정보를  제공할  목적으로  작성되었으며 , 어떠한  경우에도  무단 복제 및 배포 될 수 없습니다 . 또한 본 자료에  수록된  내용은  당사가  \\n신뢰할  만한 자료 및 정보로  얻어진  것이나 , 그 정확성이나  완전성을  보장할  수 없으므로  투자자  자신의  판단과  책임하에  최종결정을  하시기  바랍니다 . 따라서  어\\n떠한 경우에도  본 자료는  고객의 주식투자의  결과에  대한 법적 책임소재의  증빙자료로  사용될  수 없습니다 . \\n \\n \\n \\n20,00028,00036,00044,00052,00060,00068,00076,00084,000\\n18/09 19/03 19/09 20/03 20/09(원) 삼성전자 목표주가', metadata={'page': 6, 'source': './sample_data/CAPE_삼성전자_20200918.pdf'})]"
            ]
          },
          "metadata": {}
        }
      ]
    },
    {
      "cell_type": "markdown",
      "source": [
        "#### Faiss"
      ],
      "metadata": {
        "id": "HXWRGojC8GRq"
      }
    },
    {
      "cell_type": "markdown",
      "source": [
        "Facebook AI Similarity Search(Faiss)는 밀집 벡터의 효율적인 유사도 검색과 클러스터링을 위한 라이브러리임\n",
        "\n",
        "Faiss는 RAM에 맞지 않을 수 있는 벡터 집합을 포함하여 모든 크기의 벡터 집합을 검색하는 알고리즘을 포함하고 있고 평가와 매개변수 튜닝을 위한 지원 코드도 포함되어 있음\n",
        "\n",
        "chromadb와 거의 동일하게 사용한다.\n",
        "\n",
        "chromadb는 vector database이고 faiss는 vector library이다.\n",
        "\n",
        "chromadb는 db가 제공하는 기능들이 있는 것 같고, faiss는 유사도 계산에 특화되어 있는 것으로 보임.\n",
        "\n"
      ],
      "metadata": {
        "id": "xjlbXwse8Iel"
      }
    },
    {
      "cell_type": "code",
      "source": [
        "!pip install -qU langchain-community faiss-cpu sentence-transformers tiktoken"
      ],
      "metadata": {
        "id": "iUpf_UNb-UCR"
      },
      "execution_count": 47,
      "outputs": []
    },
    {
      "cell_type": "code",
      "source": [
        "from langchain_community.document_loaders import TextLoader\n",
        "from langchain_community.vectorstores import FAISS\n",
        "from langchain_text_splitters import CharacterTextSplitter\n",
        "from langchain_community.embeddings import (\n",
        "    HuggingFaceEmbeddings,\n",
        ")\n",
        "from google.colab import userdata\n",
        "\n",
        "embeddings = HuggingFaceEmbeddings(\n",
        "    model_name='jhgan/ko-sroberta-nli',\n",
        "    model_kwargs={'device':'cpu'},\n",
        "    encode_kwargs={'normalize_embeddings':True},\n",
        ")\n",
        "\n",
        "# FAISS에서 AVX2 최적화를 사용하지 않으려면 다음 줄의 주석을 해제하세요.\n",
        "# import os\n",
        "#\n",
        "# os.environ['FAISS_NO_AVX2'] = '1'\n",
        "\n",
        "# TextLoader를 사용하여 텍스트 파일을 로드합니다.\n",
        "loader = TextLoader(\"./sample_data/appendix-keywords.txt\")\n",
        "\n",
        "# 로드된 문서를 가져옵니다.\n",
        "documents = loader.load()\n",
        "\n",
        "# CharacterTextSplitter를 사용하여 문서를 분할합니다.\n",
        "text_splitter = CharacterTextSplitter(chunk_size=300, chunk_overlap=0)\n",
        "\n",
        "# 분할된 문서를 가져옵니다.\n",
        "docs = text_splitter.split_documents(documents)\n",
        "\n",
        "# FAISS를 사용하여 문서와 임베딩으로부터 데이터베이스를 생성합니다.\n",
        "db = FAISS.from_documents(docs, embeddings)\n",
        "\n",
        "# 쿼리(query) 변수에 저장된 질문과 유사한 문서를 데이터베이스에서 검색합니다.\n",
        "query = \"임베딩(Embedding)이란 무엇인가요?\"\n",
        "docs = db.similarity_search(query)  # 질문과 유사한 문서를 데이터베이스에서 검색\n",
        "\n",
        "# docs 리스트의 첫 번째 요소의 page_content 속성을 출력합니다.\n",
        "print(docs[0].page_content)"
      ],
      "metadata": {
        "id": "8XlvCu7Z_VeB",
        "outputId": "36e26f55-9fb6-479e-d3e5-269a9c51c5eb",
        "colab": {
          "base_uri": "https://localhost:8080/",
          "height": 511,
          "referenced_widgets": [
            "3b51d33259d54522b828af680bd67229",
            "13ed2561e479447a8fd42dd012dc68c9",
            "ff9e0dcd7c144bdc9938fb55a625b670",
            "857af0b9ab1247ef898c94b457e622a5",
            "bf91647366734eb89b8d5c5fbbb7bf8c",
            "a05fca624a95482ca4f7bd3b1af79164",
            "461974e9deae491bb35c5ce22b4a617f",
            "b7dc592511474e17927d453d676ec182",
            "1b726852051c4163987eb36bf715498d",
            "7cb4226ab6d64c84b2edce8ad20cc200",
            "186c45ed6dce4e9c8269e5f2ccb7e243",
            "576a18fe548045948c7b1cb09990cc63",
            "5e515cb1fef648e3be7ad65972d7f70d",
            "7f37812ffed74cf68f9fe8d946e7bf15",
            "a64b28493f0341f88a409d55b30a0548",
            "61e4b7140da640d09a2fc8c3a17fd58c",
            "aa8ff1959d1e4346b6457be36ca4251e",
            "e8370cdad4e549c9b2acf37e2e36c1ae",
            "6c25e57e58334b768ae1c4795811ec2f",
            "376ba21765cd4a649b91bd929d4ef8ab",
            "2623fddd9aa4461883eabda75e091e77",
            "40f02d6d22524795ac76164d738cda2a",
            "918ac200304343bcba1d1058f09e1a31",
            "3dea36155d4844ba9cae2f6fc01c722f",
            "e3b79a6559014ce595c1d34a7b3b7450",
            "a7cdf81f8db0431ba8901afa622b1dab",
            "9ed697380ea44a94b31289d799ce56a8",
            "467aa253f23f4773a0018ada0739d907",
            "a38551bd88ca44b9a4c396ede838d528",
            "d94e538fce9544ee87cc611fbc6654e0",
            "0db3829811cf4a49b212ca44de092d9d",
            "0b009c5174a7466db2a0c1d7966dcb62",
            "bed5182162c6419da07925f558d53498",
            "bfa67d4e58d14ffd9d05f0803f376992",
            "2d9770b0a98f4c018ed1c72b32898269",
            "f7fcaee96fbd4ace93d8c10874fc4bcb",
            "95108e4db6954929bc87dcc2064f0fc1",
            "ff45a9bc5ee2486c8900d416533687a4",
            "948620ab0a674536bf02bf6d65bef644",
            "51326db6830e43858ec5edcf16695894",
            "4cc5081a37194d5492aa4e4433a9ea57",
            "e3af0479788142bca2d7236ea8e88fc3",
            "7b2d97beb29c484999e92b1404c5b001",
            "ea1647fc3a5c4f77bb2cf6f48e9bac76",
            "eec9af4c85644a73a4a48415f4ce99d1",
            "bc054a5f51fc46c29daf7e896788000c",
            "b0099acf7f8a416eb1904ff8debff336",
            "1c2e644710ef49f8af238846bc687fd6",
            "66a0ed3431294314bdb3b1c83c818e26",
            "efeaba6ceaa44ae3ba0bc7d230c8e27e",
            "25cc3130ec7b4ef4bc3baa6d921c48dc",
            "73bf83db344146a8b22ea0e9e708ea06",
            "614de2f062c14a0dbb53779f6462ddd1",
            "0c7a1877e9d842d6b3df699107fd6329",
            "afc4310fd1db4810b39f83b9bf4b6067",
            "6da8e93c29144856923613d0deac6c50",
            "1711b2d51b9d4d71b7a561856e44b708",
            "06e2e96153374c0e8e20b5e3d9082454",
            "25a51b4646944ce89095a7f9e2b2226f",
            "9b0e3977111a49a3910d0cb5f0f51ade",
            "de604415dd7a49af85d96cab01646071",
            "39b6d1dd200540888c2a90d91fba6a85",
            "6be081bee4334941b8cc8fb1c587831a",
            "bc6188274e96484cb89418730b3475fd",
            "201cb5e89e0c4b988d9aaaaee5b27934",
            "745540cfdfbe428a9cc09061b3ae0b7e",
            "9b40a2a42c2949d1a11296a3e49260b0",
            "11f14f0199194e219e129e992fd53546",
            "f7014328a0da4ec3bb1858bb740dcded",
            "67753c7663a44d46bb5f78eb0d12e9a3",
            "5466e105fad145e289abb829db6ff26b",
            "7503df5a07d04d5db93a13037bf9cc6a",
            "e089d26d3703477799374c4821a34333",
            "ea68ba0fb46141d48cfe8fdc7e601eb0",
            "44e0d94da64e44eb8a72cc57ae54d5d0",
            "ebc2f2713a954319b7ada5be00d16f7c",
            "cc27b98f62304ae79c6305e8d11501e4",
            "2b31a7b448a64c119ffd06b96a366ad5",
            "cde4349097c14f8d924fe9effbe81aaa",
            "37770a5b4a3a4ba0a8e3a05b420d7b13",
            "aaa0ffd6b3f5453f8a1b82333e01aa4f",
            "1200f381be3943f5b3aa698a3d2152d3",
            "5f75f713ad20456791210191594e7894",
            "dd0218a3ed1343889aff23d08fdecc11",
            "045350e685ff4c20b5b52e5a1b4143d1",
            "f0b5d74b2c2247dba2c12fa8fc1d06ff",
            "429a01524da2475987ed72b392d00a68",
            "9555cf9e7b764334a10f22b7066ad745",
            "697eb3c1c5b84681a2ad712d9eb7b41f",
            "3bc96b75aa974635975179889ca9fbba",
            "47dce78f418b4c4fb66bdddfc2e56989",
            "7918c4b71bab41d1898cbb62b03d5cf3",
            "4f67ed3c2a4543688e19d7f8d8036c74",
            "195578e0694a4a139343004b9aa83b2a",
            "f8f338e07f8f41a5ac433dea61ae093a",
            "fb3fc98c29b741a082865f8b8ddd4884",
            "35a85b6eb87e45c99f008a94dcc2b004",
            "c637e70b55d44f24a21f284cf2539628",
            "92a3956813a84cd880fc27f3951bd1dc",
            "26ea127987aa4bf18f96761d232435dd",
            "bf7b581fa0a542ebb029b2577f5cd693",
            "73a3149a68f34bd68ea1d5971ea8c5f3",
            "726f5360dd414a3c97c76ce9be6ebddf",
            "9970361b34544fda849227fecc928514",
            "11b6b5a371244f079d2576276e0c246e",
            "bffb92e896c24b81bfe3b2a43858a7de",
            "9199f105046a472f802c74c30f210a29",
            "5d764d9986344f4ba5ec790ea6190753",
            "85d09c7fccd04cb7a23fa50905eb1d07",
            "8728d0a09e8f41fb850e3c6917beeb43",
            "edadb7bef9914ab2badb2a2b472b0372",
            "8d2e1d8c0546406bb999f0bc5eec4e4a",
            "e1c017accc4e4c5d9b505a4eca957a79",
            "a6051d58ee6341cc8653e0a289925a6d",
            "fbcffddd826d4e2ca800e20790d0d89e",
            "99564b3fe71d40da88a472a44ccbbe22",
            "eb5dde96b9ea49a18835de90d51e086f",
            "596838de5cd24d6e96df61ec1269d3bd",
            "9cebca20d5714b35984f734b2212b245",
            "0294b048cce041b5bcccca87b1262a01",
            "2fa477581fe14ec0804683e122fde102"
          ]
        }
      },
      "execution_count": 52,
      "outputs": [
        {
          "output_type": "display_data",
          "data": {
            "text/plain": [
              "modules.json:   0%|          | 0.00/229 [00:00<?, ?B/s]"
            ],
            "application/vnd.jupyter.widget-view+json": {
              "version_major": 2,
              "version_minor": 0,
              "model_id": "3b51d33259d54522b828af680bd67229"
            }
          },
          "metadata": {}
        },
        {
          "output_type": "display_data",
          "data": {
            "text/plain": [
              "config_sentence_transformers.json:   0%|          | 0.00/123 [00:00<?, ?B/s]"
            ],
            "application/vnd.jupyter.widget-view+json": {
              "version_major": 2,
              "version_minor": 0,
              "model_id": "576a18fe548045948c7b1cb09990cc63"
            }
          },
          "metadata": {}
        },
        {
          "output_type": "display_data",
          "data": {
            "text/plain": [
              "README.md:   0%|          | 0.00/4.49k [00:00<?, ?B/s]"
            ],
            "application/vnd.jupyter.widget-view+json": {
              "version_major": 2,
              "version_minor": 0,
              "model_id": "918ac200304343bcba1d1058f09e1a31"
            }
          },
          "metadata": {}
        },
        {
          "output_type": "display_data",
          "data": {
            "text/plain": [
              "sentence_bert_config.json:   0%|          | 0.00/53.0 [00:00<?, ?B/s]"
            ],
            "application/vnd.jupyter.widget-view+json": {
              "version_major": 2,
              "version_minor": 0,
              "model_id": "bfa67d4e58d14ffd9d05f0803f376992"
            }
          },
          "metadata": {}
        },
        {
          "output_type": "stream",
          "name": "stderr",
          "text": [
            "/usr/local/lib/python3.10/dist-packages/huggingface_hub/file_download.py:1132: FutureWarning: `resume_download` is deprecated and will be removed in version 1.0.0. Downloads always resume when possible. If you want to force a new download, use `force_download=True`.\n",
            "  warnings.warn(\n"
          ]
        },
        {
          "output_type": "display_data",
          "data": {
            "text/plain": [
              "config.json:   0%|          | 0.00/744 [00:00<?, ?B/s]"
            ],
            "application/vnd.jupyter.widget-view+json": {
              "version_major": 2,
              "version_minor": 0,
              "model_id": "eec9af4c85644a73a4a48415f4ce99d1"
            }
          },
          "metadata": {}
        },
        {
          "output_type": "display_data",
          "data": {
            "text/plain": [
              "pytorch_model.bin:   0%|          | 0.00/443M [00:00<?, ?B/s]"
            ],
            "application/vnd.jupyter.widget-view+json": {
              "version_major": 2,
              "version_minor": 0,
              "model_id": "6da8e93c29144856923613d0deac6c50"
            }
          },
          "metadata": {}
        },
        {
          "output_type": "display_data",
          "data": {
            "text/plain": [
              "tokenizer_config.json:   0%|          | 0.00/585 [00:00<?, ?B/s]"
            ],
            "application/vnd.jupyter.widget-view+json": {
              "version_major": 2,
              "version_minor": 0,
              "model_id": "9b40a2a42c2949d1a11296a3e49260b0"
            }
          },
          "metadata": {}
        },
        {
          "output_type": "display_data",
          "data": {
            "text/plain": [
              "vocab.txt:   0%|          | 0.00/248k [00:00<?, ?B/s]"
            ],
            "application/vnd.jupyter.widget-view+json": {
              "version_major": 2,
              "version_minor": 0,
              "model_id": "2b31a7b448a64c119ffd06b96a366ad5"
            }
          },
          "metadata": {}
        },
        {
          "output_type": "display_data",
          "data": {
            "text/plain": [
              "tokenizer.json:   0%|          | 0.00/495k [00:00<?, ?B/s]"
            ],
            "application/vnd.jupyter.widget-view+json": {
              "version_major": 2,
              "version_minor": 0,
              "model_id": "697eb3c1c5b84681a2ad712d9eb7b41f"
            }
          },
          "metadata": {}
        },
        {
          "output_type": "display_data",
          "data": {
            "text/plain": [
              "special_tokens_map.json:   0%|          | 0.00/156 [00:00<?, ?B/s]"
            ],
            "application/vnd.jupyter.widget-view+json": {
              "version_major": 2,
              "version_minor": 0,
              "model_id": "26ea127987aa4bf18f96761d232435dd"
            }
          },
          "metadata": {}
        },
        {
          "output_type": "display_data",
          "data": {
            "text/plain": [
              "1_Pooling/config.json:   0%|          | 0.00/190 [00:00<?, ?B/s]"
            ],
            "application/vnd.jupyter.widget-view+json": {
              "version_major": 2,
              "version_minor": 0,
              "model_id": "edadb7bef9914ab2badb2a2b472b0372"
            }
          },
          "metadata": {}
        },
        {
          "output_type": "stream",
          "name": "stdout",
          "text": [
            "정의: 임베딩은 단어나 문장 같은 텍스트 데이터를 저차원의 연속적인 벡터로 변환하는 과정입니다. 이를 통해 컴퓨터가 텍스트를 이해하고 처리할 수 있게 합니다.\n",
            "예시: \"사과\"라는 단어를 [0.65, -0.23, 0.17]과 같은 벡터로 표현합니다.\n",
            "연관키워드: 자연어 처리, 벡터화, 딥러닝\n",
            "\n",
            "Token\n"
          ]
        }
      ]
    },
    {
      "cell_type": "markdown",
      "source": [
        "# CH12 Retrieval Augmented Generation(RAG)"
      ],
      "metadata": {
        "id": "rPD3UVntAhHy"
      }
    },
    {
      "cell_type": "markdown",
      "source": [
        "# 새 섹션"
      ],
      "metadata": {
        "id": "gOKZQ_RHGqEL"
      }
    },
    {
      "cell_type": "markdown",
      "source": [
        "## 01 기본내용 - 네이버 뉴스기사 QA 봇"
      ],
      "metadata": {
        "id": "N_ca50VQAnYW"
      }
    },
    {
      "cell_type": "markdown",
      "source": [
        "Langchain으로 간단한 Q&A 애플리케이션을 구축한다.\n",
        "\n",
        "질문 처리\n",
        "\n",
        "질문 받아서 처리하고, 관련 데이터 찾기를 진행\n",
        "* 데이터 소스 연결\n",
        "* 데이터 인덱싱 및 검색\n",
        "\n",
        "답변 생성\n",
        "* 답변 생성 모델\n",
        "\n",
        "LangSmith의 역할\n",
        "* 성능 모니터링\n",
        "* 오류 분석\n",
        "\n",
        "아키텍쳐\n",
        "* 인덱싱\n",
        "  * 로드\n",
        "  * 분할\n",
        "  * 저장\n",
        "* 검색 및 생성\n",
        "  * 검색\n",
        "  * 생성"
      ],
      "metadata": {
        "id": "0MEMMYn6AzHO"
      }
    },
    {
      "cell_type": "code",
      "source": [
        "!pip install -U langchain langchainhub langchain-community langchain-experimental langchain-core langchain-google-genai langsmith"
      ],
      "metadata": {
        "id": "TPieTHmHCu-y",
        "outputId": "f65686b8-d76f-4ace-c9c5-6e6e6a13d63a",
        "colab": {
          "base_uri": "https://localhost:8080/"
        }
      },
      "execution_count": 64,
      "outputs": [
        {
          "output_type": "stream",
          "name": "stdout",
          "text": [
            "Requirement already satisfied: langchain in /usr/local/lib/python3.10/dist-packages (0.2.1)\n",
            "Collecting langchainhub\n",
            "  Downloading langchainhub-0.1.16-py3-none-any.whl (4.8 kB)\n",
            "Requirement already satisfied: langchain-community in /usr/local/lib/python3.10/dist-packages (0.2.1)\n",
            "Requirement already satisfied: langchain-experimental in /usr/local/lib/python3.10/dist-packages (0.0.59)\n",
            "Requirement already satisfied: langchain-core in /usr/local/lib/python3.10/dist-packages (0.2.1)\n",
            "Requirement already satisfied: langchain-google-genai in /usr/local/lib/python3.10/dist-packages (1.0.5)\n",
            "Requirement already satisfied: langsmith in /usr/local/lib/python3.10/dist-packages (0.1.63)\n",
            "Requirement already satisfied: PyYAML>=5.3 in /usr/local/lib/python3.10/dist-packages (from langchain) (6.0.1)\n",
            "Requirement already satisfied: SQLAlchemy<3,>=1.4 in /usr/local/lib/python3.10/dist-packages (from langchain) (2.0.30)\n",
            "Requirement already satisfied: aiohttp<4.0.0,>=3.8.3 in /usr/local/lib/python3.10/dist-packages (from langchain) (3.9.5)\n",
            "Requirement already satisfied: async-timeout<5.0.0,>=4.0.0 in /usr/local/lib/python3.10/dist-packages (from langchain) (4.0.3)\n",
            "Requirement already satisfied: langchain-text-splitters<0.3.0,>=0.2.0 in /usr/local/lib/python3.10/dist-packages (from langchain) (0.2.0)\n",
            "Requirement already satisfied: numpy<2,>=1 in /usr/local/lib/python3.10/dist-packages (from langchain) (1.25.2)\n",
            "Requirement already satisfied: pydantic<3,>=1 in /usr/local/lib/python3.10/dist-packages (from langchain) (2.7.1)\n",
            "Requirement already satisfied: requests<3,>=2 in /usr/local/lib/python3.10/dist-packages (from langchain) (2.31.0)\n",
            "Requirement already satisfied: tenacity<9.0.0,>=8.1.0 in /usr/local/lib/python3.10/dist-packages (from langchain) (8.3.0)\n",
            "Collecting types-requests<3.0.0.0,>=2.31.0.2 (from langchainhub)\n",
            "  Downloading types_requests-2.32.0.20240523-py3-none-any.whl (15 kB)\n",
            "Requirement already satisfied: dataclasses-json<0.7,>=0.5.7 in /usr/local/lib/python3.10/dist-packages (from langchain-community) (0.6.6)\n",
            "Requirement already satisfied: jsonpatch<2.0,>=1.33 in /usr/local/lib/python3.10/dist-packages (from langchain-core) (1.33)\n",
            "Requirement already satisfied: packaging<24.0,>=23.2 in /usr/local/lib/python3.10/dist-packages (from langchain-core) (23.2)\n",
            "Requirement already satisfied: google-generativeai<0.6.0,>=0.5.2 in /usr/local/lib/python3.10/dist-packages (from langchain-google-genai) (0.5.4)\n",
            "Requirement already satisfied: orjson<4.0.0,>=3.9.14 in /usr/local/lib/python3.10/dist-packages (from langsmith) (3.10.3)\n",
            "Requirement already satisfied: aiosignal>=1.1.2 in /usr/local/lib/python3.10/dist-packages (from aiohttp<4.0.0,>=3.8.3->langchain) (1.3.1)\n",
            "Requirement already satisfied: attrs>=17.3.0 in /usr/local/lib/python3.10/dist-packages (from aiohttp<4.0.0,>=3.8.3->langchain) (23.2.0)\n",
            "Requirement already satisfied: frozenlist>=1.1.1 in /usr/local/lib/python3.10/dist-packages (from aiohttp<4.0.0,>=3.8.3->langchain) (1.4.1)\n",
            "Requirement already satisfied: multidict<7.0,>=4.5 in /usr/local/lib/python3.10/dist-packages (from aiohttp<4.0.0,>=3.8.3->langchain) (6.0.5)\n",
            "Requirement already satisfied: yarl<2.0,>=1.0 in /usr/local/lib/python3.10/dist-packages (from aiohttp<4.0.0,>=3.8.3->langchain) (1.9.4)\n",
            "Requirement already satisfied: marshmallow<4.0.0,>=3.18.0 in /usr/local/lib/python3.10/dist-packages (from dataclasses-json<0.7,>=0.5.7->langchain-community) (3.21.2)\n",
            "Requirement already satisfied: typing-inspect<1,>=0.4.0 in /usr/local/lib/python3.10/dist-packages (from dataclasses-json<0.7,>=0.5.7->langchain-community) (0.9.0)\n",
            "Requirement already satisfied: google-ai-generativelanguage==0.6.4 in /usr/local/lib/python3.10/dist-packages (from google-generativeai<0.6.0,>=0.5.2->langchain-google-genai) (0.6.4)\n",
            "Requirement already satisfied: google-api-core in /usr/local/lib/python3.10/dist-packages (from google-generativeai<0.6.0,>=0.5.2->langchain-google-genai) (2.11.1)\n",
            "Requirement already satisfied: google-api-python-client in /usr/local/lib/python3.10/dist-packages (from google-generativeai<0.6.0,>=0.5.2->langchain-google-genai) (2.84.0)\n",
            "Requirement already satisfied: google-auth>=2.15.0 in /usr/local/lib/python3.10/dist-packages (from google-generativeai<0.6.0,>=0.5.2->langchain-google-genai) (2.27.0)\n",
            "Requirement already satisfied: protobuf in /usr/local/lib/python3.10/dist-packages (from google-generativeai<0.6.0,>=0.5.2->langchain-google-genai) (3.20.3)\n",
            "Requirement already satisfied: tqdm in /usr/local/lib/python3.10/dist-packages (from google-generativeai<0.6.0,>=0.5.2->langchain-google-genai) (4.66.4)\n",
            "Requirement already satisfied: typing-extensions in /usr/local/lib/python3.10/dist-packages (from google-generativeai<0.6.0,>=0.5.2->langchain-google-genai) (4.11.0)\n",
            "Requirement already satisfied: proto-plus<2.0.0dev,>=1.22.3 in /usr/local/lib/python3.10/dist-packages (from google-ai-generativelanguage==0.6.4->google-generativeai<0.6.0,>=0.5.2->langchain-google-genai) (1.23.0)\n",
            "Requirement already satisfied: jsonpointer>=1.9 in /usr/local/lib/python3.10/dist-packages (from jsonpatch<2.0,>=1.33->langchain-core) (2.4)\n",
            "Requirement already satisfied: annotated-types>=0.4.0 in /usr/local/lib/python3.10/dist-packages (from pydantic<3,>=1->langchain) (0.7.0)\n",
            "Requirement already satisfied: pydantic-core==2.18.2 in /usr/local/lib/python3.10/dist-packages (from pydantic<3,>=1->langchain) (2.18.2)\n",
            "Requirement already satisfied: charset-normalizer<4,>=2 in /usr/local/lib/python3.10/dist-packages (from requests<3,>=2->langchain) (3.3.2)\n",
            "Requirement already satisfied: idna<4,>=2.5 in /usr/local/lib/python3.10/dist-packages (from requests<3,>=2->langchain) (3.7)\n",
            "Requirement already satisfied: urllib3<3,>=1.21.1 in /usr/local/lib/python3.10/dist-packages (from requests<3,>=2->langchain) (2.0.7)\n",
            "Requirement already satisfied: certifi>=2017.4.17 in /usr/local/lib/python3.10/dist-packages (from requests<3,>=2->langchain) (2024.2.2)\n",
            "Requirement already satisfied: greenlet!=0.4.17 in /usr/local/lib/python3.10/dist-packages (from SQLAlchemy<3,>=1.4->langchain) (3.0.3)\n",
            "Requirement already satisfied: cachetools<6.0,>=2.0.0 in /usr/local/lib/python3.10/dist-packages (from google-auth>=2.15.0->google-generativeai<0.6.0,>=0.5.2->langchain-google-genai) (5.3.3)\n",
            "Requirement already satisfied: pyasn1-modules>=0.2.1 in /usr/local/lib/python3.10/dist-packages (from google-auth>=2.15.0->google-generativeai<0.6.0,>=0.5.2->langchain-google-genai) (0.4.0)\n",
            "Requirement already satisfied: rsa<5,>=3.1.4 in /usr/local/lib/python3.10/dist-packages (from google-auth>=2.15.0->google-generativeai<0.6.0,>=0.5.2->langchain-google-genai) (4.9)\n",
            "Requirement already satisfied: mypy-extensions>=0.3.0 in /usr/local/lib/python3.10/dist-packages (from typing-inspect<1,>=0.4.0->dataclasses-json<0.7,>=0.5.7->langchain-community) (1.0.0)\n",
            "Requirement already satisfied: googleapis-common-protos<2.0.dev0,>=1.56.2 in /usr/local/lib/python3.10/dist-packages (from google-api-core->google-generativeai<0.6.0,>=0.5.2->langchain-google-genai) (1.63.0)\n",
            "Requirement already satisfied: httplib2<1dev,>=0.15.0 in /usr/local/lib/python3.10/dist-packages (from google-api-python-client->google-generativeai<0.6.0,>=0.5.2->langchain-google-genai) (0.22.0)\n",
            "Requirement already satisfied: google-auth-httplib2>=0.1.0 in /usr/local/lib/python3.10/dist-packages (from google-api-python-client->google-generativeai<0.6.0,>=0.5.2->langchain-google-genai) (0.1.1)\n",
            "Requirement already satisfied: uritemplate<5,>=3.0.1 in /usr/local/lib/python3.10/dist-packages (from google-api-python-client->google-generativeai<0.6.0,>=0.5.2->langchain-google-genai) (4.1.1)\n",
            "Requirement already satisfied: grpcio<2.0dev,>=1.33.2 in /usr/local/lib/python3.10/dist-packages (from google-api-core->google-generativeai<0.6.0,>=0.5.2->langchain-google-genai) (1.64.0)\n",
            "Requirement already satisfied: grpcio-status<2.0.dev0,>=1.33.2 in /usr/local/lib/python3.10/dist-packages (from google-api-core->google-generativeai<0.6.0,>=0.5.2->langchain-google-genai) (1.48.2)\n",
            "Requirement already satisfied: pyparsing!=3.0.0,!=3.0.1,!=3.0.2,!=3.0.3,<4,>=2.4.2 in /usr/local/lib/python3.10/dist-packages (from httplib2<1dev,>=0.15.0->google-api-python-client->google-generativeai<0.6.0,>=0.5.2->langchain-google-genai) (3.1.2)\n",
            "Requirement already satisfied: pyasn1<0.7.0,>=0.4.6 in /usr/local/lib/python3.10/dist-packages (from pyasn1-modules>=0.2.1->google-auth>=2.15.0->google-generativeai<0.6.0,>=0.5.2->langchain-google-genai) (0.6.0)\n",
            "Installing collected packages: types-requests, langchainhub\n",
            "Successfully installed langchainhub-0.1.16 types-requests-2.32.0.20240523\n"
          ]
        }
      ]
    },
    {
      "cell_type": "code",
      "source": [
        "import bs4\n",
        "from langchain import hub\n",
        "from langchain.text_splitter import RecursiveCharacterTextSplitter\n",
        "from langchain_community.document_loaders import WebBaseLoader\n",
        "from langchain_community.vectorstores import FAISS\n",
        "from langchain_core.output_parsers import StrOutputParser\n",
        "from langchain_core.runnables import RunnablePassthrough\n",
        "from langchain_community.embeddings import (\n",
        "    HuggingFaceEmbeddings,\n",
        ")\n",
        "from langchain_google_genai import ChatGoogleGenerativeAI\n",
        "from langchain.callbacks.base import BaseCallbackHandler\n",
        "from google.colab import userdata\n",
        "import google.generativeai as genai\n",
        "\n",
        "GOOGLE_API_KEY=userdata.get('GOOGLE_API_KEY')\n",
        "\n",
        "# 뉴스기사 내용을 로드하고, 청크로 나누고, 인덱싱합니다.\n",
        "loader = WebBaseLoader(\n",
        "    web_paths=(\"https://n.news.naver.com/article/437/0000378416\",),\n",
        "    bs_kwargs=dict(\n",
        "        parse_only=bs4.SoupStrainer(\n",
        "            \"div\",\n",
        "            attrs={\"class\": [\"newsct_article _article_body\",\n",
        "                             \"media_end_head_title\"]},\n",
        "        )\n",
        "    ),\n",
        ")\n",
        "\n",
        "docs = loader.load()\n",
        "print(f\"문서의 수: {len(docs)}\")\n",
        "docs\n",
        "\n",
        "text_splitter = RecursiveCharacterTextSplitter(chunk_size=1000, chunk_overlap=100)\n",
        "\n",
        "splits = text_splitter.split_documents(docs)\n",
        "len(splits)\n",
        "\n",
        "# 벡터스토어를 생성합니다\n",
        "embeddings = HuggingFaceEmbeddings(\n",
        "    model_name='jhgan/ko-sroberta-nli',\n",
        "    model_kwargs={'device':'cpu'},\n",
        "    encode_kwargs={'normalize_embeddings':True},\n",
        ")\n",
        "\n",
        "vectorstore = FAISS.from_documents(documents=splits, embedding=embeddings)\n",
        "\n",
        "# 뉴스에 포함되어 있는 정보를 검색하고 생성합니다.\n",
        "retriever = vectorstore.as_retriever()\n",
        "\n",
        "prompt = hub.pull(\"rlm/rag-prompt\")\n",
        "prompt\n",
        "\n",
        "# print(prompt.messages[0].prompt.template)\n",
        "\n",
        "llm = ChatGoogleGenerativeAI(\n",
        "    model=\"gemini-pro\",\n",
        "    google_api_key=GOOGLE_API_KEY,\n",
        "    temperature=0, #창의성\n",
        "    max_output_tokens=2048,\n",
        ")\n",
        "\n",
        "def format_docs(docs):\n",
        "    # 검색한 문서 결과를 하나의 문단으로 합쳐줍니다.\n",
        "    return \"\\n\\n\".join(doc.page_content for doc in docs)\n",
        "\n",
        "\n",
        "# 체인을 생성합니다.\n",
        "rag_chain = (\n",
        "    {\"context\": retriever | format_docs, \"question\": RunnablePassthrough()}\n",
        "    | prompt\n",
        "    | llm\n",
        "    | StrOutputParser()\n",
        ")\n",
        "\n",
        "print(\n",
        "    rag_chain.invoke(\"정부의 저출생 대책을 bullet points 형식으로 작성해 주세요.\")\n",
        ")  # 문서에 대한 질의를 입력하고, 답변을 출력합니다.\n",
        "\n",
        "# 컬렉션을 삭제합니다.\n",
        "vectorstore.delete_collection()\n"
      ],
      "metadata": {
        "id": "WdRRErDCCeoY",
        "outputId": "241a709f-1934-4cc0-8667-61da7599b3b0",
        "colab": {
          "base_uri": "https://localhost:8080/",
          "height": 265
        }
      },
      "execution_count": 73,
      "outputs": [
        {
          "output_type": "stream",
          "name": "stdout",
          "text": [
            "문서의 수: 1\n"
          ]
        },
        {
          "output_type": "stream",
          "name": "stderr",
          "text": [
            "/usr/local/lib/python3.10/dist-packages/huggingface_hub/file_download.py:1132: FutureWarning: `resume_download` is deprecated and will be removed in version 1.0.0. Downloads always resume when possible. If you want to force a new download, use `force_download=True`.\n",
            "  warnings.warn(\n"
          ]
        },
        {
          "output_type": "stream",
          "name": "stdout",
          "text": [
            "제공된 텍스트에는 정부의 저출생 대책에 대한 정보가 없습니다. 따라서 저는 정부의 저출생 대책을 bullet points 형식으로 작성할 수 없습니다.\n"
          ]
        },
        {
          "output_type": "error",
          "ename": "AttributeError",
          "evalue": "'FAISS' object has no attribute 'delete_collection'",
          "traceback": [
            "\u001b[0;31m---------------------------------------------------------------------------\u001b[0m",
            "\u001b[0;31mAttributeError\u001b[0m                            Traceback (most recent call last)",
            "\u001b[0;32m<ipython-input-73-de53f8866b9b>\u001b[0m in \u001b[0;36m<cell line: 81>\u001b[0;34m()\u001b[0m\n\u001b[1;32m     79\u001b[0m \u001b[0;34m\u001b[0m\u001b[0m\n\u001b[1;32m     80\u001b[0m \u001b[0;31m# 컬렉션을 삭제합니다.\u001b[0m\u001b[0;34m\u001b[0m\u001b[0;34m\u001b[0m\u001b[0m\n\u001b[0;32m---> 81\u001b[0;31m \u001b[0mvectorstore\u001b[0m\u001b[0;34m.\u001b[0m\u001b[0mdelete_collection\u001b[0m\u001b[0;34m(\u001b[0m\u001b[0;34m)\u001b[0m\u001b[0;34m\u001b[0m\u001b[0;34m\u001b[0m\u001b[0m\n\u001b[0m",
            "\u001b[0;31mAttributeError\u001b[0m: 'FAISS' object has no attribute 'delete_collection'"
          ]
        }
      ]
    },
    {
      "cell_type": "markdown",
      "source": [
        "## 03 RAPTOR: 긴 문맥 요약"
      ],
      "metadata": {
        "id": "CdTCZMBGGuWL"
      }
    },
    {
      "cell_type": "markdown",
      "source": [
        "LangChain의 LCEL 문서에 RAPTOR라는 논문의 내용을 적용한다."
      ],
      "metadata": {
        "id": "N06-ulMlHIx_"
      }
    },
    {
      "cell_type": "code",
      "source": [
        "!pip install -U langchain langchainhub langchain-community langchain-experimental langchain-core langchain-google-genai langsmith"
      ],
      "metadata": {
        "id": "zCqgldMHHAqX",
        "outputId": "3198ea79-5f09-4b19-db7e-cb1175e74b3c",
        "colab": {
          "base_uri": "https://localhost:8080/"
        }
      },
      "execution_count": 74,
      "outputs": [
        {
          "output_type": "stream",
          "name": "stdout",
          "text": [
            "Requirement already satisfied: langchain in /usr/local/lib/python3.10/dist-packages (0.2.1)\n",
            "Requirement already satisfied: langchainhub in /usr/local/lib/python3.10/dist-packages (0.1.16)\n",
            "Requirement already satisfied: langchain-community in /usr/local/lib/python3.10/dist-packages (0.2.1)\n",
            "Requirement already satisfied: langchain-experimental in /usr/local/lib/python3.10/dist-packages (0.0.59)\n",
            "Requirement already satisfied: langchain-core in /usr/local/lib/python3.10/dist-packages (0.2.1)\n",
            "Requirement already satisfied: langchain-google-genai in /usr/local/lib/python3.10/dist-packages (1.0.5)\n",
            "Requirement already satisfied: langsmith in /usr/local/lib/python3.10/dist-packages (0.1.63)\n",
            "Requirement already satisfied: PyYAML>=5.3 in /usr/local/lib/python3.10/dist-packages (from langchain) (6.0.1)\n",
            "Requirement already satisfied: SQLAlchemy<3,>=1.4 in /usr/local/lib/python3.10/dist-packages (from langchain) (2.0.30)\n",
            "Requirement already satisfied: aiohttp<4.0.0,>=3.8.3 in /usr/local/lib/python3.10/dist-packages (from langchain) (3.9.5)\n",
            "Requirement already satisfied: async-timeout<5.0.0,>=4.0.0 in /usr/local/lib/python3.10/dist-packages (from langchain) (4.0.3)\n",
            "Requirement already satisfied: langchain-text-splitters<0.3.0,>=0.2.0 in /usr/local/lib/python3.10/dist-packages (from langchain) (0.2.0)\n",
            "Requirement already satisfied: numpy<2,>=1 in /usr/local/lib/python3.10/dist-packages (from langchain) (1.25.2)\n",
            "Requirement already satisfied: pydantic<3,>=1 in /usr/local/lib/python3.10/dist-packages (from langchain) (2.7.1)\n",
            "Requirement already satisfied: requests<3,>=2 in /usr/local/lib/python3.10/dist-packages (from langchain) (2.31.0)\n",
            "Requirement already satisfied: tenacity<9.0.0,>=8.1.0 in /usr/local/lib/python3.10/dist-packages (from langchain) (8.3.0)\n",
            "Requirement already satisfied: types-requests<3.0.0.0,>=2.31.0.2 in /usr/local/lib/python3.10/dist-packages (from langchainhub) (2.32.0.20240523)\n",
            "Requirement already satisfied: dataclasses-json<0.7,>=0.5.7 in /usr/local/lib/python3.10/dist-packages (from langchain-community) (0.6.6)\n",
            "Requirement already satisfied: jsonpatch<2.0,>=1.33 in /usr/local/lib/python3.10/dist-packages (from langchain-core) (1.33)\n",
            "Requirement already satisfied: packaging<24.0,>=23.2 in /usr/local/lib/python3.10/dist-packages (from langchain-core) (23.2)\n",
            "Requirement already satisfied: google-generativeai<0.6.0,>=0.5.2 in /usr/local/lib/python3.10/dist-packages (from langchain-google-genai) (0.5.4)\n",
            "Requirement already satisfied: orjson<4.0.0,>=3.9.14 in /usr/local/lib/python3.10/dist-packages (from langsmith) (3.10.3)\n",
            "Requirement already satisfied: aiosignal>=1.1.2 in /usr/local/lib/python3.10/dist-packages (from aiohttp<4.0.0,>=3.8.3->langchain) (1.3.1)\n",
            "Requirement already satisfied: attrs>=17.3.0 in /usr/local/lib/python3.10/dist-packages (from aiohttp<4.0.0,>=3.8.3->langchain) (23.2.0)\n",
            "Requirement already satisfied: frozenlist>=1.1.1 in /usr/local/lib/python3.10/dist-packages (from aiohttp<4.0.0,>=3.8.3->langchain) (1.4.1)\n",
            "Requirement already satisfied: multidict<7.0,>=4.5 in /usr/local/lib/python3.10/dist-packages (from aiohttp<4.0.0,>=3.8.3->langchain) (6.0.5)\n",
            "Requirement already satisfied: yarl<2.0,>=1.0 in /usr/local/lib/python3.10/dist-packages (from aiohttp<4.0.0,>=3.8.3->langchain) (1.9.4)\n",
            "Requirement already satisfied: marshmallow<4.0.0,>=3.18.0 in /usr/local/lib/python3.10/dist-packages (from dataclasses-json<0.7,>=0.5.7->langchain-community) (3.21.2)\n",
            "Requirement already satisfied: typing-inspect<1,>=0.4.0 in /usr/local/lib/python3.10/dist-packages (from dataclasses-json<0.7,>=0.5.7->langchain-community) (0.9.0)\n",
            "Requirement already satisfied: google-ai-generativelanguage==0.6.4 in /usr/local/lib/python3.10/dist-packages (from google-generativeai<0.6.0,>=0.5.2->langchain-google-genai) (0.6.4)\n",
            "Requirement already satisfied: google-api-core in /usr/local/lib/python3.10/dist-packages (from google-generativeai<0.6.0,>=0.5.2->langchain-google-genai) (2.11.1)\n",
            "Requirement already satisfied: google-api-python-client in /usr/local/lib/python3.10/dist-packages (from google-generativeai<0.6.0,>=0.5.2->langchain-google-genai) (2.84.0)\n",
            "Requirement already satisfied: google-auth>=2.15.0 in /usr/local/lib/python3.10/dist-packages (from google-generativeai<0.6.0,>=0.5.2->langchain-google-genai) (2.27.0)\n",
            "Requirement already satisfied: protobuf in /usr/local/lib/python3.10/dist-packages (from google-generativeai<0.6.0,>=0.5.2->langchain-google-genai) (3.20.3)\n",
            "Requirement already satisfied: tqdm in /usr/local/lib/python3.10/dist-packages (from google-generativeai<0.6.0,>=0.5.2->langchain-google-genai) (4.66.4)\n",
            "Requirement already satisfied: typing-extensions in /usr/local/lib/python3.10/dist-packages (from google-generativeai<0.6.0,>=0.5.2->langchain-google-genai) (4.11.0)\n",
            "Requirement already satisfied: proto-plus<2.0.0dev,>=1.22.3 in /usr/local/lib/python3.10/dist-packages (from google-ai-generativelanguage==0.6.4->google-generativeai<0.6.0,>=0.5.2->langchain-google-genai) (1.23.0)\n",
            "Requirement already satisfied: jsonpointer>=1.9 in /usr/local/lib/python3.10/dist-packages (from jsonpatch<2.0,>=1.33->langchain-core) (2.4)\n",
            "Requirement already satisfied: annotated-types>=0.4.0 in /usr/local/lib/python3.10/dist-packages (from pydantic<3,>=1->langchain) (0.7.0)\n",
            "Requirement already satisfied: pydantic-core==2.18.2 in /usr/local/lib/python3.10/dist-packages (from pydantic<3,>=1->langchain) (2.18.2)\n",
            "Requirement already satisfied: charset-normalizer<4,>=2 in /usr/local/lib/python3.10/dist-packages (from requests<3,>=2->langchain) (3.3.2)\n",
            "Requirement already satisfied: idna<4,>=2.5 in /usr/local/lib/python3.10/dist-packages (from requests<3,>=2->langchain) (3.7)\n",
            "Requirement already satisfied: urllib3<3,>=1.21.1 in /usr/local/lib/python3.10/dist-packages (from requests<3,>=2->langchain) (2.0.7)\n",
            "Requirement already satisfied: certifi>=2017.4.17 in /usr/local/lib/python3.10/dist-packages (from requests<3,>=2->langchain) (2024.2.2)\n",
            "Requirement already satisfied: greenlet!=0.4.17 in /usr/local/lib/python3.10/dist-packages (from SQLAlchemy<3,>=1.4->langchain) (3.0.3)\n",
            "Requirement already satisfied: cachetools<6.0,>=2.0.0 in /usr/local/lib/python3.10/dist-packages (from google-auth>=2.15.0->google-generativeai<0.6.0,>=0.5.2->langchain-google-genai) (5.3.3)\n",
            "Requirement already satisfied: pyasn1-modules>=0.2.1 in /usr/local/lib/python3.10/dist-packages (from google-auth>=2.15.0->google-generativeai<0.6.0,>=0.5.2->langchain-google-genai) (0.4.0)\n",
            "Requirement already satisfied: rsa<5,>=3.1.4 in /usr/local/lib/python3.10/dist-packages (from google-auth>=2.15.0->google-generativeai<0.6.0,>=0.5.2->langchain-google-genai) (4.9)\n",
            "Requirement already satisfied: mypy-extensions>=0.3.0 in /usr/local/lib/python3.10/dist-packages (from typing-inspect<1,>=0.4.0->dataclasses-json<0.7,>=0.5.7->langchain-community) (1.0.0)\n",
            "Requirement already satisfied: googleapis-common-protos<2.0.dev0,>=1.56.2 in /usr/local/lib/python3.10/dist-packages (from google-api-core->google-generativeai<0.6.0,>=0.5.2->langchain-google-genai) (1.63.0)\n",
            "Requirement already satisfied: httplib2<1dev,>=0.15.0 in /usr/local/lib/python3.10/dist-packages (from google-api-python-client->google-generativeai<0.6.0,>=0.5.2->langchain-google-genai) (0.22.0)\n",
            "Requirement already satisfied: google-auth-httplib2>=0.1.0 in /usr/local/lib/python3.10/dist-packages (from google-api-python-client->google-generativeai<0.6.0,>=0.5.2->langchain-google-genai) (0.1.1)\n",
            "Requirement already satisfied: uritemplate<5,>=3.0.1 in /usr/local/lib/python3.10/dist-packages (from google-api-python-client->google-generativeai<0.6.0,>=0.5.2->langchain-google-genai) (4.1.1)\n",
            "Requirement already satisfied: grpcio<2.0dev,>=1.33.2 in /usr/local/lib/python3.10/dist-packages (from google-api-core->google-generativeai<0.6.0,>=0.5.2->langchain-google-genai) (1.64.0)\n",
            "Requirement already satisfied: grpcio-status<2.0.dev0,>=1.33.2 in /usr/local/lib/python3.10/dist-packages (from google-api-core->google-generativeai<0.6.0,>=0.5.2->langchain-google-genai) (1.48.2)\n",
            "Requirement already satisfied: pyparsing!=3.0.0,!=3.0.1,!=3.0.2,!=3.0.3,<4,>=2.4.2 in /usr/local/lib/python3.10/dist-packages (from httplib2<1dev,>=0.15.0->google-api-python-client->google-generativeai<0.6.0,>=0.5.2->langchain-google-genai) (3.1.2)\n",
            "Requirement already satisfied: pyasn1<0.7.0,>=0.4.6 in /usr/local/lib/python3.10/dist-packages (from pyasn1-modules>=0.2.1->google-auth>=2.15.0->google-generativeai<0.6.0,>=0.5.2->langchain-google-genai) (0.6.0)\n"
          ]
        }
      ]
    },
    {
      "cell_type": "code",
      "source": [
        "from langchain_community.document_loaders.recursive_url_loader import RecursiveUrlLoader\n",
        "from bs4 import BeautifulSoup as Soup\n",
        "import tiktoken\n",
        "import matplotlib.pyplot as plt\n",
        "\n",
        "\n",
        "def num_tokens_from_string(string: str, encoding_name: str) -> int:\n",
        "    # 주어진 문자열에서 토큰의 개수를 반환합니다.\n",
        "    encoding = tiktoken.get_encoding(encoding_name)\n",
        "    num_tokens = len(encoding.encode(string))\n",
        "    return num_tokens\n",
        "\n",
        "\n",
        "# LCEL 문서 로드\n",
        "url = \"https://python.langchain.com/docs/expression_language/\"\n",
        "loader = RecursiveUrlLoader(\n",
        "    url=url,\n",
        "    max_depth=20,\n",
        "    extractor=lambda x: Soup(x, \"html.parser\").text\n",
        ")\n",
        "docs = loader.load()\n",
        "print(len(docs))\n",
        "\n",
        "# PydanticOutputParser를 사용한 LCEL 문서 로드 (기본 LCEL 문서 외부)\n",
        "url = \"https://python.langchain.com/docs/modules/model_io/output_parsers/quick_start\"\n",
        "loader = RecursiveUrlLoader(\n",
        "    url=url,\n",
        "    max_depth=1,\n",
        "    extractor=lambda x: Soup(x, \"html.parser\").text\n",
        ")\n",
        "docs_pydantic = loader.load()\n",
        "\n",
        "# Self Query를 사용한 LCEL 문서 로드 (기본 LCEL 문서 외부)\n",
        "url = \"https://python.langchain.com/docs/modules/data_connection/retrievers/self_query/\"\n",
        "loader = RecursiveUrlLoader(\n",
        "    url=url,\n",
        "    max_depth=1,\n",
        "    extractor=lambda x: Soup(x, \"html.parser\").text\n",
        ")\n",
        "docs_sq = loader.load()\n",
        "\n",
        "# 문서 텍스트\n",
        "docs.extend([*docs_pydantic, *docs_sq])\n",
        "docs_texts = [d.page_content for d in docs]\n",
        "\n",
        "# 각 문서에 대한 토큰 수 계산\n",
        "counts = [num_tokens_from_string(d, \"cl100k_base\") for d in docs_texts]\n",
        "display(len(docs))\n",
        "\n",
        "# 토큰 수의 히스토그램을 그립니다.\n",
        "plt.figure(figsize=(10, 6))\n",
        "plt.hist(counts, bins=30, color=\"blue\", edgecolor=\"black\", alpha=0.7)\n",
        "plt.title(\"Token Counts in LCEL Documents\")\n",
        "plt.xlabel(\"Token Count\")\n",
        "plt.ylabel(\"Frequency\")\n",
        "plt.grid(axis=\"y\", alpha=0.75)\n",
        "\n",
        "# 히스토그램을 표시합니다.\n",
        "plt.show\n",
        "\n",
        "# 문서 텍스트를 연결합니다.\n",
        "# 문서를 출처 메타데이터 기준으로 정렬합니다.\n",
        "d_sorted = sorted(docs, key=lambda x: x.metadata[\"source\"])\n",
        "d_reversed = list(reversed(d_sorted))  # 정렬된 문서를 역순으로 배열합니다.\n",
        "concatenated_content = \"\\n\\n\\n --- \\n\\n\\n\".join(\n",
        "    [\n",
        "        # 역순으로 배열된 문서의 내용을 연결합니다.\n",
        "        doc.page_content\n",
        "        for doc in d_reversed\n",
        "    ]\n",
        ")\n",
        "print(\n",
        "    \"Num tokens in all context: %s\"  # 모든 문맥에서의 토큰 수를 출력합니다.\n",
        "    % num_tokens_from_string(concatenated_content, \"cl100k_base\")\n",
        ")"
      ],
      "metadata": {
        "id": "sKyOnioxHFG8",
        "outputId": "a4b41eb8-f093-4c6c-dd4d-a1ebb41cf8a4",
        "colab": {
          "base_uri": "https://localhost:8080/",
          "height": 616
        }
      },
      "execution_count": 91,
      "outputs": [
        {
          "output_type": "stream",
          "name": "stdout",
          "text": [
            "1\n"
          ]
        },
        {
          "output_type": "display_data",
          "data": {
            "text/plain": [
              "3"
            ]
          },
          "metadata": {}
        },
        {
          "output_type": "stream",
          "name": "stdout",
          "text": [
            "Num tokens in all context: 5175\n"
          ]
        },
        {
          "output_type": "display_data",
          "data": {
            "text/plain": [
              "<Figure size 1000x600 with 1 Axes>"
            ],
            "image/png": "[encoded data removed]"
          },
          "metadata": {}
        }
      ]
    }
  ]
}